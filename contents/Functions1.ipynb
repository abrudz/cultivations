{
 "cells": [
  {
   "cell_type": "markdown",
   "id": "e9d57257",
   "metadata": {},
   "source": [
    "# `+-×÷*⍟⌹○`\n",
    "\n",
    "## Arithmetic `+-×÷`\n",
    "Dyadic `+-×÷` are what you expect from mathematics:"
   ]
  },
  {
   "cell_type": "code",
   "execution_count": 1,
   "id": "5225e213",
   "metadata": {},
   "outputs": [
    {
     "data": {
      "text/html": [
       "<span style=\"white-space:pre; font-family: monospace\">11\n",
       "</span>"
      ]
     },
     "execution_count": 1,
     "metadata": {},
     "output_type": "execute_result"
    },
    {
     "data": {
      "text/html": [
       "<span style=\"white-space:pre; font-family: monospace\">48\n",
       "</span>"
      ]
     },
     "execution_count": 1,
     "metadata": {},
     "output_type": "execute_result"
    },
    {
     "data": {
      "text/html": [
       "<span style=\"white-space:pre; font-family: monospace\">1584\n",
       "</span>"
      ]
     },
     "execution_count": 1,
     "metadata": {},
     "output_type": "execute_result"
    },
    {
     "data": {
      "text/html": [
       "<span style=\"white-space:pre; font-family: monospace\">¯4\n",
       "</span>"
      ]
     },
     "execution_count": 1,
     "metadata": {},
     "output_type": "execute_result"
    }
   ],
   "source": [
    "3+8\n",
    "4×12\n",
    "144×11\n",
    "3-7"
   ]
  },
  {
   "cell_type": "markdown",
   "id": "309ee7d5",
   "metadata": {},
   "source": [
    "`0÷0` is `1` by default, but you can make all `n÷0` into `0` by setting `⎕DIV←1`:"
   ]
  },
  {
   "cell_type": "code",
   "execution_count": 2,
   "id": "6375d1c1",
   "metadata": {},
   "outputs": [
    {
     "data": {
      "text/html": [
       "<span style=\"white-space:pre; font-family: monospace\">1\n",
       "</span>"
      ]
     },
     "execution_count": 2,
     "metadata": {},
     "output_type": "execute_result"
    }
   ],
   "source": [
    "0÷0"
   ]
  },
  {
   "cell_type": "code",
   "execution_count": 3,
   "id": "e937ae54",
   "metadata": {},
   "outputs": [
    {
     "data": {
      "text/html": [
       "<span style=\"white-space:pre; font-family: monospace\">0\n",
       "</span>"
      ]
     },
     "execution_count": 3,
     "metadata": {},
     "output_type": "execute_result"
    }
   ],
   "source": [
    "⎕DIV←1\n",
    "0÷0\n",
    "⎕DIV←0       ⍝ default setting"
   ]
  },
  {
   "cell_type": "markdown",
   "id": "b6dcbda8",
   "metadata": {},
   "source": [
    "## Reciprocal `÷A`\n",
    "Question:\n",
    "> How can we make 0÷0 throw an error?\n",
    "\n",
    "Multiply with the reciprocal:"
   ]
  },
  {
   "cell_type": "code",
   "execution_count": 4,
   "id": "758ae6f7",
   "metadata": {},
   "outputs": [
    {
     "name": "stderr",
     "output_type": "stream",
     "text": [
      "DOMAIN ERROR: Divide by zero\n",
      "      0×÷0        ⍝ DOMAIN ERROR: Divide by zero\n",
      "        ∧\n"
     ]
    }
   ],
   "source": [
    "0×÷0        ⍝ DOMAIN ERROR: Divide by zero "
   ]
  },
  {
   "cell_type": "markdown",
   "id": "b9932f93",
   "metadata": {},
   "source": [
    "Monadic `÷` is the [reciprocal](http://help.dyalog.com/latest/index.htm#Language/Primitive%20Functions/Reciprocal.htm), i.e. `÷x` is `1÷x`. \n",
    "\n",
    "## Direction `×A`\n",
    "\n",
    "Monadic `×` is [direction](http://help.dyalog.com/latest/index.htm#Language/Primitive%20Functions/Direction.htm), i.e. a complex number which has magnitude 1 but same angle as the argument. For real numbers this means [signum](http://help.dyalog.com/latest/index.htm#Language/Primitive%20Functions/Direction.htm) (sign). "
   ]
  },
  {
   "cell_type": "code",
   "execution_count": 5,
   "id": "484f2b4c",
   "metadata": {},
   "outputs": [
    {
     "data": {
      "text/html": [
       "<span style=\"white-space:pre; font-family: monospace\">0.2\n",
       "</span>"
      ]
     },
     "execution_count": 5,
     "metadata": {},
     "output_type": "execute_result"
    },
    {
     "data": {
      "text/html": [
       "<span style=\"white-space:pre; font-family: monospace\">1 ¯1 0\n",
       "</span>"
      ]
     },
     "execution_count": 5,
     "metadata": {},
     "output_type": "execute_result"
    },
    {
     "data": {
      "text/html": [
       "<span style=\"white-space:pre; font-family: monospace\">0.8J¯0.6\n",
       "</span>"
      ]
     },
     "execution_count": 5,
     "metadata": {},
     "output_type": "execute_result"
    }
   ],
   "source": [
    "÷5          ⍝ reciprocal: 1÷5\n",
    "×12 ¯33 0   ⍝ signum\n",
    "×32j¯24     ⍝ direction"
   ]
  },
  {
   "cell_type": "markdown",
   "id": "7c4d2738",
   "metadata": {},
   "source": [
    "## Power `*`\n",
    "Dyadic `*` is [power](http://help.dyalog.com/latest/index.htm#Language/Primitive%20Functions/Power.htm), and the default left argument (i.e. for the monadic form) is e. So, monadic `*` is e-to-the-power-of. "
   ]
  },
  {
   "cell_type": "code",
   "execution_count": 6,
   "id": "be7cd39a",
   "metadata": {},
   "outputs": [
    {
     "data": {
      "text/html": [
       "<span style=\"white-space:pre; font-family: monospace\">1024\n",
       "</span>"
      ]
     },
     "execution_count": 6,
     "metadata": {},
     "output_type": "execute_result"
    },
    {
     "data": {
      "text/html": [
       "<span style=\"white-space:pre; font-family: monospace\">2.71828\n",
       "</span>"
      ]
     },
     "execution_count": 6,
     "metadata": {},
     "output_type": "execute_result"
    }
   ],
   "source": [
    "2*10        ⍝ ⍺ to the power of ⍵\n",
    "*1          ⍝ e to the power of ⍵"
   ]
  },
  {
   "cell_type": "markdown",
   "id": "91d3b1c9",
   "metadata": {},
   "source": [
    "## Log `⍟`\n",
    "\n",
    "The inverse of `*` is `⍟`; [logarithm](http://help.dyalog.com/latest/index.htm#Language/Primitive%20Functions/Logarithm.htm). The monadic form is the natural logarithm and the dyadic is left-arg logarithm, so `10⍟n` is `log(n)`: "
   ]
  },
  {
   "cell_type": "code",
   "execution_count": 7,
   "id": "c2f0a756",
   "metadata": {},
   "outputs": [
    {
     "data": {
      "text/html": [
       "<span style=\"white-space:pre; font-family: monospace\">7\n",
       "</span>"
      ]
     },
     "execution_count": 7,
     "metadata": {},
     "output_type": "execute_result"
    }
   ],
   "source": [
    "10⍟10000000   ⍝ log(10000000)"
   ]
  },
  {
   "cell_type": "markdown",
   "id": "dff8ef9c",
   "metadata": {},
   "source": [
    "## Matrix divide `⌹`\n",
    "`⌹` is [matrix division](http://help.dyalog.com/latest/index.htm#Language/Primitive%20Functions/Matrix%20Divide.htm). Give it a coefficients' matrix on the right and it will invert the matrix. If you also put a vector on the left and it will solve your system of equations. If over-determined, it will give you the least squares fit. \n",
    "\n",
    "For example, in order to solve the following set of simultaneous equations,\n",
    "\n",
    "$\\begin{array}{lcl} 3x + 2y & = & 13 \\\\ x - y & = & 1 \\end{array}$\n",
    "\n",
    "we can use `⌹` like so:"
   ]
  },
  {
   "cell_type": "code",
   "execution_count": 8,
   "id": "45e9df3b",
   "metadata": {},
   "outputs": [
    {
     "data": {
      "text/html": [
       "<span style=\"white-space:pre; font-family: monospace\">3 2\n",
       "</span>"
      ]
     },
     "execution_count": 8,
     "metadata": {},
     "output_type": "execute_result"
    }
   ],
   "source": [
    "13 1 ⌹ 2 2⍴3 2 1 ¯1"
   ]
  },
  {
   "cell_type": "markdown",
   "id": "c25b7ab5",
   "metadata": {},
   "source": [
    "## Circular `○`\n",
    "Monadic `○` [multiplies by π](http://help.dyalog.com/latest/index.htm#Language/Primitive%20Functions/Pi%20Times.htm):"
   ]
  },
  {
   "cell_type": "code",
   "execution_count": 9,
   "id": "d5057412",
   "metadata": {},
   "outputs": [
    {
     "data": {
      "text/html": [
       "<span style=\"white-space:pre; font-family: monospace\">6.28319\n",
       "</span>"
      ]
     },
     "execution_count": 9,
     "metadata": {},
     "output_type": "execute_result"
    }
   ],
   "source": [
    "○2          ⍝ 2 times π"
   ]
  },
  {
   "cell_type": "markdown",
   "id": "6649a0d2",
   "metadata": {},
   "source": [
    "Dyadic `○` is [circular](http://help.dyalog.com/latest/index.htm#Language/Primitive%20Functions/Circular.htm). It uses an integer left argument to select which trigonometric function to apply. The most common ones are 1, 2 and 3, which are _sin_, _cos_ and _tan_. The negative versions `¯1`, `¯2` and `¯3` are _arcsin_, _arccos_ and _arctan_."
   ]
  },
  {
   "cell_type": "code",
   "execution_count": 10,
   "id": "5b3fcf79",
   "metadata": {},
   "outputs": [
    {
     "data": {
      "text/html": [
       "<span style=\"white-space:pre; font-family: monospace\">1.22465E¯16\n",
       "</span>"
      ]
     },
     "execution_count": 10,
     "metadata": {},
     "output_type": "execute_result"
    },
    {
     "data": {
      "text/html": [
       "<span style=\"white-space:pre; font-family: monospace\">¯1\n",
       "</span>"
      ]
     },
     "execution_count": 10,
     "metadata": {},
     "output_type": "execute_result"
    },
    {
     "data": {
      "text/html": [
       "<span style=\"white-space:pre; font-family: monospace\">3.14159\n",
       "</span>"
      ]
     },
     "execution_count": 10,
     "metadata": {},
     "output_type": "execute_result"
    }
   ],
   "source": [
    "1○○1        ⍝ sin π\n",
    "2○○1        ⍝ cos π\n",
    "¯2○2○○1     ⍝ arccos cos π"
   ]
  },
  {
   "cell_type": "markdown",
   "id": "5d23264c",
   "metadata": {},
   "source": [
    "The entire list of `○`'s left arguments is [here](http://help.dyalog.com/latest/index.htm#Language/Primitive%20Functions/Circular.htm)."
   ]
  },
  {
   "cell_type": "code",
   "execution_count": null,
   "id": "1a934a1b",
   "metadata": {},
   "outputs": [],
   "source": []
  }
 ],
 "metadata": {
  "kernelspec": {
   "display_name": "Dyalog APL",
   "language": "apl",
   "name": "dyalog-kernel"
  },
  "language_info": {
   "file_extension": ".apl",
   "mimetype": "text/apl",
   "name": "APL"
  }
 },
 "nbformat": 4,
 "nbformat_minor": 5
}

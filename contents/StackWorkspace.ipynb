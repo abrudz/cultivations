{
 "cells": [
  {
   "cell_type": "markdown",
   "id": "3762d506",
   "metadata": {},
   "source": [
    "# Stack and workspace info\n",
    "\n",
    "Let's continue with other things which deal with functions and other items under program control. \n",
    "\n",
    "## Latent expression `⎕LX`\n",
    "\n",
    "If you want to have an application start without having the user enter a command (for example, a function name) to boot it, you can assign an expression to `⎕LX` ([Latent eXpression](http://help.dyalog.com/latest/index.htm#Language/System%20Functions/lx.htm)) and then save your workspace with `⎕SAVE`. When the workspace is loaded (including from the command line) APL will do `⍎⎕LX`. This is what happens when you load the various workspaces supplied with APL."
   ]
  },
  {
   "cell_type": "code",
   "execution_count": 1,
   "id": "4950e8e5",
   "metadata": {},
   "outputs": [
    {
     "data": {
      "text/html": [
       "<span style=\"white-space:pre; font-family: monospace\">/Applications/Dyalog-18.1.app/Contents/Resources/Dyalog/ws/dfns.dws saved Wed May 26 03:49:27 2021\n",
       "\n",
       "An assortment of D Functions and Operators.\n",
       "\n",
       "      tree #                ⍝ Workspace map.\n",
       "      ↑¯10↑↓attrib ⎕nl 3 4  ⍝ What's new?\n",
       "      ⍕notes find 'Word'    ⍝ Apropos \"Word\".\n",
       "      ⎕ed'notes.contents'   ⍝ Workspace overview.\n",
       "\n",
       "</span>"
      ]
     },
     "execution_count": 1,
     "metadata": {},
     "output_type": "execute_result"
    },
    {
     "data": {
      "text/html": [
       "<span style=\"white-space:pre; font-family: monospace\">236\n",
       "</span>"
      ]
     },
     "execution_count": 1,
     "metadata": {},
     "output_type": "execute_result"
    },
    {
     "data": {
      "text/html": [
       "<span style=\"white-space:pre; font-family: monospace\">'\n",
       "An assortment of D Functions and Operators.\n",
       "\n",
       "      tree #                ⍝ Workspace map.\n",
       "      ↑¯10↑↓attrib ⎕nl 3 4  ⍝ What''s new?\n",
       "      ⍕notes find ''Word''    ⍝ Apropos \"Word\".\n",
       "      ⎕ed''notes.contents''   ⍝ Workspace overview.\n",
       "'\n",
       "</span>"
      ]
     },
     "execution_count": 1,
     "metadata": {},
     "output_type": "execute_result"
    }
   ],
   "source": [
    ")load dfns\n",
    "≢⎕LX\n",
    "⎕LX"
   ]
  },
  {
   "cell_type": "markdown",
   "id": "c77e3c70",
   "metadata": {},
   "source": [
    "## Name classification `⎕NC`\n",
    "\n",
    "Since APL does not enforce a naming scheme (although you might want to [adopt one](https://abrudz.github.io/style/#nc)), you may wonder what a certain name is. `⎕NC` ([Name Classification](http://help.dyalog.com/latest/index.htm#Language/System%20Functions/nc.htm)) to the rescue! Each type of item has a number. 2 is variable, 3 is function, 4 is operator, 9 is object. "
   ]
  },
  {
   "cell_type": "code",
   "execution_count": 13,
   "id": "fbae4994",
   "metadata": {},
   "outputs": [
    {
     "data": {
      "text/html": [
       "<span style=\"white-space:pre; font-family: monospace\">0 ¯1 2 3 9\n",
       "</span>"
      ]
     },
     "execution_count": 13,
     "metadata": {},
     "output_type": "execute_result"
    }
   ],
   "source": [
    "⎕CY'dfns'   ⍝ Copy the dfns workspace silently\n",
    "var←42\n",
    "⎕NC ↑'blah' '123' 'var' 'to' 'notes'"
   ]
  },
  {
   "cell_type": "markdown",
   "id": "12721ad2",
   "metadata": {},
   "source": [
    "`0` is undefined (but valid name). `¯1` is invalid name. `1` is really rare these days. It is a line label, and can only occur while a tradfn/tradop is running or suspended:"
   ]
  },
  {
   "cell_type": "code",
   "execution_count": 3,
   "id": "f9c4b25b",
   "metadata": {},
   "outputs": [],
   "source": [
    "∇tradfn\n",
    "label:\n",
    "⎕NC↑'label' 'label2' 'label3'\n",
    "label2:\n",
    "∇"
   ]
  },
  {
   "cell_type": "code",
   "execution_count": 4,
   "id": "d86f2bab",
   "metadata": {},
   "outputs": [
    {
     "data": {
      "text/html": [
       "<span style=\"white-space:pre; font-family: monospace\">1 1 0\n",
       "</span>"
      ]
     },
     "execution_count": 4,
     "metadata": {},
     "output_type": "execute_result"
    }
   ],
   "source": [
    "tradfn"
   ]
  },
  {
   "cell_type": "markdown",
   "id": "dfc5aa15",
   "metadata": {},
   "source": [
    "Sometimes you want even more info. If the argument to `⎕NC` is nested, then the values get a decimal which mean: .1=traditional, .2=field/direct, .3=property/tacit, .4=class, .5=interface, .6=external class, .7=external interface."
   ]
  },
  {
   "cell_type": "code",
   "execution_count": 10,
   "id": "1e8f2797",
   "metadata": {},
   "outputs": [
    {
     "data": {
      "text/html": [
       "<span style=\"white-space:pre; font-family: monospace\">0 ¯1 2.1 3.2 9.1\n",
       "</span>"
      ]
     },
     "execution_count": 10,
     "metadata": {},
     "output_type": "execute_result"
    }
   ],
   "source": [
    "⎕CY'dfns'   ⍝ Copy the dfns workspace silently\n",
    "var←42\n",
    "⎕NC 'blah' '123' 'var' 'to' 'notes'"
   ]
  },
  {
   "cell_type": "markdown",
   "id": "3632fe04",
   "metadata": {},
   "source": [
    "## Name list `⎕NL`\n",
    "\n",
    "Using those same codes, you can also use `⎕NL` ([Name List](http://help.dyalog.com/latest/index.htm#Language/System%20Functions/nl.htm)) to enquire which items of those name classifications are visible. For example, here are all of the [dfns workspace](https://aplwiki.com/wiki/Dfns_workspace)'s operators:"
   ]
  },
  {
   "cell_type": "code",
   "execution_count": 14,
   "id": "6c7933c7",
   "metadata": {},
   "outputs": [
    {
     "data": {
      "text/html": [
       "<span style=\"white-space:pre; font-family: monospace\">Cut     \n",
       "Depth   \n",
       "H       \n",
       "UndoRedo\n",
       "_fk     \n",
       "acc     \n",
       "alt     \n",
       "and     \n",
       "ascan   \n",
       "ascana  \n",
       "at      \n",
       "avl     \n",
       "bags    \n",
       "big     \n",
       "bsearch \n",
       "bt      \n",
       "case    \n",
       "cf      \n",
       "cond    \n",
       "cxdraw  \n",
       "dft     \n",
       "do      \n",
       "each    \n",
       "else    \n",
       "file    \n",
       "fk      \n",
       "fk_     \n",
       "fnarray \n",
       "foldl   \n",
       "for     \n",
       "invr    \n",
       "kcell   \n",
       "limit   \n",
       "lof     \n",
       "logic   \n",
       "ltrav   \n",
       "mdf     \n",
       "memo    \n",
       "nats    \n",
       "of      \n",
       "or      \n",
       "perv    \n",
       "pow     \n",
       "pred    \n",
       "profile \n",
       "rats    \n",
       "ratsum  \n",
       "ravt    \n",
       "redblack\n",
       "repl    \n",
       "roman   \n",
       "rows    \n",
       "sam     \n",
       "saw     \n",
       "sbst    \n",
       "splay   \n",
       "tc      \n",
       "ticks   \n",
       "time    \n",
       "traj    \n",
       "trav    \n",
       "until   \n",
       "vof     \n",
       "vwise   \n",
       "while   \n",
       "</span>"
      ]
     },
     "execution_count": 14,
     "metadata": {},
     "output_type": "execute_result"
    }
   ],
   "source": [
    "⎕CY'dfns'\n",
    "⎕NL 4"
   ]
  },
  {
   "cell_type": "markdown",
   "id": "206d0d3e",
   "metadata": {},
   "source": [
    "You can also specify decimals to get just those specific things. You can get just things beginning with specific letters, too, by giving a list of letters as left argument:"
   ]
  },
  {
   "cell_type": "code",
   "execution_count": 16,
   "id": "6acce9c3",
   "metadata": {},
   "outputs": [
    {
     "data": {
      "text/html": [
       "<span style=\"white-space:pre; font-family: monospace\">bags   \n",
       "big    \n",
       "bsearch\n",
       "bt     \n",
       "</span>"
      ]
     },
     "execution_count": 16,
     "metadata": {},
     "output_type": "execute_result"
    }
   ],
   "source": [
    "⎕CY'dfns'\n",
    "'b' ⎕NL 4.2"
   ]
  },
  {
   "cell_type": "markdown",
   "id": "8e972606",
   "metadata": {},
   "source": [
    "If you'd rather have a VTV (vector of text vectors, i.e. a list of strings), then use negative numbers. APLers often use this shortcut to list everything:"
   ]
  },
  {
   "cell_type": "code",
   "execution_count": 21,
   "id": "6d76e712",
   "metadata": {},
   "outputs": [
    {
     "data": {
      "text/html": [
       "<span style=\"white-space:pre; font-family: monospace\">┌──────────┬───────────┬───────┬─────────┬────────┬─────┬─────────┬───┬───┬────┐\n",
       "│APLVersion│ActivateApp│Caption│ChildList│Cholesky│Coord│CursorObj│Cut│DDE│Data│\n",
       "└──────────┴───────────┴───────┴─────────┴────────┴─────┴─────────┴───┴───┴────┘\n",
       "</span>"
      ]
     },
     "execution_count": 21,
     "metadata": {},
     "output_type": "execute_result"
    }
   ],
   "source": [
    "⎕CY'dfns'\n",
    "10↑⎕NL-⍳9    ⍝ Truncated for display purposes; contains 300+ items..."
   ]
  },
  {
   "cell_type": "markdown",
   "id": "41841ff8",
   "metadata": {},
   "source": [
    "## Expunge `⎕EX`\n",
    "\n",
    "If you find that the name you want to use is unavailable, you may want to [EXpunge](http://help.dyalog.com/latest/index.htm#Language/System%20Functions/ex.htm) its current value with `⎕EX`: "
   ]
  },
  {
   "cell_type": "code",
   "execution_count": 22,
   "id": "85353e3b",
   "metadata": {},
   "outputs": [
    {
     "data": {
      "text/html": [
       "<span style=\"white-space:pre; font-family: monospace\">0\n",
       "</span>"
      ]
     },
     "execution_count": 22,
     "metadata": {},
     "output_type": "execute_result"
    }
   ],
   "source": [
    "⎕NC'var' ⊣ ⎕EX 'var' ⊣ var←42"
   ]
  },
  {
   "cell_type": "markdown",
   "id": "c0783915",
   "metadata": {},
   "source": [
    "There we created, removed, and enquired about the name `var`.\n",
    "\n",
    "## Shadow `⎕SHADOW`\n",
    "\n",
    "If you only want to use an already used name temporarily, then you can use [`⎕SHADOW`](http://help.dyalog.com/latest/index.htm#Language/System%20Functions/shadow.htm) instead of `⎕EX`. The name will then be freed up for your use until the current function terminates. Note that shadowing happens automatically in dfns and dops when you just do regular assignments. In a dfn, `var←42` really means `⎕SHADOW 'var' ⋄ var←42`.\n",
    "\n",
    "Be careful using `⎕SHADOW` though. It is much better to localise your variables in the function header by putting `;varName` at the end of the header. \n",
    "\n",
    "## State indicator `⎕SI`\n",
    "\n",
    "Let's say you've built a bunch of functions that call each other, and then you run it, and it stops due to some bug. Now you need some situational awareness. You already know that `⎕NL` will let you check which names are defined, and `⎕NC` what type of things they are. `⎕SI` ([State Indicator](http://help.dyalog.com/latest/index.htm#Language/System%20Functions/si.htm)) will give you a list of function names on the stack:"
   ]
  },
  {
   "cell_type": "code",
   "execution_count": 23,
   "id": "5bb2d26a",
   "metadata": {},
   "outputs": [
    {
     "data": {
      "text/html": [
       "<span style=\"white-space:pre; font-family: monospace\">┌───┬───┬───┐\n",
       "│moo│goo│foo│\n",
       "└───┴───┴───┘\n",
       "</span>"
      ]
     },
     "execution_count": 23,
     "metadata": {},
     "output_type": "execute_result"
    }
   ],
   "source": [
    "foo←{goo ⍵}\n",
    "goo←{moo ⍵}\n",
    "moo←{⎕SI}\n",
    "foo⍬"
   ]
  },
  {
   "cell_type": "markdown",
   "id": "12a3899c",
   "metadata": {},
   "source": [
    "## Line count `⎕LC`\n",
    "\n",
    "`⎕LC` ([Line Count](http://help.dyalog.com/latest/index.htm#Language/System%20Functions/lc.htm)) will give you a list of corresponding line numbers where each function in `⎕SI` is holding:"
   ]
  },
  {
   "cell_type": "code",
   "execution_count": 24,
   "id": "ad302344",
   "metadata": {},
   "outputs": [],
   "source": [
    "]dinput\n",
    "foo←{\n",
    "    goo ⍵\n",
    "\n",
    "}"
   ]
  },
  {
   "cell_type": "code",
   "execution_count": 28,
   "id": "111c90e1",
   "metadata": {},
   "outputs": [],
   "source": [
    "]dinput\n",
    "goo←{\n",
    "\n",
    "\n",
    "    moo ⍵\n",
    "}"
   ]
  },
  {
   "cell_type": "code",
   "execution_count": 29,
   "id": "8b244eb5",
   "metadata": {},
   "outputs": [],
   "source": [
    "]dinput\n",
    "moo←{\n",
    "\n",
    "⎕LC}"
   ]
  },
  {
   "cell_type": "code",
   "execution_count": 30,
   "id": "66a56f38",
   "metadata": {},
   "outputs": [
    {
     "data": {
      "text/html": [
       "<span style=\"white-space:pre; font-family: monospace\">2 3 1\n",
       "</span>"
      ]
     },
     "execution_count": 30,
     "metadata": {},
     "output_type": "execute_result"
    }
   ],
   "source": [
    "foo ⍬"
   ]
  },
  {
   "cell_type": "markdown",
   "id": "e1caa393",
   "metadata": {},
   "source": [
    "## Size `⎕SIZE`\n",
    "\n",
    "If you get a `WS FULL` error, you may want to check how much memory is being used to represent a variable. Use [`⎕SIZE`](http://help.dyalog.com/latest/index.htm#Language/System%20Functions/size.htm):"
   ]
  },
  {
   "cell_type": "code",
   "execution_count": 31,
   "id": "cfd5f74d",
   "metadata": {},
   "outputs": [
    {
     "data": {
      "text/html": [
       "<span style=\"white-space:pre; font-family: monospace\">480040\n",
       "</span>"
      ]
     },
     "execution_count": 31,
     "metadata": {},
     "output_type": "execute_result"
    }
   ],
   "source": [
    "nums←⍳100 100\n",
    "⎕SIZE'nums'"
   ]
  },
  {
   "cell_type": "markdown",
   "id": "57b8eabd",
   "metadata": {},
   "source": [
    "## Workspace available `⎕WA`\n",
    "\n",
    "You might also need to know how much [workspace available] (`⎕WA`) you have:\n",
    "\n"
   ]
  },
  {
   "cell_type": "code",
   "execution_count": 32,
   "id": "908c5bd7",
   "metadata": {},
   "outputs": [
    {
     "data": {
      "text/html": [
       "<span style=\"white-space:pre; font-family: monospace\">480040\n",
       "</span>"
      ]
     },
     "execution_count": 32,
     "metadata": {},
     "output_type": "execute_result"
    },
    {
     "data": {
      "text/html": [
       "<span style=\"white-space:pre; font-family: monospace\">8564705600\n",
       "</span>"
      ]
     },
     "execution_count": 32,
     "metadata": {},
     "output_type": "execute_result"
    }
   ],
   "source": [
    "nums←⍳100 100\n",
    "⎕SIZE'nums'\n",
    "⎕WA"
   ]
  },
  {
   "cell_type": "markdown",
   "id": "749e56d1",
   "metadata": {},
   "source": [
    "## Screen dimensions `⎕SD`\n",
    "\n",
    "`⎕SD` is the [Screen Dimensions](http://help.dyalog.com/latest/index.htm#Language/System%20Functions/sd.htm), which for a Jupyter kernel is something fairly arbitrary:"
   ]
  },
  {
   "cell_type": "code",
   "execution_count": 35,
   "id": "a434dd33",
   "metadata": {},
   "outputs": [
    {
     "data": {
      "text/html": [
       "<span style=\"white-space:pre; font-family: monospace\">24 80\n",
       "</span>"
      ]
     },
     "execution_count": 35,
     "metadata": {},
     "output_type": "execute_result"
    }
   ],
   "source": [
    "⎕SD"
   ]
  },
  {
   "cell_type": "code",
   "execution_count": null,
   "id": "2353e1b8",
   "metadata": {},
   "outputs": [],
   "source": []
  }
 ],
 "metadata": {
  "kernelspec": {
   "display_name": "Dyalog APL",
   "language": "apl",
   "name": "dyalog-kernel"
  },
  "language_info": {
   "file_extension": ".apl",
   "mimetype": "text/apl",
   "name": "APL"
  }
 },
 "nbformat": 4,
 "nbformat_minor": 5
}

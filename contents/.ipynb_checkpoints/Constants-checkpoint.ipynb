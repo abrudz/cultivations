{
 "cells": [
  {
   "cell_type": "markdown",
   "id": "e54f3ae1",
   "metadata": {},
   "source": [
    "# Constants, tools and utils\n",
    "\n",
    "In this section we'll cover some system constants and utility functions.\n",
    "\n",
    "## Alphabetic chars `⎕A`\n",
    "\n",
    "`⎕A` is the [uppercase English alphabet](http://help.dyalog.com/latest/index.htm#Language/System%20Functions/a.htm) :"
   ]
  },
  {
   "cell_type": "code",
   "execution_count": 2,
   "id": "f03ed38b",
   "metadata": {},
   "outputs": [
    {
     "data": {
      "text/html": [
       "<span style=\"white-space:pre; font-family: monospace\">ABCDEFGHIJKLMNOPQRSTUVWXYZ\n",
       "</span>"
      ]
     },
     "execution_count": 2,
     "metadata": {},
     "output_type": "execute_result"
    }
   ],
   "source": [
    "⎕A"
   ]
  },
  {
   "cell_type": "markdown",
   "id": "af97c524",
   "metadata": {},
   "source": [
    "There is no built-in for the lowercase alphabet, but you can get it with the [case convert](http://help.dyalog.com/latest/index.htm#Language/System%20Functions/c.htm) system function, `⎕C`:"
   ]
  },
  {
   "cell_type": "code",
   "execution_count": 1,
   "id": "7efabbe5",
   "metadata": {},
   "outputs": [
    {
     "data": {
      "text/html": [
       "<span style=\"white-space:pre; font-family: monospace\">abcdefghijklmnopqrstuvwxyz\n",
       "</span>"
      ]
     },
     "execution_count": 1,
     "metadata": {},
     "output_type": "execute_result"
    }
   ],
   "source": [
    "⎕C⎕A"
   ]
  },
  {
   "cell_type": "markdown",
   "id": "fbd8516a",
   "metadata": {},
   "source": [
    "## Digits `⎕D`\n",
    "\n",
    "`⎕D` has the [digits](http://help.dyalog.com/latest/index.htm#Language/System%20Functions/d.htm):"
   ]
  },
  {
   "cell_type": "code",
   "execution_count": 7,
   "id": "20e0702d",
   "metadata": {},
   "outputs": [
    {
     "data": {
      "text/html": [
       "<span style=\"white-space:pre; font-family: monospace\">0123456789\n",
       "</span>"
      ]
     },
     "execution_count": 7,
     "metadata": {},
     "output_type": "execute_result"
    }
   ],
   "source": [
    "⎕D"
   ]
  },
  {
   "cell_type": "markdown",
   "id": "c69d0403",
   "metadata": {},
   "source": [
    "## Null item `⎕NULL`\n",
    "\n",
    "`⎕NULL` is a [scalar null](http://help.dyalog.com/latest/index.htm#Language/System%20Functions/null.htm) value. It isn't really used much in APL itself, but you can meet it e.g. when importing spreadsheets where it represents empty cells.  Note that it is _not_ JSON `null`, which is represented as `⊂'null'` to match true and false being `⊂'true'` and `⊂'false'`.  Note also that `⎕NULL` equals itself. These three (`⎕A ⎕D ⎕NULL`) are system _constants_; you can't assign to them. \n",
    "\n",
    "## Win/unix command  `⎕CMD ⎕SH`\n",
    "\n",
    "[`⎕CMD`](http://help.dyalog.com/latest/index.htm#Language/System%20Functions/cmd.htm) and [`⎕SH`](http://help.dyalog.com/latest/index.htm#Language/System%20Functions/sh.htm) are identical, but the first feels more natural to Windows users while the second feels more natural to UNIX users. Pressing <kbd>f1</kbd> on them will give you the help appropriate for that OS. They are used to call the OS command processor:"
   ]
  },
  {
   "cell_type": "code",
   "execution_count": 8,
   "id": "0a31cc9d",
   "metadata": {},
   "outputs": [
    {
     "data": {
      "text/html": [
       "<span style=\"white-space:pre; font-family: monospace\">Applications\n",
       "Library\n",
       "System\n",
       "Users\n",
       "Volumes\n",
       "bin\n",
       "cores\n",
       "dev\n",
       "etc\n",
       "home\n",
       "opt\n",
       "private\n",
       "sbin\n",
       "tmp\n",
       "usr\n",
       "var\n",
       "</span>"
      ]
     },
     "execution_count": 8,
     "metadata": {},
     "output_type": "execute_result"
    }
   ],
   "source": [
    "⎕SH'ls /'"
   ]
  },
  {
   "cell_type": "markdown",
   "id": "f0794d1d",
   "metadata": {},
   "source": [
    "## Comma separated values `⎕CSV`\n",
    "\n",
    "`⎕CSV` will import and export [Comma/Character Separated Values](http://help.dyalog.com/latest/index.htm#Language/System%20Functions/csv.htm)."
   ]
  },
  {
   "cell_type": "code",
   "execution_count": 9,
   "id": "e3bddd1e",
   "metadata": {},
   "outputs": [
    {
     "data": {
      "text/html": [
       "<span style=\"white-space:pre; font-family: monospace\">┌───┬───┬─┐\n",
       "│abc│def│3│\n",
       "└───┴───┴─┘\n",
       "</span>"
      ]
     },
     "execution_count": 9,
     "metadata": {},
     "output_type": "execute_result"
    }
   ],
   "source": [
    "⎕CSV '\"abc\",\"def\",3' 'S'"
   ]
  },
  {
   "cell_type": "markdown",
   "id": "a1529663",
   "metadata": {},
   "source": [
    "It has a ton of options for almost anything you could want, including import and export directly to and from text files. \n",
    "\n",
    "## Data representation `⎕DR`\n",
    "\n",
    "`⎕DR` is [Data Representation](http://help.dyalog.com/latest/index.htm#Language/System%20Functions/dr.htm). Monadically, it will tell you how an array is represented internally, and dyadically, it allows you to convert between data types: "
   ]
  },
  {
   "cell_type": "code",
   "execution_count": 10,
   "id": "ebdf764d",
   "metadata": {},
   "outputs": [
    {
     "data": {
      "text/html": [
       "<span style=\"white-space:pre; font-family: monospace\">83\n",
       "</span>"
      ]
     },
     "execution_count": 10,
     "metadata": {},
     "output_type": "execute_result"
    }
   ],
   "source": [
    "⎕DR 42"
   ]
  },
  {
   "cell_type": "markdown",
   "id": "41e2e5fa",
   "metadata": {},
   "source": [
    "Dyalog APL data type codes have two parts, the 1's place and the rest. The 1's place tells you which kind of data it is, the rest tells you how many bits are used to store it, with one exception: pointers are always 326 even on 64 bit systems. The number 42 gave us 83, where 3 means integer and 8 means 8-bit. \n",
    "\n",
    "Dyalog APL has single-bit Boolean arrays, so they are type 11 where the rightmost 1 means Boolean, and the leftmost 1 means 1-bit. "
   ]
  },
  {
   "cell_type": "code",
   "execution_count": 11,
   "id": "212bc19f",
   "metadata": {},
   "outputs": [
    {
     "data": {
      "text/html": [
       "<span style=\"white-space:pre; font-family: monospace\">11\n",
       "</span>"
      ]
     },
     "execution_count": 11,
     "metadata": {},
     "output_type": "execute_result"
    }
   ],
   "source": [
    "⎕DR 1 0 1 1 1 0"
   ]
  },
  {
   "cell_type": "markdown",
   "id": "c939c4b5",
   "metadata": {},
   "source": [
    "Dyadic `⎕DR` lets you convert between types: "
   ]
  },
  {
   "cell_type": "code",
   "execution_count": 12,
   "id": "be619638",
   "metadata": {},
   "outputs": [
    {
     "data": {
      "text/html": [
       "<span style=\"white-space:pre; font-family: monospace\">0 0 1 0 1 0 1 0\n",
       "</span>"
      ]
     },
     "execution_count": 12,
     "metadata": {},
     "output_type": "execute_result"
    }
   ],
   "source": [
    "11⎕DR 42"
   ]
  },
  {
   "cell_type": "markdown",
   "id": "c01e14e5",
   "metadata": {},
   "source": [
    "This takes the memory which was used to represent 42 and interprets it as if it was a Boolean array. \n",
    "You can also combine two steps of `⎕DR` into one. A two-element left argument will interpret the right argument as that type, then convert it to the type given by the second element of the left argument. \n",
    "\n",
    "## Format `⎕FMT`\n",
    "\n",
    "`⎕FMT` is [ForMaT](http://help.dyalog.com/latest/index.htm#Language/System%20Functions/fmt.htm). It is like a beefed up version of `⍕`. `⍕` retains the rank of its argument (except for numeric scalars becoming character vectors). `⎕FMT` always returns a matrix. Also, `⍕` treats control characters as normal characters, while `⎕FMT` will resolve them: "
   ]
  },
  {
   "cell_type": "code",
   "execution_count": 22,
   "id": "04bb22b9",
   "metadata": {},
   "outputs": [
    {
     "data": {
      "text/html": [
       "<span style=\"white-space:pre; font-family: monospace\">abdef\n",
       "</span>"
      ]
     },
     "execution_count": 22,
     "metadata": {},
     "output_type": "execute_result"
    },
    {
     "data": {
      "text/html": [
       "<span style=\"white-space:pre; font-family: monospace\">abdef\n",
       "7\n",
       "</span>"
      ]
     },
     "execution_count": 22,
     "metadata": {},
     "output_type": "execute_result"
    },
    {
     "data": {
      "text/html": [
       "<span style=\"white-space:pre; font-family: monospace\">abdef\n",
       "1 5\n",
       "</span>"
      ]
     },
     "execution_count": 22,
     "metadata": {},
     "output_type": "execute_result"
    }
   ],
   "source": [
    "str←⎕←'abc',(⎕UCS 8),'def' ⍝ 8 is backspace\n",
    "⍴⎕←⍕str                    ⍝ ⍕ treats backspace as any other char\n",
    "⍴⎕←⎕FMT str                ⍝ ⎕FMT resolves it"
   ]
  },
  {
   "cell_type": "markdown",
   "id": "cee70a6a",
   "metadata": {},
   "source": [
    "You see that the `'c'` really was erased by the backspace.\n",
    "\n",
    "Dyadic `⎕FMT` gives you access to a whole new language, namely a formatting specification language. We won't go though all the details here (see docs!), but here's a taste: "
   ]
  },
  {
   "cell_type": "code",
   "execution_count": 21,
   "id": "0dd0bf36",
   "metadata": {},
   "outputs": [
    {
     "data": {
      "text/html": [
       "<span style=\"white-space:pre; font-family: monospace\">  1 2.00  3 4.00\n",
       "  5 6.00  7 8.00\n",
       "</span>"
      ]
     },
     "execution_count": 21,
     "metadata": {},
     "output_type": "execute_result"
    }
   ],
   "source": [
    "'I3,F5.2' ⎕FMT 2 4⍴⍳8"
   ]
  },
  {
   "cell_type": "markdown",
   "id": "63cb0489",
   "metadata": {},
   "source": [
    "The formatting string `I3,F5.2` means that each row should first have an integer, then a float which uses five characters in width and has 2 decimals, then this formatting is cycled as much as needed for all the columns (here twice). \n",
    "\n",
    "## Import/export JSON  `⎕JSON`\n",
    "\n",
    "`⎕JSON` [imports/exports JSON](http://help.dyalog.com/latest/index.htm#Language/System%20Functions/json.htm). It works for both arrays and objects: "
   ]
  },
  {
   "cell_type": "code",
   "execution_count": 23,
   "id": "cfb65196",
   "metadata": {},
   "outputs": [
    {
     "data": {
      "text/html": [
       "<span style=\"white-space:pre; font-family: monospace\">┌───────────┬─────┐\n",
       "│┌──┬──────┐│hello│\n",
       "││42│┌────┐││     │\n",
       "││  ││null│││     │\n",
       "││  │└────┘││     │\n",
       "│└──┴──────┘│     │\n",
       "└───────────┴─────┘\n",
       "</span>"
      ]
     },
     "execution_count": 23,
     "metadata": {},
     "output_type": "execute_result"
    }
   ],
   "source": [
    "⎕JSON'[[42,null],\"hello\"]'"
   ]
  },
  {
   "cell_type": "code",
   "execution_count": 25,
   "id": "0889695e",
   "metadata": {},
   "outputs": [
    {
     "data": {
      "text/html": [
       "<span style=\"white-space:pre; font-family: monospace\">#.[JSON object]\n",
       "</span>"
      ]
     },
     "execution_count": 25,
     "metadata": {},
     "output_type": "execute_result"
    },
    {
     "data": {
      "text/html": [
       "<span style=\"white-space:pre; font-family: monospace\">┌──┬─────┐\n",
       "│42│hello│\n",
       "└──┴─────┘\n",
       "</span>"
      ]
     },
     "execution_count": 25,
     "metadata": {},
     "output_type": "execute_result"
    }
   ],
   "source": [
    "⊢ns←⎕JSON'{\"abc\":42,\"de\":null,\"f\":\"hello\"}'\n",
    "ns.(abc f)"
   ]
  },
  {
   "cell_type": "markdown",
   "id": "9747bdba",
   "metadata": {},
   "source": [
    "We can also export from APL to JSON:"
   ]
  },
  {
   "cell_type": "code",
   "execution_count": 26,
   "id": "349cdf25",
   "metadata": {},
   "outputs": [
    {
     "data": {
      "text/html": [
       "<span style=\"white-space:pre; font-family: monospace\">[[\"abc\",1,2,3],4,5]\n",
       "</span>"
      ]
     },
     "execution_count": 26,
     "metadata": {},
     "output_type": "execute_result"
    }
   ],
   "source": [
    "⎕JSON ('abc' 1 2 3) 4 5"
   ]
  },
  {
   "cell_type": "markdown",
   "id": "aa8b4bab",
   "metadata": {},
   "source": [
    "Just be aware that if you want to convert an APL string to JSON, you need use the left argument to specify whether you want import (0) or export (1). \n",
    "\n",
    "You can also tell `⎕JSON` that you want your JSON fully white-spaced: "
   ]
  },
  {
   "cell_type": "code",
   "execution_count": 27,
   "id": "af5ccb0a",
   "metadata": {},
   "outputs": [
    {
     "data": {
      "text/html": [
       "<span style=\"white-space:pre; font-family: monospace\">[\n",
       "  [\n",
       "    \"abc\",\n",
       "    1,\n",
       "    2,\n",
       "    3\n",
       "  ],\n",
       "  4,\n",
       "  5\n",
       "]\n",
       "</span>"
      ]
     },
     "execution_count": 27,
     "metadata": {},
     "output_type": "execute_result"
    }
   ],
   "source": [
    "⎕JSON⍠'Compact'0⊢('abc' 1 2 3)4 5"
   ]
  },
  {
   "cell_type": "markdown",
   "id": "8f9d73c0",
   "metadata": {},
   "source": [
    "Finally, whilst you can import any JSON object, not every APL namespace can be exported. For example, a namespace with APL functions cannot be converted to JSON. Again, `⎕JSON` has some more advanced options — see the docs. `⎕JSON` is fully compliant with JSON, though, but we do allow some leniency which allows you to create some JavaScript objects which are not valid JSON. For example,"
   ]
  },
  {
   "cell_type": "code",
   "execution_count": 28,
   "id": "5da8d344",
   "metadata": {},
   "outputs": [
    {
     "data": {
      "text/html": [
       "<span style=\"white-space:pre; font-family: monospace\">[\"hello\",world]\n",
       "</span>"
      ]
     },
     "execution_count": 28,
     "metadata": {},
     "output_type": "execute_result"
    }
   ],
   "source": [
    "⎕JSON 'hello' (⊂'world') "
   ]
  },
  {
   "cell_type": "markdown",
   "id": "f1bf4590",
   "metadata": {},
   "source": [
    "We opted for a generalised system for strings without quotes, rather than special casing `null`. The I-beam that preceded `⎕JSON` did in fact use `⎕NULL`. By using enclosed strings, we can losslessly roundtrip. However, If you DO want to use APL's `⎕NULL`, you can specify this using the `Null` variant to `⎕JSON`:"
   ]
  },
  {
   "cell_type": "code",
   "execution_count": 3,
   "id": "771fa7d7",
   "metadata": {},
   "outputs": [
    {
     "data": {
      "text/html": [
       "<span style=\"white-space:pre; font-family: monospace\">[Null]\n",
       "</span>"
      ]
     },
     "execution_count": 3,
     "metadata": {},
     "output_type": "execute_result"
    },
    {
     "data": {
      "text/html": [
       "<span style=\"white-space:pre; font-family: monospace\">1\n",
       "</span>"
      ]
     },
     "execution_count": 3,
     "metadata": {},
     "output_type": "execute_result"
    }
   ],
   "source": [
    "j←⎕JSON⍠'Null' ⎕NULL⊢'{\"name\": null}'\n",
    "j.name\n",
    "j.name = ⎕NULL"
   ]
  },
  {
   "cell_type": "markdown",
   "id": "37684c4d",
   "metadata": {},
   "source": [
    "Finally, there is also a `Dialect` variant, which is either `'JSON'` (the default) or `'JSON5'`. The latter enables [JSON5](https://json5.org/) extensions on import and export."
   ]
  },
  {
   "cell_type": "markdown",
   "id": "04ee29d8",
   "metadata": {},
   "source": [
    "## Map file `⎕MAP`\n",
    "\n",
    "[`⎕MAP`](http://help.dyalog.com/latest/index.htm#Language/System%20Functions/map.htm) is a function we'll only mention and not demonstrate (again, see docs). It basically allows you to use a file as an array instead of keeping the array in memory. Very useful. \n",
    "\n",
    "## Unicode convert `⎕UCS`\n",
    "\n",
    "This brings us to [Unicode Convert](http://help.dyalog.com/latest/index.htm#Language/System%20Functions/ucs.htm), `⎕UCS`, which in its monadic form flips characters and their Unicode code points: "
   ]
  },
  {
   "cell_type": "code",
   "execution_count": 29,
   "id": "691e037c",
   "metadata": {},
   "outputs": [
    {
     "data": {
      "text/html": [
       "<span style=\"white-space:pre; font-family: monospace\">καλημέρα\n",
       "</span>"
      ]
     },
     "execution_count": 29,
     "metadata": {},
     "output_type": "execute_result"
    }
   ],
   "source": [
    "⎕UCS 954 945 955 951 956 941 961 945"
   ]
  },
  {
   "cell_type": "markdown",
   "id": "f1e747c0",
   "metadata": {},
   "source": [
    "The dyadic form takes a left argument specifying an encoding scheme and converts to and from byte values rather than code points: "
   ]
  },
  {
   "cell_type": "code",
   "execution_count": 30,
   "id": "2a8fd139",
   "metadata": {},
   "outputs": [
    {
     "data": {
      "text/html": [
       "<span style=\"white-space:pre; font-family: monospace\">γεια σου\n",
       "</span>"
      ]
     },
     "execution_count": 30,
     "metadata": {},
     "output_type": "execute_result"
    }
   ],
   "source": [
    "'UTF-8' ⎕UCS 206 179 206 181 206 185 206 177 32 207 131 206 191 207 133"
   ]
  },
  {
   "cell_type": "markdown",
   "id": "2237be40",
   "metadata": {},
   "source": [
    "## Verify and fix input `⎕VFI`\n",
    "\n",
    "`⎕VFI` is [Verify and Fix Input](http://help.dyalog.com/latest/index.htm#Language/System%20Functions/vfi.htm). It takes a string and returns two lists. It cuts the string into space separated fields. Then it attempts to convert each field to a number. If it succeeds then the corresponding element of the left result list is 1 (else 0) and the corresponding element of the right list is the number (else 0). "
   ]
  },
  {
   "cell_type": "code",
   "execution_count": 31,
   "id": "64bd8bd5",
   "metadata": {},
   "outputs": [
    {
     "data": {
      "text/html": [
       "<span style=\"white-space:pre; font-family: monospace\">┌─────┬────────┐\n",
       "│1 0 1│123 0 42│\n",
       "└─────┴────────┘\n",
       "</span>"
      ]
     },
     "execution_count": 31,
     "metadata": {},
     "output_type": "execute_result"
    }
   ],
   "source": [
    "⎕VFI '123 four 42'"
   ]
  },
  {
   "cell_type": "markdown",
   "id": "bdacbc56",
   "metadata": {},
   "source": [
    "You can also specify one or more valid field separators as left argument: "
   ]
  },
  {
   "cell_type": "code",
   "execution_count": 32,
   "id": "d2e329d2",
   "metadata": {},
   "outputs": [
    {
     "data": {
      "text/html": [
       "<span style=\"white-space:pre; font-family: monospace\">┌─────┬─────┐\n",
       "│0 1 1│0 2 4│\n",
       "└─────┴─────┘\n",
       "</span>"
      ]
     },
     "execution_count": 32,
     "metadata": {},
     "output_type": "execute_result"
    }
   ],
   "source": [
    "';/'⎕VFI '123 four,42 5/2/4'"
   ]
  },
  {
   "cell_type": "markdown",
   "id": "7062f0b0",
   "metadata": {},
   "source": [
    "Here `123 four` were grouped because space is not a separator anymore, and so it is an invalid number. So too with `42 5`. Only `2` and `4` were valid. You can get just the valid numbers with: "
   ]
  },
  {
   "cell_type": "code",
   "execution_count": 33,
   "id": "c40c5034",
   "metadata": {},
   "outputs": [
    {
     "data": {
      "text/html": [
       "<span style=\"white-space:pre; font-family: monospace\">┌───┐\n",
       "│2 4│\n",
       "└───┘\n",
       "</span>"
      ]
     },
     "execution_count": 33,
     "metadata": {},
     "output_type": "execute_result"
    }
   ],
   "source": [
    "//';/'⎕VFI '123 four,42 5/2/4'"
   ]
  },
  {
   "cell_type": "markdown",
   "id": "17403a6c",
   "metadata": {},
   "source": [
    "## XML convert `⎕XML`\n",
    "\n",
    "`⎕XML` is [converts to and from XML](http://help.dyalog.com/latest/index.htm#Language/System%20Functions/xml.htm), but the corresponding APL format is rather involved. We usually just use ⎕XML to verify that some XML is valid or to normalise whitespace: "
   ]
  },
  {
   "cell_type": "code",
   "execution_count": 34,
   "id": "02d56f62",
   "metadata": {},
   "outputs": [
    {
     "data": {
      "text/html": [
       "<span style=\"white-space:pre; font-family: monospace\">&lt;xml&gt;\n",
       "  &lt;document id=\"001\"&gt;An introduction to XML&lt;/document&gt;\n",
       "&lt;/xml&gt;\n",
       "</span>"
      ]
     },
     "execution_count": 34,
     "metadata": {},
     "output_type": "execute_result"
    }
   ],
   "source": [
    "⎕XML⍣2 ⊢ '<xml><document id=\"001\">An introduction to XML</document></xml>'"
   ]
  },
  {
   "cell_type": "code",
   "execution_count": null,
   "id": "bdc56743",
   "metadata": {},
   "outputs": [],
   "source": []
  }
 ],
 "metadata": {
  "kernelspec": {
   "display_name": "Dyalog APL",
   "language": "apl",
   "name": "dyalog-kernel"
  },
  "language_info": {
   "file_extension": ".apl",
   "mimetype": "text/apl",
   "name": "APL"
  }
 },
 "nbformat": 4,
 "nbformat_minor": 5
}

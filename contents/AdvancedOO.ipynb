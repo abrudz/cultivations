{
 "cells": [
  {
   "cell_type": "markdown",
   "id": "dc11841b",
   "metadata": {},
   "source": [
    "# Advanced OO techniques\n",
    "\n",
    "## Overriding methods\n",
    "\n",
    "Overridable methods then. Dyalog borrows this terminology from Visual Basic. In C# and Java, they are referred to as \"virtual methods\".  \n",
    "\n",
    "If a derived class defines a method that has the same name as a base class method, then that shadows the base class method (although the base class method remains callable with `⎕BASE.MyMethod`). However, if the derived class' code calls a base class method which in turn calls a function by a name that has been defined both in the base class, and in the derived class, then it is the base class version that gets run. This is of course because the code that calls already is running in the base class. If in such a situation you want the derived class' method to be called, then you need to _override_ the base class method.\n",
    "\n",
    "In order to do so, two conditions must be met:\n",
    "1. The base class method must declare itself to be overridable.\n",
    "2. The derived class method must declare that it is overriding the base class method.\n",
    "\n",
    "Let's look at an example. Here is a base class: "
   ]
  },
  {
   "cell_type": "code",
   "execution_count": 1,
   "id": "1d79d648",
   "metadata": {},
   "outputs": [],
   "source": [
    "]dinput\n",
    ":Class Base\n",
    "    ∇ r←O\n",
    "      :Access Public Overridable\n",
    "      r←'O in Base'\n",
    "    ∇\n",
    "\n",
    "    ∇ r←F\n",
    "      :Access Public\n",
    "      r←'F in Base'\n",
    "    ∇\n",
    "\n",
    "    ∇ r←Caller\n",
    "      :Access Public\n",
    "      r←O F\n",
    "    ∇\n",
    ":EndClass"
   ]
  },
  {
   "cell_type": "markdown",
   "id": "f2254e55",
   "metadata": {},
   "source": [
    "We have three methods. The two single letter methods just report when they're called. `O` says it is overridable, `F` doesn't. Then there is a `Caller` method which just calls the two single-letter methods.\n",
    "\n",
    "Here is the companion derived class: "
   ]
  },
  {
   "cell_type": "code",
   "execution_count": 2,
   "id": "5a8a4ef2",
   "metadata": {},
   "outputs": [],
   "source": [
    "]dinput\n",
    ":Class Derived : Base\n",
    "    ∇ r←O\n",
    "      :Access Public Override\n",
    "      r←'O in Derived'\n",
    "    ∇\n",
    "\n",
    "    ∇ r←F\n",
    "      :Access Public\n",
    "      r←'F in Derived'\n",
    "    ∇\n",
    ":EndClass"
   ]
  },
  {
   "cell_type": "markdown",
   "id": "21a89e78",
   "metadata": {},
   "source": [
    "`O` overrides the base `O`, but `F` doesn't. If we call `Caller` from (an instance of) `Derived`, it will of course execute in the base class, but since `O` has been overridden, it will call the `O` in `Derived`, while `F` will just call the `F` in Base."
   ]
  },
  {
   "cell_type": "code",
   "execution_count": 3,
   "id": "f7230b17",
   "metadata": {},
   "outputs": [
    {
     "data": {
      "text/html": [
       "<span style=\"white-space:pre; font-family: monospace\">┌────────────┬─────────┐\n",
       "│O in Derived│F in Base│\n",
       "└────────────┴─────────┘\n",
       "</span>"
      ]
     },
     "execution_count": 3,
     "metadata": {},
     "output_type": "execute_result"
    }
   ],
   "source": [
    "I←⎕NEW Derived\n",
    "I.Caller"
   ]
  },
  {
   "cell_type": "markdown",
   "id": "d14af394",
   "metadata": {},
   "source": [
    "## Keyed properties\n",
    "\n",
    "Let's have a more in-depth look at properties, starting with [keyed properties](http://help.dyalog.com/latest/index.htm#Language/Object%20Oriented%20Programming/Class%20Members/Properties/Keyed%20Properties.htm). Normally, indexing is for numbers only, e.g. `vector[3 1 4]` and `matrix[3;1 4]` etc. Sometimes you want an array-like thing where individual parts are identified by \"keys\" (usually character vectors).\n",
    "\n",
    "For example, instead of referring to the individual columns of a database, you could refer to them by column name.\n",
    "Instead of having to look up each customer ID to find its current row in the database, you'd want to refer to the rows by \"name\", e.g. the customer ID. Keyed properties allow you to do so, but of course, you have to write the look-up code below the covers, in the property's code. \n",
    "\n",
    "As you can imagine, the possibilities are endless, but here is a general keyed property skeleton which tells you what the APL code sees: "
   ]
  },
  {
   "cell_type": "code",
   "execution_count": 4,
   "id": "824b1d5f",
   "metadata": {},
   "outputs": [],
   "source": [
    "]dinput\n",
    ":Class ClassK\n",
    "    :Property Keyed K\n",
    "    :Access public shared\n",
    "        ∇ r←Get x\n",
    "          ⎕←Show x\n",
    "          →\n",
    "        ∇\n",
    "\n",
    "        ∇ Set x\n",
    "          ⎕←Show x\n",
    "        ∇\n",
    "    :EndProperty\n",
    "    Show←{⍵.(↑{⍵(⍎⍵)}¨⎕NL-⍳9)}\n",
    ":EndClass"
   ]
  },
  {
   "cell_type": "markdown",
   "id": "55b00092",
   "metadata": {},
   "source": [
    "You may remember the argument to the setter function from our first treatment of properties. It wasn't very interesting then, but now it is of course critical. Also, note that the getter function now takes an argument. This is because we cannot just return the value of the property; we need to return the correct particular value using the keys.\n",
    "\n",
    "For now, each function just calls `Show` which is a little, hacky, function that creates a visual representation of the argument; a two-column matrix of variable names and their values. The getter also has `→` to force quit instead of actually returning something. This is to avoid having to generate some data which conforms to the shape of the request. "
   ]
  },
  {
   "cell_type": "code",
   "execution_count": 5,
   "id": "3c9a5c73",
   "metadata": {},
   "outputs": [
    {
     "data": {
      "text/html": [
       "<span style=\"white-space:pre; font-family: monospace\">┌─────────────────┬───────┐\n",
       "│Indexers         │┌─────┐│\n",
       "│                 ││┌───┐││\n",
       "│                 │││Abe│││\n",
       "│                 ││└───┘││\n",
       "│                 │└─────┘│\n",
       "├─────────────────┼───────┤\n",
       "│IndexersSpecified│1      │\n",
       "├─────────────────┼───────┤\n",
       "│Name             │K      │\n",
       "├─────────────────┼───────┤\n",
       "│NewValue         │┌─────┐│\n",
       "│                 ││ABCDE││\n",
       "│                 ││FGHIJ││\n",
       "│                 │└─────┘│\n",
       "└─────────────────┴───────┘\n",
       "</span>"
      ]
     },
     "execution_count": 5,
     "metadata": {},
     "output_type": "execute_result"
    },
    {
     "data": {
      "text/html": [
       "<span style=\"white-space:pre; font-family: monospace\">┌─────────────────┬───────────┐\n",
       "│Indexers         │┌─────────┐│\n",
       "│                 ││┌───┬───┐││\n",
       "│                 │││Abe│Bob│││\n",
       "│                 ││└───┴───┘││\n",
       "│                 │└─────────┘│\n",
       "├─────────────────┼───────────┤\n",
       "│IndexersSpecified│1          │\n",
       "├─────────────────┼───────────┤\n",
       "│Name             │K          │\n",
       "├─────────────────┼───────────┤\n",
       "│NewValue         │3 14       │\n",
       "└─────────────────┴───────────┘\n",
       "</span>"
      ]
     },
     "execution_count": 5,
     "metadata": {},
     "output_type": "execute_result"
    },
    {
     "data": {
      "text/html": [
       "<span style=\"white-space:pre; font-family: monospace\">┌─────────────────┬──────────────────────┐\n",
       "│Indexers         │┌─────────┬──────────┐│\n",
       "│                 ││┌───┬───┐│┌────┬───┐││\n",
       "│                 │││Abe│Bob│││Name│Age│││\n",
       "│                 ││└───┴───┘│└────┴───┘││\n",
       "│                 │└─────────┴──────────┘│\n",
       "├─────────────────┼──────────────────────┤\n",
       "│IndexersSpecified│1 1                   │\n",
       "├─────────────────┼──────────────────────┤\n",
       "│Name             │K                     │\n",
       "├─────────────────┼──────────────────────┤\n",
       "│NewValue         │┌───────┬──┐          │\n",
       "│                 ││Abraham│3 │          │\n",
       "│                 │├───────┼──┤          │\n",
       "│                 ││Robert │14│          │\n",
       "│                 │└───────┴──┘          │\n",
       "└─────────────────┴──────────────────────┘\n",
       "</span>"
      ]
     },
     "execution_count": 5,
     "metadata": {},
     "output_type": "execute_result"
    }
   ],
   "source": [
    "ClassK.K[⊂'Abe']←⊂2 5⍴⎕A\n",
    "ClassK.K['Abe' 'Bob']←3 14\n",
    "ClassK.K['Abe' 'Bob';'Name' 'Age']←2 2⍴'Abraham' 3  'Robert' 14"
   ]
  },
  {
   "cell_type": "markdown",
   "id": "204b492e",
   "metadata": {},
   "source": [
    "Notice that keyed properties do not have any particular rank. The first two assignments treat `K` like it's a vector, while the last one treats it as a matrix. APL does check that the indexers and the new values conform according to the rules of scalar extension.\n",
    "\n",
    "Getting is exactly the same, except that the argument namespace does not have a `NewValue` member:"
   ]
  },
  {
   "cell_type": "code",
   "execution_count": 6,
   "id": "7c8fc12a",
   "metadata": {},
   "outputs": [
    {
     "data": {
      "text/html": [
       "<span style=\"white-space:pre; font-family: monospace\">┌─────────────────┬───────┐\n",
       "│Indexers         │┌─────┐│\n",
       "│                 ││┌───┐││\n",
       "│                 │││Abe│││\n",
       "│                 ││└───┘││\n",
       "│                 │└─────┘│\n",
       "├─────────────────┼───────┤\n",
       "│IndexersSpecified│1      │\n",
       "├─────────────────┼───────┤\n",
       "│Name             │K      │\n",
       "└─────────────────┴───────┘\n",
       "</span>"
      ]
     },
     "execution_count": 6,
     "metadata": {},
     "output_type": "execute_result"
    },
    {
     "data": {
      "text/html": [
       "<span style=\"white-space:pre; font-family: monospace\">┌─────────────────┬───────────┐\n",
       "│Indexers         │┌─────────┐│\n",
       "│                 ││┌───┬───┐││\n",
       "│                 │││Abe│Bob│││\n",
       "│                 ││└───┴───┘││\n",
       "│                 │└─────────┘│\n",
       "├─────────────────┼───────────┤\n",
       "│IndexersSpecified│1          │\n",
       "├─────────────────┼───────────┤\n",
       "│Name             │K          │\n",
       "└─────────────────┴───────────┘\n",
       "</span>"
      ]
     },
     "execution_count": 6,
     "metadata": {},
     "output_type": "execute_result"
    },
    {
     "data": {
      "text/html": [
       "<span style=\"white-space:pre; font-family: monospace\">┌─────────────────┬──────────────────────┐\n",
       "│Indexers         │┌─────────┬──────────┐│\n",
       "│                 ││┌───┬───┐│┌────┬───┐││\n",
       "│                 │││Abe│Bob│││Name│Age│││\n",
       "│                 ││└───┴───┘│└────┴───┘││\n",
       "│                 │└─────────┴──────────┘│\n",
       "├─────────────────┼──────────────────────┤\n",
       "│IndexersSpecified│1 1                   │\n",
       "├─────────────────┼──────────────────────┤\n",
       "│Name             │K                     │\n",
       "└─────────────────┴──────────────────────┘\n",
       "</span>"
      ]
     },
     "execution_count": 6,
     "metadata": {},
     "output_type": "execute_result"
    }
   ],
   "source": [
    "ClassK.K[⊂'Abe']\n",
    "ClassK.K['Abe' 'Bob']\n",
    "ClassK.K['Abe' 'Bob';'Name' 'Age']"
   ]
  },
  {
   "cell_type": "code",
   "execution_count": 8,
   "id": "01b18191",
   "metadata": {},
   "outputs": [],
   "source": [
    "]dinput\n",
    ":Class Database\n",
    "    :Field public DB←0 3⍴'' '' 0\n",
    "    :Property Keyed K\n",
    "    :Access public\n",
    "        ∇ r←Get x\n",
    "          (id col)←x.Indexers\n",
    "          :If id∊DB[;1]\n",
    "              r←DB[DB[;1]⍳id;'id' 'name' 'age'⍳col]\n",
    "          :Else\n",
    "              ⎕SIGNAL 6 ⍝ value error\n",
    "          :EndIf\n",
    "        ∇\n",
    "\n",
    "        ∇ Set x;id;col\n",
    "          (id col)←x.Indexers\n",
    "          :If id∊DB[;1]\n",
    "              DB[DB[;1]⍳id;'id' 'name' 'age'⍳col]←x.NewValue\n",
    "          :Else\n",
    "              DB⍪←id,x.NewValue\n",
    "          :EndIf\n",
    "        ∇\n",
    "    :EndProperty\n",
    "    Show←{⍵.(↑{⍵(⍎⍵)}¨⎕NL-⍳9)}\n",
    ":EndClass"
   ]
  },
  {
   "cell_type": "code",
   "execution_count": 22,
   "id": "7ea1a999",
   "metadata": {},
   "outputs": [
    {
     "data": {
      "text/html": [
       "<span style=\"white-space:pre; font-family: monospace\">┌─────┬──┐\n",
       "│David│31│\n",
       "└─────┴──┘\n",
       "</span>"
      ]
     },
     "execution_count": 22,
     "metadata": {},
     "output_type": "execute_result"
    }
   ],
   "source": [
    "i←⎕NEW Database\n",
    "i.K[⊂'Dave';'name' 'age']←'David' 31\n",
    "i.K[⊂'Ernie';'name' 'age']←'Ernie' 28\n",
    "i.K[⊂'Dave';'name' 'age']"
   ]
  },
  {
   "cell_type": "markdown",
   "id": "99c30d13",
   "metadata": {},
   "source": [
    "## Numbered properties\n",
    "\n",
    "A [numbered property](http://help.dyalog.com/latest/index.htm#Language/Object%20Oriented%20Programming/Class%20Members/Properties/Numbered%20Properties.htm) behaves like an array (conceptually a vector) which is only ever partially accessed and set (one element at a time) via indices. Here's an example:"
   ]
  },
  {
   "cell_type": "code",
   "execution_count": 19,
   "id": "6b0c9a28",
   "metadata": {},
   "outputs": [],
   "source": [
    "]dinput\n",
    ":Class ClassN\n",
    "    :Property Numbered N\n",
    "    :Access public shared\n",
    "        ∇ r←Get x\n",
    "          ⎕←Show x\n",
    "          →\n",
    "        ∇\n",
    "\n",
    "        ∇ Set x\n",
    "          ⎕←Show x\n",
    "        ∇\n",
    "\n",
    "        ∇ r←Shape\n",
    "          r←2 3\n",
    "        ∇\n",
    "    :EndProperty\n",
    "    Show←{⍵.(↑{⍵(⍎⍵)}¨⎕NL-⍳9)}\n",
    ":EndClass"
   ]
  },
  {
   "cell_type": "code",
   "execution_count": 21,
   "id": "cb324e11",
   "metadata": {},
   "outputs": [
    {
     "data": {
      "text/html": [
       "<span style=\"white-space:pre; font-family: monospace\">┌────────┬─────┐\n",
       "│Indexers│┌───┐│\n",
       "│        ││1 2││\n",
       "│        │└───┘│\n",
       "├────────┼─────┤\n",
       "│Name    │N    │\n",
       "├────────┼─────┤\n",
       "│NewValue│a    │\n",
       "└────────┴─────┘\n",
       "┌────────┬─────┐\n",
       "│Indexers│┌───┐│\n",
       "│        ││1 3││\n",
       "│        │└───┘│\n",
       "├────────┼─────┤\n",
       "│Name    │N    │\n",
       "├────────┼─────┤\n",
       "│NewValue│b    │\n",
       "└────────┴─────┘\n",
       "</span>"
      ]
     },
     "execution_count": 21,
     "metadata": {},
     "output_type": "execute_result"
    },
    {
     "data": {
      "text/html": [
       "<span style=\"white-space:pre; font-family: monospace\">┌────────┬─────┐\n",
       "│Indexers│┌───┐│\n",
       "│        ││1 2││\n",
       "│        │└───┘│\n",
       "├────────┼─────┤\n",
       "│Name    │N    │\n",
       "└────────┴─────┘\n",
       "</span>"
      ]
     },
     "execution_count": 21,
     "metadata": {},
     "output_type": "execute_result"
    }
   ],
   "source": [
    "ClassN.N[1;2 3]←'ab'\n",
    "ClassN.N[1;2 3]"
   ]
  },
  {
   "cell_type": "markdown",
   "id": "df4bc869",
   "metadata": {},
   "source": [
    "It looks very much like our first keyed example, but there is an additional `Shape` function which allows APL to know what this imaginary array looks like. Also, note that the setter (and for that sake the getter) gets called once for each element that needs to be set (or retrieved).\n",
    "\n",
    "Using this, you implement a sparse array in much the same way as we did the database. Basically, you'd make a 2-column table of indices and values, and then look up any requested index in the first column to find the corresponding value in the right column. When setting, we'd again look whether the index is already used, and then overwrite that, or if not found, add an entry to our \"database\". "
   ]
  },
  {
   "cell_type": "code",
   "execution_count": null,
   "id": "9b1ce1ea",
   "metadata": {},
   "outputs": [],
   "source": []
  }
 ],
 "metadata": {
  "kernelspec": {
   "display_name": "Dyalog APL",
   "language": "apl",
   "name": "dyalog-kernel"
  },
  "language_info": {
   "file_extension": ".apl",
   "mimetype": "text/apl",
   "name": "APL"
  }
 },
 "nbformat": 4,
 "nbformat_minor": 5
}

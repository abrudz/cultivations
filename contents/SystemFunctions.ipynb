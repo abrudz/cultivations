{
 "cells": [
  {
   "cell_type": "markdown",
   "id": "3eaf9c77",
   "metadata": {},
   "source": [
    "# System functions\n",
    "\n",
    "The name _System Function_ is informally applied to all built-in names which begin with the quad symbol (`⎕`), even if they are actually operators, variables, or constants. We'll cover these roughly in the order presented [here](help.dyalog.com/latest/index.htm#Language/System%20Functions/Summary%20Tables/System%20Functions%20Categorised.htm).\n",
    "\n",
    "System functions are things that are not really part of the core language, but have been wrapped into items which conform with normal APL syntax. You can therefore use system functions together with normal APL functions and operators. However, note that many system functions are \"shy\", meaning that they suppress implicit display of their result, and some even do this selectively. \n",
    "\n",
    "## Comparison tolerance `⎕CT`\n",
    "\n",
    "To deal with inexactness in floating point representation, we have `⎕CT`, which is [Comparison Tolerance](help.dyalog.com/latest/index.htm#Language/System%20Functions/ct.htm). Some APL primitives have implicit arguments, i.e. arguments which are given as values to (semi) global variables instead of on the right or left.\n",
    "\n",
    "`⎕CT` is a tiny value: "
   ]
  },
  {
   "cell_type": "code",
   "execution_count": 2,
   "id": "51ef7154",
   "metadata": {},
   "outputs": [
    {
     "data": {
      "text/html": [
       "<span style=\"white-space:pre; font-family: monospace\">1E¯14\n",
       "</span>"
      ]
     },
     "execution_count": 2,
     "metadata": {},
     "output_type": "execute_result"
    }
   ],
   "source": [
    "⎕CT"
   ]
  },
  {
   "cell_type": "markdown",
   "id": "8fea0137",
   "metadata": {},
   "source": [
    "Two floating point numbers `X` and `Y` are considered to be equal if `(|X-Y)≤⎕CT×(|X)⌈|Y`:"
   ]
  },
  {
   "cell_type": "code",
   "execution_count": 4,
   "id": "83d1050d",
   "metadata": {},
   "outputs": [
    {
     "data": {
      "text/html": [
       "<span style=\"white-space:pre; font-family: monospace\">1\n",
       "</span>"
      ]
     },
     "execution_count": 4,
     "metadata": {},
     "output_type": "execute_result"
    }
   ],
   "source": [
    "1=1+1e¯20"
   ]
  },
  {
   "cell_type": "markdown",
   "id": "a6afe454",
   "metadata": {},
   "source": [
    "You can set `⎕CT` within reasonable limits (you can't make two unequal ints the same), so you can just set it to something else if you need to modify (or even disable) this behaviour:"
   ]
  },
  {
   "cell_type": "code",
   "execution_count": 10,
   "id": "eacdd1a9",
   "metadata": {},
   "outputs": [
    {
     "data": {
      "text/html": [
       "<span style=\"white-space:pre; font-family: monospace\">1\n",
       "</span>"
      ]
     },
     "execution_count": 10,
     "metadata": {},
     "output_type": "execute_result"
    },
    {
     "data": {
      "text/html": [
       "<span style=\"white-space:pre; font-family: monospace\">0\n",
       "</span>"
      ]
     },
     "execution_count": 10,
     "metadata": {},
     "output_type": "execute_result"
    }
   ],
   "source": [
    "⎕CT←1E¯10    ⍝ More tolerant\n",
    "1=1+1e¯11\n",
    "\n",
    "⎕CT←0        ⍝ Disable comparison tolerance\n",
    "1=1+1e¯15\n",
    "\n",
    "⎕CT←1E¯14    ⍝ Reset to default"
   ]
  },
  {
   "cell_type": "markdown",
   "id": "261d6c52",
   "metadata": {},
   "source": [
    "If you use 128-bit decimal floats (we'll get back to that), you can instead use `⎕DCT`, [Decimal Comparison Tolerance](help.dyalog.com/latest/index.htm#Language/System%20Functions/dct.htm). \n",
    "\n",
    "## Division method `⎕DIV`\n",
    "\n",
    "Some of you may be uncomfortable with the default divide by zero behaviour:"
   ]
  },
  {
   "cell_type": "code",
   "execution_count": 8,
   "id": "15b90f55",
   "metadata": {},
   "outputs": [
    {
     "data": {
      "text/html": [
       "<span style=\"white-space:pre; font-family: monospace\">1\n",
       "</span>"
      ]
     },
     "execution_count": 8,
     "metadata": {},
     "output_type": "execute_result"
    }
   ],
   "source": [
    "0÷0"
   ]
  },
  {
   "cell_type": "markdown",
   "id": "aebaae96",
   "metadata": {},
   "source": [
    "Dyalog has this thing called `⎕DIV`, [Division method](http://help.dyalog.com/latest/index.htm#Language/System%20Functions/div.htm), which, when you set it to 1, lets all divisions by 0 give 0: "
   ]
  },
  {
   "cell_type": "code",
   "execution_count": 12,
   "id": "bed0b736",
   "metadata": {},
   "outputs": [
    {
     "data": {
      "text/html": [
       "<span style=\"white-space:pre; font-family: monospace\">0 0 0 1\n",
       "</span>"
      ]
     },
     "execution_count": 12,
     "metadata": {},
     "output_type": "execute_result"
    }
   ],
   "source": [
    "⎕DIV←1\n",
    "0 0 3 3÷0 3 0 3\n",
    "⎕DIV←0"
   ]
  },
  {
   "cell_type": "markdown",
   "id": "b874e17a",
   "metadata": {},
   "source": [
    "If you want to error on division by zero, just use `×∘÷` instead of `÷` under the default `⎕DIV←0`.\n",
    "\n",
    "## Index origin `⎕IO`\n",
    "\n",
    "There is an old debate on whether to begin indexing with 0 or with 1. APL lets you choose by setting the [Index Origin](http://help.dyalog.com/latest/index.htm#Language/System%20Functions/io.htm), `⎕IO`:"
   ]
  },
  {
   "cell_type": "code",
   "execution_count": 3,
   "id": "459289a2",
   "metadata": {},
   "outputs": [
    {
     "data": {
      "text/html": [
       "<span style=\"white-space:pre; font-family: monospace\">0 1 2 3\n",
       "</span>"
      ]
     },
     "execution_count": 3,
     "metadata": {},
     "output_type": "execute_result"
    },
    {
     "data": {
      "text/html": [
       "<span style=\"white-space:pre; font-family: monospace\">1 2 3 4\n",
       "</span>"
      ]
     },
     "execution_count": 3,
     "metadata": {},
     "output_type": "execute_result"
    }
   ],
   "source": [
    "⍳4 ⊣ ⎕IO←0\n",
    "⍳4 ⊣ ⎕IO←1"
   ]
  },
  {
   "cell_type": "markdown",
   "id": "a12a87c0",
   "metadata": {},
   "source": [
    "Note that using `⎕IO←0` means you have to accept negative indices in some cases: "
   ]
  },
  {
   "cell_type": "code",
   "execution_count": 16,
   "id": "3edf239b",
   "metadata": {},
   "outputs": [
    {
     "data": {
      "text/html": [
       "<span style=\"white-space:pre; font-family: monospace\">0\n",
       "</span>"
      ]
     },
     "execution_count": 16,
     "metadata": {},
     "output_type": "execute_result"
    }
   ],
   "source": [
    "3 4 5⍸2"
   ]
  },
  {
   "cell_type": "code",
   "execution_count": 18,
   "id": "a2a17a77",
   "metadata": {},
   "outputs": [
    {
     "data": {
      "text/html": [
       "<span style=\"white-space:pre; font-family: monospace\">¯1\n",
       "</span>"
      ]
     },
     "execution_count": 18,
     "metadata": {},
     "output_type": "execute_result"
    }
   ],
   "source": [
    "⎕IO←0\n",
    "3 4 5⍸2\n",
    "⎕IO←1"
   ]
  },
  {
   "cell_type": "markdown",
   "id": "94cc029b",
   "metadata": {},
   "source": [
    "Also note that these system variables can be localised. So if your dfn sets `⎕IO` it only applies to that function (and its children), but does not permanently affect the environment:"
   ]
  },
  {
   "cell_type": "code",
   "execution_count": 19,
   "id": "b9591a66",
   "metadata": {},
   "outputs": [
    {
     "data": {
      "text/html": [
       "<span style=\"white-space:pre; font-family: monospace\">1 0 1\n",
       "</span>"
      ]
     },
     "execution_count": 19,
     "metadata": {},
     "output_type": "execute_result"
    }
   ],
   "source": [
    "⎕IO,({⎕IO←0 ⋄ ⎕IO}⍬),⎕IO"
   ]
  },
  {
   "cell_type": "markdown",
   "id": "d0098dd2",
   "metadata": {},
   "source": [
    "## Print precision `⎕PP`\n",
    "\n",
    "By default, APL prints 10 significant digits in floats. You can select how many to show by setting `⎕PP`, [Print Precision](http://help.dyalog.com/latest/index.htm#Language/System%20Functions/pp.htm): "
   ]
  },
  {
   "cell_type": "code",
   "execution_count": 24,
   "id": "010b5c18",
   "metadata": {},
   "outputs": [
    {
     "data": {
      "text/html": [
       "<span style=\"white-space:pre; font-family: monospace\">0.143\n",
       "</span>"
      ]
     },
     "execution_count": 24,
     "metadata": {},
     "output_type": "execute_result"
    },
    {
     "data": {
      "text/html": [
       "<span style=\"white-space:pre; font-family: monospace\">0.1428571429\n",
       "</span>"
      ]
     },
     "execution_count": 24,
     "metadata": {},
     "output_type": "execute_result"
    }
   ],
   "source": [
    "⎕PP←3\n",
    "÷7\n",
    "⎕PP←10\n",
    "÷7"
   ]
  },
  {
   "cell_type": "markdown",
   "id": "6560f175",
   "metadata": {},
   "source": [
    "This affects `⍕`, too:"
   ]
  },
  {
   "cell_type": "code",
   "execution_count": 26,
   "id": "b32a4627",
   "metadata": {},
   "outputs": [
    {
     "data": {
      "text/html": [
       "<span style=\"white-space:pre; font-family: monospace\">12\n",
       "</span>"
      ]
     },
     "execution_count": 26,
     "metadata": {},
     "output_type": "execute_result"
    }
   ],
   "source": [
    "≢⍕÷7"
   ]
  },
  {
   "cell_type": "code",
   "execution_count": 27,
   "id": "00c997d7",
   "metadata": {},
   "outputs": [
    {
     "data": {
      "text/html": [
       "<span style=\"white-space:pre; font-family: monospace\">5\n",
       "</span>"
      ]
     },
     "execution_count": 27,
     "metadata": {},
     "output_type": "execute_result"
    }
   ],
   "source": [
    "≢⍕÷7 ⊣ ⎕PP←3"
   ]
  },
  {
   "cell_type": "markdown",
   "id": "8fe6a876",
   "metadata": {},
   "source": [
    "In other words, how many characters are needed to represent a seventh using that precision? \n",
    "\n",
    "Now we can also get _more_ precision:"
   ]
  },
  {
   "cell_type": "code",
   "execution_count": 29,
   "id": "6dae93d0",
   "metadata": {},
   "outputs": [
    {
     "data": {
      "text/html": [
       "<span style=\"white-space:pre; font-family: monospace\">3.141592653589793\n",
       "</span>"
      ]
     },
     "execution_count": 29,
     "metadata": {},
     "output_type": "execute_result"
    }
   ],
   "source": [
    "○1 ⊣ ⎕PP←17 ⍝ 𝜋"
   ]
  },
  {
   "cell_type": "markdown",
   "id": "c9d9006d",
   "metadata": {},
   "source": [
    "## Floating-point representation `⎕FR`\n",
    "\n",
    "What if we want even _more_ decimal places in our 𝜋 from above? Bumping the print precision higher doesn't work:"
   ]
  },
  {
   "cell_type": "code",
   "execution_count": 32,
   "id": "20cd50c8",
   "metadata": {},
   "outputs": [
    {
     "data": {
      "text/html": [
       "<span style=\"white-space:pre; font-family: monospace\">3.141592653589793\n",
       "</span>"
      ]
     },
     "execution_count": 32,
     "metadata": {},
     "output_type": "execute_result"
    }
   ],
   "source": [
    "○1 ⊣ ⎕PP←34"
   ]
  },
  {
   "cell_type": "markdown",
   "id": "aa866d7c",
   "metadata": {},
   "source": [
    "The system simply doesn't keep that much precision. For this we need to set `⎕FR`, [Floating-point Representation](http://help.dyalog.com/latest/index.htm#Language/System%20Functions/fr.htm). By default it is 645, meaning 64-bit binary. We can set it to 1287, meaning 128-bit decimal:"
   ]
  },
  {
   "cell_type": "code",
   "execution_count": 35,
   "id": "d1f4de6d",
   "metadata": {},
   "outputs": [
    {
     "data": {
      "text/html": [
       "<span style=\"white-space:pre; font-family: monospace\">3.141592653589793238462643383279503\n",
       "</span>"
      ]
     },
     "execution_count": 35,
     "metadata": {},
     "output_type": "execute_result"
    }
   ],
   "source": [
    "○1 ⊣ ⎕PP←34 ⊣ ⎕FR←1287\n",
    "⎕FR←645"
   ]
  },
  {
   "cell_type": "markdown",
   "id": "23592b6e",
   "metadata": {},
   "source": [
    "Recall also that you can set decimal comparison tolerance with `⎕DCT`.\n",
    "\n",
    "## Random link `⎕RL`\n",
    "\n",
    "[Random link](http://help.dyalog.com/latest/index.htm#Language/System%20Functions/rl.htm), `⎕RL`, lets you set a seed value for random numbers so you can reproduce the same random numbers again. It also lets you choose which method to use for calculating the next random number based on the seed.\n",
    "\n",
    "`⎕RL` is a two element array, but as opposed to normal arrays, you cannot modify `⎕RL` in-place; you have to assign to the entire array at once. The first element is the seed; an integer in the range `1` to `¯2+2*31`. You can also use `0` to auto-randomise, or `⍬` to optimise by not keeping track of the seed. \n",
    "\n",
    "The second element is the method:\n",
    "\n",
    "* 0=Lehmer\n",
    "* 1=Mersenne\n",
    "* 2=ask the OS.\n",
    "\n",
    "If you ask the OS, you can't provide a seed, so you have to use `⍬`."
   ]
  },
  {
   "cell_type": "code",
   "execution_count": 36,
   "id": "b45a36b1",
   "metadata": {},
   "outputs": [
    {
     "data": {
      "text/html": [
       "<span style=\"white-space:pre; font-family: monospace\">0.37728919472611977\n",
       "</span>"
      ]
     },
     "execution_count": 36,
     "metadata": {},
     "output_type": "execute_result"
    }
   ],
   "source": [
    "?0"
   ]
  },
  {
   "cell_type": "markdown",
   "id": "78f7cd5d",
   "metadata": {},
   "source": [
    "We are asking our OS by default, so we get a different result each time: "
   ]
  },
  {
   "cell_type": "code",
   "execution_count": 37,
   "id": "17fdd04e",
   "metadata": {},
   "outputs": [
    {
     "data": {
      "text/html": [
       "<span style=\"white-space:pre; font-family: monospace\">0.5456603511421764\n",
       "</span>"
      ]
     },
     "execution_count": 37,
     "metadata": {},
     "output_type": "execute_result"
    }
   ],
   "source": [
    "?0"
   ]
  },
  {
   "cell_type": "markdown",
   "id": "51a81233",
   "metadata": {},
   "source": [
    "Let's use Mersenne with a specific seed instead:"
   ]
  },
  {
   "cell_type": "code",
   "execution_count": 41,
   "id": "8e9a005e",
   "metadata": {},
   "outputs": [
    {
     "data": {
      "text/html": [
       "<span style=\"white-space:pre; font-family: monospace\">0.0019533783197548393\n",
       "</span>"
      ]
     },
     "execution_count": 41,
     "metadata": {},
     "output_type": "execute_result"
    },
    {
     "data": {
      "text/html": [
       "<span style=\"white-space:pre; font-family: monospace\">0.0019533783197548393\n",
       "</span>"
      ]
     },
     "execution_count": 41,
     "metadata": {},
     "output_type": "execute_result"
    }
   ],
   "source": [
    "?0 ⊣ ⎕RL←42 1\n",
    "?0 ⊣ ⎕RL←42 1   ⍝ Start the sequence at the same place"
   ]
  },
  {
   "cell_type": "markdown",
   "id": "68cb5651",
   "metadata": {},
   "source": [
    "## Account info `⎕AI`\n",
    "\n",
    "[Account info](http://help.dyalog.com/latest/index.htm#Language/System%20Functions/ai.htm), `⎕AI`, isn't very interesting these days, except you can use `⎕AI[3]` as an absolute counter of milliseconds since the beginning of the session. This is useful to avoid having to deal with roll-overs when timing stuff.\n",
    "\n",
    "How long does it take to wait a second? "
   ]
  },
  {
   "cell_type": "code",
   "execution_count": 48,
   "id": "6b2ad282",
   "metadata": {},
   "outputs": [
    {
     "data": {
      "text/html": [
       "<span style=\"white-space:pre; font-family: monospace\">1335\n",
       "</span>"
      ]
     },
     "execution_count": 48,
     "metadata": {},
     "output_type": "execute_result"
    }
   ],
   "source": [
    "a←3⊃⎕AI\n",
    "⎕DL 1      ⍝ Sleep for 1s\n",
    "a-⍨3⊃⎕AI"
   ]
  },
  {
   "cell_type": "markdown",
   "id": "4c9dcabe",
   "metadata": {},
   "source": [
    "## Account name `⎕AN`\n",
    "\n",
    "`⎕AN` is the [account name](http://help.dyalog.com/latest/index.htm#Language/System%20Functions/an.htm), which for me is"
   ]
  },
  {
   "cell_type": "code",
   "execution_count": 49,
   "id": "7329f348",
   "metadata": {},
   "outputs": [
    {
     "data": {
      "text/html": [
       "<span style=\"white-space:pre; font-family: monospace\">stefan\n",
       "</span>"
      ]
     },
     "execution_count": 49,
     "metadata": {},
     "output_type": "execute_result"
    }
   ],
   "source": [
    "⎕AN"
   ]
  },
  {
   "cell_type": "markdown",
   "id": "91b0e032",
   "metadata": {},
   "source": [
    "## Clear workspace `⎕CLEAR`\n",
    "\n",
    "[Clear workspace](http://help.dyalog.com/latest/index.htm#Language/System%20Functions/clear.htm), `⎕CLEAR`, is a special constant, which when referenced will clear the workspace just like `)clear` does. This means you can use it in code.\n",
    "\n",
    "## Copy workspace `⎕CY`\n",
    "\n",
    "[Copy workspace](http://help.dyalog.com/latest/index.htm#Language/System%20Functions/cy.htm), `⎕CY`, is a function which copies from a workspace file to the current workspace. You give it the name of a workspace file as right argument, and optionally a name list on the left of items to copy. By default, it will copy everything. "
   ]
  },
  {
   "cell_type": "code",
   "execution_count": 51,
   "id": "1b393c89",
   "metadata": {},
   "outputs": [
    {
     "data": {
      "text/html": [
       "<span style=\"white-space:pre; font-family: monospace\">¯5 ¯4 ¯3 ¯2 ¯1 0 1 2 3 4 5\n",
       "</span>"
      ]
     },
     "execution_count": 51,
     "metadata": {},
     "output_type": "execute_result"
    }
   ],
   "source": [
    "'iotag'⎕CY'dfns'   ⍝ Copy the iotag function from the dfns workspace\n",
    "¯5 iotag 5"
   ]
  },
  {
   "cell_type": "markdown",
   "id": "2a994184",
   "metadata": {},
   "source": [
    "## Delay `⎕DL`\n",
    "\n",
    "`⎕DL` is [delay](http://help.dyalog.com/latest/index.htm#Language/System%20Functions/dl.htm) as you saw before. It takes a number (floats are fine) of seconds and (shyly) returns the number of seconds actually used. `⎕DL` guarantees a delay of _at least_ what you specified:"
   ]
  },
  {
   "cell_type": "code",
   "execution_count": 53,
   "id": "b7c8bb22",
   "metadata": {},
   "outputs": [
    {
     "data": {
      "text/html": [
       "<span style=\"white-space:pre; font-family: monospace\">1.0179829999999999\n",
       "</span>"
      ]
     },
     "execution_count": 53,
     "metadata": {},
     "output_type": "execute_result"
    }
   ],
   "source": [
    "⎕←⎕DL 1"
   ]
  },
  {
   "cell_type": "markdown",
   "id": "88e59912",
   "metadata": {},
   "source": [
    "## Load `⎕LOAD`\n",
    "\n",
    "You may have already used `)LOAD`. [⎕LOAD](http://help.dyalog.com/latest/index.htm#Language/System%20Functions/load.htm) is basically the same, but in a function form. Give it the name of a workspace to load. \n",
    "\n",
    "## Off `⎕OFF`\n",
    "\n",
    "[⎕OFF](http://help.dyalog.com/latest/index.htm#Language/System%20Functions/off.htm) is similar to `⎕CLEAR` in that referencing its value causes the workspace to be closed, but it also terminates APL. `⎕OFF` has a special syntax though. If you put a value immediately to its right, that will become APL's exit code.\n",
    "\n",
    "## Save `⎕SAVE`\n",
    "\n",
    "[⎕SAVE](http://help.dyalog.com/latest/index.htm#Language/System%20Functions/save.htm) is similar to `)SAVE` in that it saves the current workspace to disk. However, `⎕SAVE` has a trick up its sleeve. If you use `⎕SAVE` under program control, you can then use `⎕LOAD` on the generated workspace file, and execution will continue where the `⎕SAVE` happened, with `⎕SAVE` giving the result 0. This allows you to write applications where the user can close the application and then resume the left-off state when opening the application again. \n",
    "\n",
    "## Time stamp `⎕TS`\n",
    "\n",
    "`⎕TS` is [time stamp](http://help.dyalog.com/latest/index.htm#Language/System%20Functions/ts.htm), which returns the current system time as a 7-element vector; year, month, day, hour, minute, second, millisecond: "
   ]
  },
  {
   "cell_type": "code",
   "execution_count": 54,
   "id": "ba2b7f7f",
   "metadata": {},
   "outputs": [
    {
     "data": {
      "text/html": [
       "<span style=\"white-space:pre; font-family: monospace\">2022 1 14 9 35 27 312\n",
       "</span>"
      ]
     },
     "execution_count": 54,
     "metadata": {},
     "output_type": "execute_result"
    }
   ],
   "source": [
    "⎕TS"
   ]
  },
  {
   "cell_type": "code",
   "execution_count": null,
   "id": "ea5398fd",
   "metadata": {},
   "outputs": [],
   "source": []
  }
 ],
 "metadata": {
  "kernelspec": {
   "display_name": "Dyalog APL",
   "language": "apl",
   "name": "dyalog-kernel"
  },
  "language_info": {
   "file_extension": ".apl",
   "mimetype": "text/apl",
   "name": "APL"
  }
 },
 "nbformat": 4,
 "nbformat_minor": 5
}

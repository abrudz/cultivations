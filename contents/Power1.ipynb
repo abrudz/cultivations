{
 "cells": [
  {
   "cell_type": "markdown",
   "id": "99ca9ac8",
   "metadata": {},
   "source": [
    "# Power in depth: `f⍣k`\n",
    "\n",
    "When the power operator, `⍣`, is given an integer as the right operator, it is a very simple: `(f⍣k)Y` is simply `f f f … f f Y`. In its dyadic form, it uses the left argument unchanged every time: `X(f⍣k)Y` is `X f X f X f … X f X f Y`.\n",
    "\n",
    "The only thing to look out for is that the count (`k`) must be separated from the argument, either by naming, or with parenthesis, or by a monadic function (often `⊢`). Note that `k` may be 0, which can be used for \"branch-less\" conditionals, like replacing one value with another on a condition:  "
   ]
  },
  {
   "cell_type": "code",
   "execution_count": 1,
   "id": "aff901d8",
   "metadata": {},
   "outputs": [
    {
     "data": {
      "text/html": [
       "<span style=\"white-space:pre; font-family: monospace\">4\n",
       "</span>"
      ]
     },
     "execution_count": 1,
     "metadata": {},
     "output_type": "execute_result"
    },
    {
     "data": {
      "text/html": [
       "<span style=\"white-space:pre; font-family: monospace\">3\n",
       "</span>"
      ]
     },
     "execution_count": 1,
     "metadata": {},
     "output_type": "execute_result"
    }
   ],
   "source": [
    "3⊣⍣('a'='b')⊢4\n",
    "3⊣⍣('b'='b')⊢4"
   ]
  },
  {
   "cell_type": "markdown",
   "id": "6d59373e",
   "metadata": {},
   "source": [
    "In the same vein, you can also use it to perform an action conditionally:"
   ]
  },
  {
   "cell_type": "code",
   "execution_count": 2,
   "id": "ab14043b",
   "metadata": {},
   "outputs": [
    {
     "data": {
      "text/html": [
       "<span style=\"white-space:pre; font-family: monospace\">yup1\n",
       "</span>"
      ]
     },
     "execution_count": 2,
     "metadata": {},
     "output_type": "execute_result"
    },
    {
     "data": {
      "text/html": [
       "<span style=\"white-space:pre; font-family: monospace\">4\n",
       "</span>"
      ]
     },
     "execution_count": 2,
     "metadata": {},
     "output_type": "execute_result"
    },
    {
     "data": {
      "text/html": [
       "<span style=\"white-space:pre; font-family: monospace\">done\n",
       "</span>"
      ]
     },
     "execution_count": 2,
     "metadata": {},
     "output_type": "execute_result"
    }
   ],
   "source": [
    "{⎕←'yup1'}⍣('b'='b')⊢4\n",
    "{⎕←'yup2'}⍣('a'='b')⊢4\n",
    "'done'"
   ]
  },
  {
   "cell_type": "markdown",
   "id": "60095c57",
   "metadata": {},
   "source": [
    "However, `⍣k` can be quite limited. For example, it doesn't give you the intermediary results. If we need the intermediate results, we could try something like this:"
   ]
  },
  {
   "cell_type": "code",
   "execution_count": 4,
   "id": "321a6703",
   "metadata": {},
   "outputs": [
    {
     "data": {
      "text/html": [
       "<span style=\"white-space:pre; font-family: monospace\">10 20 40 80 160 320\n",
       "</span>"
      ]
     },
     "execution_count": 4,
     "metadata": {},
     "output_type": "execute_result"
    }
   ],
   "source": [
    "2{list,←⍺×⍵}⍣5⊢list←10\n",
    "list"
   ]
  },
  {
   "cell_type": "markdown",
   "id": "c93c8eff",
   "metadata": {},
   "source": [
    "However, this approach has a subtle problem. Behold:"
   ]
  },
  {
   "cell_type": "code",
   "execution_count": 8,
   "id": "e99fbabe",
   "metadata": {},
   "outputs": [
    {
     "data": {
      "text/html": [
       "<span style=\"white-space:pre; font-family: monospace\">┌─────────┐\n",
       "│┌───────┐│\n",
       "││┌─────┐││\n",
       "│││┌───┐│││\n",
       "││││Yes││││\n",
       "│││└───┘│││\n",
       "││└─────┘││\n",
       "│└───────┘│\n",
       "└─────────┘\n",
       "</span>"
      ]
     },
     "execution_count": 8,
     "metadata": {},
     "output_type": "execute_result"
    },
    {
     "data": {
      "text/html": [
       "<span style=\"white-space:pre; font-family: monospace\">┌───┬─────┬───────┬─────────┐\n",
       "│Yes│┌───┐│┌─────┐│┌───────┐│\n",
       "│   ││Yes│││┌───┐│││┌─────┐││\n",
       "│   │└───┘│││Yes│││││┌───┐│││\n",
       "│   │     ││└───┘│││││Yes││││\n",
       "│   │     │└─────┘│││└───┘│││\n",
       "│   │     │       ││└─────┘││\n",
       "│   │     │       │└───────┘│\n",
       "└───┴─────┴───────┴─────────┘\n",
       "</span>"
      ]
     },
     "execution_count": 8,
     "metadata": {},
     "output_type": "execute_result"
    }
   ],
   "source": [
    "⎕←{list,←⊂⍵}⍣3⊢list←⊂'Yes'\n",
    "list"
   ]
  },
  {
   "cell_type": "markdown",
   "id": "b4a424ea",
   "metadata": {},
   "source": [
    "The problem here is that the argument and all results must be scalar. Observe: "
   ]
  },
  {
   "cell_type": "code",
   "execution_count": 10,
   "id": "9e455ea1",
   "metadata": {},
   "outputs": [
    {
     "data": {
      "text/html": [
       "<span style=\"white-space:pre; font-family: monospace\">320 352\n",
       "</span>"
      ]
     },
     "execution_count": 10,
     "metadata": {},
     "output_type": "execute_result"
    },
    {
     "data": {
      "text/html": [
       "<span style=\"white-space:pre; font-family: monospace\">10 11 20 22 40 44 80 88 160 176 320 352\n",
       "</span>"
      ]
     },
     "execution_count": 10,
     "metadata": {},
     "output_type": "execute_result"
    }
   ],
   "source": [
    "⎕←2{list,←⍺×⍵}⍣5⊢list←10 11\n",
    "list"
   ]
  },
  {
   "cell_type": "markdown",
   "id": "43e5d117",
   "metadata": {},
   "source": [
    "We can resolve this by either disclosing it after the concatenation `{⊃list,←⊂⍺×⍵}` or use a \"concatenate-the-enclosed\" function for the modified assignment: "
   ]
  },
  {
   "cell_type": "code",
   "execution_count": 11,
   "id": "ccaae8bf",
   "metadata": {},
   "outputs": [
    {
     "data": {
      "text/html": [
       "<span style=\"white-space:pre; font-family: monospace\">320 352\n",
       "</span>"
      ]
     },
     "execution_count": 11,
     "metadata": {},
     "output_type": "execute_result"
    },
    {
     "data": {
      "text/html": [
       "<span style=\"white-space:pre; font-family: monospace\">┌─────┬─────┬─────┬─────┬───────┬───────┐\n",
       "│10 11│20 22│40 44│80 88│160 176│320 352│\n",
       "└─────┴─────┴─────┴─────┴───────┴───────┘\n",
       "</span>"
      ]
     },
     "execution_count": 11,
     "metadata": {},
     "output_type": "execute_result"
    }
   ],
   "source": [
    "⎕←2{list,∘⊂←⍺×⍵}⍣5⊃list←⊂10 11\n",
    "list"
   ]
  },
  {
   "cell_type": "markdown",
   "id": "a9733750",
   "metadata": {},
   "source": [
    "Now we can write an operator that works like `⍣` but returns all the intermediaries:"
   ]
  },
  {
   "cell_type": "code",
   "execution_count": 12,
   "id": "65d01724",
   "metadata": {},
   "outputs": [
    {
     "data": {
      "text/html": [
       "<span style=\"white-space:pre; font-family: monospace\">┌─────┬─────┬─────┬─────┬───────┬───────┐\n",
       "│10 11│20 22│40 44│80 88│160 176│320 352│\n",
       "└─────┴─────┴─────┴─────┴───────┴───────┘\n",
       "</span>"
      ]
     },
     "execution_count": 12,
     "metadata": {},
     "output_type": "execute_result"
    }
   ],
   "source": [
    "Pow←{⍺←⊢ ⋄ r⊣⍺ ⍺⍺{r,∘⊂←⍺ ⍺⍺ ⍵}⍣⍵⍵⊃r←⊂⍵}\n",
    "2×Pow 5⊢10 11"
   ]
  },
  {
   "cell_type": "markdown",
   "id": "35973b8b",
   "metadata": {},
   "source": [
    "Going back to `2{list,∘⊂←⍺×⍵}⍣5⊃list←⊂10 11`, let's study that in more detail. First we add the original input as a scalar: `list←⊂10 11`. However, later, with `list,∘⊂←` we only use the enclose as part of the amendment of list. The pass-through of an assignment is always whatever is on the right of `←`, which is why we don't need to disclose. We could have written `⊃list,←⊂`, too. \n",
    "\n",
    "In the operator version, the first thing is `⍺←⊢`. In a dfn and dop, this is a special statement which is only executed if the function is called monadically:"
   ]
  },
  {
   "cell_type": "code",
   "execution_count": 13,
   "id": "ebcdcc9a",
   "metadata": {},
   "outputs": [
    {
     "data": {
      "text/html": [
       "<span style=\"white-space:pre; font-family: monospace\">hello\n",
       "┌─────┬─────┐\n",
       "│hello│world│\n",
       "└─────┴─────┘\n",
       "</span>"
      ]
     },
     "execution_count": 13,
     "metadata": {},
     "output_type": "execute_result"
    },
    {
     "data": {
      "text/html": [
       "<span style=\"white-space:pre; font-family: monospace\">┌──┬─────┐\n",
       "│hi│world│\n",
       "└──┴─────┘\n",
       "</span>"
      ]
     },
     "execution_count": 13,
     "metadata": {},
     "output_type": "execute_result"
    }
   ],
   "source": [
    "{⍺←⎕←'hello' ⋄ ⍺ ⍵}'world'\n",
    "'hi'{⍺←⎕←'hello' ⋄ ⍺ ⍵}'world'"
   ]
  },
  {
   "cell_type": "markdown",
   "id": "e43d59b5",
   "metadata": {},
   "source": [
    "Note that the side effect of printing 'hello' only happened in the monadic case. \n",
    "\n",
    "`⍺←⊢` literally assigns the function `⊢` to `⍺`. So, while normally `⍺` and `⍵` are arrays, `⍺` can be a function in this special case. It works with any function, not just `⊢`, too:"
   ]
  },
  {
   "cell_type": "code",
   "execution_count": 14,
   "id": "fd470d3b",
   "metadata": {},
   "outputs": [
    {
     "data": {
      "text/html": [
       "<span style=\"white-space:pre; font-family: monospace\">24\n",
       "</span>"
      ]
     },
     "execution_count": 14,
     "metadata": {},
     "output_type": "execute_result"
    },
    {
     "data": {
      "text/html": [
       "<span style=\"white-space:pre; font-family: monospace\">6\n",
       "</span>"
      ]
     },
     "execution_count": 14,
     "metadata": {},
     "output_type": "execute_result"
    }
   ],
   "source": [
    "{⍺←! ⋄ ⍺+⍵}4   ⍝ works with any function!\n",
    "2{⍺←! ⋄ ⍺+⍵}4"
   ]
  },
  {
   "cell_type": "markdown",
   "id": "89e1b259",
   "metadata": {},
   "source": [
    "This is a convenient way to write ambivalent functions. The inner function is simply the expression we came up with before: `{r,∘⊂←⍺ ⍺⍺ ⍵}⍣⍵⍵`. However, since the function we're actually applying doesn't have a name, we have to pass it in as `⍺⍺`, so the operand to `⍣` is actually another operator. That's why it has the `⍺⍺` of the outer operator on its left, to pass in the function: "
   ]
  },
  {
   "cell_type": "code",
   "execution_count": 15,
   "id": "a03f7719",
   "metadata": {},
   "outputs": [],
   "source": [
    "Pow←{⍺←⊢ ⋄ r⊣⍺ ⍺⍺{r,∘⊂←⍺ ⍺⍺ ⍵}⍣⍵⍵⊃r←⊂⍵}"
   ]
  },
  {
   "cell_type": "markdown",
   "id": "81c03026",
   "metadata": {},
   "source": [
    "We could also have named it, and used the name:"
   ]
  },
  {
   "cell_type": "code",
   "execution_count": 17,
   "id": "51316570",
   "metadata": {},
   "outputs": [
    {
     "data": {
      "text/html": [
       "<span style=\"white-space:pre; font-family: monospace\">┌─────┬─────┬─────┬─────┬───────┬───────┐\n",
       "│10 11│20 22│40 44│80 88│160 176│320 352│\n",
       "└─────┴─────┴─────┴─────┴───────┴───────┘\n",
       "</span>"
      ]
     },
     "execution_count": 17,
     "metadata": {},
     "output_type": "execute_result"
    }
   ],
   "source": [
    "Pow2←{⍺←⊢ ⋄ f←⍺⍺ ⋄ r⊣⍺ {r,∘⊂←⍺ f ⍵}⍣⍵⍵⊃r←⊂⍵}\n",
    "2×Pow2 5⊢10 11"
   ]
  },
  {
   "cell_type": "markdown",
   "id": "dd3bf20e",
   "metadata": {},
   "source": [
    "A couple of more things worth mentioning about `⍣k`. The inverse `⍣¯1` is quite nifty, and can make things easy that are otherwise complicated. Maybe the most well-known example is `⊥⍣¯1`. The problem is that to convert a number to a given base, `⊤` requires you to tell it how many digits in that base you want. For example,"
   ]
  },
  {
   "cell_type": "code",
   "execution_count": 18,
   "id": "c692eac2",
   "metadata": {},
   "outputs": [
    {
     "data": {
      "text/html": [
       "<span style=\"white-space:pre; font-family: monospace\">0 0 1 0 1 0\n",
       "</span>"
      ]
     },
     "execution_count": 18,
     "metadata": {},
     "output_type": "execute_result"
    }
   ],
   "source": [
    "2 2 2 2 2 2⊤10 ⍝ 10 in 6-bit binary"
   ]
  },
  {
   "cell_type": "markdown",
   "id": "5dd8aa1e",
   "metadata": {},
   "source": [
    "However, the other way, `⊥` just reuses a single base for all digits: "
   ]
  },
  {
   "cell_type": "code",
   "execution_count": 19,
   "id": "64d9c055",
   "metadata": {},
   "outputs": [
    {
     "data": {
      "text/html": [
       "<span style=\"white-space:pre; font-family: monospace\">10\n",
       "</span>"
      ]
     },
     "execution_count": 19,
     "metadata": {},
     "output_type": "execute_result"
    }
   ],
   "source": [
    "2⊥0 0 1 0 1 0"
   ]
  },
  {
   "cell_type": "markdown",
   "id": "b5a57ab9",
   "metadata": {},
   "source": [
    "This means that the _inverse_ of `⊥` also reuses a single base for \"all\" digits (that is, as many as needed): "
   ]
  },
  {
   "cell_type": "code",
   "execution_count": 20,
   "id": "7d6d8c9d",
   "metadata": {},
   "outputs": [
    {
     "data": {
      "text/html": [
       "<span style=\"white-space:pre; font-family: monospace\">1 0 1 0\n",
       "</span>"
      ]
     },
     "execution_count": 20,
     "metadata": {},
     "output_type": "execute_result"
    }
   ],
   "source": [
    "2⊥⍣¯1⊢10"
   ]
  },
  {
   "cell_type": "markdown",
   "id": "b3a1df84",
   "metadata": {},
   "source": [
    "`⍣` can also invert non-trivial functions:"
   ]
  },
  {
   "cell_type": "code",
   "execution_count": 22,
   "id": "940bf42a",
   "metadata": {},
   "outputs": [
    {
     "data": {
      "text/html": [
       "<span style=\"white-space:pre; font-family: monospace\">68\n",
       "</span>"
      ]
     },
     "execution_count": 22,
     "metadata": {},
     "output_type": "execute_result"
    },
    {
     "data": {
      "text/html": [
       "<span style=\"white-space:pre; font-family: monospace\">20\n",
       "</span>"
      ]
     },
     "execution_count": 22,
     "metadata": {},
     "output_type": "execute_result"
    }
   ],
   "source": [
    "celsius2farenheit←32+1.8∘×\n",
    "celsius2farenheit 20\n",
    "celsius2farenheit⍣¯1⊢ 68"
   ]
  },
  {
   "cell_type": "markdown",
   "id": "eb6001e2",
   "metadata": {},
   "source": [
    "It also works with non-numeric things: "
   ]
  },
  {
   "cell_type": "code",
   "execution_count": 23,
   "id": "2b9c4970",
   "metadata": {},
   "outputs": [
    {
     "data": {
      "text/html": [
       "<span style=\"white-space:pre; font-family: monospace\">aaa\n",
       "</span>"
      ]
     },
     "execution_count": 23,
     "metadata": {},
     "output_type": "execute_result"
    }
   ],
   "source": [
    "'a',⍣¯2⊢'aaaaa'"
   ]
  },
  {
   "cell_type": "markdown",
   "id": "d4dc276a",
   "metadata": {},
   "source": [
    "Here, we did the inverse of prepending \"a\" twice. That is, we removed two \"a\"s. If we try to give it something that doesn't begin with two \"a\"s, we get an error:"
   ]
  },
  {
   "cell_type": "code",
   "execution_count": 25,
   "id": "714d803a",
   "metadata": {},
   "outputs": [
    {
     "name": "stderr",
     "output_type": "stream",
     "text": [
      "DOMAIN ERROR\n",
      "      'a',⍣¯2⊢'abaaa'  ⍝ DOMAIN ERROR\n",
      "         ∧\n"
     ]
    }
   ],
   "source": [
    "'a',⍣¯2⊢'abaaa'  ⍝ DOMAIN ERROR"
   ]
  },
  {
   "cell_type": "markdown",
   "id": "a845f4ec",
   "metadata": {},
   "source": [
    "Finally, let's introduce the concept of \"Under\". Sometimes, we want to perform an action while the subject of that action is in a temporary state maintained for the duration of the action. For example, we perform surgery under anaesthesia, and drive under the influence (don't!). `⍣` can make this very readable by defining the temporary action as an invertible function: `Temp⍣¯1⊢Main Temp argument`. We can define such an operator: "
   ]
  },
  {
   "cell_type": "code",
   "execution_count": 26,
   "id": "fb85beba",
   "metadata": {},
   "outputs": [
    {
     "data": {
      "text/html": [
       "<span style=\"white-space:pre; font-family: monospace\">12\n",
       "</span>"
      ]
     },
     "execution_count": 26,
     "metadata": {},
     "output_type": "execute_result"
    }
   ],
   "source": [
    "Under←{⍵⍵⍣¯1 ⍺⍺ ⍵⍵ ⍵}\n",
    "+/Under⍟3 4 ⍝ multiplication is summation under logarithm"
   ]
  },
  {
   "cell_type": "markdown",
   "id": "d11ef29d",
   "metadata": {},
   "source": [
    "If you know the `@` operator, it can be used in combination: "
   ]
  },
  {
   "cell_type": "code",
   "execution_count": 27,
   "id": "8c6d5885",
   "metadata": {},
   "outputs": [
    {
     "data": {
      "text/html": [
       "<span style=\"white-space:pre; font-family: monospace\">h_llo\n",
       "</span>"
      ]
     },
     "execution_count": 27,
     "metadata": {},
     "output_type": "execute_result"
    }
   ],
   "source": [
    "'_'@2⊢'hello' ⍝ put an underscore *at* position 2"
   ]
  },
  {
   "cell_type": "code",
   "execution_count": 28,
   "id": "673d18eb",
   "metadata": {},
   "outputs": [
    {
     "data": {
      "text/html": [
       "<span style=\"white-space:pre; font-family: monospace\">hel_o\n",
       "</span>"
      ]
     },
     "execution_count": 28,
     "metadata": {},
     "output_type": "execute_result"
    }
   ],
   "source": [
    "'_'@2Under⌽'hello' ⍝ put an underscore *at* position 2 while reversed, that is, 2nd last"
   ]
  },
  {
   "cell_type": "code",
   "execution_count": null,
   "id": "8023b3f7",
   "metadata": {},
   "outputs": [],
   "source": []
  }
 ],
 "metadata": {
  "kernelspec": {
   "display_name": "Dyalog APL",
   "language": "apl",
   "name": "dyalog-kernel"
  },
  "language_info": {
   "file_extension": ".apl",
   "mimetype": "text/apl",
   "name": "APL"
  }
 },
 "nbformat": 4,
 "nbformat_minor": 5
}

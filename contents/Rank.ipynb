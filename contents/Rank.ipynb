{
 "cells": [
  {
   "cell_type": "markdown",
   "id": "70d3aaef",
   "metadata": {},
   "source": [
    "# Rank in depth `⍤`\n",
    "\n",
    "Rank, `⍤`, is a dyadic operator which takes a function on its left, and on the right it takes a specification of which sub-arrays we want to apply that function to.\n",
    "\n",
    "Simple usage of `⍤` is specifying which rank subcells we want a function to apply to, and for dyadic usage, which subcells of the left argument should be paired up with which subcells of the right argument. Let's say we have the vector `'ab'` and the matrix `3 4⍴⍳12`.  We want to prepend 'ab' only the beginning of every row in the matrix: "
   ]
  },
  {
   "cell_type": "code",
   "execution_count": 1,
   "id": "c4b55897",
   "metadata": {},
   "outputs": [
    {
     "data": {
      "text/html": [
       "<span style=\"white-space:pre; font-family: monospace\">ab 1  2  3  4\n",
       "ab 5  6  7  8\n",
       "ab 9 10 11 12\n",
       "</span>"
      ]
     },
     "execution_count": 1,
     "metadata": {},
     "output_type": "execute_result"
    }
   ],
   "source": [
    "(3 2⍴'ab'),(3 4⍴⍳12)"
   ]
  },
  {
   "cell_type": "markdown",
   "id": "380b7e0a",
   "metadata": {},
   "source": [
    "But here, we did so by reshaping `'ab'` until it became big enough to cover all rows. How do we do this _without_ reshaping `'ab'`, just using `⍤`? "
   ]
  },
  {
   "cell_type": "code",
   "execution_count": 2,
   "id": "87bfab2b",
   "metadata": {},
   "outputs": [
    {
     "data": {
      "text/html": [
       "<span style=\"white-space:pre; font-family: monospace\">ab 1  2  3  4\n",
       "ab 5  6  7  8\n",
       "ab 9 10 11 12\n",
       "</span>"
      ]
     },
     "execution_count": 2,
     "metadata": {},
     "output_type": "execute_result"
    }
   ],
   "source": [
    "'ab',⍤1⊢3 4⍴⍳12"
   ]
  },
  {
   "cell_type": "markdown",
   "id": "877c07ab",
   "metadata": {},
   "source": [
    "Here we treat `'ab'` as a cell and prepend it to every row of `3 4⍴⍳12`. Let's say instead we have a 3D array, and we want to put a single character from `'ab'` on each row: "
   ]
  },
  {
   "cell_type": "code",
   "execution_count": 3,
   "id": "2d6ecb95",
   "metadata": {},
   "outputs": [
    {
     "data": {
      "text/html": [
       "<span style=\"white-space:pre; font-family: monospace\"> 1  2  3  4\n",
       " 5  6  7  8\n",
       "\n",
       " 9 10 11 12\n",
       "13 14 15 16\n",
       "</span>"
      ]
     },
     "execution_count": 3,
     "metadata": {},
     "output_type": "execute_result"
    },
    {
     "data": {
      "text/html": [
       "<span style=\"white-space:pre; font-family: monospace\">a  1  2  3  4\n",
       "b  5  6  7  8\n",
       "\n",
       "a  9 10 11 12\n",
       "b 13 14 15 16\n",
       "</span>"
      ]
     },
     "execution_count": 3,
     "metadata": {},
     "output_type": "execute_result"
    }
   ],
   "source": [
    "⊢arr←2 2 4⍴⍳16\n",
    "(2 2⍴'ab'),arr"
   ]
  },
  {
   "cell_type": "markdown",
   "id": "08abf6e5",
   "metadata": {},
   "source": [
    "We can also do the same with rank, pairing up `'ab'` with a _matrix_, not a row. When we concatenate a vector with a matrix, the vector becomes a new column:"
   ]
  },
  {
   "cell_type": "code",
   "execution_count": 5,
   "id": "03d19bc0",
   "metadata": {},
   "outputs": [
    {
     "data": {
      "text/html": [
       "<span style=\"white-space:pre; font-family: monospace\">a  1  2  3  4\n",
       "b  5  6  7  8\n",
       "\n",
       "a  9 10 11 12\n",
       "b 13 14 15 16\n",
       "</span>"
      ]
     },
     "execution_count": 5,
     "metadata": {},
     "output_type": "execute_result"
    }
   ],
   "source": [
    "'ab',⍤2⊢2 2 4⍴⍳16"
   ]
  },
  {
   "cell_type": "markdown",
   "id": "5f587896",
   "metadata": {},
   "source": [
    "Now consider `'ABCD'` and the following matrix: "
   ]
  },
  {
   "cell_type": "code",
   "execution_count": 14,
   "id": "c00b74bf",
   "metadata": {},
   "outputs": [
    {
     "data": {
      "text/html": [
       "<span style=\"white-space:pre; font-family: monospace\">┌→──────┐\n",
       "↓1 2 3 4│\n",
       "│5 6 7 8│\n",
       "└~──────┘\n",
       "</span>"
      ]
     },
     "execution_count": 14,
     "metadata": {},
     "output_type": "execute_result"
    }
   ],
   "source": [
    "2 4⍴⍳8"
   ]
  },
  {
   "cell_type": "markdown",
   "id": "7b4c3094",
   "metadata": {},
   "source": [
    "We want to produce the following, "
   ]
  },
  {
   "cell_type": "code",
   "execution_count": 15,
   "id": "37e23d73",
   "metadata": {},
   "outputs": [
    {
     "data": {
      "text/html": [
       "<span style=\"white-space:pre; font-family: monospace\">┌┌→──┐\n",
       "↓↓A 1│\n",
       "││B 2│\n",
       "││C 3│\n",
       "││D 4│\n",
       "││   │\n",
       "││A 5│\n",
       "││B 6│\n",
       "││C 7│\n",
       "││D 8│\n",
       "└└+──┘\n",
       "</span>"
      ]
     },
     "execution_count": 15,
     "metadata": {},
     "output_type": "execute_result"
    }
   ],
   "source": [
    "2 4 2⍴'A'1'B'2'C'3'D'4'A'5'B'6'C'7'D'8"
   ]
  },
  {
   "cell_type": "markdown",
   "id": "4044d4b8",
   "metadata": {},
   "source": [
    "We can see that each layer is each letter of the character vector paired up with each digit, each row in turn. \n",
    "So, for the first row of the matrix, we want: "
   ]
  },
  {
   "cell_type": "code",
   "execution_count": 24,
   "id": "8fbacadd",
   "metadata": {},
   "outputs": [
    {
     "data": {
      "text/html": [
       "<span style=\"white-space:pre; font-family: monospace\">┌→──┐\n",
       "↓A 1│\n",
       "│B 2│\n",
       "│C 3│\n",
       "│D 4│\n",
       "└+──┘\n",
       "</span>"
      ]
     },
     "execution_count": 24,
     "metadata": {},
     "output_type": "execute_result"
    }
   ],
   "source": [
    "'ABCD',⍤0⊢1 2 3 4"
   ]
  },
  {
   "cell_type": "markdown",
   "id": "4db8d3d2",
   "metadata": {},
   "source": [
    "We now want to apply this process for each of the rows. \"For each row\" is just `⍤1`, and, yes, we can \"stack\" ranks:"
   ]
  },
  {
   "cell_type": "code",
   "execution_count": 25,
   "id": "27633d55",
   "metadata": {},
   "outputs": [
    {
     "data": {
      "text/html": [
       "<span style=\"white-space:pre; font-family: monospace\">┌┌→──┐\n",
       "↓↓A 1│\n",
       "││B 2│\n",
       "││C 3│\n",
       "││D 4│\n",
       "││   │\n",
       "││A 5│\n",
       "││B 6│\n",
       "││C 7│\n",
       "││D 8│\n",
       "└└+──┘\n",
       "</span>"
      ]
     },
     "execution_count": 25,
     "metadata": {},
     "output_type": "execute_result"
    }
   ],
   "source": [
    "'ABCD',⍤0⍤1⊢2 4⍴⍳8 "
   ]
  },
  {
   "cell_type": "markdown",
   "id": "9c6d16b8",
   "metadata": {},
   "source": [
    "Here is another example. Let's say we're constructing a lunch menu card. We have three \"fillings\" and four \"containers\". We want to pair up all combinations of fillings and containers, thereby adding a trailing axis of length 2, so we get a rank 3 result: "
   ]
  },
  {
   "cell_type": "code",
   "execution_count": 26,
   "id": "e9d61ae2",
   "metadata": {},
   "outputs": [
    {
     "data": {
      "text/html": [
       "<span style=\"white-space:pre; font-family: monospace\">┌┌→────────────────────┐\n",
       "↓↓ ┌→───┐   ┌→───────┐ │\n",
       "││ │beef│   │sandwich│ │\n",
       "││ └────┘   └────────┘ │\n",
       "││ ┌→───┐   ┌→──────┐  │\n",
       "││ │beef│   │patties│  │\n",
       "││ └────┘   └───────┘  │\n",
       "││ ┌→───┐   ┌→──────┐  │\n",
       "││ │beef│   │platter│  │\n",
       "││ └────┘   └───────┘  │\n",
       "││ ┌→───┐   ┌→───┐     │\n",
       "││ │beef│   │wrap│     │\n",
       "││ └────┘   └────┘     │\n",
       "││                     │\n",
       "││ ┌→───┐   ┌→───────┐ │\n",
       "││ │fish│   │sandwich│ │\n",
       "││ └────┘   └────────┘ │\n",
       "││ ┌→───┐   ┌→──────┐  │\n",
       "││ │fish│   │patties│  │\n",
       "││ └────┘   └───────┘  │\n",
       "││ ┌→───┐   ┌→──────┐  │\n",
       "││ │fish│   │platter│  │\n",
       "││ └────┘   └───────┘  │\n",
       "││ ┌→───┐   ┌→───┐     │\n",
       "││ │fish│   │wrap│     │\n",
       "││ └────┘   └────┘     │\n",
       "││                     │\n",
       "││ ┌→─────┐ ┌→───────┐ │\n",
       "││ │veggie│ │sandwich│ │\n",
       "││ └──────┘ └────────┘ │\n",
       "││ ┌→─────┐ ┌→──────┐  │\n",
       "││ │veggie│ │patties│  │\n",
       "││ └──────┘ └───────┘  │\n",
       "││ ┌→─────┐ ┌→──────┐  │\n",
       "││ │veggie│ │platter│  │\n",
       "││ └──────┘ └───────┘  │\n",
       "││ ┌→─────┐ ┌→───┐     │\n",
       "││ │veggie│ │wrap│     │\n",
       "││ └──────┘ └────┘     │\n",
       "└└∊────────────────────┘\n",
       "</span>"
      ]
     },
     "execution_count": 26,
     "metadata": {},
     "output_type": "execute_result"
    }
   ],
   "source": [
    "↑'beef' 'fish' 'veggie'∘.{⍺⍵}'sandwich' 'patties' 'platter' 'wrap'"
   ]
  },
  {
   "cell_type": "markdown",
   "id": "56ea86cd",
   "metadata": {},
   "source": [
    "Following the reasoning above, we can achieve the same thing with rank, using:"
   ]
  },
  {
   "cell_type": "code",
   "execution_count": 27,
   "id": "01cf187b",
   "metadata": {},
   "outputs": [
    {
     "data": {
      "text/html": [
       "<span style=\"white-space:pre; font-family: monospace\">┌┌→────────────────────┐\n",
       "↓↓ ┌→───┐   ┌→───────┐ │\n",
       "││ │beef│   │sandwich│ │\n",
       "││ └────┘   └────────┘ │\n",
       "││ ┌→───┐   ┌→──────┐  │\n",
       "││ │beef│   │patties│  │\n",
       "││ └────┘   └───────┘  │\n",
       "││ ┌→───┐   ┌→──────┐  │\n",
       "││ │beef│   │platter│  │\n",
       "││ └────┘   └───────┘  │\n",
       "││ ┌→───┐   ┌→───┐     │\n",
       "││ │beef│   │wrap│     │\n",
       "││ └────┘   └────┘     │\n",
       "││                     │\n",
       "││ ┌→───┐   ┌→───────┐ │\n",
       "││ │fish│   │sandwich│ │\n",
       "││ └────┘   └────────┘ │\n",
       "││ ┌→───┐   ┌→──────┐  │\n",
       "││ │fish│   │patties│  │\n",
       "││ └────┘   └───────┘  │\n",
       "││ ┌→───┐   ┌→──────┐  │\n",
       "││ │fish│   │platter│  │\n",
       "││ └────┘   └───────┘  │\n",
       "││ ┌→───┐   ┌→───┐     │\n",
       "││ │fish│   │wrap│     │\n",
       "││ └────┘   └────┘     │\n",
       "││                     │\n",
       "││ ┌→─────┐ ┌→───────┐ │\n",
       "││ │veggie│ │sandwich│ │\n",
       "││ └──────┘ └────────┘ │\n",
       "││ ┌→─────┐ ┌→──────┐  │\n",
       "││ │veggie│ │patties│  │\n",
       "││ └──────┘ └───────┘  │\n",
       "││ ┌→─────┐ ┌→──────┐  │\n",
       "││ │veggie│ │platter│  │\n",
       "││ └──────┘ └───────┘  │\n",
       "││ ┌→─────┐ ┌→───┐     │\n",
       "││ │veggie│ │wrap│     │\n",
       "││ └──────┘ └────┘     │\n",
       "└└∊────────────────────┘\n",
       "</span>"
      ]
     },
     "execution_count": 27,
     "metadata": {},
     "output_type": "execute_result"
    }
   ],
   "source": [
    "'beef' 'fish' 'veggie',⍤0⍤0 1⊢'sandwich' 'patties' 'platter' 'wrap' "
   ]
  },
  {
   "cell_type": "markdown",
   "id": "9e8dfe74",
   "metadata": {},
   "source": [
    "We take each single item from the left argument, and whole right argument, which is `⍤0 1`, and then each single left, with each single right, which is `⍤0 0` (or just `⍤0`). The inner application is the single-single, so it needs to be closest to the function `,`. \n",
    "\n",
    "Also, remember that `⍤` will not open your enclosures. It always operates on the elements of your arrays. \n",
    "\n",
    "Time for another example. How can we swap the arguments to outer product just using rank (so no `⍨` or `⍉`)? In other words, go from this:"
   ]
  },
  {
   "cell_type": "code",
   "execution_count": 33,
   "id": "e9c8fd2d",
   "metadata": {},
   "outputs": [
    {
     "data": {
      "text/html": [
       "<span style=\"white-space:pre; font-family: monospace\">┌→──────────┐\n",
       "↓1 2 3  4  5│\n",
       "│2 4 6  8 10│\n",
       "│3 6 9 12 15│\n",
       "└~──────────┘\n",
       "</span>"
      ]
     },
     "execution_count": 33,
     "metadata": {},
     "output_type": "execute_result"
    }
   ],
   "source": [
    "1 2 3∘.×1 2 3 4 5"
   ]
  },
  {
   "cell_type": "markdown",
   "id": "99fda3ed",
   "metadata": {},
   "source": [
    "to this:"
   ]
  },
  {
   "cell_type": "code",
   "execution_count": 34,
   "id": "6b73dd54",
   "metadata": {},
   "outputs": [
    {
     "data": {
      "text/html": [
       "<span style=\"white-space:pre; font-family: monospace\">┌→──────┐\n",
       "↓1  2  3│\n",
       "│2  4  6│\n",
       "│3  6  9│\n",
       "│4  8 12│\n",
       "│5 10 15│\n",
       "└~──────┘\n",
       "</span>"
      ]
     },
     "execution_count": 34,
     "metadata": {},
     "output_type": "execute_result"
    }
   ],
   "source": [
    "1 2 3 4 5∘.×1 2 3"
   ]
  },
  {
   "cell_type": "markdown",
   "id": "c8cd64d5",
   "metadata": {},
   "source": [
    "The first thing to note is that we can express the starting product as \"each element to the left times the whole thing on the right\":"
   ]
  },
  {
   "cell_type": "code",
   "execution_count": 39,
   "id": "652dc538",
   "metadata": {},
   "outputs": [
    {
     "data": {
      "text/html": [
       "<span style=\"white-space:pre; font-family: monospace\">┌→──────────┐\n",
       "↓1 2 3  4  5│\n",
       "│2 4 6  8 10│\n",
       "│3 6 9 12 15│\n",
       "└~──────────┘\n",
       "</span>"
      ]
     },
     "execution_count": 39,
     "metadata": {},
     "output_type": "execute_result"
    }
   ],
   "source": [
    "1 2 3×⍤0 1⊢1 2 3 4 5"
   ]
  },
  {
   "cell_type": "markdown",
   "id": "b16b7c97",
   "metadata": {},
   "source": [
    "The reversed argument order then becomes \"the whole thing on the left times each element to the right\", or simply the reversed rank:"
   ]
  },
  {
   "cell_type": "code",
   "execution_count": 40,
   "id": "cfb3c577",
   "metadata": {},
   "outputs": [
    {
     "data": {
      "text/html": [
       "<span style=\"white-space:pre; font-family: monospace\">┌→──────┐\n",
       "↓1  2  3│\n",
       "│2  4  6│\n",
       "│3  6  9│\n",
       "│4  8 12│\n",
       "│5 10 15│\n",
       "└~──────┘\n",
       "</span>"
      ]
     },
     "execution_count": 40,
     "metadata": {},
     "output_type": "execute_result"
    }
   ],
   "source": [
    "1 2 3×⍤1 0⊢1 2 3 4 5"
   ]
  },
  {
   "cell_type": "markdown",
   "id": "61d120e1",
   "metadata": {},
   "source": [
    "A really useful function (let's call it \"Sane Indexing\" or \"Select\") is to select the major cells of the right argument as indexed by the left argument. For example, `2 3 1 2 Select 'abcdef'` would give `'bcab'`. Squad indexing, `⌷`, only lets you choose a _single_ major cell. Can we define `Select` in terms of `⌷` with the help or rank? We need to pair each element from the left argument with the whole of the right argument, whatever rank it may be:"
   ]
  },
  {
   "cell_type": "code",
   "execution_count": 44,
   "id": "a576d136",
   "metadata": {},
   "outputs": [],
   "source": [
    "Select←⌷⍤0 99"
   ]
  },
  {
   "cell_type": "code",
   "execution_count": 45,
   "id": "12522b77",
   "metadata": {},
   "outputs": [
    {
     "data": {
      "text/html": [
       "<span style=\"white-space:pre; font-family: monospace\">┌→───┐\n",
       "│bcab│\n",
       "└────┘\n",
       "</span>"
      ]
     },
     "execution_count": 45,
     "metadata": {},
     "output_type": "execute_result"
    }
   ],
   "source": [
    "2 3 1 2 Select 'abcdef'"
   ]
  },
  {
   "cell_type": "markdown",
   "id": "92a99cee",
   "metadata": {},
   "source": [
    "We could, in fact, have used any number greater than Dyalog's max rank (15) to represent the full rank of the argument, but 99 has come to be used for this purpose.  It is actually fairly common to want the target rank to be dependent on the argument rank. For that purpose, `⍤` allows you to specify a negative number, which means that the target rank is that number subtracted from the argument rank. So `f⍤¯1 ¯2` is the same as \n",
    "\n",
    "```apl\n",
    "{⍺ f⍤(¯1+≢⍴⍺)(¯2+≢⍴⍵)⊢⍵}\n",
    "```\n",
    "You can also mix-and-match positive and negative ranks."
   ]
  },
  {
   "cell_type": "code",
   "execution_count": null,
   "id": "fac059c8",
   "metadata": {},
   "outputs": [],
   "source": []
  }
 ],
 "metadata": {
  "kernelspec": {
   "display_name": "Dyalog APL",
   "language": "apl",
   "name": "dyalog-kernel"
  },
  "language_info": {
   "file_extension": ".apl",
   "mimetype": "text/apl",
   "name": "APL"
  }
 },
 "nbformat": 4,
 "nbformat_minor": 5
}

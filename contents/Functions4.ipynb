{
 "cells": [
  {
   "cell_type": "markdown",
   "id": "e09a7706",
   "metadata": {},
   "source": [
    "# `∨∧⍱⍲↑↓`\n",
    "## OR, GCD `∨`\n",
    "\n",
    "`∨` is logical [OR](http://help.dyalog.com/latest/index.htm#Language/Primitive%20Functions/Or%20Greatest%20Common%20Divisor.htm), and it is Greatest Common Divisor for for other numbers (which happens to fit with _OR_ for 0s and 1s):"
   ]
  },
  {
   "cell_type": "code",
   "execution_count": 1,
   "id": "9433fa37",
   "metadata": {},
   "outputs": [
    {
     "data": {
      "text/html": [
       "<span style=\"white-space:pre; font-family: monospace\">0 1 1 1\n",
       "</span>"
      ]
     },
     "execution_count": 1,
     "metadata": {},
     "output_type": "execute_result"
    },
    {
     "data": {
      "text/html": [
       "<span style=\"white-space:pre; font-family: monospace\">5 1 2 7\n",
       "</span>"
      ]
     },
     "execution_count": 1,
     "metadata": {},
     "output_type": "execute_result"
    }
   ],
   "source": [
    "0 1 0 1 ∨ 0 0 1 1    ⍝ logical OR\n",
    "15 1 2 7 ∨ 35 1 4 0  ⍝ GCD"
   ]
  },
  {
   "cell_type": "markdown",
   "id": "54ebc28a",
   "metadata": {},
   "source": [
    "## AND, LCD `∧`\n",
    "\n",
    "`∧` is logical [AND](http://help.dyalog.com/latest/index.htm#Language/Primitive%20Functions/And%20Lowest%20Common%20Multiple.htm), and it is Lowest Common Multiple for for other numbers (which happens to fit with _AND_ for 0s and 1s):"
   ]
  },
  {
   "cell_type": "code",
   "execution_count": 2,
   "id": "b496d727",
   "metadata": {},
   "outputs": [
    {
     "data": {
      "text/html": [
       "<span style=\"white-space:pre; font-family: monospace\">0 0 0 1\n",
       "</span>"
      ]
     },
     "execution_count": 2,
     "metadata": {},
     "output_type": "execute_result"
    },
    {
     "data": {
      "text/html": [
       "<span style=\"white-space:pre; font-family: monospace\">105 1 4 0\n",
       "</span>"
      ]
     },
     "execution_count": 2,
     "metadata": {},
     "output_type": "execute_result"
    }
   ],
   "source": [
    "0 1 0 1 ∧ 0 0 1 1     ⍝ logical AND\n",
    "15 1 2 7 ∧ 35 1 4 0   ⍝ LCM"
   ]
  },
  {
   "cell_type": "markdown",
   "id": "e6773f96",
   "metadata": {},
   "source": [
    "## NOR, NAND `⍱⍲`\n",
    "\n",
    "`⍱` is [NOR](http://help.dyalog.com/latest/index.htm#Language/Primitive%20Functions/Nor.htm), and `⍲` is [NAND](http://help.dyalog.com/latest/index.htm#Language/Primitive%20Functions/Nand.htm). They only work on Booleans (arrays with nothing but 1s and 0s). Note that you can use `≠` as _XOR_ and `=` as _XNOR_ (and you can use `≤` as logical implication. Similarly for the other comparisons.) "
   ]
  },
  {
   "cell_type": "code",
   "execution_count": 3,
   "id": "333d6b53",
   "metadata": {},
   "outputs": [
    {
     "data": {
      "text/html": [
       "<span style=\"white-space:pre; font-family: monospace\">1 0 0 0\n",
       "</span>"
      ]
     },
     "execution_count": 3,
     "metadata": {},
     "output_type": "execute_result"
    },
    {
     "data": {
      "text/html": [
       "<span style=\"white-space:pre; font-family: monospace\">0 1 1 0\n",
       "</span>"
      ]
     },
     "execution_count": 3,
     "metadata": {},
     "output_type": "execute_result"
    },
    {
     "data": {
      "text/html": [
       "<span style=\"white-space:pre; font-family: monospace\">1 0 0 1\n",
       "</span>"
      ]
     },
     "execution_count": 3,
     "metadata": {},
     "output_type": "execute_result"
    },
    {
     "data": {
      "text/html": [
       "<span style=\"white-space:pre; font-family: monospace\">1 1 1 0\n",
       "</span>"
      ]
     },
     "execution_count": 3,
     "metadata": {},
     "output_type": "execute_result"
    }
   ],
   "source": [
    "0 1 0 1 ⍱ 0 0 1 1 ⍝ NOR\n",
    "0 1 0 1 ≠ 0 0 1 1 ⍝ XOR\n",
    "0 1 0 1 = 0 0 1 1 ⍝ XNOR\n",
    "0 1 0 1 ⍲ 0 0 1 1 ⍝ NAND"
   ]
  },
  {
   "cell_type": "markdown",
   "id": "7a59bc8f",
   "metadata": {},
   "source": [
    "## Take `↑`\n",
    "\n",
    "`A↑B` [takes](http://help.dyalog.com/latest/index.htm#Language/Primitive%20Functions/Take.htm) from `B`. If `A` is a scalar/one-element-vector, it takes major cells, if it has two two elements, the first element is the number of major cells, and the second the number of semi-major cells, etc.: "
   ]
  },
  {
   "cell_type": "code",
   "execution_count": 4,
   "id": "28e77a6b",
   "metadata": {},
   "outputs": [
    {
     "data": {
      "text/html": [
       "<span style=\"white-space:pre; font-family: monospace\">ABCD\n",
       "EFGH\n",
       "IJKL\n",
       "</span>"
      ]
     },
     "execution_count": 4,
     "metadata": {},
     "output_type": "execute_result"
    },
    {
     "data": {
      "text/html": [
       "<span style=\"white-space:pre; font-family: monospace\">ABCD\n",
       "EFGH\n",
       "</span>"
      ]
     },
     "execution_count": 4,
     "metadata": {},
     "output_type": "execute_result"
    },
    {
     "data": {
      "text/html": [
       "<span style=\"white-space:pre; font-family: monospace\">ABC\n",
       "EFG\n",
       "</span>"
      ]
     },
     "execution_count": 4,
     "metadata": {},
     "output_type": "execute_result"
    }
   ],
   "source": [
    "3 4⍴⎕A            ⍝ original array\n",
    "2↑3 4⍴⎕A          ⍝ take two major cells (a.k.a rows)\n",
    "2 3↑3 4⍴⎕A        ⍝ two major, and three semi-major cells"
   ]
  },
  {
   "cell_type": "markdown",
   "id": "688e0f1d",
   "metadata": {},
   "source": [
    "If you take more than there is, `↑` will pad with 0s for numeric arguments, and spaces for character arguments: "
   ]
  },
  {
   "cell_type": "code",
   "execution_count": 6,
   "id": "91d4e544",
   "metadata": {},
   "outputs": [
    {
     "data": {
      "text/html": [
       "<span style=\"white-space:pre; font-family: monospace\">3 1 4 0 0 0\n",
       "</span>"
      ]
     },
     "execution_count": 6,
     "metadata": {},
     "output_type": "execute_result"
    }
   ],
   "source": [
    "6↑3 1 4"
   ]
  },
  {
   "cell_type": "markdown",
   "id": "7f0dc0d9",
   "metadata": {},
   "source": [
    "You may also \"overtake\" a scalar to any number of dimensions: "
   ]
  },
  {
   "cell_type": "code",
   "execution_count": 7,
   "id": "f20c148b",
   "metadata": {},
   "outputs": [
    {
     "data": {
      "text/html": [
       "<span style=\"white-space:pre; font-family: monospace\">4 0 0\n",
       "0 0 0\n",
       "</span>"
      ]
     },
     "execution_count": 7,
     "metadata": {},
     "output_type": "execute_result"
    }
   ],
   "source": [
    "2 3↑4"
   ]
  },
  {
   "cell_type": "markdown",
   "id": "4f6b91b9",
   "metadata": {},
   "source": [
    "Negative numbers indicate taking from the reverse:"
   ]
  },
  {
   "cell_type": "code",
   "execution_count": 8,
   "id": "8295fdf0",
   "metadata": {},
   "outputs": [
    {
     "data": {
      "text/html": [
       "<span style=\"white-space:pre; font-family: monospace\">0 0 0 3 1 4\n",
       "</span>"
      ]
     },
     "execution_count": 8,
     "metadata": {},
     "output_type": "execute_result"
    },
    {
     "data": {
      "text/html": [
       "<span style=\"white-space:pre; font-family: monospace\">0 0 0\n",
       "0 0 4\n",
       "</span>"
      ]
     },
     "execution_count": 8,
     "metadata": {},
     "output_type": "execute_result"
    }
   ],
   "source": [
    "¯6↑3 1 4\n",
    "¯2 ¯3↑4"
   ]
  },
  {
   "cell_type": "code",
   "execution_count": 9,
   "id": "29eed95f",
   "metadata": {},
   "outputs": [
    {
     "data": {
      "text/html": [
       "<span style=\"white-space:pre; font-family: monospace\">ABCD\n",
       "EFGH\n",
       "IJKL\n",
       "</span>"
      ]
     },
     "execution_count": 9,
     "metadata": {},
     "output_type": "execute_result"
    },
    {
     "data": {
      "text/html": [
       "<span style=\"white-space:pre; font-family: monospace\">GH\n",
       "KL\n",
       "</span>"
      ]
     },
     "execution_count": 9,
     "metadata": {},
     "output_type": "execute_result"
    }
   ],
   "source": [
    "3 4⍴⎕A\n",
    "¯2 ¯2↑3 4⍴⎕A "
   ]
  },
  {
   "cell_type": "markdown",
   "id": "f8686e64",
   "metadata": {},
   "source": [
    "## Mix `↑`\n",
    "\n",
    "Monadic `↑` is [mix](http://help.dyalog.com/latest/index.htm#Language/Primitive%20Functions/Mix.htm). It trades one level of depth (nesting) into one level of rank."
   ]
  },
  {
   "cell_type": "code",
   "execution_count": 10,
   "id": "fc005988",
   "metadata": {},
   "outputs": [
    {
     "data": {
      "text/html": [
       "<span style=\"white-space:pre; font-family: monospace\">1 2 3\n",
       "4 5 6\n",
       "</span>"
      ]
     },
     "execution_count": 10,
     "metadata": {},
     "output_type": "execute_result"
    }
   ],
   "source": [
    "↑(1 2 3)(4 5 6)"
   ]
  },
  {
   "cell_type": "markdown",
   "id": "05703ef0",
   "metadata": {},
   "source": [
    "Because rank enforces non-raggedness, monadic `↑` will pad with the prototype element (0 or space) just like dyadic `↑`: "
   ]
  },
  {
   "cell_type": "code",
   "execution_count": 11,
   "id": "e973bc6e",
   "metadata": {},
   "outputs": [
    {
     "data": {
      "text/html": [
       "<span style=\"white-space:pre; font-family: monospace\">1 2 3\n",
       "4 5 0\n",
       "</span>"
      ]
     },
     "execution_count": 11,
     "metadata": {},
     "output_type": "execute_result"
    }
   ],
   "source": [
    "↑(1 2 3)(4 5)"
   ]
  },
  {
   "cell_type": "markdown",
   "id": "0d2604eb",
   "metadata": {},
   "source": [
    "## Drop `↓`\n",
    "\n",
    "Dyadic `↓` is just like dyadic `↑` except it [drops](http://help.dyalog.com/latest/index.htm#Language/Primitive%20Functions/Drop.htm) instead of taking:"
   ]
  },
  {
   "cell_type": "code",
   "execution_count": 12,
   "id": "fb16dcba",
   "metadata": {},
   "outputs": [
    {
     "data": {
      "text/html": [
       "<span style=\"white-space:pre; font-family: monospace\">ABCD\n",
       "EFGH\n",
       "IJKL\n",
       "</span>"
      ]
     },
     "execution_count": 12,
     "metadata": {},
     "output_type": "execute_result"
    },
    {
     "data": {
      "text/html": [
       "<span style=\"white-space:pre; font-family: monospace\">EFGH\n",
       "IJKL\n",
       "</span>"
      ]
     },
     "execution_count": 12,
     "metadata": {},
     "output_type": "execute_result"
    },
    {
     "data": {
      "text/html": [
       "<span style=\"white-space:pre; font-family: monospace\">┌→──┐\n",
       "↓JKL│\n",
       "└───┘\n",
       "</span>"
      ]
     },
     "execution_count": 12,
     "metadata": {},
     "output_type": "execute_result"
    }
   ],
   "source": [
    "3 4⍴⎕A \n",
    "1↓3 4⍴⎕A\n",
    "]display 2 1↓3 4⍴⎕A"
   ]
  },
  {
   "cell_type": "markdown",
   "id": "d2c761a9",
   "metadata": {},
   "source": [
    "Note that the last result is still a matrix, it just only has one row. \n",
    "\n",
    "## Split `↓`\n",
    "\n",
    "Monadic `↓` is [split](http://help.dyalog.com/latest/index.htm#Language/Primitive%20Functions/Split.htm). It is the opposite of dyadic `↓` in that it lowers the rank and increases the depth: "
   ]
  },
  {
   "cell_type": "code",
   "execution_count": 13,
   "id": "6c4b97ab",
   "metadata": {},
   "outputs": [
    {
     "data": {
      "text/html": [
       "<span style=\"white-space:pre; font-family: monospace\">┌────┬────┬────┐\n",
       "│ABCD│EFGH│IJKL│\n",
       "└────┴────┴────┘\n",
       "</span>"
      ]
     },
     "execution_count": 13,
     "metadata": {},
     "output_type": "execute_result"
    }
   ],
   "source": [
    "↓3 4⍴⎕A"
   ]
  },
  {
   "cell_type": "code",
   "execution_count": null,
   "id": "0270875e",
   "metadata": {},
   "outputs": [],
   "source": []
  }
 ],
 "metadata": {
  "kernelspec": {
   "display_name": "Dyalog APL",
   "language": "apl",
   "name": "dyalog-kernel"
  },
  "language_info": {
   "file_extension": ".apl",
   "mimetype": "text/apl",
   "name": "APL"
  }
 },
 "nbformat": 4,
 "nbformat_minor": 5
}

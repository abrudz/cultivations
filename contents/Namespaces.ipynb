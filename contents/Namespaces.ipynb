{
 "cells": [
  {
   "cell_type": "markdown",
   "id": "afe4a162",
   "metadata": {},
   "source": [
    "# Namespaces\n",
    "\n",
    "Let's create the simplest APL type of object Dyalog APL has, the [namespace](https://help.dyalog.com/latest/#Language/Introduction/Namespaces/Namespaces.htm). APLWiki has a good [intro](https://aplwiki.com/wiki/Namespace). A namespace is like a container for other APL items (functions, variables, and namespaces). It is very much like a JSON object. \n",
    "\n",
    "One way to create a new empty namespace is using the system function `⎕NS`. For now, we'll just use a dummy right argument; `⍬`. To assign into a namespace we use the dot-notation: `namespace.name←value`. Same goes when we want to query the value. "
   ]
  },
  {
   "cell_type": "code",
   "execution_count": 8,
   "id": "baada9da",
   "metadata": {},
   "outputs": [
    {
     "data": {
      "text/html": [
       "<span style=\"white-space:pre; font-family: monospace\">42 42\n",
       "</span>"
      ]
     },
     "execution_count": 8,
     "metadata": {},
     "output_type": "execute_result"
    }
   ],
   "source": [
    "b←a←⎕NS ⍬\n",
    "a.var←52\n",
    "b.var←42\n",
    "a.var b.var"
   ]
  },
  {
   "cell_type": "markdown",
   "id": "3fb872f3",
   "metadata": {},
   "source": [
    "We created the namespace `a`. Then we used its value to set `b`, then we set `var` inside `a` and inside `b` to two different values, but when we queried the two values they had become the same (the latter). This is because APL objects are mutable. Another way to look at it is that the value isn't really the namespace itself, but rather a _reference_ to a single object we created with a single call to `⎕NS`. "
   ]
  },
  {
   "cell_type": "code",
   "execution_count": 6,
   "id": "ae64753e",
   "metadata": {},
   "outputs": [
    {
     "data": {
      "text/html": [
       "<span style=\"white-space:pre; font-family: monospace\">52 42\n",
       "</span>"
      ]
     },
     "execution_count": 6,
     "metadata": {},
     "output_type": "execute_result"
    }
   ],
   "source": [
    "b a←⎕NS¨ ⍬ ⍬\n",
    "a.var←52\n",
    "b.var←42\n",
    "a.var b.var"
   ]
  },
  {
   "cell_type": "markdown",
   "id": "cf1e7f40",
   "metadata": {},
   "source": [
    "Here we called `⎕NS` twice, once on each of the two `⍬`s. And so `b` and `a` refer to two different objects. Also note that there is no assignment arrow between `b` and `a`, but don't be fooled: "
   ]
  },
  {
   "cell_type": "code",
   "execution_count": 7,
   "id": "1624dbaa",
   "metadata": {},
   "outputs": [
    {
     "data": {
      "text/html": [
       "<span style=\"white-space:pre; font-family: monospace\">42 42\n",
       "</span>"
      ]
     },
     "execution_count": 7,
     "metadata": {},
     "output_type": "execute_result"
    }
   ],
   "source": [
    "b a←⎕NS ⍬\n",
    "a.var←52\n",
    "b.var←42\n",
    "a.var b.var"
   ]
  },
  {
   "cell_type": "markdown",
   "id": "1704330a",
   "metadata": {},
   "source": [
    "The last `42 42` result is of course (!) because of APL's scalar extension (vectorisation/mapping/…). Refs are scalar values, and so the scalar was distributed to both names, just like `b a←42` would have done.\n",
    "\n",
    "You can also put functions inside a namespace: "
   ]
  },
  {
   "cell_type": "code",
   "execution_count": 9,
   "id": "528cdddb",
   "metadata": {},
   "outputs": [
    {
     "data": {
      "text/html": [
       "<span style=\"white-space:pre; font-family: monospace\">┌─────┬─────┐\n",
       "│hello│world│\n",
       "└─────┴─────┘\n",
       "</span>"
      ]
     },
     "execution_count": 9,
     "metadata": {},
     "output_type": "execute_result"
    }
   ],
   "source": [
    "ns←⎕NS ⍬\n",
    "ns.fn←{'hello' ⍵}\n",
    "ns.fn 'world'"
   ]
  },
  {
   "cell_type": "markdown",
   "id": "2d6aeb33",
   "metadata": {},
   "source": [
    "All APL built-ins exist (separately!) in every namespace. "
   ]
  },
  {
   "cell_type": "code",
   "execution_count": 10,
   "id": "74f5995c",
   "metadata": {},
   "outputs": [
    {
     "data": {
      "text/html": [
       "<span style=\"white-space:pre; font-family: monospace\">0 1 2 3 4\n",
       "</span>"
      ]
     },
     "execution_count": 10,
     "metadata": {},
     "output_type": "execute_result"
    },
    {
     "data": {
      "text/html": [
       "<span style=\"white-space:pre; font-family: monospace\">1 2 3 4 5\n",
       "</span>"
      ]
     },
     "execution_count": 10,
     "metadata": {},
     "output_type": "execute_result"
    }
   ],
   "source": [
    "a b←⎕NS¨⍬⍬\n",
    "a.⎕IO←0\n",
    "b.⎕IO←1\n",
    "a.⍳ 5\n",
    "b.⍳ 5"
   ]
  },
  {
   "cell_type": "markdown",
   "id": "28354b07",
   "metadata": {},
   "source": [
    "Here is another way to create a namespace: "
   ]
  },
  {
   "cell_type": "code",
   "execution_count": 11,
   "id": "e0bc080b",
   "metadata": {},
   "outputs": [
    {
     "data": {
      "text/html": [
       "<span style=\"white-space:pre; font-family: monospace\">52\n",
       "</span>"
      ]
     },
     "execution_count": 11,
     "metadata": {},
     "output_type": "execute_result"
    },
    {
     "data": {
      "text/html": [
       "<span style=\"white-space:pre; font-family: monospace\">42\n",
       "</span>"
      ]
     },
     "execution_count": 11,
     "metadata": {},
     "output_type": "execute_result"
    }
   ],
   "source": [
    "ns←⎕JSON '{\"a\":52, \"b\":42}'\n",
    "ns.a\n",
    "ns.b"
   ]
  },
  {
   "cell_type": "markdown",
   "id": "7a965e58",
   "metadata": {},
   "source": [
    " We can, of course, also use `⎕JSON` to visualise (simple) APL objects:"
   ]
  },
  {
   "cell_type": "code",
   "execution_count": 12,
   "id": "b73922de",
   "metadata": {},
   "outputs": [
    {
     "data": {
      "text/html": [
       "<span style=\"white-space:pre; font-family: monospace\">{\"x\":1,\"y\":2,\"z\":\"Brian\"}\n",
       "</span>"
      ]
     },
     "execution_count": 12,
     "metadata": {},
     "output_type": "execute_result"
    }
   ],
   "source": [
    "a←⎕NS ⍬ ⋄ a.(x y z)←1 2 'Brian'\n",
    "⎕JSON a"
   ]
  },
  {
   "cell_type": "markdown",
   "id": "623b09e0",
   "metadata": {},
   "source": [
    "Namespaces are great ways to organise you code and data. But sometimes you need a better overview of the namespace content, or you want to put tradfns there (in an easy manner) or even put some comments in. To help you manage larger namespaces and especially _code_ in namespaces, you can have a scripted namespace. The script is a simple text document which gets \"fixed\" into a namespace, much like the JSON text got converted to an APL object.\n",
    "This uses a syntax similar to the tradfn control structures, namely `:Namespace … :EndNamespace`:  "
   ]
  },
  {
   "cell_type": "code",
   "execution_count": 13,
   "id": "a1b2dbaf",
   "metadata": {},
   "outputs": [
    {
     "data": {
      "text/html": [
       "<span style=\"white-space:pre; font-family: monospace\">42\n",
       "</span>"
      ]
     },
     "execution_count": 13,
     "metadata": {},
     "output_type": "execute_result"
    }
   ],
   "source": [
    "⎕FIX ':Namespace a' 'var←42' ':EndNamespace'\n",
    "a.var"
   ]
  },
  {
   "cell_type": "markdown",
   "id": "0bb99090",
   "metadata": {},
   "source": [
    "Of course, the `⎕FIX` usage is even more cumbersome (except possibly when you need to define namespaces under program control), but in an interactive APL session, you can enter `)ed ⍟nyns` to open the editor with a new namespace script. In a Jupyter notebook cell you can create a scripted namespace using `]dinput`:"
   ]
  },
  {
   "cell_type": "code",
   "execution_count": 14,
   "id": "79e48041",
   "metadata": {},
   "outputs": [],
   "source": [
    "]dinput\n",
    ":Namespace b\n",
    "var←43\n",
    ":EndNamespace"
   ]
  },
  {
   "cell_type": "code",
   "execution_count": 15,
   "id": "969e518f",
   "metadata": {},
   "outputs": [
    {
     "data": {
      "text/html": [
       "<span style=\"white-space:pre; font-family: monospace\">43\n",
       "</span>"
      ]
     },
     "execution_count": 15,
     "metadata": {},
     "output_type": "execute_result"
    }
   ],
   "source": [
    "b.var"
   ]
  },
  {
   "cell_type": "markdown",
   "id": "e90f7eac",
   "metadata": {},
   "source": [
    "Here's a scripted namespace with a few things in it; a variable, a dfn, and a tradfn:"
   ]
  },
  {
   "cell_type": "code",
   "execution_count": 22,
   "id": "bf4ba981",
   "metadata": {},
   "outputs": [],
   "source": [
    "]dinput\n",
    ":Namespace ns\n",
    "    var←42\n",
    "    dfn←{\n",
    "        'the argument:' ⍵\n",
    "    }\n",
    "    ∇ r←tradfn x\n",
    "      r←?x\n",
    "    ∇\n",
    ":EndNamespace"
   ]
  },
  {
   "cell_type": "code",
   "execution_count": 23,
   "id": "d7eb2b62",
   "metadata": {},
   "outputs": [
    {
     "data": {
      "text/html": [
       "<span style=\"white-space:pre; font-family: monospace\">┌─┬─┬──┬───┐\n",
       "│a│b│ns│var│\n",
       "└─┴─┴──┴───┘\n",
       "</span>"
      ]
     },
     "execution_count": 23,
     "metadata": {},
     "output_type": "execute_result"
    },
    {
     "data": {
      "text/html": [
       "<span style=\"white-space:pre; font-family: monospace\">┌───┬──────┬───┐\n",
       "│dfn│tradfn│var│\n",
       "└───┴──────┴───┘\n",
       "</span>"
      ]
     },
     "execution_count": 23,
     "metadata": {},
     "output_type": "execute_result"
    },
    {
     "data": {
      "text/html": [
       "<span style=\"white-space:pre; font-family: monospace\">77 42\n",
       "</span>"
      ]
     },
     "execution_count": 23,
     "metadata": {},
     "output_type": "execute_result"
    }
   ],
   "source": [
    "var←77\n",
    "⎕NL -⍳9\n",
    "ns.⎕NL -⍳9\n",
    "var ns.var"
   ]
  },
  {
   "cell_type": "markdown",
   "id": "ca10c1dc",
   "metadata": {},
   "source": [
    "We first ask for the Name List in `#` (the root namespace) and again inside `ns` and then we retrieve the value of `#.var` and `ns.var`.\n",
    "\n",
    "By the way, from inside a namespace, you can access the parent namespace with `##` and its parent with `##.##` etc. `#` doesn't have a parent though, so `#.##` is the same as `#`. This of course implies that you can nest namespaces. And indeed, you can even do so inside a script:"
   ]
  },
  {
   "cell_type": "code",
   "execution_count": 25,
   "id": "72488ac6",
   "metadata": {},
   "outputs": [],
   "source": [
    "]dinput\n",
    ":Namespace ns\n",
    "    variable←42\n",
    "    dfn←{\n",
    "        'the arguments:'⍺ ⍵\n",
    "    }\n",
    "    :Namespace inner\n",
    "        ∇ r←tradfn x\n",
    "          r←?x\n",
    "        ∇\n",
    "    :EndNamespace\n",
    ":EndNamespace"
   ]
  },
  {
   "cell_type": "code",
   "execution_count": 26,
   "id": "81a0168e",
   "metadata": {},
   "outputs": [
    {
     "data": {
      "text/html": [
       "<span style=\"white-space:pre; font-family: monospace\">3\n",
       "</span>"
      ]
     },
     "execution_count": 26,
     "metadata": {},
     "output_type": "execute_result"
    }
   ],
   "source": [
    "ns.inner.tradfn 3"
   ]
  },
  {
   "cell_type": "code",
   "execution_count": null,
   "id": "8920022a",
   "metadata": {},
   "outputs": [],
   "source": []
  }
 ],
 "metadata": {
  "kernelspec": {
   "display_name": "Dyalog APL",
   "language": "apl",
   "name": "dyalog-kernel"
  },
  "language_info": {
   "file_extension": ".apl",
   "mimetype": "text/apl",
   "name": "APL"
  }
 },
 "nbformat": 4,
 "nbformat_minor": 5
}

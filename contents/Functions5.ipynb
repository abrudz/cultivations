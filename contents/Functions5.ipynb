{
 "cells": [
  {
   "cell_type": "markdown",
   "id": "39b58ab7",
   "metadata": {},
   "source": [
    "# `⊂⊃⊆⌷⍋⍒` \n",
    "## Enclose `⊂` \n",
    "\n",
    "Monadic `⊂` [encloses](http://help.dyalog.com/latest/index.htm#Language/Primitive%20Functions/Enclose.htm) its argument. It packages an arbitrary structure into a scalar. Simple scalars cannot be enclosed. We can turn on boxed output with the `]box` user command to illustrate APL's array structure in more detail:"
   ]
  },
  {
   "cell_type": "code",
   "execution_count": 1,
   "id": "51d55fff",
   "metadata": {},
   "outputs": [
    {
     "data": {
      "text/html": [
       "<span style=\"white-space:pre; font-family: monospace\">┌→────────────────┐\n",
       "│Was ON -style=min│\n",
       "└─────────────────┘\n",
       "</span>"
      ]
     },
     "execution_count": 1,
     "metadata": {},
     "output_type": "execute_result"
    }
   ],
   "source": [
    "]box on -s=max"
   ]
  },
  {
   "cell_type": "code",
   "execution_count": 2,
   "id": "d20f5dc8",
   "metadata": {},
   "outputs": [
    {
     "data": {
      "text/html": [
       "<span style=\"white-space:pre; font-family: monospace\">┌→──────┐\n",
       "│1 2 3 4│\n",
       "└~──────┘\n",
       "</span>"
      ]
     },
     "execution_count": 2,
     "metadata": {},
     "output_type": "execute_result"
    },
    {
     "data": {
      "text/html": [
       "<span style=\"white-space:pre; font-family: monospace\">┌───────────┐\n",
       "│ ┌→──────┐ │\n",
       "│ │1 2 3 4│ │\n",
       "│ └~──────┘ │\n",
       "└∊──────────┘\n",
       "</span>"
      ]
     },
     "execution_count": 2,
     "metadata": {},
     "output_type": "execute_result"
    }
   ],
   "source": [
    "v←1 2 3 4\n",
    "v\n",
    "⊂v"
   ]
  },
  {
   "cell_type": "markdown",
   "id": "0d807557",
   "metadata": {},
   "source": [
    "The little epsilon `∊` in the bottom of the outer box indicates the enclosure.\n",
    "\n",
    "If we tally an enclosed structure, it should come out as 1:"
   ]
  },
  {
   "cell_type": "code",
   "execution_count": 3,
   "id": "a37ce012",
   "metadata": {},
   "outputs": [
    {
     "data": {
      "text/html": [
       "<span style=\"white-space:pre; font-family: monospace\"> \n",
       "1\n",
       " \n",
       "</span>"
      ]
     },
     "execution_count": 3,
     "metadata": {},
     "output_type": "execute_result"
    }
   ],
   "source": [
    "≢⊂v   ⍝ an enclosed vector is a scalar"
   ]
  },
  {
   "cell_type": "markdown",
   "id": "d626972e",
   "metadata": {},
   "source": [
    "Here's another example:"
   ]
  },
  {
   "cell_type": "code",
   "execution_count": 4,
   "id": "8ca87aa2",
   "metadata": {},
   "outputs": [
    {
     "data": {
      "text/html": [
       "<span style=\"white-space:pre; font-family: monospace\">┌→─────┐\n",
       "↓ABCABC│\n",
       "│DEFDEF│\n",
       "│GHIGHI│\n",
       "└──────┘\n",
       "</span>"
      ]
     },
     "execution_count": 4,
     "metadata": {},
     "output_type": "execute_result"
    },
    {
     "data": {
      "text/html": [
       "<span style=\"white-space:pre; font-family: monospace\">┌→────────────┐\n",
       "│ ┌→──┐ ┌→──┐ │\n",
       "│ ↓ABC│ ↓ABC│ │\n",
       "│ │DEF│ │DEF│ │\n",
       "│ │GHI│ │GHI│ │\n",
       "│ └───┘ └───┘ │\n",
       "└∊────────────┘\n",
       "</span>"
      ]
     },
     "execution_count": 4,
     "metadata": {},
     "output_type": "execute_result"
    }
   ],
   "source": [
    "(3 3⍴⎕A),(3 3⍴⎕A)   ⍝ concatenation of two matrices. \n",
    "(⊂3 3⍴⎕A),(⊂3 3⍴⎕A) ⍝ concatenation of two enclosed matrices"
   ]
  },
  {
   "cell_type": "markdown",
   "id": "6fd5a0ab",
   "metadata": {},
   "source": [
    "The first gave us a matrix of shape 3 6, the second gave a vector of shape 2. "
   ]
  },
  {
   "cell_type": "code",
   "execution_count": 5,
   "id": "e79f82c4",
   "metadata": {},
   "outputs": [
    {
     "data": {
      "text/html": [
       "<span style=\"white-space:pre; font-family: monospace\">┌→────────────┐\n",
       "↓       ┌→──┐ │\n",
       "│ A B C ↓ABC│ │\n",
       "│ - - - │DEF│ │\n",
       "│       │GHI│ │\n",
       "│       └───┘ │\n",
       "│       ┌→──┐ │\n",
       "│ D E F ↓ABC│ │\n",
       "│ - - - │DEF│ │\n",
       "│       │GHI│ │\n",
       "│       └───┘ │\n",
       "│       ┌→──┐ │\n",
       "│ G H I ↓ABC│ │\n",
       "│ - - - │DEF│ │\n",
       "│       │GHI│ │\n",
       "│       └───┘ │\n",
       "└∊────────────┘\n",
       "</span>"
      ]
     },
     "execution_count": 5,
     "metadata": {},
     "output_type": "execute_result"
    }
   ],
   "source": [
    "(3 3⍴⎕A),(⊂3 3⍴⎕A) ⍝ concatenation of a matrix and an enclosed matrix "
   ]
  },
  {
   "cell_type": "markdown",
   "id": "28b7be92",
   "metadata": {},
   "source": [
    "Concatenating a scalar to a matrix uses the scalar for each row. Here the entire right-hand matrix was treated as a scalar because it was enclosed."
   ]
  },
  {
   "cell_type": "code",
   "execution_count": 6,
   "id": "b1753ba7",
   "metadata": {},
   "outputs": [
    {
     "data": {
      "text/html": [
       "<span style=\"white-space:pre; font-family: monospace\">┌→───┐\n",
       "↓ABCx│\n",
       "│DEFx│\n",
       "│GHIx│\n",
       "└────┘\n",
       "</span>"
      ]
     },
     "execution_count": 6,
     "metadata": {},
     "output_type": "execute_result"
    }
   ],
   "source": [
    "(3 3⍴⎕A),'x'"
   ]
  },
  {
   "cell_type": "markdown",
   "id": "5e8ff8e5",
   "metadata": {},
   "source": [
    "So you can (and should) use `⊂` to tell APL how you want the scalar extension (auto-vectorisation) to be applied.\n",
    "\n",
    "`⊂` is also good for treating text vectors as strings (i.e. in one piece): "
   ]
  },
  {
   "cell_type": "code",
   "execution_count": 7,
   "id": "75273025",
   "metadata": {},
   "outputs": [
    {
     "data": {
      "text/html": [
       "<span style=\"white-space:pre; font-family: monospace\">┌→────┐\n",
       "│4 4 4│\n",
       "└~────┘\n",
       "</span>"
      ]
     },
     "execution_count": 7,
     "metadata": {},
     "output_type": "execute_result"
    }
   ],
   "source": [
    "'aaa' 'bbb' 'ccc' ⍳ 'aaa'"
   ]
  },
  {
   "cell_type": "markdown",
   "id": "0d577844",
   "metadata": {},
   "source": [
    "This says that each one of the three right-side 'a's is found in position 4 (i.e. are not) in the left-side list."
   ]
  },
  {
   "cell_type": "code",
   "execution_count": 8,
   "id": "4a97676a",
   "metadata": {},
   "outputs": [
    {
     "data": {
      "text/html": [
       "<span style=\"white-space:pre; font-family: monospace\"> \n",
       "1\n",
       " \n",
       "</span>"
      ]
     },
     "execution_count": 8,
     "metadata": {},
     "output_type": "execute_result"
    }
   ],
   "source": [
    "'aaa' 'bbb' 'ccc' ⍳ ⊂'aaa'"
   ]
  },
  {
   "cell_type": "markdown",
   "id": "55ec5db9",
   "metadata": {},
   "source": [
    "This says that 'aaa' is the first string.\n",
    "\n",
    "## Partitioned enclose `⊂`\n",
    "\n",
    "Dyadic `⊂` is [partitioned enclose](http://help.dyalog.com/latest/index.htm#Language/Primitive%20Functions/Partitioned%20Enclose.htm). It encloses (hence sharing the symbol) pieces of the right argument as indicated by the left argument. Best to use an example: "
   ]
  },
  {
   "cell_type": "code",
   "execution_count": 9,
   "id": "344c0ac2",
   "metadata": {},
   "outputs": [
    {
     "data": {
      "text/html": [
       "<span style=\"white-space:pre; font-family: monospace\">┌→───────────────────────┐\n",
       "│ ┌→──┐ ┌→─┐ ┌→───┐ ┌→─┐ │\n",
       "│ │Hel│ │lo│ │ Wor│ │ld│ │\n",
       "│ └───┘ └──┘ └────┘ └──┘ │\n",
       "└∊───────────────────────┘\n",
       "</span>"
      ]
     },
     "execution_count": 9,
     "metadata": {},
     "output_type": "execute_result"
    }
   ],
   "source": [
    "1 0 0 1 0 1 0 0 0 1 0⊂'Hello World' "
   ]
  },
  {
   "cell_type": "markdown",
   "id": "310bba13",
   "metadata": {},
   "source": [
    "This works on higher rank arrays, too. It partitions along the last axis:"
   ]
  },
  {
   "cell_type": "code",
   "execution_count": 10,
   "id": "285e345e",
   "metadata": {},
   "outputs": [
    {
     "data": {
      "text/html": [
       "<span style=\"white-space:pre; font-family: monospace\">┌→───────────────────────────────┐\n",
       "│ ┌→─┐ ┌→──┐ ┌→─┐ ┌→───┐ ┌→┐ ┌→┐ │\n",
       "│ ↓AB│ ↓CDE│ ↓FG│ ↓HIJK│ ↓L│ ↓M│ │\n",
       "│ │NO│ │PQR│ │ST│ │UVWX│ │Y│ │Z│ │\n",
       "│ └──┘ └───┘ └──┘ └────┘ └─┘ └─┘ │\n",
       "└∊───────────────────────────────┘\n",
       "</span>"
      ]
     },
     "execution_count": 10,
     "metadata": {},
     "output_type": "execute_result"
    }
   ],
   "source": [
    "1 0 1 0 0 1 0 1 0 0 0 1 1 ⊂ 2 13⍴⎕A"
   ]
  },
  {
   "cell_type": "markdown",
   "id": "6f5f81c0",
   "metadata": {},
   "source": [
    "For vectors, `1⊂` is the same as `,¨` which may be useful in trains where you want to have a left argument.\n",
    "For higher rank arrays, `1⊂` cuts into columns:"
   ]
  },
  {
   "cell_type": "code",
   "execution_count": 11,
   "id": "d9475c8b",
   "metadata": {},
   "outputs": [
    {
     "data": {
      "text/html": [
       "<span style=\"white-space:pre; font-family: monospace\">┌→────────────────────────────────────────────────────┐\n",
       "│ ┌→┐ ┌→┐ ┌→┐ ┌→┐ ┌→┐ ┌→┐ ┌→┐ ┌→┐ ┌→┐ ┌→┐ ┌→┐ ┌→┐ ┌→┐ │\n",
       "│ ↓A│ ↓B│ ↓C│ ↓D│ ↓E│ ↓F│ ↓G│ ↓H│ ↓I│ ↓J│ ↓K│ ↓L│ ↓M│ │\n",
       "│ │N│ │O│ │P│ │Q│ │R│ │S│ │T│ │U│ │V│ │W│ │X│ │Y│ │Z│ │\n",
       "│ └─┘ └─┘ └─┘ └─┘ └─┘ └─┘ └─┘ └─┘ └─┘ └─┘ └─┘ └─┘ └─┘ │\n",
       "└∊────────────────────────────────────────────────────┘\n",
       "</span>"
      ]
     },
     "execution_count": 11,
     "metadata": {},
     "output_type": "execute_result"
    }
   ],
   "source": [
    "1 ⊂ 2 13⍴⎕A"
   ]
  },
  {
   "cell_type": "markdown",
   "id": "361f19f3",
   "metadata": {},
   "source": [
    "You can use brackets to indicate which axis you wish to cut along: "
   ]
  },
  {
   "cell_type": "code",
   "execution_count": 12,
   "id": "ec50c090",
   "metadata": {},
   "outputs": [
    {
     "data": {
      "text/html": [
       "<span style=\"white-space:pre; font-family: monospace\">┌→────────────────────────────────┐\n",
       "│ ┌→────────────┐ ┌→────────────┐ │\n",
       "│ ↓ABCDEFGHIJKLM│ ↓NOPQRSTUVWXYZ│ │\n",
       "│ └─────────────┘ └─────────────┘ │\n",
       "└∊────────────────────────────────┘\n",
       "</span>"
      ]
     },
     "execution_count": 12,
     "metadata": {},
     "output_type": "execute_result"
    },
    {
     "data": {
      "text/html": [
       "<span style=\"white-space:pre; font-family: monospace\">┌→──────────────────┐\n",
       "│ ┌→──┐ ┌→──┐ ┌→──┐ │\n",
       "│ ↓ABC│ ↓GHI│ ↓JKL│ │\n",
       "│ │DEF│ └───┘ └───┘ │\n",
       "│ └───┘             │\n",
       "└∊──────────────────┘\n",
       "</span>"
      ]
     },
     "execution_count": 12,
     "metadata": {},
     "output_type": "execute_result"
    }
   ],
   "source": [
    "1 ⊂[1] 2 13⍴⎕A\n",
    "1 0 1 1 ⊂[1] 4 3⍴⎕A "
   ]
  },
  {
   "cell_type": "markdown",
   "id": "a8070ff9",
   "metadata": {},
   "source": [
    "Note that the left argument need not be the same length as the right argument. If it's shorter, it's assumed to consist of zeros to the end:"
   ]
  },
  {
   "cell_type": "code",
   "execution_count": 13,
   "id": "ed8e90c1",
   "metadata": {},
   "outputs": [
    {
     "data": {
      "text/html": [
       "<span style=\"white-space:pre; font-family: monospace\">┌→──────────────────┐\n",
       "│1 0 0 0 1 0 0 0 0 1│\n",
       "└~──────────────────┘\n",
       "</span>"
      ]
     },
     "execution_count": 13,
     "metadata": {},
     "output_type": "execute_result"
    },
    {
     "data": {
      "text/html": [
       "<span style=\"white-space:pre; font-family: monospace\">┌→───────────────────────────────────┐\n",
       "│ ┌→───┐ ┌→────┐ ┌→────────────────┐ │\n",
       "│ │ABCD│ │EFGHI│ │JKLMNOPQRSTUVWXYZ│ │\n",
       "│ └────┘ └─────┘ └─────────────────┘ │\n",
       "└∊───────────────────────────────────┘\n",
       "</span>"
      ]
     },
     "execution_count": 13,
     "metadata": {},
     "output_type": "execute_result"
    }
   ],
   "source": [
    "⍸⍣¯1⊢1 5 10        \n",
    "(⍸⍣¯1⊢1 5 10)⊂⎕A ⍝ note: left arg is length 10. right arg is length 26"
   ]
  },
  {
   "cell_type": "markdown",
   "id": "f794ef93",
   "metadata": {},
   "source": [
    "Another common use of dyadic `⊂` is to split a vector into its head and tail:"
   ]
  },
  {
   "cell_type": "code",
   "execution_count": 14,
   "id": "08ea44f9",
   "metadata": {},
   "outputs": [
    {
     "data": {
      "text/html": [
       "<span style=\"white-space:pre; font-family: monospace\">┌→──────────────────┐\n",
       "│ ┌→┐ ┌→──────────┐ │\n",
       "│ │1│ │2 3 4 5 6 7│ │\n",
       "│ └~┘ └~──────────┘ │\n",
       "└∊──────────────────┘\n",
       "</span>"
      ]
     },
     "execution_count": 14,
     "metadata": {},
     "output_type": "execute_result"
    }
   ],
   "source": [
    "1 1⊂1 2 3 4 5 6 7"
   ]
  },
  {
   "cell_type": "markdown",
   "id": "a6400e13",
   "metadata": {},
   "source": [
    "## Disclose `⊃`\n",
    "\n",
    "Monadic `⊃` is [disclose](http://help.dyalog.com/latest/index.htm#Language/Primitive%20Functions/Disclose.htm), which is pretty much the inverse of monadic `⊂`. It discloses a scalar (again, if possible; a simple scalar remains the same). If you use it on a high rank array (i.e. not enclosed), it will give you the first (top left) element: "
   ]
  },
  {
   "cell_type": "code",
   "execution_count": 15,
   "id": "e18d63c0",
   "metadata": {},
   "outputs": [
    {
     "data": {
      "text/html": [
       "<span style=\"white-space:pre; font-family: monospace\">┌→──┐\n",
       "↓ABC│\n",
       "│DEF│\n",
       "│GHI│\n",
       "└───┘\n",
       "</span>"
      ]
     },
     "execution_count": 15,
     "metadata": {},
     "output_type": "execute_result"
    },
    {
     "data": {
      "text/html": [
       "<span style=\"white-space:pre; font-family: monospace\">┌───────┐\n",
       "│ ┌→──┐ │\n",
       "│ ↓ABC│ │\n",
       "│ │DEF│ │\n",
       "│ │GHI│ │\n",
       "│ └───┘ │\n",
       "└∊──────┘\n",
       "</span>"
      ]
     },
     "execution_count": 15,
     "metadata": {},
     "output_type": "execute_result"
    },
    {
     "data": {
      "text/html": [
       "<span style=\"white-space:pre; font-family: monospace\">┌→──┐\n",
       "↓ABC│\n",
       "│DEF│\n",
       "│GHI│\n",
       "└───┘\n",
       "</span>"
      ]
     },
     "execution_count": 15,
     "metadata": {},
     "output_type": "execute_result"
    },
    {
     "data": {
      "text/html": [
       "<span style=\"white-space:pre; font-family: monospace\"> \n",
       "A\n",
       "-\n",
       "</span>"
      ]
     },
     "execution_count": 15,
     "metadata": {},
     "output_type": "execute_result"
    }
   ],
   "source": [
    "3 3⍴⎕A      ⍝ 3x3 matrix\n",
    "⊂3 3⍴⎕A     ⍝ enclosed\n",
    "⊃⊂3 3⍴⎕A    ⍝ disclose enclosed\n",
    "⊃3 3⍴⎕A     ⍝ dislclose unenclosed gives the first element"
   ]
  },
  {
   "cell_type": "markdown",
   "id": "66ea57e9",
   "metadata": {},
   "source": [
    "The last feature (\"first\") means that you can combine it with reverses etc, to get corner elements: "
   ]
  },
  {
   "cell_type": "code",
   "execution_count": 16,
   "id": "41f580cf",
   "metadata": {},
   "outputs": [
    {
     "data": {
      "text/html": [
       "<span style=\"white-space:pre; font-family: monospace\"> \n",
       "C\n",
       "-\n",
       "</span>"
      ]
     },
     "execution_count": 16,
     "metadata": {},
     "output_type": "execute_result"
    },
    {
     "data": {
      "text/html": [
       "<span style=\"white-space:pre; font-family: monospace\"> \n",
       "G\n",
       "-\n",
       "</span>"
      ]
     },
     "execution_count": 16,
     "metadata": {},
     "output_type": "execute_result"
    }
   ],
   "source": [
    "⊃⌽3 3⍴⎕A ⍝ top right\n",
    "⊃⊖3 3⍴⎕A ⍝ bottom left "
   ]
  },
  {
   "cell_type": "markdown",
   "id": "b73367b4",
   "metadata": {},
   "source": [
    "You can use it with `¨` ([each](http://help.dyalog.com/latest/index.htm#Language/Primitive%20Operators/Each%20with%20Monadic%20Operand.htm)) to get initials:"
   ]
  },
  {
   "cell_type": "code",
   "execution_count": 17,
   "id": "c69c8b0c",
   "metadata": {},
   "outputs": [
    {
     "data": {
      "text/html": [
       "<span style=\"white-space:pre; font-family: monospace\">┌→──┐\n",
       "│KEI│\n",
       "└───┘\n",
       "</span>"
      ]
     },
     "execution_count": 17,
     "metadata": {},
     "output_type": "execute_result"
    }
   ],
   "source": [
    "⊃¨'Kenneth' 'Eugene' 'Iverson'"
   ]
  },
  {
   "cell_type": "markdown",
   "id": "7a71445f",
   "metadata": {},
   "source": [
    "## Pick `⊃`\n",
    "\n",
    "Dyadic `⊃` is [pick](http://help.dyalog.com/latest/index.htm#Language/Primitive%20Functions/Pick.htm). It digs into nested arrays. Every scalar on its left is the index of an element in subsequent layers of nestedness: "
   ]
  },
  {
   "cell_type": "code",
   "execution_count": 18,
   "id": "501404ec",
   "metadata": {},
   "outputs": [
    {
     "data": {
      "text/html": [
       "<span style=\"white-space:pre; font-family: monospace\"> \n",
       "F\n",
       "-\n",
       "</span>"
      ]
     },
     "execution_count": 18,
     "metadata": {},
     "output_type": "execute_result"
    },
    {
     "data": {
      "text/html": [
       "<span style=\"white-space:pre; font-family: monospace\"> \n",
       "6\n",
       " \n",
       "</span>"
      ]
     },
     "execution_count": 18,
     "metadata": {},
     "output_type": "execute_result"
    }
   ],
   "source": [
    "(⊂2 3)⊃3 3⍴⎕A\n",
    "2 3 1⊃(1 2 3)(4 5 (6 7 8))"
   ]
  },
  {
   "cell_type": "markdown",
   "id": "3a2f834a",
   "metadata": {},
   "source": [
    "We can demonstrate this further. Here is a 2-by-2 matrix of two-element vectors:"
   ]
  },
  {
   "cell_type": "code",
   "execution_count": 19,
   "id": "29cb0b0b",
   "metadata": {},
   "outputs": [
    {
     "data": {
      "text/html": [
       "<span style=\"white-space:pre; font-family: monospace\">┌→────────────┐\n",
       "↓ ┌→──┐ ┌→──┐ │\n",
       "│ │1 2│ │3 4│ │\n",
       "│ └~──┘ └~──┘ │\n",
       "│ ┌→──┐ ┌→──┐ │\n",
       "│ │5 6│ │7 8│ │\n",
       "│ └~──┘ └~──┘ │\n",
       "└∊────────────┘\n",
       "</span>"
      ]
     },
     "execution_count": 19,
     "metadata": {},
     "output_type": "execute_result"
    },
    {
     "data": {
      "text/html": [
       "<span style=\"white-space:pre; font-family: monospace\"> \n",
       "4\n",
       " \n",
       "</span>"
      ]
     },
     "execution_count": 19,
     "metadata": {},
     "output_type": "execute_result"
    }
   ],
   "source": [
    "2 2⍴(1 2)(3 4)(5 6)(7 8)\n",
    "(1 2) 2⊃2 2⍴(1 2)(3 4)(5 6)(7 8)"
   ]
  },
  {
   "cell_type": "markdown",
   "id": "582488e9",
   "metadata": {},
   "source": [
    "In the last statement, the first index is 1 2, which picks the element (3 4), and the second index is 2, which picks the 4.\n",
    "\n",
    "## Nest `⊆`\n",
    "\n",
    "Monadic `⊆` is called [nest](http://help.dyalog.com/latest/index.htm#Language/Primitive%20Functions/Nest.htm) because it guarantees you that the result is nested (non-simple). `(1 2)(3 4 5)` is already nested, and `⊆` won't do anything: "
   ]
  },
  {
   "cell_type": "code",
   "execution_count": 20,
   "id": "3e5279c2",
   "metadata": {},
   "outputs": [
    {
     "data": {
      "text/html": [
       "<span style=\"white-space:pre; font-family: monospace\">┌→──────────────┐\n",
       "│ ┌→──┐ ┌→────┐ │\n",
       "│ │1 2│ │3 4 5│ │\n",
       "│ └~──┘ └~────┘ │\n",
       "└∊──────────────┘\n",
       "</span>"
      ]
     },
     "execution_count": 20,
     "metadata": {},
     "output_type": "execute_result"
    },
    {
     "data": {
      "text/html": [
       "<span style=\"white-space:pre; font-family: monospace\">┌→──────────────┐\n",
       "│ ┌→──┐ ┌→────┐ │\n",
       "│ │1 2│ │3 4 5│ │\n",
       "│ └~──┘ └~────┘ │\n",
       "└∊──────────────┘\n",
       "</span>"
      ]
     },
     "execution_count": 20,
     "metadata": {},
     "output_type": "execute_result"
    }
   ],
   "source": [
    "(1 2)(3 4 5)\n",
    "⊆(1 2)(3 4 5) "
   ]
  },
  {
   "cell_type": "markdown",
   "id": "bb79a3c7",
   "metadata": {},
   "source": [
    "`1 2 3` is not nested, so `⊆` will nest it:"
   ]
  },
  {
   "cell_type": "code",
   "execution_count": 21,
   "id": "e3702c5d",
   "metadata": {},
   "outputs": [
    {
     "data": {
      "text/html": [
       "<span style=\"white-space:pre; font-family: monospace\">┌→────┐\n",
       "│1 2 3│\n",
       "└~────┘\n",
       "</span>"
      ]
     },
     "execution_count": 21,
     "metadata": {},
     "output_type": "execute_result"
    },
    {
     "data": {
      "text/html": [
       "<span style=\"white-space:pre; font-family: monospace\">┌─────────┐\n",
       "│ ┌→────┐ │\n",
       "│ │1 2 3│ │\n",
       "│ └~────┘ │\n",
       "└∊────────┘\n",
       "</span>"
      ]
     },
     "execution_count": 21,
     "metadata": {},
     "output_type": "execute_result"
    }
   ],
   "source": [
    "1 2 3\n",
    "⊆1 2 3"
   ]
  },
  {
   "cell_type": "markdown",
   "id": "06f72c07",
   "metadata": {},
   "source": [
    "Works on higher rank too, of course:"
   ]
  },
  {
   "cell_type": "code",
   "execution_count": 22,
   "id": "63cc1c79",
   "metadata": {},
   "outputs": [
    {
     "data": {
      "text/html": [
       "<span style=\"white-space:pre; font-family: monospace\">┌→──────────────────┐\n",
       "↓ ┌→──┐ ┌→──┐ ┌→──┐ │\n",
       "│ │abc│ │abc│ │abc│ │\n",
       "│ └───┘ └───┘ └───┘ │\n",
       "│ ┌→──┐ ┌→──┐ ┌→──┐ │\n",
       "│ │abc│ │abc│ │abc│ │\n",
       "│ └───┘ └───┘ └───┘ │\n",
       "└∊──────────────────┘\n",
       "</span>"
      ]
     },
     "execution_count": 22,
     "metadata": {},
     "output_type": "execute_result"
    },
    {
     "data": {
      "text/html": [
       "<span style=\"white-space:pre; font-family: monospace\">┌→──────────────────┐\n",
       "↓ ┌→──┐ ┌→──┐ ┌→──┐ │\n",
       "│ │abc│ │abc│ │abc│ │\n",
       "│ └───┘ └───┘ └───┘ │\n",
       "│ ┌→──┐ ┌→──┐ ┌→──┐ │\n",
       "│ │abc│ │abc│ │abc│ │\n",
       "│ └───┘ └───┘ └───┘ │\n",
       "└∊──────────────────┘\n",
       "</span>"
      ]
     },
     "execution_count": 22,
     "metadata": {},
     "output_type": "execute_result"
    }
   ],
   "source": [
    "2 3⍴⊂'abc'\n",
    "⊆2 3⍴⊂'abc' ⍝ already nested, so no-op "
   ]
  },
  {
   "cell_type": "code",
   "execution_count": 23,
   "id": "3f6a18c7",
   "metadata": {},
   "outputs": [
    {
     "data": {
      "text/html": [
       "<span style=\"white-space:pre; font-family: monospace\">┌→──┐\n",
       "↓abc│\n",
       "│abc│\n",
       "└───┘\n",
       "</span>"
      ]
     },
     "execution_count": 23,
     "metadata": {},
     "output_type": "execute_result"
    },
    {
     "data": {
      "text/html": [
       "<span style=\"white-space:pre; font-family: monospace\">┌───────┐\n",
       "│ ┌→──┐ │\n",
       "│ ↓abc│ │\n",
       "│ │abc│ │\n",
       "│ └───┘ │\n",
       "└∊──────┘\n",
       "</span>"
      ]
     },
     "execution_count": 23,
     "metadata": {},
     "output_type": "execute_result"
    }
   ],
   "source": [
    "2 3⍴'abc'   ⍝ not nested\n",
    "⊆2 3⍴'abc'  ⍝ nested"
   ]
  },
  {
   "cell_type": "markdown",
   "id": "0d4ea652",
   "metadata": {},
   "source": [
    "## Partition `⊆`\n",
    "\n",
    "Dyadic `⊆` is called [partition](http://help.dyalog.com/latest/index.htm#Language/Primitive%20Functions/Partition.htm) (`⊂` and `⊆` originate with different APL dialects, but Dyalog APL features both). To distinguish between them, we call `⊂` _partitioned enclose_ and `⊆` just _partition_, but it doesn't say much.\n",
    "\n",
    "Dyadic `⊆` works similarly to dyadic `⊂`, but with different rules for the left argument. The left argument is non-negative integer instead of Boolean, and new partitions begin whenever an element is higher than its neighbour on the left. Also, elements indicated by 0s are dropped completely: "
   ]
  },
  {
   "cell_type": "code",
   "execution_count": 24,
   "id": "62063da3",
   "metadata": {},
   "outputs": [
    {
     "data": {
      "text/html": [
       "<span style=\"white-space:pre; font-family: monospace\">┌→────────────────────┐\n",
       "│ ┌→┐ ┌→─┐ ┌→──┐ ┌→─┐ │\n",
       "│ │H│ │lo│ │ Wo│ │rl│ │\n",
       "│ └─┘ └──┘ └───┘ └──┘ │\n",
       "└∊────────────────────┘\n",
       "</span>"
      ]
     },
     "execution_count": 24,
     "metadata": {},
     "output_type": "execute_result"
    }
   ],
   "source": [
    "1 0 0 1 1 3 2 2 5 5 0⊆'Hello World'"
   ]
  },
  {
   "cell_type": "markdown",
   "id": "a7f21108",
   "metadata": {},
   "source": [
    "`1⊆array` is the same as `,⊂array` but uses a single dyadic function instead of two monadic ones, i.e. great for trains.\n",
    "\n",
    "## Materialise `⌷`\n",
    "\n",
    "Monadic `⌷` is [materialise](http://help.dyalog.com/latest/index.htm#Language/Primitive%20Functions/Materialise.htm). It is almost the same as monadic `⊢` (i.e. [identity](http://help.dyalog.com/latest/index.htm#Language/Primitive%20Functions/Right.htm)). However, it will materialise the default property of a class. For collections, this means the _Item_ property, so in effect it turns collections into vectors of items. "
   ]
  },
  {
   "cell_type": "code",
   "execution_count": 25,
   "id": "b9465747",
   "metadata": {},
   "outputs": [],
   "source": [
    "]dinput\n",
    ":Class cl\n",
    "    :Property Default thing\n",
    "    :Access Public Shared\n",
    "        ∇ r←get\n",
    "          r←3 1 4 1 4\n",
    "        ∇\n",
    "    :EndProperty\n",
    ":EndClass"
   ]
  },
  {
   "cell_type": "code",
   "execution_count": 26,
   "id": "55ad6a58",
   "metadata": {},
   "outputs": [
    {
     "data": {
      "text/html": [
       "<span style=\"white-space:pre; font-family: monospace\">┌→────────┐\n",
       "│3 1 4 1 4│\n",
       "└~────────┘\n",
       "</span>"
      ]
     },
     "execution_count": 26,
     "metadata": {},
     "output_type": "execute_result"
    },
    {
     "data": {
      "text/html": [
       "<span style=\"white-space:pre; font-family: monospace\">    \n",
       "#.cl\n",
       "    \n",
       "</span>"
      ]
     },
     "execution_count": 26,
     "metadata": {},
     "output_type": "execute_result"
    },
    {
     "data": {
      "text/html": [
       "<span style=\"white-space:pre; font-family: monospace\">┌→────────┐\n",
       "│3 1 4 1 4│\n",
       "└~────────┘\n",
       "</span>"
      ]
     },
     "execution_count": 26,
     "metadata": {},
     "output_type": "execute_result"
    }
   ],
   "source": [
    "cl.thing\n",
    "⊢cl\n",
    "⌷cl"
   ]
  },
  {
   "cell_type": "markdown",
   "id": "c994d429",
   "metadata": {},
   "source": [
    "## Index `⌷`\n",
    "\n",
    "Dyadic `⌷` is [index](http://help.dyalog.com/latest/index.htm#Language/Primitive%20Functions/Index.htm). It is similar to [pick](http://help.dyalog.com/latest/index.htm#Language/Primitive%20Functions/Pick.htm), dyadic `⊃`, but works its way into the rank instead of the depth. On a 3D array, the first element selects layer, the second row, the third column: "
   ]
  },
  {
   "cell_type": "code",
   "execution_count": 27,
   "id": "3900ac85",
   "metadata": {},
   "outputs": [
    {
     "data": {
      "text/html": [
       "<span style=\"white-space:pre; font-family: monospace\">┌┌→───┐\n",
       "↓↓ABCD│\n",
       "││EFGH│\n",
       "││IJKL│\n",
       "││    │\n",
       "││MNOP│\n",
       "││QRST│\n",
       "││UVWX│\n",
       "└└────┘\n",
       "</span>"
      ]
     },
     "execution_count": 27,
     "metadata": {},
     "output_type": "execute_result"
    },
    {
     "data": {
      "text/html": [
       "<span style=\"white-space:pre; font-family: monospace\">┌→───┐\n",
       "↓MNOP│\n",
       "│QRST│\n",
       "│UVWX│\n",
       "└────┘\n",
       "</span>"
      ]
     },
     "execution_count": 27,
     "metadata": {},
     "output_type": "execute_result"
    },
    {
     "data": {
      "text/html": [
       "<span style=\"white-space:pre; font-family: monospace\">┌→───┐\n",
       "│MNOP│\n",
       "└────┘\n",
       "</span>"
      ]
     },
     "execution_count": 27,
     "metadata": {},
     "output_type": "execute_result"
    },
    {
     "data": {
      "text/html": [
       "<span style=\"white-space:pre; font-family: monospace\"> \n",
       "O\n",
       "-\n",
       "</span>"
      ]
     },
     "execution_count": 27,
     "metadata": {},
     "output_type": "execute_result"
    }
   ],
   "source": [
    "2 3 4⍴⎕A\n",
    "2⌷2 3 4⍴⎕A\n",
    "2 1⌷2 3 4⍴⎕A\n",
    "2 1 3⌷2 3 4⍴⎕A"
   ]
  },
  {
   "cell_type": "markdown",
   "id": "468cabaf",
   "metadata": {},
   "source": [
    "Each element of the left argument may be may be any simple array:"
   ]
  },
  {
   "cell_type": "code",
   "execution_count": 28,
   "id": "26c808c4",
   "metadata": {},
   "outputs": [
    {
     "data": {
      "text/html": [
       "<span style=\"white-space:pre; font-family: monospace\">┌┌→───┐\n",
       "↓↓ABCD│\n",
       "││EFGH│\n",
       "││IJKL│\n",
       "││    │\n",
       "││ABCD│\n",
       "││EFGH│\n",
       "││IJKL│\n",
       "└└────┘\n",
       "</span>"
      ]
     },
     "execution_count": 28,
     "metadata": {},
     "output_type": "execute_result"
    },
    {
     "data": {
      "text/html": [
       "<span style=\"white-space:pre; font-family: monospace\">┌→───┐\n",
       "↓MNOP│\n",
       "│UVWX│\n",
       "└────┘\n",
       "</span>"
      ]
     },
     "execution_count": 28,
     "metadata": {},
     "output_type": "execute_result"
    },
    {
     "data": {
      "text/html": [
       "<span style=\"white-space:pre; font-family: monospace\">┌→─┐\n",
       "│CO│\n",
       "└──┘\n",
       "</span>"
      ]
     },
     "execution_count": 28,
     "metadata": {},
     "output_type": "execute_result"
    },
    {
     "data": {
      "text/html": [
       "<span style=\"white-space:pre; font-family: monospace\">┌┌→───┐\n",
       "↓↓EFGH│\n",
       "││IJKL│\n",
       "││    │\n",
       "││QRST│\n",
       "││UVWX│\n",
       "└└────┘\n",
       "</span>"
      ]
     },
     "execution_count": 28,
     "metadata": {},
     "output_type": "execute_result"
    }
   ],
   "source": [
    "(⊂1 1)⌷2 3 4⍴⎕A\n",
    "2 (1 3)⌷2 3 4⍴⎕A ⍝ first and third row of second layer \n",
    "(1 2)1 3⌷2 3 4⍴⎕A ⍝ third char of first row of layers 1 and 2 \n",
    "(1 2)(2 3)⌷2 3 4⍴⎕A ⍝ rows 2 and 3 of each of layers 1 and 2 "
   ]
  },
  {
   "cell_type": "markdown",
   "id": "19d87101",
   "metadata": {},
   "source": [
    "## Grade up/down `⍋⍒`\n",
    "\n",
    "Next up is `⍋`, called [grade up](http://help.dyalog.com/latest/index.htm#Language/Primitive%20Functions/Grade%20Up%20Monadic.htm). Monadic `⍋` takes a simple (non-nested) array and returns the indices of the major cells reordered so that they would order the array.\n",
    "\n",
    "Easiest to understand with an example: "
   ]
  },
  {
   "cell_type": "code",
   "execution_count": 30,
   "id": "7f75d91c",
   "metadata": {},
   "outputs": [
    {
     "data": {
      "text/html": [
       "<span style=\"white-space:pre; font-family: monospace\">┌→────────┐\n",
       "│2 4 1 3 5│\n",
       "└~────────┘\n",
       "</span>"
      ]
     },
     "execution_count": 30,
     "metadata": {},
     "output_type": "execute_result"
    }
   ],
   "source": [
    "⍋3 1 4 1 5"
   ]
  },
  {
   "cell_type": "markdown",
   "id": "fe671124",
   "metadata": {},
   "source": [
    "This means that the second element (1) is the smallest, then the fourth (1), then the first (3), etc. So, we can use this to sort the array: "
   ]
  },
  {
   "cell_type": "code",
   "execution_count": 32,
   "id": "332bdb24",
   "metadata": {},
   "outputs": [
    {
     "data": {
      "text/html": [
       "<span style=\"white-space:pre; font-family: monospace\">┌→────────┐\n",
       "│1 1 3 4 5│\n",
       "└~────────┘\n",
       "</span>"
      ]
     },
     "execution_count": 32,
     "metadata": {},
     "output_type": "execute_result"
    }
   ],
   "source": [
    "3 1 4 1 5[⍋3 1 4 1 5]"
   ]
  },
  {
   "cell_type": "markdown",
   "id": "3388d10f",
   "metadata": {},
   "source": [
    "It works on high-rank arrays too: "
   ]
  },
  {
   "cell_type": "code",
   "execution_count": 33,
   "id": "13fbb635",
   "metadata": {},
   "outputs": [
    {
     "data": {
      "text/html": [
       "<span style=\"white-space:pre; font-family: monospace\">┌→──┐\n",
       "↓2 7│\n",
       "│1 8│\n",
       "│2 8│\n",
       "└~──┘\n",
       "</span>"
      ]
     },
     "execution_count": 33,
     "metadata": {},
     "output_type": "execute_result"
    },
    {
     "data": {
      "text/html": [
       "<span style=\"white-space:pre; font-family: monospace\">┌→────┐\n",
       "│2 1 3│\n",
       "└~────┘\n",
       "</span>"
      ]
     },
     "execution_count": 33,
     "metadata": {},
     "output_type": "execute_result"
    }
   ],
   "source": [
    "3 2⍴2 7 1 8 2 8\n",
    "⍋3 2⍴2 7 1 8 2 8 "
   ]
  },
  {
   "cell_type": "markdown",
   "id": "df6ecd1c",
   "metadata": {},
   "source": [
    "So the first is row 2 `(1 8)` then row 1 `(2 7)` then row 3 `(2 8)`. It works on characters too, where it grades in Unicode point order: "
   ]
  },
  {
   "cell_type": "code",
   "execution_count": 34,
   "id": "f122e883",
   "metadata": {},
   "outputs": [
    {
     "data": {
      "text/html": [
       "<span style=\"white-space:pre; font-family: monospace\">┌→─┐\n",
       "↓He│\n",
       "│ll│\n",
       "│oW│\n",
       "│or│\n",
       "│ld│\n",
       "└──┘\n",
       "</span>"
      ]
     },
     "execution_count": 34,
     "metadata": {},
     "output_type": "execute_result"
    },
    {
     "data": {
      "text/html": [
       "<span style=\"white-space:pre; font-family: monospace\">┌→────────┐\n",
       "│1 5 2 3 4│\n",
       "└~────────┘\n",
       "</span>"
      ]
     },
     "execution_count": 34,
     "metadata": {},
     "output_type": "execute_result"
    },
    {
     "data": {
      "text/html": [
       "<span style=\"white-space:pre; font-family: monospace\">┌→─┐\n",
       "↓He│\n",
       "│ld│\n",
       "│ll│\n",
       "│oW│\n",
       "│or│\n",
       "└──┘\n",
       "</span>"
      ]
     },
     "execution_count": 34,
     "metadata": {},
     "output_type": "execute_result"
    }
   ],
   "source": [
    "5 2⍴'HelloWorld'\n",
    "⍋5 2⍴'HelloWorld'\n",
    "(5 2⍴'HelloWorld')[⍋5 2⍴'HelloWorld';] "
   ]
  },
  {
   "cell_type": "code",
   "execution_count": 35,
   "id": "4ab75e66",
   "metadata": {},
   "outputs": [
    {
     "data": {
      "text/html": [
       "<span style=\"white-space:pre; font-family: monospace\">┌┌→─┐\n",
       "↓↓He│\n",
       "││ll│\n",
       "││  │\n",
       "││o │\n",
       "││Wo│\n",
       "││  │\n",
       "││rl│\n",
       "││d │\n",
       "││  │\n",
       "││PP│\n",
       "││CG│\n",
       "└└──┘\n",
       "</span>"
      ]
     },
     "execution_count": 35,
     "metadata": {},
     "output_type": "execute_result"
    },
    {
     "data": {
      "text/html": [
       "<span style=\"white-space:pre; font-family: monospace\">┌→──────┐\n",
       "│1 4 2 3│\n",
       "└~──────┘\n",
       "</span>"
      ]
     },
     "execution_count": 35,
     "metadata": {},
     "output_type": "execute_result"
    }
   ],
   "source": [
    "4 2 2⍴'Hello World PPCG'   \n",
    "⍋4 2 2⍴'Hello World PPCG'  ⍝ layer grade up"
   ]
  },
  {
   "cell_type": "markdown",
   "id": "8d07facf",
   "metadata": {},
   "source": [
    "Layer 1, layer 4, layer 2, layer 3:"
   ]
  },
  {
   "cell_type": "code",
   "execution_count": 37,
   "id": "357a496c",
   "metadata": {},
   "outputs": [
    {
     "data": {
      "text/html": [
       "<span style=\"white-space:pre; font-family: monospace\">┌┌→─┐\n",
       "↓↓He│\n",
       "││ll│\n",
       "││  │\n",
       "││PP│\n",
       "││CG│\n",
       "││  │\n",
       "││o │\n",
       "││Wo│\n",
       "││  │\n",
       "││rl│\n",
       "││d │\n",
       "└└──┘\n",
       "</span>"
      ]
     },
     "execution_count": 37,
     "metadata": {},
     "output_type": "execute_result"
    }
   ],
   "source": [
    "{⍵[⍋⍵;;]}4 2 2⍴'Hello World PPCG'"
   ]
  },
  {
   "cell_type": "markdown",
   "id": "136f1584",
   "metadata": {},
   "source": [
    "`⍋⍋` is the cardinal numbers:"
   ]
  },
  {
   "cell_type": "code",
   "execution_count": 38,
   "id": "fd7df43e",
   "metadata": {},
   "outputs": [
    {
     "data": {
      "text/html": [
       "<span style=\"white-space:pre; font-family: monospace\">┌→──────┐\n",
       "│3 4 1 2│\n",
       "└~──────┘\n",
       "</span>"
      ]
     },
     "execution_count": 38,
     "metadata": {},
     "output_type": "execute_result"
    },
    {
     "data": {
      "text/html": [
       "<span style=\"white-space:pre; font-family: monospace\">┌→──────┐\n",
       "│3 4 1 2│\n",
       "└~──────┘\n",
       "</span>"
      ]
     },
     "execution_count": 38,
     "metadata": {},
     "output_type": "execute_result"
    }
   ],
   "source": [
    "⍋'PPCG' \n",
    "⍋⍋'PPCG' "
   ]
  },
  {
   "cell_type": "markdown",
   "id": "936f7c91",
   "metadata": {},
   "source": [
    "So P is the third, P is the fourth, C is the first, and G is the second. Applying `⍋` to a permutation inverts it (swaps between cardinal and grade). Another way to think about it is that `⍋` is the indices of cells in the order that would sort them. `⍋⍋` is the position each will take when sorted. If you think about it hard, you'll see why ⍋ swaps back and forth between these two. \n",
    "\n",
    "Here's an example where the grade and the cardinals differ:"
   ]
  },
  {
   "cell_type": "code",
   "execution_count": 39,
   "id": "cdf50588",
   "metadata": {},
   "outputs": [
    {
     "data": {
      "text/html": [
       "<span style=\"white-space:pre; font-family: monospace\">┌→──────────┐\n",
       "│2 4 6 3 5 1│\n",
       "└~──────────┘\n",
       "</span>"
      ]
     },
     "execution_count": 39,
     "metadata": {},
     "output_type": "execute_result"
    },
    {
     "data": {
      "text/html": [
       "<span style=\"white-space:pre; font-family: monospace\">┌→──────────┐\n",
       "│6 1 4 2 5 3│\n",
       "└~──────────┘\n",
       "</span>"
      ]
     },
     "execution_count": 39,
     "metadata": {},
     "output_type": "execute_result"
    },
    {
     "data": {
      "text/html": [
       "<span style=\"white-space:pre; font-family: monospace\">┌→──────────┐\n",
       "│2 4 6 3 5 1│\n",
       "└~──────────┘\n",
       "</span>"
      ]
     },
     "execution_count": 39,
     "metadata": {},
     "output_type": "execute_result"
    }
   ],
   "source": [
    "⍋'random'\n",
    "⍋⍋'random' \n",
    "⍋⍋⍋'random'  ⍝ grading the cardinals takes us back to grade"
   ]
  },
  {
   "cell_type": "markdown",
   "id": "8841aa37",
   "metadata": {},
   "source": [
    "`⍋` once is what order the elements would be in when sorted and `⍋` twice is the indices that each element would go to.\n",
    "\n",
    "Dyadic `⍋` is for character arrays only, and it grades as if the left argument was the alphabet: "
   ]
  },
  {
   "cell_type": "code",
   "execution_count": 40,
   "id": "90035fed",
   "metadata": {},
   "outputs": [
    {
     "data": {
      "text/html": [
       "<span style=\"white-space:pre; font-family: monospace\">┌→─────────┐\n",
       "│eoodhlllrw│\n",
       "└──────────┘\n",
       "</span>"
      ]
     },
     "execution_count": 40,
     "metadata": {},
     "output_type": "execute_result"
    }
   ],
   "source": [
    "{⍵['aeioubcdfghjklmnpqrstvwxyz'⍋⍵]}'helloworld'"
   ]
  },
  {
   "cell_type": "markdown",
   "id": "aac1fcac",
   "metadata": {},
   "source": [
    "If characters are missing from the alphabet, they will be considered after the alphabet, and equivalent:"
   ]
  },
  {
   "cell_type": "code",
   "execution_count": 41,
   "id": "d48b7efb",
   "metadata": {},
   "outputs": [
    {
     "data": {
      "text/html": [
       "<span style=\"white-space:pre; font-family: monospace\">┌→──────┐\n",
       "│2 1 3 4│\n",
       "└~──────┘\n",
       "</span>"
      ]
     },
     "execution_count": 41,
     "metadata": {},
     "output_type": "execute_result"
    }
   ],
   "source": [
    "'abcdefgh'⍋'hawl'"
   ]
  },
  {
   "cell_type": "markdown",
   "id": "87ee2f0b",
   "metadata": {},
   "source": [
    "Dyadic `⍋` can also use multiple levels of sorting: "
   ]
  },
  {
   "cell_type": "code",
   "execution_count": 42,
   "id": "a2a9f231",
   "metadata": {},
   "outputs": [
    {
     "data": {
      "text/html": [
       "<span style=\"white-space:pre; font-family: monospace\">┌→─┐\n",
       "↓ab│\n",
       "│ec│\n",
       "│id│\n",
       "│of│\n",
       "│ug│\n",
       "│ h│\n",
       "│ j│\n",
       "│ k│\n",
       "│ l│\n",
       "│ m│\n",
       "│ n│\n",
       "│ p│\n",
       "│ q│\n",
       "│ r│\n",
       "│ s│\n",
       "│ t│\n",
       "│ v│\n",
       "│ w│\n",
       "│ x│\n",
       "│ y│\n",
       "│ z│\n",
       "└──┘\n",
       "</span>"
      ]
     },
     "execution_count": 42,
     "metadata": {},
     "output_type": "execute_result"
    }
   ],
   "source": [
    "⍉↑'aeiou' 'bcdfghjklmnpqrstvwxyz'"
   ]
  },
  {
   "cell_type": "markdown",
   "id": "2c8e2dff",
   "metadata": {},
   "source": [
    "This 2D \"alphabet\" means that all vowels should come before all consonants, and only if otherwise the same, the vertical order will be considered. "
   ]
  },
  {
   "cell_type": "code",
   "execution_count": 43,
   "id": "49a844b9",
   "metadata": {},
   "outputs": [
    {
     "data": {
      "text/html": [
       "<span style=\"white-space:pre; font-family: monospace\">┌→─────────┐\n",
       "│eoodhlllrw│\n",
       "└──────────┘\n",
       "</span>"
      ]
     },
     "execution_count": 43,
     "metadata": {},
     "output_type": "execute_result"
    }
   ],
   "source": [
    "{⍵[(⍉↑'aeiou' 'bcdfghjklmnpqrstvwxyz')⍋⍵]}'helloworld'"
   ]
  },
  {
   "cell_type": "markdown",
   "id": "75ad64b0",
   "metadata": {},
   "source": [
    "This sorted all vowels before all consonants, and only then did it sort the vowels and the consonants. You can have up to 15 levels of sorting using this. If a letter occurs more than once, then its first occurrence rules. This is useful to fill gaps in (e.g.) columns of unequal height.\n",
    "\n",
    "There is also `⍒`, which is [grade down](http://help.dyalog.com/latest/index.htm#Language/Primitive%20Functions/Grade%20Down%20Monadic.htm), which follows the pattern of `⍋`, but sorts the other way."
   ]
  },
  {
   "cell_type": "code",
   "execution_count": null,
   "id": "3ce56865",
   "metadata": {},
   "outputs": [],
   "source": []
  }
 ],
 "metadata": {
  "kernelspec": {
   "display_name": "Dyalog APL",
   "language": "apl",
   "name": "dyalog-kernel"
  },
  "language_info": {
   "file_extension": ".apl",
   "mimetype": "text/apl",
   "name": "APL"
  }
 },
 "nbformat": 4,
 "nbformat_minor": 5
}

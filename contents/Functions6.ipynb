{
 "cells": [
  {
   "cell_type": "markdown",
   "id": "47810870",
   "metadata": {},
   "source": [
    "# `⍳⍸∊⍷∪∩~`\n",
    "\n",
    "## Index generator `⍳`\n",
    "\n",
    "Monadic `⍳` is the [index generator](http://help.dyalog.com/latest/index.htm#Language/Primitive%20Functions/Index%20Generator.htm). `⍳a` generates an array of shape a where the elements are the indices for that element: "
   ]
  },
  {
   "cell_type": "code",
   "execution_count": 1,
   "id": "c77a5e25",
   "metadata": {},
   "outputs": [
    {
     "data": {
      "text/html": [
       "<span style=\"white-space:pre; font-family: monospace\">1 2 3 4 5 6 7 8 9 10\n",
       "</span>"
      ]
     },
     "execution_count": 1,
     "metadata": {},
     "output_type": "execute_result"
    },
    {
     "data": {
      "text/html": [
       "<span style=\"white-space:pre; font-family: monospace\">┌───┬───┬───┬───┐\n",
       "│1 1│1 2│1 3│1 4│\n",
       "├───┼───┼───┼───┤\n",
       "│2 1│2 2│2 3│2 4│\n",
       "└───┴───┴───┴───┘\n",
       "</span>"
      ]
     },
     "execution_count": 1,
     "metadata": {},
     "output_type": "execute_result"
    }
   ],
   "source": [
    "⍳10\n",
    "⍳2 4"
   ]
  },
  {
   "cell_type": "markdown",
   "id": "a4cfb378",
   "metadata": {},
   "source": [
    "Any bets on what `⍳0` gives?"
   ]
  },
  {
   "cell_type": "code",
   "execution_count": 2,
   "id": "fc91d5db",
   "metadata": {},
   "outputs": [
    {
     "data": {
      "text/html": [
       "<span style=\"white-space:pre; font-family: monospace\">┌⊖┐\n",
       "│0│\n",
       "└~┘\n",
       "</span>"
      ]
     },
     "execution_count": 2,
     "metadata": {},
     "output_type": "execute_result"
    }
   ],
   "source": [
    "]display ⍳0"
   ]
  },
  {
   "cell_type": "markdown",
   "id": "824411f9",
   "metadata": {},
   "source": [
    "The empty numeric list. What about `⍳0 0`?"
   ]
  },
  {
   "cell_type": "code",
   "execution_count": 3,
   "id": "62749a42",
   "metadata": {},
   "outputs": [
    {
     "data": {
      "text/html": [
       "<span style=\"white-space:pre; font-family: monospace\">┌⊖──────┐\n",
       "⌽ ┌→──┐ │\n",
       "│ │0 0│ │\n",
       "│ └~──┘ │\n",
       "└∊──────┘\n",
       "</span>"
      ]
     },
     "execution_count": 3,
     "metadata": {},
     "output_type": "execute_result"
    }
   ],
   "source": [
    "]display ⍳0 0"
   ]
  },
  {
   "cell_type": "markdown",
   "id": "09eaa1b0",
   "metadata": {},
   "source": [
    "This is the same as `0 0⍴⍬`; a 0x0 empty numeric matrix."
   ]
  },
  {
   "cell_type": "markdown",
   "id": "a1924a01",
   "metadata": {},
   "source": [
    "## Index-of `⍳`\n",
    "\n",
    "The dyadic version `A⍳B` is [index-of](http://help.dyalog.com/latest/index.htm#Language/Primitive%20Functions/Index%20Of.htm). It finds the first occurrence of the major cells of `B` in the major cells of `A`: "
   ]
  },
  {
   "cell_type": "code",
   "execution_count": 4,
   "id": "ee4cdd12",
   "metadata": {},
   "outputs": [
    {
     "data": {
      "text/html": [
       "<span style=\"white-space:pre; font-family: monospace\">3\n",
       "</span>"
      ]
     },
     "execution_count": 4,
     "metadata": {},
     "output_type": "execute_result"
    },
    {
     "data": {
      "text/html": [
       "<span style=\"white-space:pre; font-family: monospace\">3 5\n",
       "</span>"
      ]
     },
     "execution_count": 4,
     "metadata": {},
     "output_type": "execute_result"
    }
   ],
   "source": [
    "'hello'⍳'l'\n",
    "'hello'⍳'lo' "
   ]
  },
  {
   "cell_type": "markdown",
   "id": "1e155ead",
   "metadata": {},
   "source": [
    "If a cell is not a member, it will return a number one higher than the number of elements:"
   ]
  },
  {
   "cell_type": "code",
   "execution_count": 5,
   "id": "ef0cfc85",
   "metadata": {},
   "outputs": [
    {
     "data": {
      "text/html": [
       "<span style=\"white-space:pre; font-family: monospace\">6\n",
       "</span>"
      ]
     },
     "execution_count": 5,
     "metadata": {},
     "output_type": "execute_result"
    }
   ],
   "source": [
    "'hello'⍳'x'"
   ]
  },
  {
   "cell_type": "code",
   "execution_count": 6,
   "id": "4fc7f8b2",
   "metadata": {},
   "outputs": [
    {
     "data": {
      "text/html": [
       "<span style=\"white-space:pre; font-family: monospace\">2 4\n",
       "</span>"
      ]
     },
     "execution_count": 6,
     "metadata": {},
     "output_type": "execute_result"
    }
   ],
   "source": [
    "(3 2⍴'abcdef')⍳(2 2⍴'cdxy')"
   ]
  },
  {
   "cell_type": "markdown",
   "id": "a36a2a24",
   "metadata": {},
   "source": [
    "So the \"cd\" row is the second one, and the \"xy\" row is not there. This behaviour for elements that are not there is really useful for supplying a \"default\":"
   ]
  },
  {
   "cell_type": "code",
   "execution_count": 7,
   "id": "d523341e",
   "metadata": {},
   "outputs": [
    {
     "data": {
      "text/html": [
       "<span style=\"white-space:pre; font-family: monospace\">┌─────┬───────┬─────┬──────┐\n",
       "│Third│Missing│First│Second│\n",
       "└─────┴───────┴─────┴──────┘\n",
       "</span>"
      ]
     },
     "execution_count": 7,
     "metadata": {},
     "output_type": "execute_result"
    }
   ],
   "source": [
    "'First' 'Second' 'Third' 'Missing'['abc'⍳'cdab']"
   ]
  },
  {
   "cell_type": "markdown",
   "id": "562caddf",
   "metadata": {},
   "source": [
    "## Where `⍸`\n",
    "\n",
    "Monadic `⍸` is [where](http://help.dyalog.com/latest/index.htm#Language/Primitive%20Functions/Where.htm). It just takes a simple array and returns the list of non-zero indices. "
   ]
  },
  {
   "cell_type": "code",
   "execution_count": 8,
   "id": "5cc24f02",
   "metadata": {},
   "outputs": [
    {
     "data": {
      "text/html": [
       "<span style=\"white-space:pre; font-family: monospace\">2 4 5\n",
       "</span>"
      ]
     },
     "execution_count": 8,
     "metadata": {},
     "output_type": "execute_result"
    }
   ],
   "source": [
    "⍸0 1 0 1 1 "
   ]
  },
  {
   "cell_type": "code",
   "execution_count": 9,
   "id": "8e81e0ea",
   "metadata": {},
   "outputs": [
    {
     "data": {
      "text/html": [
       "<span style=\"white-space:pre; font-family: monospace\">0 1 0\n",
       "1 1 0\n",
       "</span>"
      ]
     },
     "execution_count": 9,
     "metadata": {},
     "output_type": "execute_result"
    },
    {
     "data": {
      "text/html": [
       "<span style=\"white-space:pre; font-family: monospace\">┌───┬───┬───┐\n",
       "│1 2│2 1│2 2│\n",
       "└───┴───┴───┘\n",
       "</span>"
      ]
     },
     "execution_count": 9,
     "metadata": {},
     "output_type": "execute_result"
    }
   ],
   "source": [
    "⊢m←2 3⍴0 1 0 1 1 0\n",
    "⍸m"
   ]
  },
  {
   "cell_type": "markdown",
   "id": "6a3c461c",
   "metadata": {},
   "source": [
    "If the argument array is not Boolean, the values are taken to mean the repeat count for each index:"
   ]
  },
  {
   "cell_type": "code",
   "execution_count": 10,
   "id": "9cee8b1a",
   "metadata": {},
   "outputs": [
    {
     "data": {
      "text/html": [
       "<span style=\"white-space:pre; font-family: monospace\">┌───┬───┬───┬───┬───┬───┐\n",
       "│1 2│1 2│2 1│2 1│2 2│2 2│\n",
       "└───┴───┴───┴───┴───┴───┘\n",
       "</span>"
      ]
     },
     "execution_count": 10,
     "metadata": {},
     "output_type": "execute_result"
    }
   ],
   "source": [
    "⍸2 3⍴0 2 0 2 2 0"
   ]
  },
  {
   "cell_type": "markdown",
   "id": "351b2a7c",
   "metadata": {},
   "source": [
    "A code golf trick: sum a Boolean array with `≢⍸` instead of `+/`,"
   ]
  },
  {
   "cell_type": "code",
   "execution_count": 11,
   "id": "1947e6ed",
   "metadata": {},
   "outputs": [
    {
     "data": {
      "text/html": [
       "<span style=\"white-space:pre; font-family: monospace\">3\n",
       "</span>"
      ]
     },
     "execution_count": 11,
     "metadata": {},
     "output_type": "execute_result"
    }
   ],
   "source": [
    "≢⍸2 3⍴0 1 0 1 1 0"
   ]
  },
  {
   "cell_type": "markdown",
   "id": "c5141145",
   "metadata": {},
   "source": [
    "## Interval index `⍸`\n",
    "\n",
    "Dyadic `⍸` is [interval index](http://help.dyalog.com/latest/index.htm#Language/Primitive%20Functions/Interval%20Index.htm). It takes a list of sorted arrays on the left, and for each array on the right, tells which \"gap\" (interval) it belongs."
   ]
  },
  {
   "cell_type": "code",
   "execution_count": 12,
   "id": "839e626b",
   "metadata": {},
   "outputs": [
    {
     "data": {
      "text/html": [
       "<span style=\"white-space:pre; font-family: monospace\">0 3 4 1 2\n",
       "</span>"
      ]
     },
     "execution_count": 12,
     "metadata": {},
     "output_type": "execute_result"
    }
   ],
   "source": [
    "1 10 100 1000⍸0 500 2000 3 10"
   ]
  },
  {
   "cell_type": "markdown",
   "id": "1fcf8ced",
   "metadata": {},
   "source": [
    "So 0 is in interval number 0 (that is, before 1–10). 500 is in interval 3, which is 100–1000, etc.\n",
    "And as you can see from 10, it is in interval 2; 10–100. So intervals are [min,max).\n",
    "For higher rank arrays, it works like _grade_, i.e. on major cells.\n",
    "\n",
    "## Membership `∊`\n",
    "\n",
    "Dyadic `∊` is [membership](http://help.dyalog.com/latest/index.htm#Language/Primitive%20Functions/Membership.htm). For each scalar in the left argument, return a Boolean if it is a member of the right argument: "
   ]
  },
  {
   "cell_type": "code",
   "execution_count": 13,
   "id": "b844daee",
   "metadata": {},
   "outputs": [
    {
     "data": {
      "text/html": [
       "<span style=\"white-space:pre; font-family: monospace\">0 1 0 1 0\n",
       "</span>"
      ]
     },
     "execution_count": 13,
     "metadata": {},
     "output_type": "execute_result"
    }
   ],
   "source": [
    "'aeiou'∊'Hello World'"
   ]
  },
  {
   "cell_type": "markdown",
   "id": "c271175e",
   "metadata": {},
   "source": [
    "Question:\n",
    "> Does APL have an \"insert at index\" command? As in, given an array, an index and a value, insert value at the index in the array. Example: [1, 2, 4, 5], 2, 3 => [1, 2, 3, 4, 5]\n",
    "\n",
    "There are a couple of approaches: "
   ]
  },
  {
   "cell_type": "code",
   "execution_count": 14,
   "id": "9186f95a",
   "metadata": {},
   "outputs": [
    {
     "data": {
      "text/html": [
       "<span style=\"white-space:pre; font-family: monospace\">1 2 3 4 5\n",
       "</span>"
      ]
     },
     "execution_count": 14,
     "metadata": {},
     "output_type": "execute_result"
    }
   ],
   "source": [
    "∊(⊂,∘3)@2⊢1 2 4 5"
   ]
  },
  {
   "cell_type": "markdown",
   "id": "298b3e46",
   "metadata": {},
   "source": [
    "This appended a 3 to the 2, then flattened. You flatten with monadic `∊` which is the function we're up to. A more traditional and better performing approach would be: "
   ]
  },
  {
   "cell_type": "code",
   "execution_count": 15,
   "id": "622e1256",
   "metadata": {},
   "outputs": [
    {
     "data": {
      "text/html": [
       "<span style=\"white-space:pre; font-family: monospace\">1 2 3 4 5\n",
       "</span>"
      ]
     },
     "execution_count": 15,
     "metadata": {},
     "output_type": "execute_result"
    }
   ],
   "source": [
    "{3@(1+2)⊢⍵\\⍨1+2=⍳≢⍵}1 2 4 5"
   ]
  },
  {
   "cell_type": "markdown",
   "id": "472d4288",
   "metadata": {},
   "source": [
    "but we have not covered the `\\` function yet.\n",
    "\n",
    "## Enlist `∊`\n",
    "\n",
    "`∊` is [enlist](http://help.dyalog.com/latest/index.htm#Language/Primitive%20Functions/Enlist.htm):"
   ]
  },
  {
   "cell_type": "code",
   "execution_count": 16,
   "id": "5a437ae8",
   "metadata": {},
   "outputs": [
    {
     "data": {
      "text/html": [
       "<span style=\"white-space:pre; font-family: monospace\">┌─────┬───┐\n",
       "│1 2 3│1 2│\n",
       "│     │3 4│\n",
       "└─────┴───┘\n",
       "</span>"
      ]
     },
     "execution_count": 16,
     "metadata": {},
     "output_type": "execute_result"
    },
    {
     "data": {
      "text/html": [
       "<span style=\"white-space:pre; font-family: monospace\">1 2 3 1 2 3 4\n",
       "</span>"
      ]
     },
     "execution_count": 16,
     "metadata": {},
     "output_type": "execute_result"
    }
   ],
   "source": [
    "⊢m←(⍳3)(2 2⍴⍳4)\n",
    "∊m"
   ]
  },
  {
   "cell_type": "markdown",
   "id": "0c6e556d",
   "metadata": {},
   "source": [
    "## Find `⍷`\n",
    "\n",
    "Next up is `⍷` which is (as of yet) only dyadic. `⍷` is [find](http://help.dyalog.com/latest/index.htm#Language/Primitive%20Functions/Find.htm). It returns a Boolean array of the right argument's shape with a 1 at the \"top left\" corner of occurrences of the left argument in the right argument: "
   ]
  },
  {
   "cell_type": "code",
   "execution_count": 17,
   "id": "b1c1a563",
   "metadata": {},
   "outputs": [
    {
     "data": {
      "text/html": [
       "<span style=\"white-space:pre; font-family: monospace\">0 0 1 0 0 1 0 0 0 0 0\n",
       "</span>"
      ]
     },
     "execution_count": 17,
     "metadata": {},
     "output_type": "execute_result"
    }
   ],
   "source": [
    "'ss'⍷'Mississippi'"
   ]
  },
  {
   "cell_type": "markdown",
   "id": "ca887361",
   "metadata": {},
   "source": [
    "The ones here indicate the left \"s\" wherever \"ss\" begins. It also works for overlaps, "
   ]
  },
  {
   "cell_type": "code",
   "execution_count": 18,
   "id": "978375bc",
   "metadata": {},
   "outputs": [
    {
     "data": {
      "text/html": [
       "<span style=\"white-space:pre; font-family: monospace\">0 0 1 0 1 0 0\n",
       "</span>"
      ]
     },
     "execution_count": 18,
     "metadata": {},
     "output_type": "execute_result"
    }
   ],
   "source": [
    "'aba'⍷'alababa'"
   ]
  },
  {
   "cell_type": "markdown",
   "id": "dd5a9289",
   "metadata": {},
   "source": [
    "and for higher-rank arrays:"
   ]
  },
  {
   "cell_type": "code",
   "execution_count": 19,
   "id": "88268477",
   "metadata": {},
   "outputs": [
    {
     "data": {
      "text/html": [
       "<span style=\"white-space:pre; font-family: monospace\">0 1\n",
       "0 0\n",
       "</span>"
      ]
     },
     "execution_count": 19,
     "metadata": {},
     "output_type": "execute_result"
    },
    {
     "data": {
      "text/html": [
       "<span style=\"white-space:pre; font-family: monospace\">0 1 1\n",
       "0 0 1\n",
       "1 0 0\n",
       "</span>"
      ]
     },
     "execution_count": 19,
     "metadata": {},
     "output_type": "execute_result"
    },
    {
     "data": {
      "text/html": [
       "<span style=\"white-space:pre; font-family: monospace\">1 0 0\n",
       "0 1 0\n",
       "0 0 0\n",
       "</span>"
      ]
     },
     "execution_count": 19,
     "metadata": {},
     "output_type": "execute_result"
    }
   ],
   "source": [
    "2 2⍴0 1 0\n",
    "3 3⍴0 1 1 0\n",
    "(2 2⍴0 1 0)⍷(3 3⍴0 1 1 0)"
   ]
  },
  {
   "cell_type": "markdown",
   "id": "882ee1b3",
   "metadata": {},
   "source": [
    "and also for nested arrays, too:"
   ]
  },
  {
   "cell_type": "code",
   "execution_count": 20,
   "id": "e8a3a9b7",
   "metadata": {},
   "outputs": [
    {
     "data": {
      "text/html": [
       "<span style=\"white-space:pre; font-family: monospace\">0 1 0 0 0 1 0\n",
       "</span>"
      ]
     },
     "execution_count": 20,
     "metadata": {},
     "output_type": "execute_result"
    }
   ],
   "source": [
    "'aa' 'bbb'⍷'c' 'aa' 'bbb' 'dddd' 'aa' 'aa' 'bbb'"
   ]
  },
  {
   "cell_type": "markdown",
   "id": "21f6df22",
   "metadata": {},
   "source": [
    "Quiz using `⍷`: Determine if A is a prefix of B. \n",
    "\n",
    "<details><summary><a>Click for quiz answer</a></summary><code>⊃⍷</code></details>\n",
    "\n",
    "How about: Is A a suffix of B?\n",
    "\n",
    "<details><summary><a>Click for quiz answer</a></summary><code>{⊃(⊖⍺)⍷⊖⍵}</code></details>"
   ]
  },
  {
   "cell_type": "markdown",
   "id": "07bef861",
   "metadata": {},
   "source": [
    "## Union `∪`\n",
    "\n",
    "Next function is dyadic `∪`. It is basically [union](http://help.dyalog.com/latest/index.htm#Language/Primitive%20Functions/Union.htm) of multi-sets. However, it is symmetrical in a way you can often use to your advantage: "
   ]
  },
  {
   "cell_type": "code",
   "execution_count": 21,
   "id": "a30f39ad",
   "metadata": {},
   "outputs": [
    {
     "data": {
      "text/html": [
       "<span style=\"white-space:pre; font-family: monospace\">abccd\n",
       "</span>"
      ]
     },
     "execution_count": 21,
     "metadata": {},
     "output_type": "execute_result"
    },
    {
     "data": {
      "text/html": [
       "<span style=\"white-space:pre; font-family: monospace\">cdab\n",
       "</span>"
      ]
     },
     "execution_count": 21,
     "metadata": {},
     "output_type": "execute_result"
    }
   ],
   "source": [
    "'abcc'∪'cda'\n",
    "'cda'∪'abcc'"
   ]
  },
  {
   "cell_type": "markdown",
   "id": "0239d500",
   "metadata": {},
   "source": [
    "It preserves duplicates from the left argument, while only adding the items from the right necessary to make the result contain all elements from both. It will add duplicate elements from the right if they are not in the left, though: "
   ]
  },
  {
   "cell_type": "code",
   "execution_count": 22,
   "id": "90126a45",
   "metadata": {},
   "outputs": [
    {
     "data": {
      "text/html": [
       "<span style=\"white-space:pre; font-family: monospace\">abccdd\n",
       "</span>"
      ]
     },
     "execution_count": 22,
     "metadata": {},
     "output_type": "execute_result"
    }
   ],
   "source": [
    "'abcc'∪'cdda'"
   ]
  },
  {
   "cell_type": "markdown",
   "id": "ada95534",
   "metadata": {},
   "source": [
    "## Unique `∪`\n",
    "\n",
    "The monadic `∪` is [unique](http://help.dyalog.com/latest/index.htm#Language/Primitive%20Functions/Unique.htm). It simply removes duplicates: "
   ]
  },
  {
   "cell_type": "code",
   "execution_count": 23,
   "id": "a3e2d1c1",
   "metadata": {},
   "outputs": [
    {
     "data": {
      "text/html": [
       "<span style=\"white-space:pre; font-family: monospace\">Misp\n",
       "</span>"
      ]
     },
     "execution_count": 23,
     "metadata": {},
     "output_type": "execute_result"
    }
   ],
   "source": [
    "∪'Mississippi'"
   ]
  },
  {
   "cell_type": "markdown",
   "id": "526dae1b",
   "metadata": {},
   "source": [
    "## Intersection `∩`\n",
    "\n",
    "Dyadic `∩` is, of course, [intersection](http://help.dyalog.com/latest/index.htm#Language/Primitive%20Functions/Intersection.htm), again asymmetric: "
   ]
  },
  {
   "cell_type": "code",
   "execution_count": 24,
   "id": "6be85ce2",
   "metadata": {},
   "outputs": [
    {
     "data": {
      "text/html": [
       "<span style=\"white-space:pre; font-family: monospace\">acc\n",
       "</span>"
      ]
     },
     "execution_count": 24,
     "metadata": {},
     "output_type": "execute_result"
    },
    {
     "data": {
      "text/html": [
       "<span style=\"white-space:pre; font-family: monospace\">ca\n",
       "</span>"
      ]
     },
     "execution_count": 24,
     "metadata": {},
     "output_type": "execute_result"
    }
   ],
   "source": [
    "'abcc'∩'cda'\n",
    "'cda'∩'abcc'"
   ]
  },
  {
   "cell_type": "markdown",
   "id": "b5a88337",
   "metadata": {},
   "source": [
    "It removes elements from the left which are not present in the right. Duplicates in the right do not matter.\n",
    "\n",
    "## Without `~`\n",
    "\n",
    "The last multi-set function is dyadic `~` which is [without](http://help.dyalog.com/latest/index.htm#Language/Primitive%20Functions/Excluding.htm) or _except_. It simply removes from the left whatever is on the right. Note that it can take even high-rank right arguments. "
   ]
  },
  {
   "cell_type": "code",
   "execution_count": 25,
   "id": "0b21d932",
   "metadata": {},
   "outputs": [
    {
     "data": {
      "text/html": [
       "<span style=\"white-space:pre; font-family: monospace\">Miiii\n",
       "</span>"
      ]
     },
     "execution_count": 25,
     "metadata": {},
     "output_type": "execute_result"
    }
   ],
   "source": [
    "'Mississippi'~'pss'"
   ]
  },
  {
   "cell_type": "markdown",
   "id": "cb7fed8e",
   "metadata": {},
   "source": [
    "## NOT `~`\n",
    "\n",
    "Monadic `~` is logical [NOT](http://help.dyalog.com/latest/index.htm#Language/Primitive%20Functions/Not.htm), simply swapping `1→0` and `0→1`:"
   ]
  },
  {
   "cell_type": "code",
   "execution_count": 26,
   "id": "1d9072ba",
   "metadata": {},
   "outputs": [
    {
     "data": {
      "text/html": [
       "<span style=\"white-space:pre; font-family: monospace\">┌─────┬─────┐\n",
       "│0 1 1│1 0 0│\n",
       "│0 0 1│1 1 0│\n",
       "│1 0 0│0 1 1│\n",
       "└─────┴─────┘\n",
       "</span>"
      ]
     },
     "execution_count": 26,
     "metadata": {},
     "output_type": "execute_result"
    }
   ],
   "source": [
    "(3 3⍴0 1 1 0) (~3 3⍴0 1 1 0)"
   ]
  },
  {
   "cell_type": "code",
   "execution_count": null,
   "id": "3ce41dcc",
   "metadata": {},
   "outputs": [],
   "source": []
  }
 ],
 "metadata": {
  "kernelspec": {
   "display_name": "Dyalog APL",
   "language": "apl",
   "name": "dyalog-kernel"
  },
  "language_info": {
   "file_extension": ".apl",
   "mimetype": "text/apl",
   "name": "APL"
  }
 },
 "nbformat": 4,
 "nbformat_minor": 5
}

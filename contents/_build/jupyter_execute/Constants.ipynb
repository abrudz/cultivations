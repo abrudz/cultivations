{
 "cells": [
  {
   "cell_type": "markdown",
   "id": "959bf46f",
   "metadata": {},
   "source": [
    "# Constants, tools and utils\n",
    "\n",
    "In this chapter we'll cover some system constants and utility functions.\n",
    "\n",
    "## `⎕A`\n",
    "\n",
    "`⎕A` is the [uppercase English alphabet](http://help.dyalog.com/latest/index.htm#Language/System%20Functions/a.htm) :"
   ]
  },
  {
   "cell_type": "code",
   "execution_count": 2,
   "id": "40e96f7d",
   "metadata": {},
   "outputs": [
    {
     "data": {
      "text/html": [
       "<span style=\"white-space:pre; font-family: monospace\">ABCDEFGHIJKLMNOPQRSTUVWXYZ\n",
       "</span>"
      ]
     },
     "execution_count": 2,
     "metadata": {},
     "output_type": "execute_result"
    }
   ],
   "source": [
    "⎕A"
   ]
  },
  {
   "cell_type": "markdown",
   "id": "7b521fe8",
   "metadata": {},
   "source": [
    "There is no built-in for the lowercase alphabet, but you can get it with the [case convert](http://help.dyalog.com/latest/index.htm#Language/System%20Functions/c.htm) system function, `⎕C`, using a `¯1` left argument:"
   ]
  },
  {
   "cell_type": "code",
   "execution_count": 6,
   "id": "592a4115",
   "metadata": {},
   "outputs": [
    {
     "data": {
      "text/html": [
       "<span style=\"white-space:pre; font-family: monospace\">abcdefghijklmnopqrstuvwxyz\n",
       "</span>"
      ]
     },
     "execution_count": 6,
     "metadata": {},
     "output_type": "execute_result"
    }
   ],
   "source": [
    "¯1⎕C⎕A"
   ]
  },
  {
   "cell_type": "markdown",
   "id": "b19ab268",
   "metadata": {},
   "source": [
    "## `⎕D`\n",
    "\n",
    "`⎕D` has the [digits](help.dyalog.com/latest/index.htm#Language/System%20Functions/d.htm):"
   ]
  },
  {
   "cell_type": "code",
   "execution_count": 7,
   "id": "d38b6633",
   "metadata": {},
   "outputs": [
    {
     "data": {
      "text/html": [
       "<span style=\"white-space:pre; font-family: monospace\">0123456789\n",
       "</span>"
      ]
     },
     "execution_count": 7,
     "metadata": {},
     "output_type": "execute_result"
    }
   ],
   "source": [
    "⎕D"
   ]
  },
  {
   "cell_type": "markdown",
   "id": "478f4667",
   "metadata": {},
   "source": [
    "## `⎕NULL`\n",
    "\n",
    "`⎕NULL` is a [scalar null](help.dyalog.com/latest/index.htm#Language/System%20Functions/d.htm) value. It isn't really used much in APL itself, but you can meet it e.g. when importing spreadsheets where it represents empty cells.  Note that it is _not_ JSON `null`, which is represented as `⊂'null'` to match true and false being `⊂'true'` and `⊂'false'`.  Note also that `⎕NULL` equals itself. These three (`⎕A ⎕D ⎕NULL`) are system _constants_; you can't assign to them. \n",
    "\n",
    "## `⎕SH ⎕CMD`\n",
    "\n",
    "[`⎕CMD`](http://help.dyalog.com/latest/index.htm#Language/System%20Functions/cmd.htm) and [`⎕SH`](http://help.dyalog.com/latest/index.htm#Language/System%20Functions/sh.htm) are exactly identical, but obviously the first feels more natural to Windows users while the second feels more natural to UNIX users. Pressing f1 on them will give you the help appropriate for that OS. As you, of course, can guess, they are used to call the OS command processor:"
   ]
  },
  {
   "cell_type": "code",
   "execution_count": 8,
   "id": "1e9d8ca9",
   "metadata": {},
   "outputs": [
    {
     "data": {
      "text/html": [
       "<span style=\"white-space:pre; font-family: monospace\">Applications\n",
       "Library\n",
       "System\n",
       "Users\n",
       "Volumes\n",
       "bin\n",
       "cores\n",
       "dev\n",
       "etc\n",
       "home\n",
       "opt\n",
       "private\n",
       "sbin\n",
       "tmp\n",
       "usr\n",
       "var\n",
       "</span>"
      ]
     },
     "execution_count": 8,
     "metadata": {},
     "output_type": "execute_result"
    }
   ],
   "source": [
    "⎕SH'ls /'"
   ]
  },
  {
   "cell_type": "markdown",
   "id": "c18f29dd",
   "metadata": {},
   "source": [
    "## `⎕CSV`\n",
    "\n",
    "`⎕CSV` will import and export [Character Separated Values](http://help.dyalog.com/latest/index.htm#Language/System%20Functions/csv.htm)."
   ]
  },
  {
   "cell_type": "code",
   "execution_count": 9,
   "id": "1461e330",
   "metadata": {},
   "outputs": [
    {
     "data": {
      "text/html": [
       "<span style=\"white-space:pre; font-family: monospace\">┌───┬───┬─┐\n",
       "│abc│def│3│\n",
       "└───┴───┴─┘\n",
       "</span>"
      ]
     },
     "execution_count": 9,
     "metadata": {},
     "output_type": "execute_result"
    }
   ],
   "source": [
    "⎕CSV '\"abc\",\"def\",3' 'S'"
   ]
  },
  {
   "cell_type": "markdown",
   "id": "ab212d06",
   "metadata": {},
   "source": [
    "It has a ton of options for almost anything you could want, including import and export directly to and from text files. \n",
    "\n",
    "## `⎕DR`\n",
    "\n",
    "`⎕DR` is [Data Representation](http://help.dyalog.com/latest/index.htm#Language/System%20Functions/dr.htm). Monadically, it will tell you how an array is represented internally, and dyadically, it allows you to convert between data types: "
   ]
  },
  {
   "cell_type": "code",
   "execution_count": 10,
   "id": "f10d5bc6",
   "metadata": {},
   "outputs": [
    {
     "data": {
      "text/html": [
       "<span style=\"white-space:pre; font-family: monospace\">83\n",
       "</span>"
      ]
     },
     "execution_count": 10,
     "metadata": {},
     "output_type": "execute_result"
    }
   ],
   "source": [
    "⎕DR 42"
   ]
  },
  {
   "cell_type": "markdown",
   "id": "4bab4ba9",
   "metadata": {},
   "source": [
    "Dyalog APL data type codes have two parts, the 1's place and the rest. The 1's place tells you which kind of data it is, the rest tells you how many bits are used to store it, with one exception: pointers are always 326 even on 64 bit systems. The number 42 gave us 83, where 3 means integer and 8 means 8-bit. \n",
    "\n",
    "Dyalog APL has single-bit Boolean arrays, so they are type 11 where the rightmost 1 means Boolean, and the leftmost 1 means 1-bit. "
   ]
  },
  {
   "cell_type": "code",
   "execution_count": 11,
   "id": "d42bde16",
   "metadata": {},
   "outputs": [
    {
     "data": {
      "text/html": [
       "<span style=\"white-space:pre; font-family: monospace\">11\n",
       "</span>"
      ]
     },
     "execution_count": 11,
     "metadata": {},
     "output_type": "execute_result"
    }
   ],
   "source": [
    "⎕DR 1 0 1 1 1 0"
   ]
  },
  {
   "cell_type": "markdown",
   "id": "c48e57aa",
   "metadata": {},
   "source": [
    "Dyadic `⎕DR` lets you convert between types: "
   ]
  },
  {
   "cell_type": "code",
   "execution_count": 12,
   "id": "418aaed1",
   "metadata": {},
   "outputs": [
    {
     "data": {
      "text/html": [
       "<span style=\"white-space:pre; font-family: monospace\">0 0 1 0 1 0 1 0\n",
       "</span>"
      ]
     },
     "execution_count": 12,
     "metadata": {},
     "output_type": "execute_result"
    }
   ],
   "source": [
    "11⎕DR 42"
   ]
  },
  {
   "cell_type": "markdown",
   "id": "34082c80",
   "metadata": {},
   "source": [
    "This takes the memory which was used to represent 42 and interprets it as if it was a Boolean array. \n",
    "You can also combine two steps of `⎕DR` into one. A two-element left argument will interpret the right argument as that type, then convert it to the type given by the second element of the left argument. \n",
    "\n",
    "## `⎕FMT`\n",
    "\n",
    "`⎕FMT` is [ForMaT](http://help.dyalog.com/latest/index.htm#Language/System%20Functions/fmt.htm). It is like a beefed up version of `⍕`. `⍕` returns a vector for single line arguments, and a matrix otherwise. `⎕FMT` always returns a matrix. Also, `⍕` treats control characters as normal characters, while `⎕FMT` will resolve them: "
   ]
  },
  {
   "cell_type": "code",
   "execution_count": 22,
   "id": "43dbdd51",
   "metadata": {},
   "outputs": [
    {
     "data": {
      "text/html": [
       "<span style=\"white-space:pre; font-family: monospace\">abdef\n",
       "</span>"
      ]
     },
     "execution_count": 22,
     "metadata": {},
     "output_type": "execute_result"
    },
    {
     "data": {
      "text/html": [
       "<span style=\"white-space:pre; font-family: monospace\">abdef\n",
       "7\n",
       "</span>"
      ]
     },
     "execution_count": 22,
     "metadata": {},
     "output_type": "execute_result"
    },
    {
     "data": {
      "text/html": [
       "<span style=\"white-space:pre; font-family: monospace\">abdef\n",
       "1 5\n",
       "</span>"
      ]
     },
     "execution_count": 22,
     "metadata": {},
     "output_type": "execute_result"
    }
   ],
   "source": [
    "str←⎕←'abc',(⎕UCS 8),'def' ⍝ 8 is backspace\n",
    "⍴⎕←⍕str                    ⍝ ⍕ treats backspace as any other char\n",
    "⍴⎕←⎕FMT str                ⍝ ⎕FMT resolves it"
   ]
  },
  {
   "cell_type": "markdown",
   "id": "3170ca46",
   "metadata": {},
   "source": [
    "You see that the `'c'` really was erased by the backspace.\n",
    "\n",
    "Dyadic `⎕FMT` gives you access to a whole new language, namely a formatting specification language. We won't go though all the details here (see docs!), but here's a taste: "
   ]
  },
  {
   "cell_type": "code",
   "execution_count": 21,
   "id": "ac93351f",
   "metadata": {},
   "outputs": [
    {
     "data": {
      "text/html": [
       "<span style=\"white-space:pre; font-family: monospace\">  1 2.00  3 4.00\n",
       "  5 6.00  7 8.00\n",
       "</span>"
      ]
     },
     "execution_count": 21,
     "metadata": {},
     "output_type": "execute_result"
    }
   ],
   "source": [
    "'I3,F5.2' ⎕FMT 2 4⍴⍳8"
   ]
  },
  {
   "cell_type": "markdown",
   "id": "d73034af",
   "metadata": {},
   "source": [
    "The formatting string `I3,F5.2` means that each row should first have an integer, then a float which uses five characters in width and has 2 decimals, then this formatting is cycled as much as needed for all the columns (here twice). \n",
    "\n",
    "## `⎕JSON`\n",
    "\n",
    "`⎕JSON` [imports/exports JSON](http://help.dyalog.com/latest/index.htm#Language/System%20Functions/json.htm). It works for both arrays and objects: "
   ]
  },
  {
   "cell_type": "code",
   "execution_count": 23,
   "id": "71df8968",
   "metadata": {},
   "outputs": [
    {
     "data": {
      "text/html": [
       "<span style=\"white-space:pre; font-family: monospace\">┌───────────┬─────┐\n",
       "│┌──┬──────┐│hello│\n",
       "││42│┌────┐││     │\n",
       "││  ││null│││     │\n",
       "││  │└────┘││     │\n",
       "│└──┴──────┘│     │\n",
       "└───────────┴─────┘\n",
       "</span>"
      ]
     },
     "execution_count": 23,
     "metadata": {},
     "output_type": "execute_result"
    }
   ],
   "source": [
    "⎕JSON'[[42,null],\"hello\"]'"
   ]
  },
  {
   "cell_type": "code",
   "execution_count": 25,
   "id": "26e13727",
   "metadata": {},
   "outputs": [
    {
     "data": {
      "text/html": [
       "<span style=\"white-space:pre; font-family: monospace\">#.[JSON object]\n",
       "</span>"
      ]
     },
     "execution_count": 25,
     "metadata": {},
     "output_type": "execute_result"
    },
    {
     "data": {
      "text/html": [
       "<span style=\"white-space:pre; font-family: monospace\">┌──┬─────┐\n",
       "│42│hello│\n",
       "└──┴─────┘\n",
       "</span>"
      ]
     },
     "execution_count": 25,
     "metadata": {},
     "output_type": "execute_result"
    }
   ],
   "source": [
    "⊢ns←⎕JSON'{\"abc\":42,\"de\":null,\"f\":\"hello\"}'\n",
    "ns.(abc f)"
   ]
  },
  {
   "cell_type": "markdown",
   "id": "8e820a84",
   "metadata": {},
   "source": [
    "We can also export from APL to JSON:"
   ]
  },
  {
   "cell_type": "code",
   "execution_count": 26,
   "id": "d6e062fa",
   "metadata": {},
   "outputs": [
    {
     "data": {
      "text/html": [
       "<span style=\"white-space:pre; font-family: monospace\">[[\"abc\",1,2,3],4,5]\n",
       "</span>"
      ]
     },
     "execution_count": 26,
     "metadata": {},
     "output_type": "execute_result"
    }
   ],
   "source": [
    "⎕JSON ('abc' 1 2 3) 4 5"
   ]
  },
  {
   "cell_type": "markdown",
   "id": "0216312b",
   "metadata": {},
   "source": [
    "Just be aware that if you want to convert and APL string to JSON, you need use the left argument to specify whether you want import (0) or export (1). \n",
    "\n",
    "You can also tell ⎕JSON that you want your JSON fully white-spaced: "
   ]
  },
  {
   "cell_type": "code",
   "execution_count": 27,
   "id": "d05f6762",
   "metadata": {},
   "outputs": [
    {
     "data": {
      "text/html": [
       "<span style=\"white-space:pre; font-family: monospace\">[\n",
       "  [\n",
       "    \"abc\",\n",
       "    1,\n",
       "    2,\n",
       "    3\n",
       "  ],\n",
       "  4,\n",
       "  5\n",
       "]\n",
       "</span>"
      ]
     },
     "execution_count": 27,
     "metadata": {},
     "output_type": "execute_result"
    }
   ],
   "source": [
    "⎕JSON⍠'Compact'0⊢('abc' 1 2 3)4 5"
   ]
  },
  {
   "cell_type": "markdown",
   "id": "7df47200",
   "metadata": {},
   "source": [
    "Finally, whilst you can import any JSON object, not every APL namespace can be exported. For example, a namespace with APL functions cannot be converted to JSON. Again, `⎕JSON` has some more advanced options — see the docs. `⎕JSON` is fully compliant with JSON, though, but we do allow some leniency which allows you to create some JavaScript objects which are not valid JSON. For example,"
   ]
  },
  {
   "cell_type": "code",
   "execution_count": 28,
   "id": "266adbf0",
   "metadata": {},
   "outputs": [
    {
     "data": {
      "text/html": [
       "<span style=\"white-space:pre; font-family: monospace\">[\"hello\",world]\n",
       "</span>"
      ]
     },
     "execution_count": 28,
     "metadata": {},
     "output_type": "execute_result"
    }
   ],
   "source": [
    "⎕JSON 'hello' (⊂'world') "
   ]
  },
  {
   "cell_type": "markdown",
   "id": "5575100f",
   "metadata": {},
   "source": [
    "We opted for a generalised system for strings without quotes, rather than special casing `null`. The I-beam that preceded `⎕JSON` did in fact use `⎕NULL`. By using enclosed strings, we can losslessly roundtrip. \n",
    "\n",
    "## `⎕MAP`\n",
    "\n",
    "[`⎕MAP`](http://help.dyalog.com/latest/index.htm#Language/System%20Functions/map.htm) is a function we'll only mention and not demonstrate (again, see docs). It basically allows you to use a file as an array instead of keeping the array in memory. Very useful. \n",
    "\n",
    "## `⎕UCS`\n",
    "\n",
    "This brings us to [Unicode Convert](http://help.dyalog.com/latest/index.htm#Language/System%20Functions/ucs.htm), `⎕UCS`, which in its monadic form flips characters and their Unicode code points: "
   ]
  },
  {
   "cell_type": "code",
   "execution_count": 29,
   "id": "026aa16f",
   "metadata": {},
   "outputs": [
    {
     "data": {
      "text/html": [
       "<span style=\"white-space:pre; font-family: monospace\">καλημέρα\n",
       "</span>"
      ]
     },
     "execution_count": 29,
     "metadata": {},
     "output_type": "execute_result"
    }
   ],
   "source": [
    "⎕UCS 954 945 955 951 956 941 961 945"
   ]
  },
  {
   "cell_type": "markdown",
   "id": "789517bb",
   "metadata": {},
   "source": [
    "The dyadic form takes a left argument specifying an encoding scheme and converts to and from byte values rather than code points: "
   ]
  },
  {
   "cell_type": "code",
   "execution_count": 30,
   "id": "5f10512c",
   "metadata": {},
   "outputs": [
    {
     "data": {
      "text/html": [
       "<span style=\"white-space:pre; font-family: monospace\">γεια σου\n",
       "</span>"
      ]
     },
     "execution_count": 30,
     "metadata": {},
     "output_type": "execute_result"
    }
   ],
   "source": [
    "'UTF-8' ⎕UCS 206 179 206 181 206 185 206 177 32 207 131 206 191 207 133"
   ]
  },
  {
   "cell_type": "markdown",
   "id": "5cde994e",
   "metadata": {},
   "source": [
    "## `⎕VFI`\n",
    "\n",
    "`⎕VFI` is [Verify and Fix Input](http://help.dyalog.com/latest/index.htm#Language/System%20Functions/vfi.htm). It takes a string and returns two lists. It cuts the string into space separated fields. Then it attempts to convert each field to a number. If it succeeds then the corresponding element of the left result list is 1 (else 0) and the corresponding element of the right list is the number (else 0). "
   ]
  },
  {
   "cell_type": "code",
   "execution_count": 31,
   "id": "a816bf68",
   "metadata": {},
   "outputs": [
    {
     "data": {
      "text/html": [
       "<span style=\"white-space:pre; font-family: monospace\">┌─────┬────────┐\n",
       "│1 0 1│123 0 42│\n",
       "└─────┴────────┘\n",
       "</span>"
      ]
     },
     "execution_count": 31,
     "metadata": {},
     "output_type": "execute_result"
    }
   ],
   "source": [
    "⎕VFI '123 four 42'"
   ]
  },
  {
   "cell_type": "markdown",
   "id": "00079f9e",
   "metadata": {},
   "source": [
    "You can also specify one or more valid field separators as left argument: "
   ]
  },
  {
   "cell_type": "code",
   "execution_count": 32,
   "id": "a48b80f6",
   "metadata": {},
   "outputs": [
    {
     "data": {
      "text/html": [
       "<span style=\"white-space:pre; font-family: monospace\">┌─────┬─────┐\n",
       "│0 1 1│0 2 4│\n",
       "└─────┴─────┘\n",
       "</span>"
      ]
     },
     "execution_count": 32,
     "metadata": {},
     "output_type": "execute_result"
    }
   ],
   "source": [
    "';/'⎕VFI '123 four,42 5/2/4'"
   ]
  },
  {
   "cell_type": "markdown",
   "id": "e3a81f56",
   "metadata": {},
   "source": [
    "Here `123 four` were grouped because space is not a separator anymore, and so it is an invalid number. So too with `42 5`. Only `2` and `4` were valid. You can get just the valid numbers with: "
   ]
  },
  {
   "cell_type": "code",
   "execution_count": 33,
   "id": "fa360e9e",
   "metadata": {},
   "outputs": [
    {
     "data": {
      "text/html": [
       "<span style=\"white-space:pre; font-family: monospace\">┌───┐\n",
       "│2 4│\n",
       "└───┘\n",
       "</span>"
      ]
     },
     "execution_count": 33,
     "metadata": {},
     "output_type": "execute_result"
    }
   ],
   "source": [
    "//';/'⎕VFI '123 four,42 5/2/4'"
   ]
  },
  {
   "cell_type": "markdown",
   "id": "6831ba55",
   "metadata": {},
   "source": [
    "## `⎕XML`\n",
    "\n",
    "`⎕XML` is converts to and from XML, but the corresponding APL format is rather involved. We usually just use ⎕XML to verify that some XML is valid or to normalise whitespace: "
   ]
  },
  {
   "cell_type": "code",
   "execution_count": 34,
   "id": "2679232d",
   "metadata": {},
   "outputs": [
    {
     "data": {
      "text/html": [
       "<span style=\"white-space:pre; font-family: monospace\">&lt;xml&gt;\n",
       "  &lt;document id=\"001\"&gt;An introduction to XML&lt;/document&gt;\n",
       "&lt;/xml&gt;\n",
       "</span>"
      ]
     },
     "execution_count": 34,
     "metadata": {},
     "output_type": "execute_result"
    }
   ],
   "source": [
    "⎕XML⍣2 ⊢ '<xml><document id=\"001\">An introduction to XML</document></xml>'"
   ]
  },
  {
   "cell_type": "code",
   "execution_count": null,
   "id": "860363ec",
   "metadata": {},
   "outputs": [],
   "source": []
  }
 ],
 "metadata": {
  "kernelspec": {
   "display_name": "Dyalog APL",
   "language": "apl",
   "name": "dyalog-kernel"
  },
  "language_info": {
   "file_extension": ".apl",
   "mimetype": "text/apl",
   "name": "APL"
  }
 },
 "nbformat": 4,
 "nbformat_minor": 5
}
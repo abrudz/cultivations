{
 "cells": [
  {
   "cell_type": "code",
   "execution_count": 1,
   "id": "770047ae",
   "metadata": {},
   "outputs": [
    {
     "data": {
      "text/html": [
       "<span style=\"white-space:pre; font-family: monospace\">1E¯14\n",
       "</span>"
      ]
     },
     "execution_count": 1,
     "metadata": {},
     "output_type": "execute_result"
    }
   ],
   "source": [
    "⎕CT"
   ]
  },
  {
   "cell_type": "code",
   "execution_count": 2,
   "id": "b9e8a948",
   "metadata": {},
   "outputs": [
    {
     "data": {
      "text/html": [
       "<span style=\"white-space:pre; font-family: monospace\">1\n",
       "</span>"
      ]
     },
     "execution_count": 2,
     "metadata": {},
     "output_type": "execute_result"
    }
   ],
   "source": [
    "1=1+1e¯15"
   ]
  },
  {
   "cell_type": "code",
   "execution_count": 3,
   "id": "a179f2b3",
   "metadata": {},
   "outputs": [
    {
     "data": {
      "text/html": [
       "<span style=\"white-space:pre; font-family: monospace\">1\n",
       "</span>"
      ]
     },
     "execution_count": 3,
     "metadata": {},
     "output_type": "execute_result"
    },
    {
     "data": {
      "text/html": [
       "<span style=\"white-space:pre; font-family: monospace\">0\n",
       "</span>"
      ]
     },
     "execution_count": 3,
     "metadata": {},
     "output_type": "execute_result"
    }
   ],
   "source": [
    "⎕CT←1E¯10    ⍝ More tolerant\n",
    "1=1+1e¯11\n",
    "\n",
    "⎕CT←0        ⍝ Disable comparison tolerance\n",
    "1=1+1e¯15\n",
    "\n",
    "⎕CT←1E¯14    ⍝ Reset to default"
   ]
  },
  {
   "cell_type": "code",
   "execution_count": 4,
   "id": "270abae3",
   "metadata": {},
   "outputs": [
    {
     "data": {
      "text/html": [
       "<span style=\"white-space:pre; font-family: monospace\">1\n",
       "</span>"
      ]
     },
     "execution_count": 4,
     "metadata": {},
     "output_type": "execute_result"
    }
   ],
   "source": [
    "0÷0"
   ]
  },
  {
   "cell_type": "code",
   "execution_count": 5,
   "id": "44481a77",
   "metadata": {},
   "outputs": [
    {
     "data": {
      "text/html": [
       "<span style=\"white-space:pre; font-family: monospace\">0 0 0 1\n",
       "</span>"
      ]
     },
     "execution_count": 5,
     "metadata": {},
     "output_type": "execute_result"
    }
   ],
   "source": [
    "⎕DIV←1\n",
    "0 0 3 3÷0 3 0 3\n",
    "⎕DIV←0"
   ]
  },
  {
   "cell_type": "code",
   "execution_count": 6,
   "id": "be201e5d",
   "metadata": {},
   "outputs": [
    {
     "data": {
      "text/html": [
       "<span style=\"white-space:pre; font-family: monospace\">0 1 2 3\n",
       "</span>"
      ]
     },
     "execution_count": 6,
     "metadata": {},
     "output_type": "execute_result"
    },
    {
     "data": {
      "text/html": [
       "<span style=\"white-space:pre; font-family: monospace\">1 2 3 4\n",
       "</span>"
      ]
     },
     "execution_count": 6,
     "metadata": {},
     "output_type": "execute_result"
    }
   ],
   "source": [
    "⍳4 ⊣ ⎕IO←0\n",
    "⍳4 ⊣ ⎕IO←1"
   ]
  },
  {
   "cell_type": "code",
   "execution_count": 7,
   "id": "4f693034",
   "metadata": {},
   "outputs": [
    {
     "data": {
      "text/html": [
       "<span style=\"white-space:pre; font-family: monospace\">0\n",
       "</span>"
      ]
     },
     "execution_count": 7,
     "metadata": {},
     "output_type": "execute_result"
    }
   ],
   "source": [
    "3 4 5⍸2"
   ]
  },
  {
   "cell_type": "code",
   "execution_count": 8,
   "id": "c381da6d",
   "metadata": {},
   "outputs": [
    {
     "data": {
      "text/html": [
       "<span style=\"white-space:pre; font-family: monospace\">¯1\n",
       "</span>"
      ]
     },
     "execution_count": 8,
     "metadata": {},
     "output_type": "execute_result"
    }
   ],
   "source": [
    "⎕IO←0\n",
    "3 4 5⍸2\n",
    "⎕IO←1"
   ]
  },
  {
   "cell_type": "code",
   "execution_count": 9,
   "id": "af03e6f6",
   "metadata": {},
   "outputs": [
    {
     "data": {
      "text/html": [
       "<span style=\"white-space:pre; font-family: monospace\">1 0 1\n",
       "</span>"
      ]
     },
     "execution_count": 9,
     "metadata": {},
     "output_type": "execute_result"
    }
   ],
   "source": [
    "⎕IO,({⎕IO←0 ⋄ ⎕IO}⍬),⎕IO"
   ]
  },
  {
   "cell_type": "code",
   "execution_count": 10,
   "id": "a1734ff8",
   "metadata": {},
   "outputs": [
    {
     "data": {
      "text/html": [
       "<span style=\"white-space:pre; font-family: monospace\">0.143\n",
       "</span>"
      ]
     },
     "execution_count": 10,
     "metadata": {},
     "output_type": "execute_result"
    },
    {
     "data": {
      "text/html": [
       "<span style=\"white-space:pre; font-family: monospace\">0.1428571429\n",
       "</span>"
      ]
     },
     "execution_count": 10,
     "metadata": {},
     "output_type": "execute_result"
    }
   ],
   "source": [
    "⎕PP←3\n",
    "÷7\n",
    "⎕PP←10\n",
    "÷7"
   ]
  },
  {
   "cell_type": "code",
   "execution_count": 11,
   "id": "36664eeb",
   "metadata": {},
   "outputs": [
    {
     "data": {
      "text/html": [
       "<span style=\"white-space:pre; font-family: monospace\">12\n",
       "</span>"
      ]
     },
     "execution_count": 11,
     "metadata": {},
     "output_type": "execute_result"
    }
   ],
   "source": [
    "≢⍕÷7"
   ]
  },
  {
   "cell_type": "code",
   "execution_count": 12,
   "id": "74b8fcde",
   "metadata": {},
   "outputs": [
    {
     "data": {
      "text/html": [
       "<span style=\"white-space:pre; font-family: monospace\">5\n",
       "</span>"
      ]
     },
     "execution_count": 12,
     "metadata": {},
     "output_type": "execute_result"
    }
   ],
   "source": [
    "≢⍕÷7 ⊣ ⎕PP←3"
   ]
  },
  {
   "cell_type": "code",
   "execution_count": 13,
   "id": "46927fd3",
   "metadata": {},
   "outputs": [
    {
     "data": {
      "text/html": [
       "<span style=\"white-space:pre; font-family: monospace\">3.141592653589793\n",
       "</span>"
      ]
     },
     "execution_count": 13,
     "metadata": {},
     "output_type": "execute_result"
    }
   ],
   "source": [
    "○1 ⊣ ⎕PP←17 ⍝ 𝜋"
   ]
  },
  {
   "cell_type": "code",
   "execution_count": 14,
   "id": "775cb621",
   "metadata": {},
   "outputs": [],
   "source": [
    "⎕PP←10 ⍝ Set back to default value"
   ]
  },
  {
   "cell_type": "code",
   "execution_count": 15,
   "id": "5d40fa7b",
   "metadata": {},
   "outputs": [
    {
     "data": {
      "text/html": [
       "<span style=\"white-space:pre; font-family: monospace\">3.141592653589793\n",
       "</span>"
      ]
     },
     "execution_count": 15,
     "metadata": {},
     "output_type": "execute_result"
    }
   ],
   "source": [
    "○1 ⊣ ⎕PP←34"
   ]
  },
  {
   "cell_type": "code",
   "execution_count": 16,
   "id": "3e4d4bca",
   "metadata": {},
   "outputs": [
    {
     "data": {
      "text/html": [
       "<span style=\"white-space:pre; font-family: monospace\">3.141592653589793238462643383279503\n",
       "</span>"
      ]
     },
     "execution_count": 16,
     "metadata": {},
     "output_type": "execute_result"
    }
   ],
   "source": [
    "○1 ⊣ ⎕PP←34 ⊣ ⎕FR←1287\n",
    "⎕FR←645"
   ]
  },
  {
   "cell_type": "code",
   "execution_count": 17,
   "id": "5ac4809d",
   "metadata": {},
   "outputs": [
    {
     "data": {
      "text/html": [
       "<span style=\"white-space:pre; font-family: monospace\">0.12793188553860924\n",
       "</span>"
      ]
     },
     "execution_count": 17,
     "metadata": {},
     "output_type": "execute_result"
    }
   ],
   "source": [
    "?0 ⊣ ⎕RL ⍬ 2"
   ]
  },
  {
   "cell_type": "code",
   "execution_count": 18,
   "id": "c0d25aaf",
   "metadata": {},
   "outputs": [
    {
     "data": {
      "text/html": [
       "<span style=\"white-space:pre; font-family: monospace\">0.5289210360276925\n",
       "</span>"
      ]
     },
     "execution_count": 18,
     "metadata": {},
     "output_type": "execute_result"
    }
   ],
   "source": [
    "?0 ⊣ ⎕RL ⍬ 2"
   ]
  },
  {
   "cell_type": "code",
   "execution_count": 19,
   "id": "2a20d707",
   "metadata": {},
   "outputs": [
    {
     "data": {
      "text/html": [
       "<span style=\"white-space:pre; font-family: monospace\">0.0019533783197548393\n",
       "</span>"
      ]
     },
     "execution_count": 19,
     "metadata": {},
     "output_type": "execute_result"
    },
    {
     "data": {
      "text/html": [
       "<span style=\"white-space:pre; font-family: monospace\">0.0019533783197548393\n",
       "</span>"
      ]
     },
     "execution_count": 19,
     "metadata": {},
     "output_type": "execute_result"
    }
   ],
   "source": [
    "?0 ⊣ ⎕RL←42 1\n",
    "?0 ⊣ ⎕RL←42 1   ⍝ Start the sequence at the same place"
   ]
  },
  {
   "cell_type": "code",
   "execution_count": 20,
   "id": "4e77ad97",
   "metadata": {},
   "outputs": [
    {
     "data": {
      "text/html": [
       "<span style=\"white-space:pre; font-family: monospace\">1287\n",
       "</span>"
      ]
     },
     "execution_count": 20,
     "metadata": {},
     "output_type": "execute_result"
    }
   ],
   "source": [
    "a←3⊃⎕AI\n",
    "⎕DL 1      ⍝ Sleep for 1s\n",
    "a-⍨3⊃⎕AI"
   ]
  },
  {
   "cell_type": "code",
   "execution_count": 21,
   "id": "733223ef",
   "metadata": {},
   "outputs": [
    {
     "data": {
      "text/html": [
       "<span style=\"white-space:pre; font-family: monospace\">stefan\n",
       "</span>"
      ]
     },
     "execution_count": 21,
     "metadata": {},
     "output_type": "execute_result"
    }
   ],
   "source": [
    "⎕AN"
   ]
  },
  {
   "cell_type": "code",
   "execution_count": 22,
   "id": "af2d9bea",
   "metadata": {},
   "outputs": [
    {
     "data": {
      "text/html": [
       "<span style=\"white-space:pre; font-family: monospace\">¯5 ¯4 ¯3 ¯2 ¯1 0 1 2 3 4 5\n",
       "</span>"
      ]
     },
     "execution_count": 22,
     "metadata": {},
     "output_type": "execute_result"
    }
   ],
   "source": [
    "'iotag'⎕CY'dfns'   ⍝ Copy the iotag function from the dfns workspace\n",
    "¯5 iotag 5"
   ]
  },
  {
   "cell_type": "code",
   "execution_count": 23,
   "id": "5655a9ae",
   "metadata": {},
   "outputs": [
    {
     "data": {
      "text/html": [
       "<span style=\"white-space:pre; font-family: monospace\">1.010156\n",
       "</span>"
      ]
     },
     "execution_count": 23,
     "metadata": {},
     "output_type": "execute_result"
    }
   ],
   "source": [
    "⎕←⎕DL 1"
   ]
  },
  {
   "cell_type": "code",
   "execution_count": 24,
   "id": "a59a91c7",
   "metadata": {},
   "outputs": [
    {
     "data": {
      "text/html": [
       "<span style=\"white-space:pre; font-family: monospace\">2022 1 18 11 51 31 660\n",
       "</span>"
      ]
     },
     "execution_count": 24,
     "metadata": {},
     "output_type": "execute_result"
    }
   ],
   "source": [
    "⎕TS"
   ]
  },
  {
   "cell_type": "code",
   "execution_count": null,
   "id": "48c65629",
   "metadata": {},
   "outputs": [],
   "source": []
  }
 ],
 "metadata": {
  "kernelspec": {
   "display_name": "Dyalog APL",
   "language": "apl",
   "name": "dyalog-kernel"
  },
  "language_info": {
   "file_extension": ".apl",
   "mimetype": "text/apl",
   "name": "APL"
  }
 },
 "nbformat": 4,
 "nbformat_minor": 5
}
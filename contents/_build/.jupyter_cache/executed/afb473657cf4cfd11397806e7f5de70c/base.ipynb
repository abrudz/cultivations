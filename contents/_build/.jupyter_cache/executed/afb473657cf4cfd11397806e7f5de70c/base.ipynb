{
 "cells": [
  {
   "cell_type": "code",
   "execution_count": 1,
   "id": "16efdb9f",
   "metadata": {},
   "outputs": [
    {
     "data": {
      "text/html": [
       "<span style=\"white-space:pre; font-family: monospace\">\n",
       "Rebuilding user command cache... \n",
       "done\n",
       "</span>"
      ]
     },
     "execution_count": 1,
     "metadata": {},
     "output_type": "execute_result"
    },
    {
     "data": {
      "text/html": [
       "<span style=\"white-space:pre; font-family: monospace\">ABCDEFGHIJKLMNOPQRSTUVWXYZ\n",
       "</span>"
      ]
     },
     "execution_count": 1,
     "metadata": {},
     "output_type": "execute_result"
    }
   ],
   "source": [
    "⎕A"
   ]
  },
  {
   "cell_type": "code",
   "execution_count": 2,
   "id": "668fa886",
   "metadata": {},
   "outputs": [
    {
     "data": {
      "text/html": [
       "<span style=\"white-space:pre; font-family: monospace\">abcdefghijklmnopqrstuvwxyz\n",
       "</span>"
      ]
     },
     "execution_count": 2,
     "metadata": {},
     "output_type": "execute_result"
    }
   ],
   "source": [
    "⎕C⎕A"
   ]
  },
  {
   "cell_type": "code",
   "execution_count": 3,
   "id": "1e074bab",
   "metadata": {},
   "outputs": [
    {
     "data": {
      "text/html": [
       "<span style=\"white-space:pre; font-family: monospace\">0123456789\n",
       "</span>"
      ]
     },
     "execution_count": 3,
     "metadata": {},
     "output_type": "execute_result"
    }
   ],
   "source": [
    "⎕D"
   ]
  },
  {
   "cell_type": "code",
   "execution_count": 4,
   "id": "d37c2513",
   "metadata": {},
   "outputs": [
    {
     "data": {
      "text/html": [
       "<span style=\"white-space:pre; font-family: monospace\">Applications\n",
       "Library\n",
       "System\n",
       "Users\n",
       "Volumes\n",
       "bin\n",
       "cores\n",
       "dev\n",
       "etc\n",
       "home\n",
       "opt\n",
       "private\n",
       "sbin\n",
       "tmp\n",
       "usr\n",
       "var\n",
       "</span>"
      ]
     },
     "execution_count": 4,
     "metadata": {},
     "output_type": "execute_result"
    }
   ],
   "source": [
    "⎕SH'ls /'"
   ]
  },
  {
   "cell_type": "code",
   "execution_count": 5,
   "id": "e8685692",
   "metadata": {},
   "outputs": [
    {
     "data": {
      "text/html": [
       "<span style=\"white-space:pre; font-family: monospace\">┌───┬───┬─┐\n",
       "│abc│def│3│\n",
       "└───┴───┴─┘\n",
       "</span>"
      ]
     },
     "execution_count": 5,
     "metadata": {},
     "output_type": "execute_result"
    }
   ],
   "source": [
    "⎕CSV '\"abc\",\"def\",3' 'S'"
   ]
  },
  {
   "cell_type": "code",
   "execution_count": 6,
   "id": "b21f30bd",
   "metadata": {},
   "outputs": [
    {
     "data": {
      "text/html": [
       "<span style=\"white-space:pre; font-family: monospace\">83\n",
       "</span>"
      ]
     },
     "execution_count": 6,
     "metadata": {},
     "output_type": "execute_result"
    }
   ],
   "source": [
    "⎕DR 42"
   ]
  },
  {
   "cell_type": "code",
   "execution_count": 7,
   "id": "37d61ee7",
   "metadata": {},
   "outputs": [
    {
     "data": {
      "text/html": [
       "<span style=\"white-space:pre; font-family: monospace\">11\n",
       "</span>"
      ]
     },
     "execution_count": 7,
     "metadata": {},
     "output_type": "execute_result"
    }
   ],
   "source": [
    "⎕DR 1 0 1 1 1 0"
   ]
  },
  {
   "cell_type": "code",
   "execution_count": 8,
   "id": "8e6cb868",
   "metadata": {},
   "outputs": [
    {
     "data": {
      "text/html": [
       "<span style=\"white-space:pre; font-family: monospace\">0 0 1 0 1 0 1 0\n",
       "</span>"
      ]
     },
     "execution_count": 8,
     "metadata": {},
     "output_type": "execute_result"
    }
   ],
   "source": [
    "11⎕DR 42"
   ]
  },
  {
   "cell_type": "code",
   "execution_count": 9,
   "id": "c39c07c6",
   "metadata": {},
   "outputs": [
    {
     "data": {
      "text/html": [
       "<span style=\"white-space:pre; font-family: monospace\">abdef\n",
       "</span>"
      ]
     },
     "execution_count": 9,
     "metadata": {},
     "output_type": "execute_result"
    },
    {
     "data": {
      "text/html": [
       "<span style=\"white-space:pre; font-family: monospace\">abdef\n",
       "7\n",
       "</span>"
      ]
     },
     "execution_count": 9,
     "metadata": {},
     "output_type": "execute_result"
    },
    {
     "data": {
      "text/html": [
       "<span style=\"white-space:pre; font-family: monospace\">abdef\n",
       "1 5\n",
       "</span>"
      ]
     },
     "execution_count": 9,
     "metadata": {},
     "output_type": "execute_result"
    }
   ],
   "source": [
    "str←⎕←'abc',(⎕UCS 8),'def' ⍝ 8 is backspace\n",
    "⍴⎕←⍕str                    ⍝ ⍕ treats backspace as any other char\n",
    "⍴⎕←⎕FMT str                ⍝ ⎕FMT resolves it"
   ]
  },
  {
   "cell_type": "code",
   "execution_count": 10,
   "id": "369bc7a9",
   "metadata": {},
   "outputs": [
    {
     "data": {
      "text/html": [
       "<span style=\"white-space:pre; font-family: monospace\">  1 2.00  3 4.00\n",
       "  5 6.00  7 8.00\n",
       "</span>"
      ]
     },
     "execution_count": 10,
     "metadata": {},
     "output_type": "execute_result"
    }
   ],
   "source": [
    "'I3,F5.2' ⎕FMT 2 4⍴⍳8"
   ]
  },
  {
   "cell_type": "code",
   "execution_count": 11,
   "id": "45b9776a",
   "metadata": {},
   "outputs": [
    {
     "data": {
      "text/html": [
       "<span style=\"white-space:pre; font-family: monospace\">┌───────────┬─────┐\n",
       "│┌──┬──────┐│hello│\n",
       "││42│┌────┐││     │\n",
       "││  ││null│││     │\n",
       "││  │└────┘││     │\n",
       "│└──┴──────┘│     │\n",
       "└───────────┴─────┘\n",
       "</span>"
      ]
     },
     "execution_count": 11,
     "metadata": {},
     "output_type": "execute_result"
    }
   ],
   "source": [
    "⎕JSON'[[42,null],\"hello\"]'"
   ]
  },
  {
   "cell_type": "code",
   "execution_count": 12,
   "id": "626d554a",
   "metadata": {},
   "outputs": [
    {
     "data": {
      "text/html": [
       "<span style=\"white-space:pre; font-family: monospace\">#.[JSON object]\n",
       "</span>"
      ]
     },
     "execution_count": 12,
     "metadata": {},
     "output_type": "execute_result"
    },
    {
     "data": {
      "text/html": [
       "<span style=\"white-space:pre; font-family: monospace\">┌──┬─────┐\n",
       "│42│hello│\n",
       "└──┴─────┘\n",
       "</span>"
      ]
     },
     "execution_count": 12,
     "metadata": {},
     "output_type": "execute_result"
    }
   ],
   "source": [
    "⊢ns←⎕JSON'{\"abc\":42,\"de\":null,\"f\":\"hello\"}'\n",
    "ns.(abc f)"
   ]
  },
  {
   "cell_type": "code",
   "execution_count": 13,
   "id": "41e465b6",
   "metadata": {},
   "outputs": [
    {
     "data": {
      "text/html": [
       "<span style=\"white-space:pre; font-family: monospace\">[[\"abc\",1,2,3],4,5]\n",
       "</span>"
      ]
     },
     "execution_count": 13,
     "metadata": {},
     "output_type": "execute_result"
    }
   ],
   "source": [
    "⎕JSON ('abc' 1 2 3) 4 5"
   ]
  },
  {
   "cell_type": "code",
   "execution_count": 14,
   "id": "900297ba",
   "metadata": {},
   "outputs": [
    {
     "data": {
      "text/html": [
       "<span style=\"white-space:pre; font-family: monospace\">[\n",
       "  [\n",
       "    \"abc\",\n",
       "    1,\n",
       "    2,\n",
       "    3\n",
       "  ],\n",
       "  4,\n",
       "  5\n",
       "]\n",
       "</span>"
      ]
     },
     "execution_count": 14,
     "metadata": {},
     "output_type": "execute_result"
    }
   ],
   "source": [
    "⎕JSON⍠'Compact'0⊢('abc' 1 2 3)4 5"
   ]
  },
  {
   "cell_type": "code",
   "execution_count": 15,
   "id": "9332a204",
   "metadata": {},
   "outputs": [
    {
     "data": {
      "text/html": [
       "<span style=\"white-space:pre; font-family: monospace\">[\"hello\",world]\n",
       "</span>"
      ]
     },
     "execution_count": 15,
     "metadata": {},
     "output_type": "execute_result"
    }
   ],
   "source": [
    "⎕JSON 'hello' (⊂'world') "
   ]
  },
  {
   "cell_type": "code",
   "execution_count": 16,
   "id": "1d410a50",
   "metadata": {},
   "outputs": [
    {
     "data": {
      "text/html": [
       "<span style=\"white-space:pre; font-family: monospace\">[Null]\n",
       "</span>"
      ]
     },
     "execution_count": 16,
     "metadata": {},
     "output_type": "execute_result"
    },
    {
     "data": {
      "text/html": [
       "<span style=\"white-space:pre; font-family: monospace\">1\n",
       "</span>"
      ]
     },
     "execution_count": 16,
     "metadata": {},
     "output_type": "execute_result"
    }
   ],
   "source": [
    "j←⎕JSON⍠'Null' ⎕NULL⊢'{\"name\": null}'\n",
    "j.name\n",
    "j.name = ⎕NULL"
   ]
  },
  {
   "cell_type": "code",
   "execution_count": 17,
   "id": "03f16a48",
   "metadata": {},
   "outputs": [
    {
     "data": {
      "text/html": [
       "<span style=\"white-space:pre; font-family: monospace\">καλημέρα\n",
       "</span>"
      ]
     },
     "execution_count": 17,
     "metadata": {},
     "output_type": "execute_result"
    }
   ],
   "source": [
    "⎕UCS 954 945 955 951 956 941 961 945"
   ]
  },
  {
   "cell_type": "code",
   "execution_count": 18,
   "id": "126adfa9",
   "metadata": {},
   "outputs": [
    {
     "data": {
      "text/html": [
       "<span style=\"white-space:pre; font-family: monospace\">γεια σου\n",
       "</span>"
      ]
     },
     "execution_count": 18,
     "metadata": {},
     "output_type": "execute_result"
    }
   ],
   "source": [
    "'UTF-8' ⎕UCS 206 179 206 181 206 185 206 177 32 207 131 206 191 207 133"
   ]
  },
  {
   "cell_type": "code",
   "execution_count": 19,
   "id": "82843932",
   "metadata": {},
   "outputs": [
    {
     "data": {
      "text/html": [
       "<span style=\"white-space:pre; font-family: monospace\">┌─────┬────────┐\n",
       "│1 0 1│123 0 42│\n",
       "└─────┴────────┘\n",
       "</span>"
      ]
     },
     "execution_count": 19,
     "metadata": {},
     "output_type": "execute_result"
    }
   ],
   "source": [
    "⎕VFI '123 four 42'"
   ]
  },
  {
   "cell_type": "code",
   "execution_count": 20,
   "id": "ae9d316c",
   "metadata": {},
   "outputs": [
    {
     "data": {
      "text/html": [
       "<span style=\"white-space:pre; font-family: monospace\">┌─────┬─────┐\n",
       "│0 1 1│0 2 4│\n",
       "└─────┴─────┘\n",
       "</span>"
      ]
     },
     "execution_count": 20,
     "metadata": {},
     "output_type": "execute_result"
    }
   ],
   "source": [
    "';/'⎕VFI '123 four,42 5/2/4'"
   ]
  },
  {
   "cell_type": "code",
   "execution_count": 21,
   "id": "2a5b3067",
   "metadata": {},
   "outputs": [
    {
     "data": {
      "text/html": [
       "<span style=\"white-space:pre; font-family: monospace\">┌───┐\n",
       "│2 4│\n",
       "└───┘\n",
       "</span>"
      ]
     },
     "execution_count": 21,
     "metadata": {},
     "output_type": "execute_result"
    }
   ],
   "source": [
    "//';/'⎕VFI '123 four,42 5/2/4'"
   ]
  },
  {
   "cell_type": "code",
   "execution_count": 22,
   "id": "939d9406",
   "metadata": {},
   "outputs": [
    {
     "data": {
      "text/html": [
       "<span style=\"white-space:pre; font-family: monospace\">&lt;xml&gt;\n",
       "  &lt;document id=\"001\"&gt;An introduction to XML&lt;/document&gt;\n",
       "&lt;/xml&gt;\n",
       "</span>"
      ]
     },
     "execution_count": 22,
     "metadata": {},
     "output_type": "execute_result"
    }
   ],
   "source": [
    "⎕XML⍣2 ⊢ '<xml><document id=\"001\">An introduction to XML</document></xml>'"
   ]
  },
  {
   "cell_type": "code",
   "execution_count": null,
   "id": "0652f8e2",
   "metadata": {},
   "outputs": [],
   "source": []
  }
 ],
 "metadata": {
  "kernelspec": {
   "display_name": "Dyalog APL",
   "language": "apl",
   "name": "dyalog-kernel"
  },
  "language_info": {
   "file_extension": ".apl",
   "mimetype": "text/apl",
   "name": "APL"
  }
 },
 "nbformat": 4,
 "nbformat_minor": 5
}
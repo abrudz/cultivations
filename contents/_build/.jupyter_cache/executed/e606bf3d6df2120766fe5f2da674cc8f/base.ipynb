{
 "cells": [
  {
   "cell_type": "code",
   "execution_count": 1,
   "id": "5d2b2f99",
   "metadata": {},
   "outputs": [
    {
     "data": {
      "text/html": [
       "<span style=\"white-space:pre; font-family: monospace\">5.25\n",
       "</span>"
      ]
     },
     "execution_count": 1,
     "metadata": {},
     "output_type": "execute_result"
    }
   ],
   "source": [
    "avg←+⌿÷1⌈≢           ⍝ a tacit function\n",
    "avg 7 6 2 9 6 3 4 5"
   ]
  },
  {
   "cell_type": "code",
   "execution_count": 2,
   "id": "90aed721",
   "metadata": {},
   "outputs": [
    {
     "data": {
      "text/html": [
       "<span style=\"white-space:pre; font-family: monospace\">5.25\n",
       "</span>"
      ]
     },
     "execution_count": 2,
     "metadata": {},
     "output_type": "execute_result"
    }
   ],
   "source": [
    "avg←{(+⌿⍵)÷1⌈≢⍵}     ⍝ a dfn version of the same function\n",
    "avg 7 6 2 9 6 3 4 5"
   ]
  },
  {
   "cell_type": "code",
   "execution_count": 3,
   "id": "66089284",
   "metadata": {},
   "outputs": [],
   "source": [
    "]dinput\n",
    "r←foo nums\n",
    "r←'Here are your numbers: ',⍕nums"
   ]
  },
  {
   "cell_type": "code",
   "execution_count": 4,
   "id": "bdc48889",
   "metadata": {},
   "outputs": [],
   "source": [
    "]dinput\n",
    "foo←{\n",
    "    'Here are your numbers: ',⍕⍵\n",
    "}"
   ]
  },
  {
   "cell_type": "code",
   "execution_count": 5,
   "id": "e00d77ce",
   "metadata": {},
   "outputs": [],
   "source": [
    "]dinput\n",
    "{r}←foo nums\n",
    "r←'Here are your numbers: ',⍕nums"
   ]
  },
  {
   "cell_type": "code",
   "execution_count": 6,
   "id": "c0f3a931",
   "metadata": {},
   "outputs": [
    {
     "data": {
      "text/html": [
       "<span style=\"white-space:pre; font-family: monospace\">Here are your numbers: 1 2 3 4\n",
       "</span>"
      ]
     },
     "execution_count": 6,
     "metadata": {},
     "output_type": "execute_result"
    }
   ],
   "source": [
    "foo 1 2 3 4        ⍝ No output\n",
    "vals←foo 1 2 3 4   ⍝ Capture return\n",
    "vals"
   ]
  },
  {
   "cell_type": "code",
   "execution_count": 7,
   "id": "551af846",
   "metadata": {},
   "outputs": [],
   "source": [
    "]dinput\n",
    "foo←{\n",
    "    1:a←'Here are your numbers: ',⍕⍵\n",
    "}"
   ]
  },
  {
   "cell_type": "code",
   "execution_count": 8,
   "id": "d544c5ca",
   "metadata": {},
   "outputs": [
    {
     "data": {
      "text/html": [
       "<span style=\"white-space:pre; font-family: monospace\">Here are your numbers: 4 5 6 7\n",
       "</span>"
      ]
     },
     "execution_count": 8,
     "metadata": {},
     "output_type": "execute_result"
    }
   ],
   "source": [
    "foo 4 5 6 7        ⍝ No output\n",
    "vals←foo 4 5 6 7   ⍝ Capture return\n",
    "vals"
   ]
  },
  {
   "cell_type": "code",
   "execution_count": 9,
   "id": "26849af0",
   "metadata": {},
   "outputs": [
    {
     "data": {
      "text/html": [
       "<span style=\"white-space:pre; font-family: monospace\">true\n",
       "</span>"
      ]
     },
     "execution_count": 9,
     "metadata": {},
     "output_type": "execute_result"
    },
    {
     "data": {
      "text/html": [
       "<span style=\"white-space:pre; font-family: monospace\">false\n",
       "</span>"
      ]
     },
     "execution_count": 9,
     "metadata": {},
     "output_type": "execute_result"
    }
   ],
   "source": [
    "istrue←{⍵:'true' ⋄ 'false'}  ⍝ a guard statement\n",
    "\n",
    "istrue 1\n",
    "istrue 0"
   ]
  },
  {
   "cell_type": "code",
   "execution_count": 10,
   "id": "3609a18f",
   "metadata": {},
   "outputs": [],
   "source": [
    "]dinput\n",
    "{r}←foo nums                       ⍝ example tradfn\n",
    "r←'Here are your numbers: ',⍕nums"
   ]
  },
  {
   "cell_type": "code",
   "execution_count": 11,
   "id": "6c04f6b1",
   "metadata": {},
   "outputs": [],
   "source": [
    "avg←+⌿÷1⌈≢                         ⍝ example tacit\n",
    "istrue←{⍵:'true' ⋄ 'false'}        ⍝ example dfn"
   ]
  },
  {
   "cell_type": "code",
   "execution_count": 12,
   "id": "42cb2e05",
   "metadata": {},
   "outputs": [
    {
     "data": {
      "text/html": [
       "<span style=\"white-space:pre; font-family: monospace\">3.1 3.3 3.2\n",
       "</span>"
      ]
     },
     "execution_count": 12,
     "metadata": {},
     "output_type": "execute_result"
    }
   ],
   "source": [
    "⎕NC 'foo' 'avg' 'istrue' "
   ]
  },
  {
   "cell_type": "code",
   "execution_count": 13,
   "id": "c14e29cc",
   "metadata": {},
   "outputs": [
    {
     "data": {
      "text/html": [
       "<span style=\"white-space:pre; font-family: monospace\">11 22 33\n",
       "</span>"
      ]
     },
     "execution_count": 13,
     "metadata": {},
     "output_type": "execute_result"
    },
    {
     "data": {
      "text/html": [
       "<span style=\"white-space:pre; font-family: monospace\">11 21 31\n",
       "</span>"
      ]
     },
     "execution_count": 13,
     "metadata": {},
     "output_type": "execute_result"
    }
   ],
   "source": [
    "1 2 3+10 20 30 \n",
    "1+10 20 30       "
   ]
  },
  {
   "cell_type": "code",
   "execution_count": 14,
   "id": "ac96c486",
   "metadata": {},
   "outputs": [
    {
     "data": {
      "text/html": [
       "<span style=\"white-space:pre; font-family: monospace\">0 1 1 1 1\n",
       "</span>"
      ]
     },
     "execution_count": 14,
     "metadata": {},
     "output_type": "execute_result"
    },
    {
     "data": {
      "text/html": [
       "<span style=\"white-space:pre; font-family: monospace\">0 0 0 0 0\n",
       "</span>"
      ]
     },
     "execution_count": 14,
     "metadata": {},
     "output_type": "execute_result"
    },
    {
     "data": {
      "text/html": [
       "<span style=\"white-space:pre; font-family: monospace\">0\n",
       "</span>"
      ]
     },
     "execution_count": 14,
     "metadata": {},
     "output_type": "execute_result"
    }
   ],
   "source": [
    "'hello'∊'CodeGolf'\n",
    "'hello'∊'Code' 'Golf'\n",
    "(⊂'hello')∊'Code' 'Golf' "
   ]
  },
  {
   "cell_type": "code",
   "execution_count": 15,
   "id": "a6279baa",
   "metadata": {},
   "outputs": [
    {
     "data": {
      "text/html": [
       "<span style=\"white-space:pre; font-family: monospace\">2\n",
       "</span>"
      ]
     },
     "execution_count": 15,
     "metadata": {},
     "output_type": "execute_result"
    },
    {
     "data": {
      "text/html": [
       "<span style=\"white-space:pre; font-family: monospace\">4 4\n",
       "</span>"
      ]
     },
     "execution_count": 15,
     "metadata": {},
     "output_type": "execute_result"
    }
   ],
   "source": [
    "≢'Code' 'Golf'\n",
    "≢¨'Code' 'Golf' "
   ]
  },
  {
   "cell_type": "code",
   "execution_count": 16,
   "id": "5e519646",
   "metadata": {},
   "outputs": [
    {
     "data": {
      "text/html": [
       "<span style=\"white-space:pre; font-family: monospace\">Code\n",
       "Golf\n",
       "</span>"
      ]
     },
     "execution_count": 16,
     "metadata": {},
     "output_type": "execute_result"
    },
    {
     "data": {
      "text/html": [
       "<span style=\"white-space:pre; font-family: monospace\">4 4\n",
       "</span>"
      ]
     },
     "execution_count": 16,
     "metadata": {},
     "output_type": "execute_result"
    }
   ],
   "source": [
    "⊢A←2 4⍴'CodeGolf'\n",
    "(≢⍤1) A"
   ]
  },
  {
   "cell_type": "code",
   "execution_count": 17,
   "id": "7ed1962e",
   "metadata": {},
   "outputs": [
    {
     "data": {
      "text/html": [
       "<span style=\"white-space:pre; font-family: monospace\">9\n",
       "</span>"
      ]
     },
     "execution_count": 17,
     "metadata": {},
     "output_type": "execute_result"
    }
   ],
   "source": [
    "twice←{⍺ ⍺⍺ ⍺ ⍺⍺ ⍵}\n",
    "2+twice 5"
   ]
  },
  {
   "cell_type": "code",
   "execution_count": 18,
   "id": "a7cf8380",
   "metadata": {},
   "outputs": [],
   "source": [
    "under←{(⍵⍵⍣¯1) (⍵⍵ ⍺) ⍺⍺ (⍵⍵ ⍵)}"
   ]
  },
  {
   "cell_type": "code",
   "execution_count": null,
   "id": "87b1d865",
   "metadata": {},
   "outputs": [],
   "source": []
  }
 ],
 "metadata": {
  "kernelspec": {
   "display_name": "Dyalog APL",
   "language": "apl",
   "name": "dyalog-kernel"
  },
  "language_info": {
   "file_extension": ".apl",
   "mimetype": "text/apl",
   "name": "APL"
  }
 },
 "nbformat": 4,
 "nbformat_minor": 5
}
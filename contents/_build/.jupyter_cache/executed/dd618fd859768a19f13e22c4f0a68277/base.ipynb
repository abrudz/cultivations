{
 "cells": [
  {
   "cell_type": "code",
   "execution_count": 1,
   "id": "613a439d",
   "metadata": {},
   "outputs": [
    {
     "data": {
      "text/html": [
       "<span style=\"white-space:pre; font-family: monospace\">\n",
       "Rebuilding user command cache... \n",
       "done\n",
       "\n",
       "Rebuilding user command cache... \n",
       "done\n",
       "</span>"
      ]
     },
     "execution_count": 1,
     "metadata": {},
     "output_type": "execute_result"
    },
    {
     "data": {
      "text/html": [
       "<span style=\"white-space:pre; font-family: monospace\">Hey\n",
       "</span>"
      ]
     },
     "execution_count": 1,
     "metadata": {},
     "output_type": "execute_result"
    }
   ],
   "source": [
    "'H' 'e' 'y'"
   ]
  },
  {
   "cell_type": "code",
   "execution_count": 2,
   "id": "9fc8b5cc",
   "metadata": {},
   "outputs": [
    {
     "data": {
      "text/html": [
       "<span style=\"white-space:pre; font-family: monospace\">Hey\n",
       "</span>"
      ]
     },
     "execution_count": 2,
     "metadata": {},
     "output_type": "execute_result"
    }
   ],
   "source": [
    "'Hey'"
   ]
  },
  {
   "cell_type": "code",
   "execution_count": 3,
   "id": "628d04b7",
   "metadata": {},
   "outputs": [
    {
     "data": {
      "text/html": [
       "<span style=\"white-space:pre; font-family: monospace\">1 2 3\n",
       "</span>"
      ]
     },
     "execution_count": 3,
     "metadata": {},
     "output_type": "execute_result"
    }
   ],
   "source": [
    "1 2 3"
   ]
  },
  {
   "cell_type": "code",
   "execution_count": 4,
   "id": "96be3801",
   "metadata": {},
   "outputs": [
    {
     "data": {
      "text/html": [
       "<span style=\"white-space:pre; font-family: monospace\">┌───┬────┐\n",
       "│Hey│you!│\n",
       "└───┴────┘\n",
       "</span>"
      ]
     },
     "execution_count": 4,
     "metadata": {},
     "output_type": "execute_result"
    }
   ],
   "source": [
    "'Hey' 'you!'"
   ]
  },
  {
   "cell_type": "code",
   "execution_count": 5,
   "id": "c2406313",
   "metadata": {},
   "outputs": [
    {
     "data": {
      "text/html": [
       "<span style=\"white-space:pre; font-family: monospace\">┌───┬───┐\n",
       "│APL│360│\n",
       "└───┴───┘\n",
       "</span>"
      ]
     },
     "execution_count": 5,
     "metadata": {},
     "output_type": "execute_result"
    }
   ],
   "source": [
    "'APL'360 ⍝ Note: no space required"
   ]
  },
  {
   "cell_type": "code",
   "execution_count": 6,
   "id": "fce6f7b4",
   "metadata": {},
   "outputs": [
    {
     "data": {
      "text/html": [
       "<span style=\"white-space:pre; font-family: monospace\">a 3\n",
       "</span>"
      ]
     },
     "execution_count": 6,
     "metadata": {},
     "output_type": "execute_result"
    }
   ],
   "source": [
    "'a'3"
   ]
  },
  {
   "cell_type": "code",
   "execution_count": 7,
   "id": "953725f8",
   "metadata": {},
   "outputs": [
    {
     "data": {
      "text/html": [
       "<span style=\"white-space:pre; font-family: monospace\">┌─────┬───┐\n",
       "│1 2 3│4 5│\n",
       "└─────┴───┘\n",
       "</span>"
      ]
     },
     "execution_count": 7,
     "metadata": {},
     "output_type": "execute_result"
    }
   ],
   "source": [
    "(1 2 3)(4 5)"
   ]
  },
  {
   "cell_type": "code",
   "execution_count": 8,
   "id": "345b08f5",
   "metadata": {},
   "outputs": [
    {
     "data": {
      "text/html": [
       "<span style=\"white-space:pre; font-family: monospace\">┌→┐\n",
       "│6│\n",
       "└~┘\n",
       "</span>"
      ]
     },
     "execution_count": 8,
     "metadata": {},
     "output_type": "execute_result"
    },
    {
     "data": {
      "text/html": [
       "<span style=\"white-space:pre; font-family: monospace\">┌→────────┐\n",
       "│ ┌→┐     │\n",
       "│ │6│ 1 2 │\n",
       "│ └~┘     │\n",
       "└∊────────┘\n",
       "</span>"
      ]
     },
     "execution_count": 8,
     "metadata": {},
     "output_type": "execute_result"
    },
    {
     "data": {
      "text/html": [
       "<span style=\"white-space:pre; font-family: monospace\">┌→──────────┐\n",
       "│ ┌→┐ ┌→──┐ │\n",
       "│ │6│ │1 2│ │\n",
       "│ └~┘ └~──┘ │\n",
       "└∊──────────┘\n",
       "</span>"
      ]
     },
     "execution_count": 8,
     "metadata": {},
     "output_type": "execute_result"
    }
   ],
   "source": [
    "]display ,6       ⍝ Verbose display to demonstrate that ,6 is indeed a vector\n",
    "]display (,6)1 2\n",
    "]display (,6)(1 2)"
   ]
  },
  {
   "cell_type": "code",
   "execution_count": 9,
   "id": "b41e5d79",
   "metadata": {},
   "outputs": [
    {
     "data": {
      "text/html": [
       "<span style=\"white-space:pre; font-family: monospace\">abcd\n",
       "efgh\n",
       "ijkl\n",
       "</span>"
      ]
     },
     "execution_count": 9,
     "metadata": {},
     "output_type": "execute_result"
    }
   ],
   "source": [
    "3 4⍴'abcdefghijkl'"
   ]
  },
  {
   "cell_type": "code",
   "execution_count": 10,
   "id": "813c605b",
   "metadata": {},
   "outputs": [
    {
     "data": {
      "text/html": [
       "<span style=\"white-space:pre; font-family: monospace\">abca\n",
       "bcab\n",
       "cabc\n",
       "</span>"
      ]
     },
     "execution_count": 10,
     "metadata": {},
     "output_type": "execute_result"
    }
   ],
   "source": [
    " 3 4⍴'abc'     ⍝ insufficient data; keep recycling"
   ]
  },
  {
   "cell_type": "code",
   "execution_count": 11,
   "id": "47e84674",
   "metadata": {},
   "outputs": [
    {
     "data": {
      "text/html": [
       "<span style=\"white-space:pre; font-family: monospace\">ABC\n",
       "DEF\n",
       "GHI\n",
       "</span>"
      ]
     },
     "execution_count": 11,
     "metadata": {},
     "output_type": "execute_result"
    },
    {
     "data": {
      "text/html": [
       "<span style=\"white-space:pre; font-family: monospace\">3 3\n",
       "</span>"
      ]
     },
     "execution_count": 11,
     "metadata": {},
     "output_type": "execute_result"
    },
    {
     "data": {
      "text/html": [
       "<span style=\"white-space:pre; font-family: monospace\">┌→┐\n",
       "│4│\n",
       "└~┘\n",
       "</span>"
      ]
     },
     "execution_count": 11,
     "metadata": {},
     "output_type": "execute_result"
    },
    {
     "data": {
      "text/html": [
       "<span style=\"white-space:pre; font-family: monospace\">┌⊖┐\n",
       "│0│\n",
       "└~┘\n",
       "</span>"
      ]
     },
     "execution_count": 11,
     "metadata": {},
     "output_type": "execute_result"
    }
   ],
   "source": [
    "3 3⍴⎕A    \n",
    "⍴3 3⍴⎕A   ⍝ What is the shape of a 3x3 matrix?\n",
    "]display ⍴1 2 3 4  ⍝ What is the shape of a vector?\n",
    "]display ⍴6  ⍝ What is the shape of a scalar?"
   ]
  },
  {
   "cell_type": "code",
   "execution_count": 12,
   "id": "24c652ee",
   "metadata": {},
   "outputs": [
    {
     "data": {
      "text/html": [
       "<span style=\"white-space:pre; font-family: monospace\">┌─────┬─────┬─────┐\n",
       "│1 2 3│4 5 6│7 8 9│\n",
       "└─────┴─────┴─────┘\n",
       "</span>"
      ]
     },
     "execution_count": 12,
     "metadata": {},
     "output_type": "execute_result"
    },
    {
     "data": {
      "text/html": [
       "<span style=\"white-space:pre; font-family: monospace\">1 2 3\n",
       "4 5 6\n",
       "7 8 9\n",
       "</span>"
      ]
     },
     "execution_count": 12,
     "metadata": {},
     "output_type": "execute_result"
    },
    {
     "data": {
      "text/html": [
       "<span style=\"white-space:pre; font-family: monospace\">1  2  3  4\n",
       "5  6  7  8\n",
       "9 10 11 12\n",
       "</span>"
      ]
     },
     "execution_count": 12,
     "metadata": {},
     "output_type": "execute_result"
    },
    {
     "data": {
      "text/html": [
       "<span style=\"white-space:pre; font-family: monospace\">┌───────┬───────┬──────────┐\n",
       "│1 2 3 4│5 6 7 8│9 10 11 12│\n",
       "└───────┴───────┴──────────┘\n",
       "</span>"
      ]
     },
     "execution_count": 12,
     "metadata": {},
     "output_type": "execute_result"
    }
   ],
   "source": [
    "(1 2 3)(4 5 6)(7 8 9)  ⍝ vector\n",
    "↑(1 2 3)(4 5 6)(7 8 9) ⍝ mix vector to a matrix\n",
    "3 4⍴⍳12                ⍝ matrix\n",
    "↓3 4⍴⍳12               ⍝ split matrix to a vector"
   ]
  },
  {
   "cell_type": "code",
   "execution_count": 13,
   "id": "c8675637",
   "metadata": {},
   "outputs": [
    {
     "data": {
      "text/html": [
       "<span style=\"white-space:pre; font-family: monospace\">2\n",
       "</span>"
      ]
     },
     "execution_count": 13,
     "metadata": {},
     "output_type": "execute_result"
    }
   ],
   "source": [
    "≡(1 2 3)(4 5 6)(7 8 9) ⍝ vector of vectors"
   ]
  },
  {
   "cell_type": "code",
   "execution_count": 14,
   "id": "0fb3c08f",
   "metadata": {},
   "outputs": [
    {
     "data": {
      "text/html": [
       "<span style=\"white-space:pre; font-family: monospace\">5\n",
       "</span>"
      ]
     },
     "execution_count": 14,
     "metadata": {},
     "output_type": "execute_result"
    }
   ],
   "source": [
    "≢7 5 6 3 2"
   ]
  },
  {
   "cell_type": "code",
   "execution_count": 15,
   "id": "3e8767a7",
   "metadata": {},
   "outputs": [
    {
     "data": {
      "text/html": [
       "<span style=\"white-space:pre; font-family: monospace\">3 1 4\n",
       "</span>"
      ]
     },
     "execution_count": 15,
     "metadata": {},
     "output_type": "execute_result"
    }
   ],
   "source": [
    "3↑3 1 4 1 5"
   ]
  },
  {
   "cell_type": "code",
   "execution_count": 16,
   "id": "3898c49e",
   "metadata": {},
   "outputs": [
    {
     "data": {
      "text/html": [
       "<span style=\"white-space:pre; font-family: monospace\">4 1 5\n",
       "</span>"
      ]
     },
     "execution_count": 16,
     "metadata": {},
     "output_type": "execute_result"
    }
   ],
   "source": [
    "¯3↑3 1 4 1 5"
   ]
  },
  {
   "cell_type": "code",
   "execution_count": 17,
   "id": "1d6f5c37",
   "metadata": {},
   "outputs": [
    {
     "data": {
      "text/html": [
       "<span style=\"white-space:pre; font-family: monospace\">1 2 3 0 0 0 0 0 0 0\n",
       "</span>"
      ]
     },
     "execution_count": 17,
     "metadata": {},
     "output_type": "execute_result"
    },
    {
     "data": {
      "text/html": [
       "<span style=\"white-space:pre; font-family: monospace\">0 0 0 0 0 0 0 1 2 3\n",
       "</span>"
      ]
     },
     "execution_count": 17,
     "metadata": {},
     "output_type": "execute_result"
    },
    {
     "data": {
      "text/html": [
       "<span style=\"white-space:pre; font-family: monospace\">┌→─────────┐\n",
       "│Hello     │\n",
       "└──────────┘\n",
       "</span>"
      ]
     },
     "execution_count": 17,
     "metadata": {},
     "output_type": "execute_result"
    }
   ],
   "source": [
    "10↑1 2 3\n",
    "¯10↑1 2 3\n",
    "]display 10↑'Hello'"
   ]
  },
  {
   "cell_type": "code",
   "execution_count": null,
   "id": "a9c05b03",
   "metadata": {},
   "outputs": [],
   "source": []
  }
 ],
 "metadata": {
  "kernelspec": {
   "display_name": "Dyalog APL",
   "language": "apl",
   "name": "dyalog-kernel"
  },
  "language_info": {
   "file_extension": ".apl",
   "mimetype": "text/apl",
   "name": "APL"
  }
 },
 "nbformat": 4,
 "nbformat_minor": 5
}
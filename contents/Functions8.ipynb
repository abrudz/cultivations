{
 "cells": [
  {
   "cell_type": "markdown",
   "id": "5f9e4546",
   "metadata": {},
   "source": [
    "# `⍴⌽⊖⍉⍎⍕`\n",
    "\n",
    "## Reshape `⍴`\n",
    "\n",
    "We've met ⍴ (Greek Rho) in passing before. Let's cover it in more depth. `⍴` is maybe the most fundamental function in an array language, as it allows the formation of multi-dimensional (high-rank) arrays. Note that `⍴` is not _actually_ the Greek Rho in Unicode. Dyalog APL only uses the special Unicode APL Rho. \n",
    " \n",
    "The Greek letter Rho is has the sound of the letter R, and stands for [reshape](http://help.dyalog.com/latest/index.htm#Language/Primitive%20Functions/Reshape.htm). The right argument of `⍴` is used in ravel order to fill an array with the dimensions given by the left argument. The left argument must therefore be a vector (list) of dimension lengths (although for ease of use, we do allow a scalar instead of a one-element vector). Another way to look at it is that the left argument of `⍴` is the index of the last element in the resulting array (if you stick to the default `⎕IO` of 1). If you omit the shape (left argument) then the current shape is returned. "
   ]
  },
  {
   "cell_type": "code",
   "execution_count": 1,
   "id": "1c3875ef",
   "metadata": {},
   "outputs": [
    {
     "data": {
      "text/html": [
       "<span style=\"white-space:pre; font-family: monospace\">aaa\n",
       "</span>"
      ]
     },
     "execution_count": 1,
     "metadata": {},
     "output_type": "execute_result"
    },
    {
     "data": {
      "text/html": [
       "<span style=\"white-space:pre; font-family: monospace\">aba\n",
       "</span>"
      ]
     },
     "execution_count": 1,
     "metadata": {},
     "output_type": "execute_result"
    },
    {
     "data": {
      "text/html": [
       "<span style=\"white-space:pre; font-family: monospace\">abc\n",
       "</span>"
      ]
     },
     "execution_count": 1,
     "metadata": {},
     "output_type": "execute_result"
    },
    {
     "data": {
      "text/html": [
       "<span style=\"white-space:pre; font-family: monospace\">abc\n",
       "abc\n",
       "</span>"
      ]
     },
     "execution_count": 1,
     "metadata": {},
     "output_type": "execute_result"
    }
   ],
   "source": [
    "3⍴'a'\n",
    "3⍴'ab'\n",
    "3⍴'abcd'\n",
    "2 3⍴'abc'"
   ]
  },
  {
   "cell_type": "markdown",
   "id": "1bd276ce",
   "metadata": {},
   "source": [
    "That's two rows and three columns. The order of the left argument is the number of major cells first and of \"leaf\" cells last. "
   ]
  },
  {
   "cell_type": "code",
   "execution_count": 2,
   "id": "93ec0f1e",
   "metadata": {},
   "outputs": [
    {
     "data": {
      "text/html": [
       "<span style=\"white-space:pre; font-family: monospace\">13 23 33 43\n",
       "14 24 34 44\n",
       "15 25 35 45\n",
       "</span>"
      ]
     },
     "execution_count": 2,
     "metadata": {},
     "output_type": "execute_result"
    },
    {
     "data": {
      "text/html": [
       "<span style=\"white-space:pre; font-family: monospace\">3 4\n",
       "</span>"
      ]
     },
     "execution_count": 2,
     "metadata": {},
     "output_type": "execute_result"
    }
   ],
   "source": [
    "3 4 5∘.+10 20 30 40\n",
    "⍴3 4 5∘.+10 20 30 40"
   ]
  },
  {
   "cell_type": "markdown",
   "id": "afdfb098",
   "metadata": {},
   "source": [
    "A scalar doesn't have any dimensions, so the corresponding left argument is `⍬` (or `0⍴0`): "
   ]
  },
  {
   "cell_type": "code",
   "execution_count": 3,
   "id": "94953e0a",
   "metadata": {},
   "outputs": [
    {
     "data": {
      "text/html": [
       "<span style=\"white-space:pre; font-family: monospace\">13\n",
       "</span>"
      ]
     },
     "execution_count": 3,
     "metadata": {},
     "output_type": "execute_result"
    }
   ],
   "source": [
    "⍬⍴3 4 5∘.+10 20 30 40"
   ]
  },
  {
   "cell_type": "markdown",
   "id": "337c3f8e",
   "metadata": {},
   "source": [
    "If one or more dimensions are 0, then the array doesn't have any elements, but it is still there. If it has rank 2 or higher, then it has an empty default display. If an array has no elements, then `⍴` will uses its prototype to fill any array it needs to form:"
   ]
  },
  {
   "cell_type": "code",
   "execution_count": 4,
   "id": "63d26243",
   "metadata": {},
   "outputs": [
    {
     "data": {
      "text/html": [
       "<span style=\"white-space:pre; font-family: monospace\">0 0 0\n",
       "0 0 0\n",
       "</span>"
      ]
     },
     "execution_count": 4,
     "metadata": {},
     "output_type": "execute_result"
    }
   ],
   "source": [
    "2 3⍴⍬"
   ]
  },
  {
   "cell_type": "markdown",
   "id": "d401ce04",
   "metadata": {},
   "source": [
    "Recall that `⍬` is just `0⍴0` so it being simple and numeric, its prototype is 0. \n",
    "\n",
    "## Reverse `⌽`\n",
    "\n",
    "Monadic `⌽` is [reverse](https://help.dyalog.com/latest/#Language/Primitive%20Functions/Reverse.htm). It reverses the leaf rank-1 sub-arrays of an array. For a matrix, it means reversing each row: "
   ]
  },
  {
   "cell_type": "code",
   "execution_count": 5,
   "id": "50f669ac",
   "metadata": {},
   "outputs": [
    {
     "data": {
      "text/html": [
       "<span style=\"white-space:pre; font-family: monospace\">1 2 3 4\n",
       "5 6 7 8\n",
       "</span>"
      ]
     },
     "execution_count": 5,
     "metadata": {},
     "output_type": "execute_result"
    },
    {
     "data": {
      "text/html": [
       "<span style=\"white-space:pre; font-family: monospace\">4 3 2 1\n",
       "8 7 6 5\n",
       "</span>"
      ]
     },
     "execution_count": 5,
     "metadata": {},
     "output_type": "execute_result"
    }
   ],
   "source": [
    "2 4⍴⍳8\n",
    "⌽2 4⍴⍳8"
   ]
  },
  {
   "cell_type": "markdown",
   "id": "6807273c",
   "metadata": {},
   "source": [
    "For a vector, it simply means reversing the vector:"
   ]
  },
  {
   "cell_type": "code",
   "execution_count": 6,
   "id": "799816e4",
   "metadata": {},
   "outputs": [
    {
     "data": {
      "text/html": [
       "<span style=\"white-space:pre; font-family: monospace\">ABCDEFGHIJKLMNOPQRSTUVWXYZ\n",
       "</span>"
      ]
     },
     "execution_count": 6,
     "metadata": {},
     "output_type": "execute_result"
    },
    {
     "data": {
      "text/html": [
       "<span style=\"white-space:pre; font-family: monospace\">ZYXWVUTSRQPONMLKJIHGFEDCBA\n",
       "</span>"
      ]
     },
     "execution_count": 6,
     "metadata": {},
     "output_type": "execute_result"
    }
   ],
   "source": [
    "⎕A\n",
    "⌽⎕A"
   ]
  },
  {
   "cell_type": "markdown",
   "id": "a9149287",
   "metadata": {},
   "source": [
    "Of course, it doesn't affect scalars.\n",
    "\n",
    "## Reverse first `⊖`\n",
    "\n",
    "`⌽` has a sibling, just like `/` and `\\` have `⌿` and `⍀`, namely [reverse first](https://help.dyalog.com/latest/#Language/Primitive%20Functions/Reverse%20First.htm), `⊖`, which I usually call \"Flip\". `⊖` reverses the order of major cells, which for a matrix means reversing the order of the rows, i.e. flipping it upside down: "
   ]
  },
  {
   "cell_type": "code",
   "execution_count": 7,
   "id": "6924b262",
   "metadata": {},
   "outputs": [
    {
     "data": {
      "text/html": [
       "<span style=\"white-space:pre; font-family: monospace\">5 6 7 8\n",
       "1 2 3 4\n",
       "</span>"
      ]
     },
     "execution_count": 7,
     "metadata": {},
     "output_type": "execute_result"
    }
   ],
   "source": [
    "⊖2 4⍴⍳8"
   ]
  },
  {
   "cell_type": "markdown",
   "id": "e19965e0",
   "metadata": {},
   "source": [
    "For vectors, it is the same as `⌽` and again it does nothing to scalars. For a 3D array, it reverses the order of layers:"
   ]
  },
  {
   "cell_type": "code",
   "execution_count": 8,
   "id": "49ab0525",
   "metadata": {},
   "outputs": [
    {
     "data": {
      "text/html": [
       "<span style=\"white-space:pre; font-family: monospace\">ABC\n",
       "DEF\n",
       "\n",
       "GHI\n",
       "JKL\n",
       "\n",
       "MNO\n",
       "PQR\n",
       "\n",
       "STU\n",
       "VWX\n",
       "</span>"
      ]
     },
     "execution_count": 8,
     "metadata": {},
     "output_type": "execute_result"
    },
    {
     "data": {
      "text/html": [
       "<span style=\"white-space:pre; font-family: monospace\">STU\n",
       "VWX\n",
       "\n",
       "MNO\n",
       "PQR\n",
       "\n",
       "GHI\n",
       "JKL\n",
       "\n",
       "ABC\n",
       "DEF\n",
       "</span>"
      ]
     },
     "execution_count": 8,
     "metadata": {},
     "output_type": "execute_result"
    }
   ],
   "source": [
    "4 2 3⍴⎕A\n",
    "⊖4 2 3⍴⎕A"
   ]
  },
  {
   "cell_type": "markdown",
   "id": "c77359ae",
   "metadata": {},
   "source": [
    "Dyadic `⌽` and `⊖` do rotations instead of reversals:"
   ]
  },
  {
   "cell_type": "code",
   "execution_count": 9,
   "id": "5b42bd1a",
   "metadata": {},
   "outputs": [
    {
     "data": {
      "text/html": [
       "<span style=\"white-space:pre; font-family: monospace\">DEFGHIJKLMNOPQRSTUVWXYZABC\n",
       "</span>"
      ]
     },
     "execution_count": 9,
     "metadata": {},
     "output_type": "execute_result"
    },
    {
     "data": {
      "text/html": [
       "<span style=\"white-space:pre; font-family: monospace\">GHI\n",
       "JKL\n",
       "\n",
       "MNO\n",
       "PQR\n",
       "\n",
       "STU\n",
       "VWX\n",
       "\n",
       "ABC\n",
       "DEF\n",
       "</span>"
      ]
     },
     "execution_count": 9,
     "metadata": {},
     "output_type": "execute_result"
    }
   ],
   "source": [
    "3⊖⎕A\n",
    "1⊖4 2 3⍴⎕A"
   ]
  },
  {
   "cell_type": "markdown",
   "id": "217655e7",
   "metadata": {},
   "source": [
    "Negative rotation amounts just rotate to the other way: "
   ]
  },
  {
   "cell_type": "code",
   "execution_count": 10,
   "id": "ac305b3c",
   "metadata": {},
   "outputs": [
    {
     "data": {
      "text/html": [
       "<span style=\"white-space:pre; font-family: monospace\">XYZABCDEFGHIJKLMNOPQRSTUVW\n",
       "</span>"
      ]
     },
     "execution_count": 10,
     "metadata": {},
     "output_type": "execute_result"
    }
   ],
   "source": [
    "¯3⊖⎕A"
   ]
  },
  {
   "cell_type": "markdown",
   "id": "a2779a6e",
   "metadata": {},
   "source": [
    "Here is a cool feature of `⌽` and `⊖`: If you give them a vector of rotation amounts, they get distributed on the relevant cells: "
   ]
  },
  {
   "cell_type": "code",
   "execution_count": 11,
   "id": "9dedbdd3",
   "metadata": {},
   "outputs": [
    {
     "data": {
      "text/html": [
       "<span style=\"white-space:pre; font-family: monospace\">ABCD\n",
       "EFGH\n",
       "IJKL\n",
       "</span>"
      ]
     },
     "execution_count": 11,
     "metadata": {},
     "output_type": "execute_result"
    },
    {
     "data": {
      "text/html": [
       "<span style=\"white-space:pre; font-family: monospace\">BCDA\n",
       "EFGH\n",
       "KLIJ\n",
       "</span>"
      ]
     },
     "execution_count": 11,
     "metadata": {},
     "output_type": "execute_result"
    },
    {
     "data": {
      "text/html": [
       "<span style=\"white-space:pre; font-family: monospace\">EBKD\n",
       "IFCH\n",
       "AJGL\n",
       "</span>"
      ]
     },
     "execution_count": 11,
     "metadata": {},
     "output_type": "execute_result"
    }
   ],
   "source": [
    "3 4⍴⎕A\n",
    "1 0 2⌽3 4⍴⎕A\n",
    "1 0 ¯1 0⊖3 4⍴⎕A"
   ]
  },
  {
   "cell_type": "markdown",
   "id": "d4a4b5ff",
   "metadata": {},
   "source": [
    "## Transpose `⍉`\n",
    "\n",
    "`⌽` and `⊖` also have a cousin named `⍉` (Transpose). The monadic function does not reverse the major cells or the rank 1 cells, but rather reverses the order of the indices. For matrices this is normal transposing: "
   ]
  },
  {
   "cell_type": "code",
   "execution_count": 12,
   "id": "08ef0ef9",
   "metadata": {},
   "outputs": [
    {
     "data": {
      "text/html": [
       "<span style=\"white-space:pre; font-family: monospace\">ABCD\n",
       "EFGH\n",
       "IJKL\n",
       "</span>"
      ]
     },
     "execution_count": 12,
     "metadata": {},
     "output_type": "execute_result"
    },
    {
     "data": {
      "text/html": [
       "<span style=\"white-space:pre; font-family: monospace\">AEI\n",
       "BFJ\n",
       "CGK\n",
       "DHL\n",
       "</span>"
      ]
     },
     "execution_count": 12,
     "metadata": {},
     "output_type": "execute_result"
    }
   ],
   "source": [
    "3 4⍴⎕A\n",
    "⍉3 4⍴⎕A"
   ]
  },
  {
   "cell_type": "markdown",
   "id": "70d3c60d",
   "metadata": {},
   "source": [
    "For arrays of rank higher than 2 it helps to think of the shape as being reversed:"
   ]
  },
  {
   "cell_type": "code",
   "execution_count": 13,
   "id": "f9358177",
   "metadata": {},
   "outputs": [
    {
     "data": {
      "text/html": [
       "<span style=\"white-space:pre; font-family: monospace\">AM\n",
       "EQ\n",
       "IU\n",
       "\n",
       "BN\n",
       "FR\n",
       "JV\n",
       "\n",
       "CO\n",
       "GS\n",
       "KW\n",
       "\n",
       "DP\n",
       "HT\n",
       "LX\n",
       "</span>"
      ]
     },
     "execution_count": 13,
     "metadata": {},
     "output_type": "execute_result"
    }
   ],
   "source": [
    "⍉2 3 4⍴⎕A"
   ]
  },
  {
   "cell_type": "markdown",
   "id": "3f00db71",
   "metadata": {},
   "source": [
    "If you look carefully, you can see that the runs like ABCD which originally spanned rows are now spanning layers. Look at the top left corner of each new layer. So, too, are the layers now spanning rows. Look how the top left of the layers, A and M are now next to each other in a row. Whilst the column AEI is still a column, because reversing the shape 2 3 4 (layers, rows, columns) gives 4 3 2 (columns, rows, layers) so the runs spanning rows are in the same position, still spanning rows.\n",
    "\n",
    "Now you know how to reverse the order of axes, but what if you want an entirely _new_ order? That's what dyadic `⍉` does. The left argument is the indices of the axes in the desired order. Therefore, if we reverse the indices of the rank, it is the same as monadic transpose: "
   ]
  },
  {
   "cell_type": "code",
   "execution_count": 14,
   "id": "933baa81",
   "metadata": {},
   "outputs": [
    {
     "data": {
      "text/html": [
       "<span style=\"white-space:pre; font-family: monospace\">AM\n",
       "EQ\n",
       "IU\n",
       "\n",
       "BN\n",
       "FR\n",
       "JV\n",
       "\n",
       "CO\n",
       "GS\n",
       "KW\n",
       "\n",
       "DP\n",
       "HT\n",
       "LX\n",
       "</span>"
      ]
     },
     "execution_count": 14,
     "metadata": {},
     "output_type": "execute_result"
    }
   ],
   "source": [
    "3 2 1⍉2 3 4⍴⎕A"
   ]
  },
  {
   "cell_type": "markdown",
   "id": "95c7b230",
   "metadata": {},
   "source": [
    "Now we can keep the layers and only reverse (i.e. transpose) columns/rows: "
   ]
  },
  {
   "cell_type": "code",
   "execution_count": 15,
   "id": "ed47ca9d",
   "metadata": {},
   "outputs": [
    {
     "data": {
      "text/html": [
       "<span style=\"white-space:pre; font-family: monospace\">AEI\n",
       "BFJ\n",
       "CGK\n",
       "DHL\n",
       "\n",
       "MQU\n",
       "NRV\n",
       "OSW\n",
       "PTX\n",
       "</span>"
      ]
     },
     "execution_count": 15,
     "metadata": {},
     "output_type": "execute_result"
    }
   ],
   "source": [
    "1 3 2⍉2 3 4⍴⎕A"
   ]
  },
  {
   "cell_type": "markdown",
   "id": "d9a0b923",
   "metadata": {},
   "source": [
    "Here is a very cool thing: You can duplicate indices in the left argument. If so, APL will merge the indicated axes, taking only the elements that have equal indices along those two axes. This is the diagonal or diagonal plane, or diagonal 3D array (!), etc. "
   ]
  },
  {
   "cell_type": "code",
   "execution_count": 16,
   "id": "650b7ea7",
   "metadata": {},
   "outputs": [
    {
     "data": {
      "text/html": [
       "<span style=\"white-space:pre; font-family: monospace\">ABCD\n",
       "EFGH\n",
       "IJKL\n",
       "</span>"
      ]
     },
     "execution_count": 16,
     "metadata": {},
     "output_type": "execute_result"
    },
    {
     "data": {
      "text/html": [
       "<span style=\"white-space:pre; font-family: monospace\">AFK\n",
       "</span>"
      ]
     },
     "execution_count": 16,
     "metadata": {},
     "output_type": "execute_result"
    },
    {
     "data": {
      "text/html": [
       "<span style=\"white-space:pre; font-family: monospace\">AR\n",
       "</span>"
      ]
     },
     "execution_count": 16,
     "metadata": {},
     "output_type": "execute_result"
    },
    {
     "data": {
      "text/html": [
       "<span style=\"white-space:pre; font-family: monospace\">ABCD\n",
       "QRST\n",
       "</span>"
      ]
     },
     "execution_count": 16,
     "metadata": {},
     "output_type": "execute_result"
    }
   ],
   "source": [
    "3 4⍴⎕A\n",
    "1 1⍉3 4⍴⎕A\n",
    "1 1 1⍉2 3 4⍴⎕A\n",
    "1 1 2⍉2 3 4⍴⎕A"
   ]
  },
  {
   "cell_type": "markdown",
   "id": "67a5283d",
   "metadata": {},
   "source": [
    "Here the layers and rows got merged, i.e. 1st row of 1st layer and 2nd row of 2nd layer, while the columns stayed as is. "
   ]
  },
  {
   "cell_type": "code",
   "execution_count": 17,
   "id": "f4f85b93",
   "metadata": {},
   "outputs": [
    {
     "data": {
      "text/html": [
       "<span style=\"white-space:pre; font-family: monospace\">AEI\n",
       "NRV\n",
       "</span>"
      ]
     },
     "execution_count": 17,
     "metadata": {},
     "output_type": "execute_result"
    }
   ],
   "source": [
    "1 2 1⍉2 3 4⍴⎕A"
   ]
  },
  {
   "cell_type": "markdown",
   "id": "4e2c0055",
   "metadata": {},
   "source": [
    "Here we merged layers and columns, i.e. 1st column of 1st layer and second column of 2nd layer. Dyadic `⍉` is pretty advanced and quite rarely used, but when you need it (and can figure out the correct left argument — experiment!) it is really handy. \n",
    "\n",
    "Here's an example. Given a multiplication table, what were the numbers that generated it?"
   ]
  },
  {
   "cell_type": "code",
   "execution_count": 18,
   "id": "e5c81812",
   "metadata": {},
   "outputs": [
    {
     "data": {
      "text/html": [
       "<span style=\"white-space:pre; font-family: monospace\"> 9 6 12\n",
       " 6 4  8\n",
       "12 8 16\n",
       "</span>"
      ]
     },
     "execution_count": 18,
     "metadata": {},
     "output_type": "execute_result"
    }
   ],
   "source": [
    "3 3⍴9 6 12 6 4 8 12 8 16 ⍝ A multiplication table"
   ]
  },
  {
   "cell_type": "markdown",
   "id": "0f0843ad",
   "metadata": {},
   "source": [
    "In this case, the answer is `3 2 4`:"
   ]
  },
  {
   "cell_type": "code",
   "execution_count": 19,
   "id": "cba92a65",
   "metadata": {},
   "outputs": [
    {
     "data": {
      "text/html": [
       "<span style=\"white-space:pre; font-family: monospace\"> 9 6 12\n",
       " 6 4  8\n",
       "12 8 16\n",
       "</span>"
      ]
     },
     "execution_count": 19,
     "metadata": {},
     "output_type": "execute_result"
    }
   ],
   "source": [
    "∘.×⍨3 2 4"
   ]
  },
  {
   "cell_type": "markdown",
   "id": "a4d1d3fe",
   "metadata": {},
   "source": [
    "We can 'reverse engineer' this by finding the square root of the diagonal elements:"
   ]
  },
  {
   "cell_type": "code",
   "execution_count": 20,
   "id": "a454986f",
   "metadata": {},
   "outputs": [
    {
     "data": {
      "text/html": [
       "<span style=\"white-space:pre; font-family: monospace\">9 4 16\n",
       "</span>"
      ]
     },
     "execution_count": 20,
     "metadata": {},
     "output_type": "execute_result"
    },
    {
     "data": {
      "text/html": [
       "<span style=\"white-space:pre; font-family: monospace\">3 2 4\n",
       "</span>"
      ]
     },
     "execution_count": 20,
     "metadata": {},
     "output_type": "execute_result"
    }
   ],
   "source": [
    "1 1⍉3 3⍴9 6 12 6 4 8 12 8 16       ⍝ main diagonal\n",
    "0.5*⍨1 1⍉3 3⍴9 6 12 6 4 8 12 8 16"
   ]
  },
  {
   "cell_type": "markdown",
   "id": "bd4f2808",
   "metadata": {},
   "source": [
    "## Execute `⍎`\n",
    "\n",
    "[Execute](http://help.dyalog.com/latest/index.htm#Language/Primitive%20Functions/Execute.htm), `⍎`, evaluates a string representing a line of APL. This can be any valid APL expression, including functions and multiple statements:"
   ]
  },
  {
   "cell_type": "code",
   "execution_count": 21,
   "id": "64cd018b",
   "metadata": {},
   "outputs": [
    {
     "data": {
      "text/html": [
       "<span style=\"white-space:pre; font-family: monospace\">5\n",
       "</span>"
      ]
     },
     "execution_count": 21,
     "metadata": {},
     "output_type": "execute_result"
    },
    {
     "data": {
      "text/html": [
       "<span style=\"white-space:pre; font-family: monospace\">5\n",
       "</span>"
      ]
     },
     "execution_count": 21,
     "metadata": {},
     "output_type": "execute_result"
    },
    {
     "data": {
      "text/html": [
       "<span style=\"white-space:pre; font-family: monospace\">5\n",
       "</span>"
      ]
     },
     "execution_count": 21,
     "metadata": {},
     "output_type": "execute_result"
    }
   ],
   "source": [
    "⍎'2+3'\n",
    "2(⍎'+')3\n",
    "⍎'a←2 ⋄ a←a+3 ⋄ a'"
   ]
  },
  {
   "cell_type": "markdown",
   "id": "364008f0",
   "metadata": {},
   "source": [
    "The result of `⍎` is the result of the last statement, if that has a result. If it doesn't (e.g. it is an empty statement or has a leading `{}`), then `⍎` doesn't have a result either. The result of `⍎` can be a monadic operator: "
   ]
  },
  {
   "cell_type": "code",
   "execution_count": 22,
   "id": "328c8cd4",
   "metadata": {},
   "outputs": [
    {
     "data": {
      "text/html": [
       "<span style=\"white-space:pre; font-family: monospace\">3 4\n",
       "</span>"
      ]
     },
     "execution_count": 22,
     "metadata": {},
     "output_type": "execute_result"
    }
   ],
   "source": [
    "≢(⍎'¨')'abc' 'defg'"
   ]
  },
  {
   "cell_type": "markdown",
   "id": "e62309f7",
   "metadata": {},
   "source": [
    "`⍎` has all the features of a line of APL. You can run your entire program from `⍎`. Indeed, when a workspace is loaded, APL automatically does `⍎⎕LX` to bootstrap your application. This is what causes the greeting message when you load a workspace like [dfns](http://dfns.dyalog.com/). \n",
    "\n",
    "Dyadic `⍎` is exactly like the monadic, but executes the expression in the namespace named in the left argument. "
   ]
  },
  {
   "cell_type": "code",
   "execution_count": 23,
   "id": "e28ee0f7",
   "metadata": {},
   "outputs": [
    {
     "data": {
      "text/html": [
       "<span style=\"white-space:pre; font-family: monospace\">base\n",
       "</span>"
      ]
     },
     "execution_count": 23,
     "metadata": {},
     "output_type": "execute_result"
    },
    {
     "data": {
      "text/html": [
       "<span style=\"white-space:pre; font-family: monospace\">sub\n",
       "</span>"
      ]
     },
     "execution_count": 23,
     "metadata": {},
     "output_type": "execute_result"
    }
   ],
   "source": [
    "0 0⍴a←'base'\n",
    "ns←⎕NS⍬\n",
    "ns.a←'sub'\n",
    "⍎'a'\n",
    "'ns'⍎'a'"
   ]
  },
  {
   "cell_type": "markdown",
   "id": "0c4762f6",
   "metadata": {},
   "source": [
    "Here we first set `a` to `'base'` in `#` (the root namespace), then we created the empty namespace `ns`, populated it there, then evaluated `a` here (in `#`) and then in `ns`. In other words, monadic `⍎` is the same as dyadic `⍎` but with the default left argument of `⎕THIS` (this current namespace).\n",
    "\n",
    "Nowadays, we usually \"dot into\" namespaces to evaluate there: "
   ]
  },
  {
   "cell_type": "code",
   "execution_count": 24,
   "id": "39a96e95",
   "metadata": {},
   "outputs": [
    {
     "data": {
      "text/html": [
       "<span style=\"white-space:pre; font-family: monospace\">base\n",
       "</span>"
      ]
     },
     "execution_count": 24,
     "metadata": {},
     "output_type": "execute_result"
    },
    {
     "data": {
      "text/html": [
       "<span style=\"white-space:pre; font-family: monospace\">sub\n",
       "</span>"
      ]
     },
     "execution_count": 24,
     "metadata": {},
     "output_type": "execute_result"
    }
   ],
   "source": [
    "0 0⍴a←'base'\n",
    "ns←⎕NS⍬\n",
    "ns.a←'sub'\n",
    "⍎'a'\n",
    "ns.⍎'a'"
   ]
  },
  {
   "cell_type": "markdown",
   "id": "ce44571d",
   "metadata": {},
   "source": [
    "Same as before, but here we used the \"value\" of `⍎` _inside_ `ns` instead of `⍎`'s value here. \n",
    "\n",
    "## Format `⍕`\n",
    "\n",
    "[Format](http://help.dyalog.com/latest/index.htm#Language/Primitive%20Functions/Format%20Monadic.htm), `⍕`, is really quite simple. It returns a simple character vector or matrix which displays exactly as if its argument had been displayed: "
   ]
  },
  {
   "cell_type": "code",
   "execution_count": 25,
   "id": "8c0dfc0c",
   "metadata": {},
   "outputs": [
    {
     "data": {
      "text/html": [
       "<span style=\"white-space:pre; font-family: monospace\">┌→──────┐\n",
       "│1 2 3 4│\n",
       "└~──────┘\n",
       "</span>"
      ]
     },
     "execution_count": 25,
     "metadata": {},
     "output_type": "execute_result"
    },
    {
     "data": {
      "text/html": [
       "<span style=\"white-space:pre; font-family: monospace\">4\n",
       "</span>"
      ]
     },
     "execution_count": 25,
     "metadata": {},
     "output_type": "execute_result"
    },
    {
     "data": {
      "text/html": [
       "<span style=\"white-space:pre; font-family: monospace\">┌→──────┐\n",
       "│1 2 3 4│\n",
       "└───────┘\n",
       "</span>"
      ]
     },
     "execution_count": 25,
     "metadata": {},
     "output_type": "execute_result"
    },
    {
     "data": {
      "text/html": [
       "<span style=\"white-space:pre; font-family: monospace\">7\n",
       "</span>"
      ]
     },
     "execution_count": 25,
     "metadata": {},
     "output_type": "execute_result"
    }
   ],
   "source": [
    "]display 1 2 3 4   ⍝ numeric vector\n",
    "≢1 2 3 4\n",
    "\n",
    "]display ⍕1 2 3 4  ⍝ convert to character vector\n",
    "≢⍕1 2 3 4"
   ]
  },
  {
   "cell_type": "markdown",
   "id": "d25b56d4",
   "metadata": {},
   "source": [
    "If you give `⍕` a left argument, it will display numeric values with that many decimals, rounding 5 up: "
   ]
  },
  {
   "cell_type": "code",
   "execution_count": 27,
   "id": "a0d9b5b1",
   "metadata": {},
   "outputs": [
    {
     "data": {
      "text/html": [
       "<span style=\"white-space:pre; font-family: monospace\"> 0.6667\n",
       "</span>"
      ]
     },
     "execution_count": 27,
     "metadata": {},
     "output_type": "execute_result"
    },
    {
     "data": {
      "text/html": [
       "<span style=\"white-space:pre; font-family: monospace\"> 0.3333 0.6667 1.0000\n",
       "</span>"
      ]
     },
     "execution_count": 27,
     "metadata": {},
     "output_type": "execute_result"
    }
   ],
   "source": [
    "4⍕2÷3    ⍝ character vector of 2÷3 rounded to 4 dp\n",
    "4⍕1 2 3÷3"
   ]
  },
  {
   "cell_type": "markdown",
   "id": "4d4fe70c",
   "metadata": {},
   "source": [
    "If you give it two values as left argument, it will use the first as \"field width\" and the second as the number of decimal places:"
   ]
  },
  {
   "cell_type": "code",
   "execution_count": 28,
   "id": "9a4720f2",
   "metadata": {},
   "outputs": [
    {
     "data": {
      "text/html": [
       "<span style=\"white-space:pre; font-family: monospace\">              0.3333              0.6667              1.0000\n",
       "</span>"
      ]
     },
     "execution_count": 28,
     "metadata": {},
     "output_type": "execute_result"
    }
   ],
   "source": [
    "20 4⍕1 2 3÷3"
   ]
  },
  {
   "cell_type": "markdown",
   "id": "f44a1b2d",
   "metadata": {},
   "source": [
    "You can also use twice as many elements on the left as there are leaf cells on the right, and it will pair each two on the left to each one on the right: "
   ]
  },
  {
   "cell_type": "code",
   "execution_count": 29,
   "id": "f0815ed5",
   "metadata": {},
   "outputs": [
    {
     "data": {
      "text/html": [
       "<span style=\"white-space:pre; font-family: monospace\">    0.3333                   1            1.0\n",
       "</span>"
      ]
     },
     "execution_count": 29,
     "metadata": {},
     "output_type": "execute_result"
    }
   ],
   "source": [
    "10 4 20 0 15 1⍕1 2 3÷3"
   ]
  },
  {
   "cell_type": "code",
   "execution_count": null,
   "id": "5e23d3ac",
   "metadata": {},
   "outputs": [],
   "source": []
  }
 ],
 "metadata": {
  "kernelspec": {
   "display_name": "Dyalog APL",
   "language": "apl",
   "name": "dyalog-kernel"
  },
  "language_info": {
   "file_extension": ".apl",
   "mimetype": "text/apl",
   "name": "APL"
  }
 },
 "nbformat": 4,
 "nbformat_minor": 5
}

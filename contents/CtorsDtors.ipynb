{
 "cells": [
  {
   "cell_type": "markdown",
   "id": "dbe91958",
   "metadata": {},
   "source": [
    "# Constructors and destructors\n",
    "\n",
    "When you create an instance of a class using `⎕NEW BaseClass`, you may want to supply some parameters. For this, we use a special type of method (function) called a [constructor](http://help.dyalog.com/latest/index.htm#Language/Object%20Oriented%20Programming/Constructors/Constructors.htm). \n",
    "\n",
    "## Constructors\n",
    "\n",
    "When you create a new instance, a _constructor_ (if one exists in the class script) will be called. "
   ]
  },
  {
   "cell_type": "code",
   "execution_count": 1,
   "id": "81b5aa71",
   "metadata": {},
   "outputs": [],
   "source": [
    "]dinput\n",
    ":Class cl1\n",
    "    ∇ Ctor\n",
    "      :Access public\n",
    "      :Implements constructor\n",
    "      ⎕←'Hi!'\n",
    "    ∇\n",
    ":EndClass"
   ]
  },
  {
   "cell_type": "code",
   "execution_count": 22,
   "id": "3f014059",
   "metadata": {},
   "outputs": [
    {
     "data": {
      "text/html": [
       "<span style=\"white-space:pre; font-family: monospace\">Hi!\n",
       "</span>"
      ]
     },
     "execution_count": 22,
     "metadata": {},
     "output_type": "execute_result"
    }
   ],
   "source": [
    "inst←⎕NEW cl1"
   ]
  },
  {
   "cell_type": "markdown",
   "id": "3f108de0",
   "metadata": {},
   "source": [
    "We defined a tradfn called `Ctor` (it could be called anything, though) and declared it available from the outside (it must be, as you can't be inside yet when you're just creating the instance). As you saw, creating an instance with `⎕NEW` ran the constructor.\n",
    "\n",
    "Here's a slightly modified version where the constructor sets a field value:"
   ]
  },
  {
   "cell_type": "code",
   "execution_count": 3,
   "id": "a3752147",
   "metadata": {},
   "outputs": [],
   "source": [
    "]dinput\n",
    ":Class cl2\n",
    "    :Field public value\n",
    "    ∇ Ctor x\n",
    "      :Access public\n",
    "      :Implements constructor\n",
    "      value←x\n",
    "    ∇\n",
    ":EndClass"
   ]
  },
  {
   "cell_type": "markdown",
   "id": "7f553aba",
   "metadata": {},
   "source": [
    "Here we have an uninitialised field (`value`) and a monadic constructor (`Ctor`) which sets the field upon construction:"
   ]
  },
  {
   "cell_type": "code",
   "execution_count": 5,
   "id": "1f04427b",
   "metadata": {},
   "outputs": [
    {
     "data": {
      "text/html": [
       "<span style=\"white-space:pre; font-family: monospace\">42\n",
       "</span>"
      ]
     },
     "execution_count": 5,
     "metadata": {},
     "output_type": "execute_result"
    }
   ],
   "source": [
    "inst←⎕NEW cl2 42\n",
    "inst.value"
   ]
  },
  {
   "cell_type": "markdown",
   "id": "aaedd24d",
   "metadata": {},
   "source": [
    "A class can have multiple constructors, too:"
   ]
  },
  {
   "cell_type": "code",
   "execution_count": 6,
   "id": "2f5feb09",
   "metadata": {},
   "outputs": [],
   "source": [
    "]dinput\n",
    ":Class cl3\n",
    "    ∇ None\n",
    "      :Access public\n",
    "      :Implements constructor\n",
    "      ⎕←'No arguments.'\n",
    "    ∇\n",
    "    ∇ One x\n",
    "      :Access public\n",
    "      :Implements constructor\n",
    "      ⎕←'1 argument:'x\n",
    "    ∇\n",
    ":EndClass"
   ]
  },
  {
   "cell_type": "markdown",
   "id": "115f8fbf",
   "metadata": {},
   "source": [
    "Here is a class with two constructors. APL will call the appropriate one (niladic or monadic):"
   ]
  },
  {
   "cell_type": "code",
   "execution_count": 12,
   "id": "0d90b0ce",
   "metadata": {},
   "outputs": [
    {
     "data": {
      "text/html": [
       "<span style=\"white-space:pre; font-family: monospace\">┌───────────┬──┐\n",
       "│1 argument:│42│\n",
       "└───────────┴──┘\n",
       "</span>"
      ]
     },
     "execution_count": 12,
     "metadata": {},
     "output_type": "execute_result"
    },
    {
     "data": {
      "text/html": [
       "<span style=\"white-space:pre; font-family: monospace\">No arguments.\n",
       "</span>"
      ]
     },
     "execution_count": 12,
     "metadata": {},
     "output_type": "execute_result"
    }
   ],
   "source": [
    "instA←⎕NEW cl3 42\n",
    "instB←⎕NEW cl3"
   ]
  },
  {
   "cell_type": "markdown",
   "id": "d0fe76c1",
   "metadata": {},
   "source": [
    "Or why not a class with _three_ constructors:"
   ]
  },
  {
   "cell_type": "code",
   "execution_count": 13,
   "id": "07a3c8c8",
   "metadata": {},
   "outputs": [],
   "source": [
    "]dinput\n",
    ":Class cl4\n",
    "    ∇ None\n",
    "      :Access public\n",
    "      :Implements constructor\n",
    "      ⎕←'No arguments.'\n",
    "    ∇\n",
    "    ∇ One x\n",
    "      :Access public\n",
    "      :Implements constructor\n",
    "      ⎕←'1 argument:'x\n",
    "    ∇\n",
    "    ∇ Two(a b)\n",
    "      :Access public\n",
    "      :Implements constructor\n",
    "      ⎕←'2 arguments'a b\n",
    "    ∇\n",
    ":EndClass"
   ]
  },
  {
   "cell_type": "code",
   "execution_count": 14,
   "id": "f862d8e0",
   "metadata": {},
   "outputs": [
    {
     "data": {
      "text/html": [
       "<span style=\"white-space:pre; font-family: monospace\">No arguments.\n",
       "</span>"
      ]
     },
     "execution_count": 14,
     "metadata": {},
     "output_type": "execute_result"
    },
    {
     "data": {
      "text/html": [
       "<span style=\"white-space:pre; font-family: monospace\">┌───────────┬──┐\n",
       "│1 argument:│42│\n",
       "└───────────┴──┘\n",
       "</span>"
      ]
     },
     "execution_count": 14,
     "metadata": {},
     "output_type": "execute_result"
    },
    {
     "data": {
      "text/html": [
       "<span style=\"white-space:pre; font-family: monospace\">┌───────────┬──┬──────┐\n",
       "│2 arguments│42│3.1415│\n",
       "└───────────┴──┴──────┘\n",
       "</span>"
      ]
     },
     "execution_count": 14,
     "metadata": {},
     "output_type": "execute_result"
    }
   ],
   "source": [
    "instA←⎕NEW cl4 \n",
    "instB←⎕NEW cl4 42\n",
    "instC←⎕NEW cl4 (42 3.1415)"
   ]
  },
  {
   "cell_type": "markdown",
   "id": "6012ca27",
   "metadata": {},
   "source": [
    "So APL calls the right constructor based on the number of arguments (if you've provided several). Another approach is to make a fancy constructor that handles everything:"
   ]
  },
  {
   "cell_type": "code",
   "execution_count": 15,
   "id": "63a56a7a",
   "metadata": {},
   "outputs": [],
   "source": [
    "]dinput\n",
    ":Class cl5\n",
    "    :Field public name←'baby'\n",
    "    :Field public age←0\n",
    "    ∇ Ctor x\n",
    "      :Access public\n",
    "      :Implements constructor\n",
    "      :If ' '=⊃0⍴x\n",
    "          name←x\n",
    "      :Else\n",
    "          age←x\n",
    "      :EndIf\n",
    "    ∇\n",
    ":EndClass"
   ]
  },
  {
   "cell_type": "code",
   "execution_count": 16,
   "id": "498a70d2",
   "metadata": {},
   "outputs": [
    {
     "data": {
      "text/html": [
       "<span style=\"white-space:pre; font-family: monospace\">┌────┬──┐\n",
       "│baby│42│\n",
       "└────┴──┘\n",
       "</span>"
      ]
     },
     "execution_count": 16,
     "metadata": {},
     "output_type": "execute_result"
    },
    {
     "data": {
      "text/html": [
       "<span style=\"white-space:pre; font-family: monospace\">┌───────┬─┐\n",
       "│Charlie│0│\n",
       "└───────┴─┘\n",
       "</span>"
      ]
     },
     "execution_count": 16,
     "metadata": {},
     "output_type": "execute_result"
    }
   ],
   "source": [
    "instA←⎕NEW cl5 42\n",
    "instA.(name age)\n",
    "instB←⎕NEW cl5 'Charlie'\n",
    "instB.(name age)"
   ]
  },
  {
   "cell_type": "markdown",
   "id": "d3b45243",
   "metadata": {},
   "source": [
    "One final example of multiple constructors:"
   ]
  },
  {
   "cell_type": "code",
   "execution_count": 17,
   "id": "aa0876cf",
   "metadata": {},
   "outputs": [],
   "source": [
    "]dinput\n",
    ":Class cl6\n",
    "    ∇ None\n",
    "      :Access public\n",
    "      :Implements constructor\n",
    "      ⎕←'No arguments.'\n",
    "    ∇\n",
    "    ∇ One x\n",
    "      :Access public\n",
    "      :Implements constructor\n",
    "      ⎕←'1 argument:'x\n",
    "    ∇\n",
    "    ∇ Two(a b)\n",
    "      :Access public\n",
    "      :Implements constructor\n",
    "      ⎕←'2 arguments'a b\n",
    "\n",
    "    ∇\n",
    "    ∇ Three(a b c)\n",
    "      :Access public\n",
    "      :Implements constructor\n",
    "      ⎕←'3 arguments:'a b c\n",
    "    ∇\n",
    ":EndClass"
   ]
  },
  {
   "cell_type": "markdown",
   "id": "e1ccb31d",
   "metadata": {},
   "source": [
    "We have 0–3. What happens when I call this with more than 3? Let's see, shall we?"
   ]
  },
  {
   "cell_type": "code",
   "execution_count": 18,
   "id": "6e7e0b58",
   "metadata": {},
   "outputs": [
    {
     "data": {
      "text/html": [
       "<span style=\"white-space:pre; font-family: monospace\">No arguments.\n",
       "</span>"
      ]
     },
     "execution_count": 18,
     "metadata": {},
     "output_type": "execute_result"
    },
    {
     "data": {
      "text/html": [
       "<span style=\"white-space:pre; font-family: monospace\">┌───────────┬──┐\n",
       "│1 argument:│42│\n",
       "└───────────┴──┘\n",
       "</span>"
      ]
     },
     "execution_count": 18,
     "metadata": {},
     "output_type": "execute_result"
    },
    {
     "data": {
      "text/html": [
       "<span style=\"white-space:pre; font-family: monospace\">┌────────────┬───┬───┬──┐\n",
       "│3 arguments:│2.7│3.1│42│\n",
       "└────────────┴───┴───┴──┘\n",
       "</span>"
      ]
     },
     "execution_count": 18,
     "metadata": {},
     "output_type": "execute_result"
    },
    {
     "data": {
      "text/html": [
       "<span style=\"white-space:pre; font-family: monospace\">┌───────────┬─────────────┐\n",
       "│1 argument:│1 2 3 4 5 6 7│\n",
       "└───────────┴─────────────┘\n",
       "</span>"
      ]
     },
     "execution_count": 18,
     "metadata": {},
     "output_type": "execute_result"
    }
   ],
   "source": [
    "instA←⎕NEW cl6\n",
    "instB←⎕NEW cl6 42\n",
    "instC←⎕NEW cl6 (2.7 3.1 42)\n",
    "instD←⎕NEW cl6 (1 2 3 4 5 6 7)"
   ]
  },
  {
   "cell_type": "markdown",
   "id": "28f00bbb",
   "metadata": {},
   "source": [
    "In other words, APL tries to match the specific number of arguments, but if there is no exact match, it passes the array as a single argument to the constructor that takes one argument.\n",
    "\n",
    "## Destructors\n",
    "\n",
    "Sometimes when an instance ceases to exist, you want to do some clean-up. For example, when a webserver is closed, you might want to free ports and write a message to the log, etc. This functionality is handled by a [destructor](http://help.dyalog.com/latest/index.htm#Language/Object%20Oriented%20Programming/Constructors/Destructors.htm)."
   ]
  },
  {
   "cell_type": "code",
   "execution_count": 19,
   "id": "ddb98665",
   "metadata": {},
   "outputs": [],
   "source": [
    "]dinput\n",
    ":Class cl7\n",
    "    ∇ Hi\n",
    "      :Access public\n",
    "      :Implements constructor\n",
    "      ⎕←'Hello there!'\n",
    "    ∇\n",
    "\n",
    "    ∇ Bye\n",
    "      :Implements destructor\n",
    "      ⎕←'See you later!'\n",
    "    ∇\n",
    ":EndClass"
   ]
  },
  {
   "cell_type": "code",
   "execution_count": 21,
   "id": "840730a3",
   "metadata": {},
   "outputs": [
    {
     "data": {
      "text/html": [
       "<span style=\"white-space:pre; font-family: monospace\">Hello there!\n",
       "</span>"
      ]
     },
     "execution_count": 21,
     "metadata": {},
     "output_type": "execute_result"
    },
    {
     "data": {
      "text/html": [
       "<span style=\"white-space:pre; font-family: monospace\">5\n",
       "</span>"
      ]
     },
     "execution_count": 21,
     "metadata": {},
     "output_type": "execute_result"
    },
    {
     "data": {
      "text/html": [
       "<span style=\"white-space:pre; font-family: monospace\">See you later!\n",
       "</span>"
      ]
     },
     "execution_count": 21,
     "metadata": {},
     "output_type": "execute_result"
    },
    {
     "data": {
      "text/html": [
       "<span style=\"white-space:pre; font-family: monospace\">6\n",
       "</span>"
      ]
     },
     "execution_count": 21,
     "metadata": {},
     "output_type": "execute_result"
    }
   ],
   "source": [
    "inst←⎕NEW cl7\n",
    "2+3            ⍝ do some work\n",
    "⎕EX 'inst'     ⍝ Expunge \n",
    "2×3"
   ]
  },
  {
   "cell_type": "code",
   "execution_count": null,
   "id": "b371b338",
   "metadata": {},
   "outputs": [],
   "source": []
  }
 ],
 "metadata": {
  "kernelspec": {
   "display_name": "Dyalog APL",
   "language": "apl",
   "name": "dyalog-kernel"
  },
  "language_info": {
   "file_extension": ".apl",
   "mimetype": "text/apl",
   "name": "APL"
  }
 },
 "nbformat": 4,
 "nbformat_minor": 5
}

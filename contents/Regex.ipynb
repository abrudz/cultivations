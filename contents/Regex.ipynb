{
 "cells": [
  {
   "cell_type": "markdown",
   "id": "5c930f7c",
   "metadata": {},
   "source": [
    "# Regular expressions `⎕R` `⎕S`\n",
    "\n",
    "`⎕R` and `⎕S` are Dyalog's [regex operators](http://help.dyalog.com/latest/index.htm#Language/System%20Functions/r.htm); and take note that they are _operators_, not functions. Occasionally, their operator syntax has unexpected consequences, so it is important to remember this. They are dyadic operators. The left operand is always a character scalar, vector, or vector of such. The right operand may also be any of those, but can also be a function (any type; tacit, dfn or trad), and `⎕S` can also take a scalar integer as right operand.\n",
    "\n",
    "They then derive an ambivalent function which is can be named or applied to text. Some of their behaviour can be modified with the ⍠ operator, but since operators can only take functions (or arrays) as operands, `⍠` will be acting on the derived function, not on `⎕R` or `⎕S` themselves. This may sound trivial, but you have to remember that you cannot make a case insensitive (more about that later) version of `⎕S` with `MyRegexMachine←⎕S⍠1`, only `MyRegexMachine←'something'⎕S'something else'⍠1`.\n",
    "\n",
    "## Basic use\n",
    "\n",
    "Final note before we really start: The regex flavour is PCRE, which is well documented, so we won't go too much into details about it. It is [summarised](http://help.dyalog.com/latest/index.htm#Language/Appendices/PCRE%20Regular%20Expression%20Syntax%20Summary.htm) here and described in detail [here](http://help.dyalog.com/latest/index.htm#Language/Appendices/PCRE%20Regular%20Expression%20Details.htm).\n",
    "\n",
    "`⎕R` (Replace) changes text in-place and returns the entire amended argument. `⎕S` only returns the amended match(es). In most other aspects, they are identical, so when we speak of one, it applies to the other unless otherwise noted.\n",
    "\n",
    "OK, the basic example is: "
   ]
  },
  {
   "cell_type": "code",
   "execution_count": 2,
   "id": "7de3343d",
   "metadata": {},
   "outputs": [
    {
     "data": {
      "text/html": [
       "<span style=\"white-space:pre; font-family: monospace\">Programming Puzzles or Code Golf\n",
       "</span>"
      ]
     },
     "execution_count": 2,
     "metadata": {},
     "output_type": "execute_result"
    }
   ],
   "source": [
    "'and' ⎕R 'or' ⊢ 'Programming Puzzles and Code Golf'  ⍝ Replace 'and' with 'or'"
   ]
  },
  {
   "cell_type": "markdown",
   "id": "d7c9b402",
   "metadata": {},
   "source": [
    "However, the operands are not just simple text vectors, but rather regexes. For the left operand, that's just regular PCRE to find a match, but the right argument uses something that very much feels like regex, but in fact is a Dyalog-invented notation to indicate what you want the match replaced by.\n",
    "\n",
    "The first such notational symbol is `&` which means the match itself; in other words, no change: "
   ]
  },
  {
   "cell_type": "code",
   "execution_count": 4,
   "id": "02052328",
   "metadata": {},
   "outputs": [
    {
     "data": {
      "text/html": [
       "<span style=\"white-space:pre; font-family: monospace\">┌──┬──┐\n",
       "│mm│zz│\n",
       "└──┴──┘\n",
       "</span>"
      ]
     },
     "execution_count": 4,
     "metadata": {},
     "output_type": "execute_result"
    }
   ],
   "source": [
    "'(.)\\1' ⎕S '&' ⊢ 'Programming Puzzles and Code Golf'  ⍝ Match repeated pairs"
   ]
  },
  {
   "cell_type": "markdown",
   "id": "45816e65",
   "metadata": {},
   "source": [
    "The left operand is just PCRE: `.` is any char, the parens is a _capture group_, which gives it a number, and `\\1` is a reference to the first such group. It matches any sequence of two identical characters after each other.\n",
    "\n",
    "A `%` in the right operand means the entire container (line or document) which contained the match: "
   ]
  },
  {
   "cell_type": "code",
   "execution_count": 6,
   "id": "070a410c",
   "metadata": {},
   "outputs": [
    {
     "data": {
      "text/html": [
       "<span style=\"white-space:pre; font-family: monospace\">┌───────────┬───────┐\n",
       "│Programming│Puzzles│\n",
       "└───────────┴───────┘\n",
       "</span>"
      ]
     },
     "execution_count": 6,
     "metadata": {},
     "output_type": "execute_result"
    }
   ],
   "source": [
    "'(.)\\1' ⎕S '%' ⊢ 'Programming' 'Puzzles' 'and' 'Code' 'Golf'"
   ]
  },
  {
   "cell_type": "markdown",
   "id": "12732430",
   "metadata": {},
   "source": [
    "So this returned a list of all lines which contained double letters.\n",
    "\n",
    "## The transformation string in depth\n",
    "\n",
    "We've earlier talked about how simple APL's \"string\" (i.e. character vector) model is. The only special character is the quote which you need to double. There's no escaping, rather you have to use `…',(⎕UCS nn),'…`.\n",
    "\n",
    "However, in the transformation string (that's what the right operand is called), you may also use some common escapes: `\\n` and `\\r` for newline and carriage return, and `\\x{nn}` for any other Unicode character, where `nn` is in hex. Moreover, as `&` and `\\` are special, you'll have to escape them too with a prefix backslash.\n",
    "\n",
    "You may of course mix and match transformation strings as you please: "
   ]
  },
  {
   "cell_type": "code",
   "execution_count": 8,
   "id": "6c1fd0a0",
   "metadata": {},
   "outputs": [
    {
     "data": {
      "text/html": [
       "<span style=\"white-space:pre; font-family: monospace\">┌──────────────────────┬──────────────────┐\n",
       "│\"Programming\" has \"mm\"│\"Puzzles\" has \"zz\"│\n",
       "└──────────────────────┴──────────────────┘\n",
       "</span>"
      ]
     },
     "execution_count": 8,
     "metadata": {},
     "output_type": "execute_result"
    }
   ],
   "source": [
    "'(.)\\1' ⎕S '\"%\" has \"&\"' ⊢ 'Programming' 'Puzzles' 'and' 'Code' 'Golf'"
   ]
  },
  {
   "cell_type": "markdown",
   "id": "0022aa86",
   "metadata": {},
   "source": [
    "You can also refer to the numbered capture groups with `\\N` (or `\\(NN)` for two-digit numbers): "
   ]
  },
  {
   "cell_type": "code",
   "execution_count": 10,
   "id": "951952c1",
   "metadata": {},
   "outputs": [
    {
     "data": {
      "text/html": [
       "<span style=\"white-space:pre; font-family: monospace\">┌──────────────────────────┬──────────────────────┐\n",
       "│\"Programming\" has two \"m\"s│\"Puzzles\" has two \"z\"s│\n",
       "└──────────────────────────┴──────────────────────┘\n",
       "</span>"
      ]
     },
     "execution_count": 10,
     "metadata": {},
     "output_type": "execute_result"
    }
   ],
   "source": [
    "'(.)\\1' ⎕S '\"%\" has two \"\\1\"s' ⊢ 'Programming' 'Puzzles' 'and' 'Code' 'Golf'"
   ]
  },
  {
   "cell_type": "markdown",
   "id": "2ec87c70",
   "metadata": {},
   "source": [
    "Finally, you can fold to upper or lowercase by inserting `u` or `l` immediately after the backslash (adding a backslash to `&` and `%`):"
   ]
  },
  {
   "cell_type": "code",
   "execution_count": 14,
   "id": "401579f0",
   "metadata": {},
   "outputs": [
    {
     "data": {
      "text/html": [
       "<span style=\"white-space:pre; font-family: monospace\">┌────────────────────────┬────────────────────┐\n",
       "│\"PROGRAMMING\" has 2 \"M\"s│\"PUZZLES\" has 2 \"Z\"s│\n",
       "└────────────────────────┴────────────────────┘\n",
       "</span>"
      ]
     },
     "execution_count": 14,
     "metadata": {},
     "output_type": "execute_result"
    }
   ],
   "source": [
    "'(.)\\1' ⎕S '\"\\u%\" has 2 \"\\u1\"s' ⊢ 'Programming' 'Puzzles' 'and' 'Code' 'Golf'"
   ]
  },
  {
   "cell_type": "markdown",
   "id": "b9e2f9db",
   "metadata": {},
   "source": [
    "This means that you can also use `⎕R` to just fold case (like `⎕C`):"
   ]
  },
  {
   "cell_type": "code",
   "execution_count": 16,
   "id": "22bfec07",
   "metadata": {},
   "outputs": [
    {
     "data": {
      "text/html": [
       "<span style=\"white-space:pre; font-family: monospace\">PROGRAMMING PUZZLES AND CODE GOLF\n",
       "</span>"
      ]
     },
     "execution_count": 16,
     "metadata": {},
     "output_type": "execute_result"
    }
   ],
   "source": [
    "'.'⎕R'\\u&'⊢'Programming Puzzles and Code Golf'"
   ]
  },
  {
   "cell_type": "markdown",
   "id": "c767e69b",
   "metadata": {},
   "source": [
    "In addition to using these text-based codes, `⎕S` can also use a few numeric codes which then return numeric results.\n",
    "\n",
    "`0` is the offset from the start of the input of the start of the match: "
   ]
  },
  {
   "cell_type": "code",
   "execution_count": 18,
   "id": "460618fb",
   "metadata": {},
   "outputs": [
    {
     "data": {
      "text/html": [
       "<span style=\"white-space:pre; font-family: monospace\">6 14\n",
       "</span>"
      ]
     },
     "execution_count": 18,
     "metadata": {},
     "output_type": "execute_result"
    }
   ],
   "source": [
    "'(.)\\1'⎕S 0⊢'Programming Puzzles and Code Golf'"
   ]
  },
  {
   "cell_type": "markdown",
   "id": "676f9b0e",
   "metadata": {},
   "source": [
    "The above means that `mm` and `zz` begin 6 and 14 characters offset from the left. Notice that these are _offsets_, not indices, so they are as indices in origin 0 (`⎕IO←0`).\n",
    "\n",
    "`1` is the length of the match:"
   ]
  },
  {
   "cell_type": "code",
   "execution_count": 21,
   "id": "2a232f84",
   "metadata": {},
   "outputs": [
    {
     "data": {
      "text/html": [
       "<span style=\"white-space:pre; font-family: monospace\">11 7 3 4 4\n",
       "</span>"
      ]
     },
     "execution_count": 21,
     "metadata": {},
     "output_type": "execute_result"
    }
   ],
   "source": [
    "'\\w+' ⎕S 1 ⊢ 'Programming Puzzles and Code Golf' ⍝ Length of each word"
   ]
  },
  {
   "cell_type": "markdown",
   "id": "1aa77332",
   "metadata": {},
   "source": [
    "`\\w` is any word character, and `+` means one or more, so this matches whole words, and the result is a list of word lengths. \n",
    "\n",
    "Question:\n",
    "> Is there a way to get how many uppercased characters there are in a string? \n",
    "\n",
    "You can e.g. match all uppercase letters and then tally the result: "
   ]
  },
  {
   "cell_type": "code",
   "execution_count": 24,
   "id": "2605fcbc",
   "metadata": {},
   "outputs": [
    {
     "data": {
      "text/html": [
       "<span style=\"white-space:pre; font-family: monospace\">4\n",
       "</span>"
      ]
     },
     "execution_count": 24,
     "metadata": {},
     "output_type": "execute_result"
    },
    {
     "data": {
      "text/html": [
       "<span style=\"white-space:pre; font-family: monospace\">4\n",
       "</span>"
      ]
     },
     "execution_count": 24,
     "metadata": {},
     "output_type": "execute_result"
    }
   ],
   "source": [
    "≢'[[:upper:]]' ⎕S 0 ⊢ 'Programming Puzzles and Code Golf'   ⍝ POSIX character class reflecting your locale\n",
    "≢'[A-Z]' ⎕S 0 ⊢ 'Programming Puzzles and Code Golf'         ⍝ Ranged character class"
   ]
  },
  {
   "cell_type": "markdown",
   "id": "a3354573",
   "metadata": {},
   "source": [
    "`2` is the number of the block which had the match:"
   ]
  },
  {
   "cell_type": "code",
   "execution_count": 26,
   "id": "237a7176",
   "metadata": {},
   "outputs": [
    {
     "data": {
      "text/html": [
       "<span style=\"white-space:pre; font-family: monospace\">0 1\n",
       "</span>"
      ]
     },
     "execution_count": 26,
     "metadata": {},
     "output_type": "execute_result"
    }
   ],
   "source": [
    "'(.)\\1' ⎕S 2 ⊢ 'Programming' 'Puzzles' 'and' 'Code' 'Golf'"
   ]
  },
  {
   "cell_type": "markdown",
   "id": "307fa4da",
   "metadata": {},
   "source": [
    "So we can see that only strings 0 and 1 had double-letters (again, always origin 0.)\n",
    "\n",
    "## Simultaneous patterns\n",
    "\n",
    "The last one, `3`, is the pattern number, which brings us to an amazing feature of `⎕R` and `⎕S`: multiple simultaneous patterns: "
   ]
  },
  {
   "cell_type": "code",
   "execution_count": 28,
   "id": "58a60933",
   "metadata": {},
   "outputs": [
    {
     "data": {
      "text/html": [
       "<span style=\"white-space:pre; font-family: monospace\">1 0 1 0\n",
       "</span>"
      ]
     },
     "execution_count": 28,
     "metadata": {},
     "output_type": "execute_result"
    }
   ],
   "source": [
    "'(.)\\1' 'P' ⎕S 3 ⊢ 'Programming Puzzles and Code Golf'"
   ]
  },
  {
   "cell_type": "markdown",
   "id": "39a95451",
   "metadata": {},
   "source": [
    "Again, the patterns are numbered in origin 0, so first we find a double-letter (`mm`), then a `P`, then a double-letter (`zz`) and then a `P`. The amazing thing about the multiple patterns is that `⎕R` and `⎕S` step through the input letter by letter, and for each letter they look whether each pattern (from left to right) begins there.\n",
    "\n",
    "You can of course also have multiple transformation patterns. This means that you can use a pattern to exclude from other patterns by placing the exclusion first, and replacing with the match (`&`): "
   ]
  },
  {
   "cell_type": "code",
   "execution_count": 30,
   "id": "c6f9ed9c",
   "metadata": {},
   "outputs": [
    {
     "data": {
      "text/html": [
       "<span style=\"white-space:pre; font-family: monospace\">___________ _______ ___ ____ ____\n",
       "</span>"
      ]
     },
     "execution_count": 30,
     "metadata": {},
     "output_type": "execute_result"
    }
   ],
   "source": [
    "' ' '\\w' ⎕R (,¨'&' '_') ⊢ 'Programming Puzzles and Code Golf'"
   ]
  },
  {
   "cell_type": "markdown",
   "id": "e4e747bb",
   "metadata": {},
   "source": [
    "This replaced spaces with themselves, and word characters with underscores. "
   ]
  },
  {
   "cell_type": "code",
   "execution_count": 32,
   "id": "85e02a1c",
   "metadata": {},
   "outputs": [
    {
     "data": {
      "text/html": [
       "<span style=\"white-space:pre; font-family: monospace\">___________ _______ ___ ____ ____\n",
       "</span>"
      ]
     },
     "execution_count": 32,
     "metadata": {},
     "output_type": "execute_result"
    }
   ],
   "source": [
    "(,¨' ' '.') ⎕R (,¨'&' '_') ⊢ 'Programming Puzzles and Code Golf'"
   ]
  },
  {
   "cell_type": "markdown",
   "id": "d86b467a",
   "metadata": {},
   "source": [
    "But here, we replaced spaces with themselves, and then _any character_ – including spaces – with underscores.\n",
    "\n",
    "The vectorisation also works differently for numeric and text operands. Text goes pairwise, while numbers return the entire list for each. You can have one transformation string for each matching string, or a single transformation string for all the matching strings: "
   ]
  },
  {
   "cell_type": "code",
   "execution_count": 38,
   "id": "c79fae95",
   "metadata": {},
   "outputs": [
    {
     "data": {
      "text/html": [
       "<span style=\"white-space:pre; font-family: monospace\">Pr_gr_mm_ng P_zzl_s _nd C_d_ G_lf\n",
       "</span>"
      ]
     },
     "execution_count": 38,
     "metadata": {},
     "output_type": "execute_result"
    },
    {
     "data": {
      "text/html": [
       "<span style=\"white-space:pre; font-family: monospace\">PrOgrAmmIng PUzzlEs And COdE GOlf\n",
       "</span>"
      ]
     },
     "execution_count": 38,
     "metadata": {},
     "output_type": "execute_result"
    },
    {
     "data": {
      "text/html": [
       "<span style=\"white-space:pre; font-family: monospace\">Pr_gr_mm_ng P_zzl_s _nd C_d_ G_lf\n",
       "</span>"
      ]
     },
     "execution_count": 38,
     "metadata": {},
     "output_type": "execute_result"
    }
   ],
   "source": [
    "(,¨'aeiou') ⎕R (,¨'AEIOU') ⊢ 'Programming Puzzles and Code Golf'\n",
    "(,¨'aeiou') ⎕R '_' ⊢ 'Programming Puzzles and Code Golf'"
   ]
  },
  {
   "cell_type": "markdown",
   "id": "3abc0df7",
   "metadata": {},
   "source": [
    "But of course, you can't have multiple transformation strings for a single matching string: "
   ]
  },
  {
   "cell_type": "code",
   "execution_count": 39,
   "id": "40959c76",
   "metadata": {},
   "outputs": [
    {
     "name": "stderr",
     "output_type": "stream",
     "text": [
      "LENGTH ERROR: Invalid transformation format\n",
      "      'o'⎕R(,¨'AEIOU')⊢'Programming Puzzles and Code Golf'  ⍝ LENGTH ERROR\n",
      "         ∧\n"
     ]
    }
   ],
   "source": [
    "'o'⎕R(,¨'AEIOU')⊢'Programming Puzzles and Code Golf'  ⍝ LENGTH ERROR"
   ]
  },
  {
   "cell_type": "markdown",
   "id": "a7a4ee4c",
   "metadata": {},
   "source": [
    "## Variants\n",
    "\n",
    "We mentioned earlier that you can use _variant_, `⍠`. The most commonly used option is case sensitivity, so it is the default option which means that you don't have to use the name-value pair `⍠'IC' 1` (Insensitive Case); `⍠1` is enough: "
   ]
  },
  {
   "cell_type": "code",
   "execution_count": 40,
   "id": "64f5313b",
   "metadata": {},
   "outputs": [
    {
     "data": {
      "text/html": [
       "<span style=\"white-space:pre; font-family: monospace\">Pro_rammin_ Puzzles and Code _olf\n",
       "</span>"
      ]
     },
     "execution_count": 40,
     "metadata": {},
     "output_type": "execute_result"
    }
   ],
   "source": [
    "'g'⎕R'_'⍠1⊢'Programming Puzzles and Code Golf'"
   ]
  },
  {
   "cell_type": "markdown",
   "id": "665fccf8",
   "metadata": {},
   "source": [
    "Notice that `g` matched both upper and lowercase Gs.\n",
    "\n",
    "Another cool option is for `⎕S` only: `⍠'OM' 1` (Overlapping Matches): "
   ]
  },
  {
   "cell_type": "code",
   "execution_count": 42,
   "id": "2ec08bfe",
   "metadata": {},
   "outputs": [
    {
     "data": {
      "text/html": [
       "<span style=\"white-space:pre; font-family: monospace\">┌───┬───┬───┐\n",
       "│ng │zzl│nd │\n",
       "└───┴───┴───┘\n",
       "</span>"
      ]
     },
     "execution_count": 42,
     "metadata": {},
     "output_type": "execute_result"
    }
   ],
   "source": [
    "'[^aeiou]{3}'⎕S'&'⊢'Programming Puzzles and Code Golf'  ⍝ Non-overlapping matches"
   ]
  },
  {
   "cell_type": "markdown",
   "id": "51162056",
   "metadata": {},
   "source": [
    "`[^aeiou]` is a _negated character group_, which means NOT any of these letters and `{3}` means exactly three of such. "
   ]
  },
  {
   "cell_type": "code",
   "execution_count": 44,
   "id": "82df846a",
   "metadata": {},
   "outputs": [
    {
     "data": {
      "text/html": [
       "<span style=\"white-space:pre; font-family: monospace\">┌───┬───┬───┬───┬───┐\n",
       "│ng │g P│zzl│nd │d C│\n",
       "└───┴───┴───┴───┴───┘\n",
       "</span>"
      ]
     },
     "execution_count": 44,
     "metadata": {},
     "output_type": "execute_result"
    }
   ],
   "source": [
    "'[^aeiou]{3}'⎕S'&'⍠'OM'1⊢'Programming Puzzles and Code Golf' ⍝ Overlapping matches"
   ]
  },
  {
   "cell_type": "markdown",
   "id": "f9a533de",
   "metadata": {},
   "source": [
    "Notice how this matched `g P` even though its first two letters were already found in the first match. `⎕R` cannot allow overlapping matches because that may lead to infinite substitution looping: `'x' ⎕R 'xx'⍠'OM' 1` would loop forever. In `xyz` it would first replace `x` with `xx` to get `xxyz` then continue at the next character, which also matches, and makes `xxxyz`, etc. \n",
    "\n",
    "## Function operand\n",
    "\n",
    "Arguably the most powerful feature of them all is the fact that the right operand may be any monadic (or ambivalent) function. The right argument (which may of course be ignored) will be a namespace with a few members. This namespace survives between matches for the entire time that the current `⎕R/⎕S` call is ongoing, so you further populate the namespace and so use it to convey information from earlier matches to later matches. The only names that are reserved (i.e. get overwritten each time your operand function is called) are: \n",
    "\n",
    "* `Block` – same as `%`\n",
    "* `BlockNum` – same as `2`\n",
    "* `Pattern` – the literal pattern which matched (i.e. not the match itself)\n",
    "* `PatternNum` – the origin `0` number of the above\n",
    "* `Match` – same as `&`\n",
    "* `Offsets` – first element is same as `0` but has additional elements corresponding to capture groups\n",
    "* `Lengths` – first element is same as `1` but has additional elements corresponding to capture groups\n",
    "* `ReplaceMode` – `0` for `⎕S` and `1` for `⎕R`\n",
    "* `TextOnly` – Boolean whether the result of the function must be a character vector (i.e. for `⎕R`) or can be anything (i.e. for `⎕S`).\n",
    "\n",
    "The function can then do any computation necessary to determine its result, so you could even have it prompt the user for whether to replace this match or not (i.e. when implementing a \"Replace All\" button in an editor).\n",
    "This of course renders `⎕R` and `⎕S` as powerful as Dyalog APL as a whole – they are both supersets and subsets of Dyalog APL! "
   ]
  },
  {
   "cell_type": "code",
   "execution_count": null,
   "id": "239d9cfb",
   "metadata": {},
   "outputs": [],
   "source": []
  }
 ],
 "metadata": {
  "kernelspec": {
   "display_name": "Dyalog APL",
   "language": "apl",
   "name": "dyalog-kernel"
  },
  "language_info": {
   "file_extension": ".apl",
   "mimetype": "text/apl",
   "name": "APL"
  }
 },
 "nbformat": 4,
 "nbformat_minor": 5
}

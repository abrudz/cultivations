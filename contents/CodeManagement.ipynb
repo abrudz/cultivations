{
 "cells": [
  {
   "cell_type": "markdown",
   "id": "d38418c6",
   "metadata": {},
   "source": [
    "# Code management, I/O, dates, errors\n",
    "\n",
    "The next category has tools to deal with user defined functions. \n",
    "\n",
    "## Attributes `⎕AT`\n",
    "\n",
    "User defined functions can have various attributes. For example, they can be niladic/monadic/dyadic/ambivalent, and they of course have an author and a time when they were written. To access this info, we have the [attributes](http://help.dyalog.com/latest/index.htm#Language/System%20Functions/at.htm) system function, `⎕AT`: "
   ]
  },
  {
   "cell_type": "code",
   "execution_count": 8,
   "id": "6ed6b6ca",
   "metadata": {},
   "outputs": [
    {
     "data": {
      "text/html": [
       "<span style=\"white-space:pre; font-family: monospace\">┌──────┬───────────────────┬─┬──────┐\n",
       "│1 ¯2 0│2022 1 24 9 40 20 0│0│stefan│\n",
       "└──────┴───────────────────┴─┴──────┘\n",
       "</span>"
      ]
     },
     "execution_count": 8,
     "metadata": {},
     "output_type": "execute_result"
    }
   ],
   "source": [
    "⎕AT '⎕SE.Dyalog.Utils.formatText'"
   ]
  },
  {
   "cell_type": "markdown",
   "id": "13d7aa2e",
   "metadata": {},
   "source": [
    "The first part, `1 ¯2 0`, means that `1`: has an result (which is implicitly printed), `¯2`: it is ambivalent (the left argument is optional) and `0`: it is not an operator. The next part is a timestamp, in `⎕TS` form. The third element is the lock state, with `0` for _unlocked_: APL allows you to lock your code so others cannot inspect and/or suspend it. The last element is the username of whoever last established the function, meaning who most recently made it into an actual function from a text source. It wouldn't update if the function was copied from a different workspace.\n",
    "\n",
    "For various practical and/or historical reasons, there are a few different functions that let us inspect code under program control. A user in an interactive session can of course just use the editor.\n",
    "\n",
    "All these system functions have names in the pattern `⎕xR` where x is a single letter. \n",
    "\n",
    "## Canonical representation `⎕CR`\n",
    "\n",
    "The simplest one is `⎕CR`, [character/canonical representation](http://help.dyalog.com/latest/index.htm#Language/System%20Functions/cr.htm). It returns a matrix: "
   ]
  },
  {
   "cell_type": "code",
   "execution_count": 9,
   "id": "bcba9d3a",
   "metadata": {},
   "outputs": [
    {
     "data": {
      "text/html": [
       "<span style=\"white-space:pre; font-family: monospace\"> text←{vals}formatText text;cr;pw;right;hang;first;lead;left            \n",
       "    ⍝ Format text according to specifications (see ]format -?)          \n",
       " :If 900⌶⍬ ⋄ vals←0 ⋄ :EndIf                                            \n",
       " text←{(+/∨\\' '≠⌽⍵)↑¨↓⍵}∘⎕FMT⍣(1=≡text)⊢text ⍝ convert everything to VTV\n",
       " text←↑,/(⊂''),(⊂vals)formatPar¨text                                    \n",
       "</span>"
      ]
     },
     "execution_count": 9,
     "metadata": {},
     "output_type": "execute_result"
    }
   ],
   "source": [
    "⎕CR '⎕SE.Dyalog.Utils.formatText'"
   ]
  },
  {
   "cell_type": "markdown",
   "id": "0da6cb13",
   "metadata": {},
   "source": [
    "From this you can see on the first line that the function has a result (text) and that the left argument (vals) is optional (it is in braces).\n",
    "\n",
    "## Nested representation `⎕NR`\n",
    "\n",
    "However, sometimes it is more practical to get the code as a vector of vectors (list of strings), e.g. to extract a single line. For that we have `⎕NR`, [nested representation](http://help.dyalog.com/latest/index.htm#Language/System%20Functions/nr.htm): "
   ]
  },
  {
   "cell_type": "code",
   "execution_count": 3,
   "id": "be276930",
   "metadata": {},
   "outputs": [
    {
     "data": {
      "text/html": [
       "<span style=\"white-space:pre; font-family: monospace\"> text←{vals}formatText text;cr;pw;right;hang;first;lead;left\n",
       "</span>"
      ]
     },
     "execution_count": 3,
     "metadata": {},
     "output_type": "execute_result"
    }
   ],
   "source": [
    "⊃⎕NR '⎕SE.Dyalog.Utils.formatText' ⍝ first line"
   ]
  },
  {
   "cell_type": "markdown",
   "id": "12f28164",
   "metadata": {},
   "source": [
    "## Visual representation `⎕VR`\n",
    "\n",
    "Finally, you may want a single string (with newlines) with all the decorations: `⎕VR`, [vector/visual Representation](http://help.dyalog.com/latest/index.htm#Language/System%20Functions/vr.htm):"
   ]
  },
  {
   "cell_type": "code",
   "execution_count": 4,
   "id": "b52b5f7d",
   "metadata": {},
   "outputs": [
    {
     "data": {
      "text/html": [
       "<span style=\"white-space:pre; font-family: monospace\">     ∇ text←{vals}formatText text;cr;pw;right;hang;first;lead;left\n",
       "[1]       ⍝ Format text according to specifications (see ]format -?)\n",
       "[2]    :If 900⌶⍬ ⋄ vals←0 ⋄ :EndIf\n",
       "[3]    text←{(+/∨\\' '≠⌽⍵)↑¨↓⍵}∘⎕FMT⍣(1=≡text)⊢text ⍝ convert everything to VTV\n",
       "[4]    text←↑,/(⊂''),(⊂vals)formatPar¨text\n",
       "     ∇\n",
       "</span>"
      ]
     },
     "execution_count": 4,
     "metadata": {},
     "output_type": "execute_result"
    }
   ],
   "source": [
    "⎕VR '⎕SE.Dyalog.Utils.formatText'"
   ]
  },
  {
   "cell_type": "markdown",
   "id": "4dc1fe20",
   "metadata": {},
   "source": [
    "## Fix `⎕FX`\n",
    "\n",
    "These three forms are all valid arguments to the function `⎕FX`, [Fix](http://help.dyalog.com/latest/index.htm#Language/System%20Functions/fx.htm), which will establish a function according to the code given (or return an index of the first line which was problematic):"
   ]
  },
  {
   "cell_type": "code",
   "execution_count": 5,
   "id": "51957609",
   "metadata": {},
   "outputs": [
    {
     "data": {
      "text/html": [
       "<span style=\"white-space:pre; font-family: monospace\">7\n",
       "</span>"
      ]
     },
     "execution_count": 5,
     "metadata": {},
     "output_type": "execute_result"
    }
   ],
   "source": [
    "3 plus 4 ⊣ ⎕FX 'r←a plus b' 'r←a+b'"
   ]
  },
  {
   "cell_type": "markdown",
   "id": "71560324",
   "metadata": {},
   "source": [
    "Here `⎕FX` established the function plus (and returned its name, but we ignored that in favour of 4) and then we used the function right away.\n",
    "\n",
    "As you may recall, tradfns and dfns can easily define dfns in their code, but they cannot easily define tradfns. `⎕FX` lets you dynamically define tradfns should you want to do so. \n",
    "\n",
    "`⎕FX` works for dfns too: "
   ]
  },
  {
   "cell_type": "code",
   "execution_count": 6,
   "id": "1a885347",
   "metadata": {},
   "outputs": [
    {
     "data": {
      "text/html": [
       "<span style=\"white-space:pre; font-family: monospace\">7\n",
       "</span>"
      ]
     },
     "execution_count": 6,
     "metadata": {},
     "output_type": "execute_result"
    }
   ],
   "source": [
    "3 plus 4 ⊣ ⎕FX 'plus←{' '⍺+⍵' '}'"
   ]
  },
  {
   "cell_type": "markdown",
   "id": "aa2475e3",
   "metadata": {},
   "source": [
    "## References `⎕REFS`\n",
    "\n",
    "Remember the `formatText` function? It looks complex. Let's get some order by listing all the identifiers that it uses. Enter [References](http://help.dyalog.com/latest/index.htm#Language/System%20Functions/refs.htm), `⎕REFS`:"
   ]
  },
  {
   "cell_type": "code",
   "execution_count": 7,
   "id": "13f8c81a",
   "metadata": {},
   "outputs": [
    {
     "data": {
      "text/html": [
       "<span style=\"white-space:pre; font-family: monospace\">cr        \n",
       "first     \n",
       "formatPar \n",
       "formatText\n",
       "hang      \n",
       "lead      \n",
       "left      \n",
       "pw        \n",
       "right     \n",
       "text      \n",
       "vals      \n",
       "</span>"
      ]
     },
     "execution_count": 7,
     "metadata": {},
     "output_type": "execute_result"
    }
   ],
   "source": [
    "⎕REFS '⎕SE.Dyalog.Utils.formatText'"
   ]
  },
  {
   "cell_type": "markdown",
   "id": "3976a61b",
   "metadata": {},
   "source": [
    "## Stop, trace `⎕STOP` `⎕TRACE`\n",
    "In the editor, you can set breakpoints (stops) and trace points (output function name, line number and value).\n",
    "You can also do this under program control using `⎕STOP` and `⎕TRACE`, we cannot demo this in a non-interactive environment. The syntax is simple, though. `linenumbers ⎕STOP 'fnname'` to set, and omit the left argument to query. Same for `⎕TRACE`."
   ]
  },
  {
   "cell_type": "markdown",
   "id": "12f86eda",
   "metadata": {},
   "source": [
    "## I/O `⎕ ⍞`\n",
    "\n",
    "You can explicitly request output using `⎕←` or `⍞←`. `⎕←` means print to `STDOUT` (with trailing newline) and `⍞←` means print to `STDERR` (without trailing newline). However, you can also use these two symbols for input. `←⍞` means read a line from `STDIN`, and `←⎕` means get a value from `STDIN`. See [character input/output](http://help.dyalog.com/latest/index.htm#Language/System%20Functions/Character%20Input%20Output.htm).\n",
    "\n",
    "`⎕` will take an APL expression and evaluate it. If you give it an expression without a value, it will keep prompting until you give in (or enter `→` to abort). Expressions evaluated in `⎕` are not encapsulated, so side-effects will persist (e.g. removing your program!).\n",
    "\n",
    "## Response time limit `⎕RTL`\n",
    "\n",
    "For normal `⍞` input, you can also set a [response time limit](http://help.dyalog.com/latest/index.htm#Language/System%20Functions/rtl.htm) in seconds: `⎕RTL←10` gives the user 10 seconds to respond before a `TIMEOUT` error is thrown. You can trap this with a dfns error guard `{1006::}` or a tradfn `:Trap 1006`. \n",
    "\n",
    "## Enqueue event `⎕NQ`\n",
    "\n",
    "[Enqueue event](http://help.dyalog.com/latest/index.htm#Language/System%20Functions/nq.htm), `⎕NQ`, is mostly used for GUI programming, but there is one other nifty thing you can use it for. The `Calendar` and `DateTimePicker` have two methods (functions) called `DateToIDN` and `IDNToDate`. But the root object (`#`, or the APL session itself) also has these methods. These convert between the `⎕TS` format (Y M D h m s ms) and a International Day Number (as a float, so it includes the time). These are great for date and time calculations.\n",
    "Two days from now: "
   ]
  },
  {
   "cell_type": "code",
   "execution_count": 10,
   "id": "a1201f90",
   "metadata": {},
   "outputs": [
    {
     "data": {
      "text/html": [
       "<span style=\"white-space:pre; font-family: monospace\">2022 1 26\n",
       "</span>"
      ]
     },
     "execution_count": 10,
     "metadata": {},
     "output_type": "execute_result"
    }
   ],
   "source": [
    "3↑2⎕NQ#'IDNTODate',2+2⎕NQ#'DateToIDN'⎕TS"
   ]
  },
  {
   "cell_type": "markdown",
   "id": "ff92e57d",
   "metadata": {},
   "source": [
    "Don't worry much about the syntax. `⎕NQ` needs 2 as left argument (for this job) and then the `#` says to look in the root object. At the end is the timestamp/IDN, either appended (`,`) or juxtaposed. You can also use it to get the weekday: "
   ]
  },
  {
   "cell_type": "code",
   "execution_count": 11,
   "id": "edbe25fa",
   "metadata": {},
   "outputs": [
    {
     "data": {
      "text/html": [
       "<span style=\"white-space:pre; font-family: monospace\">0\n",
       "</span>"
      ]
     },
     "execution_count": 11,
     "metadata": {},
     "output_type": "execute_result"
    }
   ],
   "source": [
    "4⊃2⎕NQ#'IDNTODate',2⎕NQ#'DateToIDN'⎕TS"
   ]
  },
  {
   "cell_type": "markdown",
   "id": "9298cd68",
   "metadata": {},
   "source": [
    "0 is Monday."
   ]
  },
  {
   "cell_type": "markdown",
   "id": "a8a0ab20",
   "metadata": {},
   "source": [
    "## Read file `⎕NGET` \n",
    "\n",
    "Dyalog APL has two sets of file handling system functions. One is intended to make it easy to work with Unicode files, the other gives low level control. There are lots of options, but the basic functionality is as follows.\n",
    "To [read](http://help.dyalog.com/latest/index.htm#Language/System%20Functions/nget.htm) the contents of a Unicode file, use `⊃⎕NGET 'filename'`. This will normalise line breaks to `LF` (`⎕UCS 10`). If you'd rather have a list of lines, use `⊃⎕NGET 'filename' 1` instead. This will autodetect encoding and line break style, and should \"just work\" for almost all files. See docs if you want more fine-grained control.\n",
    "\n",
    "## Write file `⎕NPUT`\n",
    "\n",
    "Similarly, you can [put](http://help.dyalog.com/latest/index.htm#Language/System%20Functions/nput.htm) content into a file with `(⊂content) ⎕NPUT 'filename'`. If you want to overwrite any existing file, use `(⊂content) ⎕NPUT 'filename' 1`. Content may be either a simple character vector (string) or a \"VTV\" (vector of character vectors, i.e. a list of strings). Again, more fine-grained control is available.\n",
    "\n",
    "## Other file system functions `⎕MKDIR` `⎕NDELETE` `⎕NINFO`\n",
    "\n",
    "There are also some nice utilities which make it easy to perform some of the most common file operations. You might wonder why not just use `⎕SH/⎕CMD` to ask the OS to do it for you? Because various OSs need various commands and syntax. These system functions will let you write truly cross-platform code. \n",
    "\n",
    "[`⎕MKDIR`](http://help.dyalog.com/latest/index.htm#Language/System%20Functions/mkdir.htm) and [`⎕NDELETE`](http://help.dyalog.com/latest/index.htm#Language/System%20Functions/ndelete.htm) do what you'd think.\n",
    "\n",
    "[`⎕NINFO`](http://help.dyalog.com/latest/index.htm#Language/System%20Functions/ninfo.htm) gives you file listings' info like you'd get from `ls/dir`, but in a nice array format, perfect for further APL processing. "
   ]
  },
  {
   "cell_type": "code",
   "execution_count": 12,
   "id": "50cb5abb",
   "metadata": {},
   "outputs": [
    {
     "data": {
      "text/html": [
       "<span style=\"white-space:pre; font-family: monospace\">┌─┬─────────────────┬─┐\n",
       "│1│/home            │0│\n",
       "├─┼─────────────────┼─┤\n",
       "│1│/usr             │0│\n",
       "├─┼─────────────────┼─┤\n",
       "│1│/bin             │0│\n",
       "├─┼─────────────────┼─┤\n",
       "│1│/sbin            │0│\n",
       "├─┼─────────────────┼─┤\n",
       "│2│/.file           │1│\n",
       "├─┼─────────────────┼─┤\n",
       "│1│/etc             │0│\n",
       "├─┼─────────────────┼─┤\n",
       "│1│/var             │0│\n",
       "├─┼─────────────────┼─┤\n",
       "│1│/Library         │0│\n",
       "├─┼─────────────────┼─┤\n",
       "│1│/System          │0│\n",
       "├─┼─────────────────┼─┤\n",
       "│0│/.VolumeIcon.icns│1│\n",
       "├─┼─────────────────┼─┤\n",
       "│1│/private         │0│\n",
       "├─┼─────────────────┼─┤\n",
       "│1│/.vol            │1│\n",
       "├─┼─────────────────┼─┤\n",
       "│1│/Users           │0│\n",
       "├─┼─────────────────┼─┤\n",
       "│1│/Applications    │0│\n",
       "├─┼─────────────────┼─┤\n",
       "│1│/opt             │0│\n",
       "├─┼─────────────────┼─┤\n",
       "│1│/dev             │0│\n",
       "├─┼─────────────────┼─┤\n",
       "│1│/Volumes         │0│\n",
       "├─┼─────────────────┼─┤\n",
       "│1│/tmp             │0│\n",
       "├─┼─────────────────┼─┤\n",
       "│1│/cores           │0│\n",
       "└─┴─────────────────┴─┘\n",
       "</span>"
      ]
     },
     "execution_count": 12,
     "metadata": {},
     "output_type": "execute_result"
    }
   ],
   "source": [
    "⍉↑1 0 6⎕NINFO⍠1⊢'/*'"
   ]
  },
  {
   "cell_type": "markdown",
   "id": "f819bded",
   "metadata": {},
   "source": [
    "The first column (indicated by the 1 in the left argument) is the type; 1=directory, 2=file. The second column (0) is the name. The third column (6) is Boolean for whether that item is hidden or not. The `⍠1` indicates that the right argument contains wildcards. Otherwise it would look for a file which had actual question marks and/or stars in its name (normally a bad idea, but at least APL can handle it). \n",
    "\n",
    "## Event number `⎕EN`\n",
    "\n",
    "In a dfn, you can trap errors with error guards `{errornums::result if error ⋄ try this}` and in tradfns with `:Trap errornums ⋄ try this ⋄ :Case errornum` etc. But what are those error numbers? The easiest way to find out is to cause the error and then check [event number](http://help.dyalog.com/latest/index.htm#Language/System%20Functions/en.htm), `⎕EN`, which is a variable that you cannot set directly. It contains the error number of the most recent error."
   ]
  },
  {
   "cell_type": "code",
   "execution_count": 13,
   "id": "75cc4443",
   "metadata": {},
   "outputs": [
    {
     "data": {
      "text/html": [
       "<span style=\"white-space:pre; font-family: monospace\">0.4\n",
       "</span>"
      ]
     },
     "execution_count": 13,
     "metadata": {},
     "output_type": "execute_result"
    }
   ],
   "source": [
    "2{0::⎕EN ⋄ ⍺÷⍵}5"
   ]
  },
  {
   "cell_type": "markdown",
   "id": "0f3b0a54",
   "metadata": {},
   "source": [
    "This catches all errors and returns the error number (or the result of the division if no error happened). "
   ]
  },
  {
   "cell_type": "code",
   "execution_count": 14,
   "id": "f280c42e",
   "metadata": {},
   "outputs": [
    {
     "data": {
      "text/html": [
       "<span style=\"white-space:pre; font-family: monospace\">11\n",
       "</span>"
      ]
     },
     "execution_count": 14,
     "metadata": {},
     "output_type": "execute_result"
    }
   ],
   "source": [
    "2{0::⎕EN ⋄ ⍺÷⍵}0"
   ]
  },
  {
   "cell_type": "markdown",
   "id": "2b54fd90",
   "metadata": {},
   "source": [
    "Error 11 is `DOMAIN ERROR` (due to division by zero).\n",
    "\n",
    "## Event message `⎕EM`\n",
    "\n",
    "`⎕EM` is a function which takes an error number and gives you the corresponding [event message](http://help.dyalog.com/latest/index.htm#Language/System%20Functions/em.htm) for that event number (`⎕EN`): "
   ]
  },
  {
   "cell_type": "code",
   "execution_count": 15,
   "id": "b4d93d56",
   "metadata": {},
   "outputs": [
    {
     "data": {
      "text/html": [
       "<span style=\"white-space:pre; font-family: monospace\">VALUE ERROR\n",
       "</span>"
      ]
     },
     "execution_count": 15,
     "metadata": {},
     "output_type": "execute_result"
    }
   ],
   "source": [
    "{0::⎕EM ⎕EN ⋄ ⍺÷⍵}5"
   ]
  },
  {
   "cell_type": "markdown",
   "id": "0ee33488",
   "metadata": {},
   "source": [
    "## Diagnostic message `⎕DM`\n",
    "\n",
    "`⎕DM` ([diagnostic message](http://help.dyalog.com/latest/index.htm#Language/System%20Functions/dm.htm)) is a vector of three character vectors; a canonical form of what you see in the session when an error happens: "
   ]
  },
  {
   "cell_type": "code",
   "execution_count": 16,
   "id": "fae84a22",
   "metadata": {},
   "outputs": [
    {
     "data": {
      "text/html": [
       "<span style=\"white-space:pre; font-family: monospace\">VALUE ERROR           \n",
       "      {0::↑⎕DM ⋄ ⍺÷⍵}5\n",
       "                 ∧    \n",
       "</span>"
      ]
     },
     "execution_count": 16,
     "metadata": {},
     "output_type": "execute_result"
    }
   ],
   "source": [
    "{0::↑⎕DM ⋄ ⍺÷⍵}5"
   ]
  },
  {
   "cell_type": "markdown",
   "id": "4447e3da",
   "metadata": {},
   "source": [
    "## Extended diagnostic message `⎕DMX`\n",
    "\n",
    "`⎕DMX` is a namespace (an object) which has [Diagnostic Message (Extended)](http://help.dyalog.com/latest/index.htm#Language/System%20Functions/dmx.htm). It has a neat display form with more info: "
   ]
  },
  {
   "cell_type": "code",
   "execution_count": 17,
   "id": "509b51ab",
   "metadata": {},
   "outputs": [
    {
     "data": {
      "text/html": [
       "<span style=\"white-space:pre; font-family: monospace\"> EM       DOMAIN ERROR\n",
       " Message  Divide by zero\n",
       "</span>"
      ]
     },
     "execution_count": 17,
     "metadata": {},
     "output_type": "execute_result"
    }
   ],
   "source": [
    "2{0::⎕DMX ⋄ ⍺÷⍵}0"
   ]
  },
  {
   "cell_type": "markdown",
   "id": "9802fdf2",
   "metadata": {},
   "source": [
    "We can use `⎕JSON` to display all its contents:"
   ]
  },
  {
   "cell_type": "code",
   "execution_count": 18,
   "id": "efe493bb",
   "metadata": {},
   "outputs": [
    {
     "data": {
      "text/html": [
       "<span style=\"white-space:pre; font-family: monospace\">{\n",
       "  \"Category\": \"General\",\n",
       "  \"DM\": [\n",
       "    \"DOMAIN ERROR\",\n",
       "    \"      2{0::⎕JSON⍠'Compact' 0⊢⎕DMX ⋄ ⍺÷⍵}0\",\n",
       "    \"                                     ∧\"\n",
       "  ],\n",
       "  \"EM\": \"DOMAIN ERROR\",\n",
       "  \"EN\": 11,\n",
       "  \"ENX\": 1,\n",
       "  \"HelpURL\": \"https://help.dyalog.com/dmx/18.1/General/1\",\n",
       "  \"InternalLocation\": [\n",
       "    \"scald.cpp\",\n",
       "    387\n",
       "  ],\n",
       "  \"Message\": \"Divide by zero\",\n",
       "  \"OSError\": [\n",
       "    0,\n",
       "    0,\n",
       "    \"\"\n",
       "  ],\n",
       "  \"Vendor\": \"Dyalog\"\n",
       "}\n",
       "</span>"
      ]
     },
     "execution_count": 18,
     "metadata": {},
     "output_type": "execute_result"
    }
   ],
   "source": [
    "2{0::⎕JSON⍠'Compact'0⊢⎕DMX ⋄ ⍺÷⍵}0"
   ]
  },
  {
   "cell_type": "markdown",
   "id": "c08b9737",
   "metadata": {},
   "source": [
    "So this error was thrown on line 387 of `scald.cpp`."
   ]
  },
  {
   "cell_type": "code",
   "execution_count": null,
   "id": "18151ab8",
   "metadata": {},
   "outputs": [],
   "source": []
  }
 ],
 "metadata": {
  "kernelspec": {
   "display_name": "Dyalog APL",
   "language": "apl",
   "name": "dyalog-kernel"
  },
  "language_info": {
   "file_extension": ".apl",
   "mimetype": "text/apl",
   "name": "APL"
  }
 },
 "nbformat": 4,
 "nbformat_minor": 5
}

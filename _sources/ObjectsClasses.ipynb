{
 "cells": [
  {
   "cell_type": "markdown",
   "id": "d95d55ef",
   "metadata": {},
   "source": [
    "# Objects and classes\n",
    "\n",
    "Next up is a special case of a namespace called a [class](https://help.dyalog.com/latest/#Language/Object%20Oriented%20Programming/Classes/Introducing%20Classes.htm). Remember: All APL objects are namespaces. The ones we just call \"namespaces\" are the most general ones with no restrictive rules. Classes can hide stuff from the outside onlooker. Adhering to a set of rules, they can be used to create other objects (instances). All this should be familiar to you if you've done any OOP (object oriented programming), e.g. in C#, Java or Python.\n",
    "\n",
    "\n",
    "Remember that we can tell the editor to begin a new namespace with `)ed ⍟myns`? We can begin editing a new class with `)ed ○myclass`. We could also create a new empty namespace with `⎕NS`. We can't do that with classes as they need some meta-information. \n",
    "\n",
    "Fundamental to a class it that it restricts which of its members can be \"seen\" from the outside. By default fields (i.e. variables) and methods (i.e. functions) are \"private\", but we can make them \"public\" so that they can be seen. This is convenient to implement black-box things and create layers of abstraction (for those that like such).\n",
    "Another feature of fields and methods is whether they are \"shared\" among all the instances, or whether a separate method/field belongs to each instance. By default, they belong to the instances.\n",
    "\n",
    "So what is an instance?\n",
    "\n",
    "An instance is a new object which is based on a class, which is then its base class. Instances inherit all methods and fields from their base class, but they may either each have their own or share one (which is then considered as if it remains in the base class).\n",
    "\n",
    "Let's see some code: "
   ]
  },
  {
   "cell_type": "code",
   "execution_count": 1,
   "id": "64f43cf3",
   "metadata": {},
   "outputs": [],
   "source": [
    "]dinput\n",
    ":Class cl\n",
    "    :field f←'f'\n",
    "    :field public fp←'fp'\n",
    "    :field shared fs←'fs'\n",
    "    :field public shared fps←'fps'\n",
    "    ∇ r←look\n",
    "      :Access public shared\n",
    "      r←⎕NL -⍳9\n",
    "    ∇\n",
    ":EndClass"
   ]
  },
  {
   "cell_type": "markdown",
   "id": "b9c080da",
   "metadata": {},
   "source": [
    "The above is a script for a class called `cl`. You can see that it has four fields and one method (function). The first field, `f`, has all the defaults, i.e. it is private, and for each instance. The second field, `fp` can be seen from outside each instance. The third, `fs`, is private, but shared among all instances (and their base class, `cl`). The last field, `fps` is both visible to the outside public, and also shared. The method, `look`, is public and shared, just like the field `fps`.\n",
    "\n",
    "So, if, from outside `cl`, we try looking into `cl`, which members can we see?  We won't be able to see `fp` because it is `instance`, not `shared`. So since `cl` is not an instance, it won't show `fp`. We can verify this:"
   ]
  },
  {
   "cell_type": "code",
   "execution_count": 2,
   "id": "17ee6af2",
   "metadata": {},
   "outputs": [
    {
     "data": {
      "text/html": [
       "<span style=\"white-space:pre; font-family: monospace\">┌───┬────┐\n",
       "│fps│look│\n",
       "└───┴────┘\n",
       "</span>"
      ]
     },
     "execution_count": 2,
     "metadata": {},
     "output_type": "execute_result"
    }
   ],
   "source": [
    "cl.⎕NL -⍳9"
   ]
  },
  {
   "cell_type": "markdown",
   "id": "fcfb378c",
   "metadata": {},
   "source": [
    "Now, let's step into `cl` and have a look from inside. We do that by running `cl.look`. As you can see, `look` just returns the list of members that it can see. "
   ]
  },
  {
   "cell_type": "code",
   "execution_count": 3,
   "id": "b9b95c47",
   "metadata": {},
   "outputs": [
    {
     "data": {
      "text/html": [
       "<span style=\"white-space:pre; font-family: monospace\">┌──┬───┬──┬────┐\n",
       "│cl│fps│fs│look│\n",
       "└──┴───┴──┴────┘\n",
       "</span>"
      ]
     },
     "execution_count": 3,
     "metadata": {},
     "output_type": "execute_result"
    }
   ],
   "source": [
    "cl.look"
   ]
  },
  {
   "cell_type": "markdown",
   "id": "26c86297",
   "metadata": {},
   "source": [
    "Note that `cl` is in there, just like a function can \"see\" itself: "
   ]
  },
  {
   "cell_type": "code",
   "execution_count": 4,
   "id": "8ac7cc21",
   "metadata": {},
   "outputs": [
    {
     "data": {
      "text/html": [
       "<span style=\"white-space:pre; font-family: monospace\">┌──┬─┐\n",
       "│cl│f│\n",
       "└──┴─┘\n",
       "</span>"
      ]
     },
     "execution_count": 4,
     "metadata": {},
     "output_type": "execute_result"
    }
   ],
   "source": [
    "f←{⎕NL-⍳9}\n",
    "f ⍬"
   ]
  },
  {
   "cell_type": "markdown",
   "id": "e9df0e03",
   "metadata": {},
   "source": [
    "Everything that's shared (i.e. non-\"instance\") can be seen, and also the class itself. This is useful if you work with a class and need to inspect what's going on inside. You can just trace into any public function, and then leave the system suspended. Now you can work from inside the class. When you're done, just execute `→0` to quit the function.\n",
    "\n",
    "Let's try to create our first instance of `cl`. We do that using the system function `⎕NEW`. It takes `cl` as right argument and returns an instance:"
   ]
  },
  {
   "cell_type": "code",
   "execution_count": 5,
   "id": "12df8180",
   "metadata": {},
   "outputs": [
    {
     "data": {
      "text/html": [
       "<span style=\"white-space:pre; font-family: monospace\">┌──┬───┬────┐\n",
       "│fp│fps│look│\n",
       "└──┴───┴────┘\n",
       "</span>"
      ]
     },
     "execution_count": 5,
     "metadata": {},
     "output_type": "execute_result"
    }
   ],
   "source": [
    "inst←⎕NEW cl\n",
    "inst.⎕NL -⍳9 "
   ]
  },
  {
   "cell_type": "markdown",
   "id": "83085767",
   "metadata": {},
   "source": [
    "If you expected `fs`, then it is shared alright, but remember that we're on the outside. It isn't public. We can see `look`, because it is public (and shared too, but that doesn't matter here). We can also see `fp` which we couldn't see before, because it is an instance field. But now we do have an instance, and as it is public too, we can see it. \n",
    "\n",
    "Now, let's run `inst.look`. What do we get? "
   ]
  },
  {
   "cell_type": "code",
   "execution_count": 6,
   "id": "45f79235",
   "metadata": {},
   "outputs": [
    {
     "data": {
      "text/html": [
       "<span style=\"white-space:pre; font-family: monospace\">┌──┬───┬──┬────┐\n",
       "│cl│fps│fs│look│\n",
       "└──┴───┴──┴────┘\n",
       "</span>"
      ]
     },
     "execution_count": 6,
     "metadata": {},
     "output_type": "execute_result"
    }
   ],
   "source": [
    "inst.look"
   ]
  },
  {
   "cell_type": "markdown",
   "id": "df222b3a",
   "metadata": {},
   "source": [
    "The reason `look` cannot see `f` is because `f` isn't public. But we're _inside_, you say? Yes, but inside what? Remember that `look` is a _shared_ method. This means that it resides in `cl`, not in `inst`. And from inside `cl`, the private fields of `inst` are invisible. To prove this, we can make a small modification to the class:"
   ]
  },
  {
   "cell_type": "code",
   "execution_count": 7,
   "id": "f45e0f3d",
   "metadata": {},
   "outputs": [],
   "source": [
    "]dinput\n",
    ":Class cl\n",
    "    :field f←'f'\n",
    "    :field public fp←'fp'\n",
    "    :field shared fs←'fs'\n",
    "    :field public shared fps←'fps'\n",
    "    ∇ r←look\n",
    "      :Access public                  ⍝ Note: no longer 'shared'!\n",
    "      r←⎕NL -⍳9\n",
    "    ∇\n",
    ":EndClass"
   ]
  },
  {
   "cell_type": "code",
   "execution_count": 8,
   "id": "ccd14060",
   "metadata": {},
   "outputs": [
    {
     "data": {
      "text/html": [
       "<span style=\"white-space:pre; font-family: monospace\">┌──┬─┬──┬───┬──┬────┐\n",
       "│cl│f│fp│fps│fs│look│\n",
       "└──┴─┴──┴───┴──┴────┘\n",
       "</span>"
      ]
     },
     "execution_count": 8,
     "metadata": {},
     "output_type": "execute_result"
    }
   ],
   "source": [
    "inst.look"
   ]
  },
  {
   "cell_type": "markdown",
   "id": "30eb232e",
   "metadata": {},
   "source": [
    "The only difference here is that `look` is now an instance method. This means that we can no longer do `cl.look`."
   ]
  },
  {
   "cell_type": "code",
   "execution_count": null,
   "id": "5a00eadd",
   "metadata": {},
   "outputs": [],
   "source": []
  }
 ],
 "metadata": {
  "kernelspec": {
   "display_name": "Dyalog APL",
   "language": "apl",
   "name": "dyalog-kernel"
  },
  "language_info": {
   "file_extension": ".apl",
   "mimetype": "text/apl",
   "name": "APL"
  }
 },
 "nbformat": 4,
 "nbformat_minor": 5
}

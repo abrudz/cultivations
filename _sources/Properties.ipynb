{
 "cells": [
  {
   "cell_type": "markdown",
   "id": "95d8704a",
   "metadata": {},
   "source": [
    "# Properties\n",
    "\n",
    "So far, classes have acted pretty much like restricted namespaces. Properties act much like fields/variables, but allow us to take special action when they are set or used. \n",
    "\n",
    "## Get and Set\n",
    "\n",
    "Have a look at this code: "
   ]
  },
  {
   "cell_type": "code",
   "execution_count": 1,
   "id": "fd44c6c0",
   "metadata": {},
   "outputs": [],
   "source": [
    "]dinput\n",
    ":Class Person\n",
    "\n",
    "    :Field public name←'-'\n",
    "\n",
    "    Upper←1∘⎕C\n",
    "    Lower←⎕C\n",
    "\n",
    "    :Property Name\n",
    "    :Access Public\n",
    "        ∇ text←Get\n",
    "          :If '-'≡name\n",
    "              text←'I don''t have a name!'\n",
    "          :Else\n",
    "              text←'Hi, my name is ',name,'!'\n",
    "          :EndIf\n",
    "        ∇\n",
    "        ∇ Set text\n",
    "          name←(Upper 1↑text.NewValue),(Lower 1↓text.NewValue)\n",
    "        ∇\n",
    "    :EndProperty\n",
    "\n",
    ":EndClass"
   ]
  },
  {
   "cell_type": "markdown",
   "id": "287d3005",
   "metadata": {},
   "source": [
    "`Upper` and `Lower` are two functions (methods) which just uppercase and lowercase. Then we have a block which defines the property `Name`. It doesn't matter that it only has casing difference from the name field, but it is convenient to remember their connection. The way properties work is that they have 1–3 specially named functions. Here, `Name` has `Set` and `Get`. The `Get` and `Set` functions have to be named thus, but you may case them as you want, to fit with whatever coding style you choose. The third one is called `Shape`, but it only applies to a special kind of properties which we won't cover.\n",
    "\n",
    "`Name` will be treated as a public (due to the `:Access` declaration) field, but instead of directly setting a variable, the `Set` function will be called whenever one uses assignment syntax for `Name`. However, `Set` doesn't just get the new value as argument. Rather, it gets a namespace with some members (you'll see later why). The important member here is `NewValue`, as you can see. \n",
    "\n",
    "`Get` is called when one attempts to use the value of `Name`.\n",
    "\n",
    "In the code abobe, `:Field` initialises `name` to be a dash. `Get` will check whether `name` is a dash or not, and respond accordingly. `Set` will accept a character vector and make sure the casing is right (upper initial, rest lower) before assigning to `name`. Let's see if it works: "
   ]
  },
  {
   "cell_type": "code",
   "execution_count": 2,
   "id": "9bd08e17",
   "metadata": {},
   "outputs": [
    {
     "data": {
      "text/html": [
       "<span style=\"white-space:pre; font-family: monospace\">-\n",
       "</span>"
      ]
     },
     "execution_count": 2,
     "metadata": {},
     "output_type": "execute_result"
    },
    {
     "data": {
      "text/html": [
       "<span style=\"white-space:pre; font-family: monospace\">I don't have a name!\n",
       "</span>"
      ]
     },
     "execution_count": 2,
     "metadata": {},
     "output_type": "execute_result"
    },
    {
     "data": {
      "text/html": [
       "<span style=\"white-space:pre; font-family: monospace\">Hi, my name is Anton!\n",
       "</span>"
      ]
     },
     "execution_count": 2,
     "metadata": {},
     "output_type": "execute_result"
    },
    {
     "data": {
      "text/html": [
       "<span style=\"white-space:pre; font-family: monospace\">Anton\n",
       "</span>"
      ]
     },
     "execution_count": 2,
     "metadata": {},
     "output_type": "execute_result"
    }
   ],
   "source": [
    "p←⎕NEW Person\n",
    "p.name\n",
    "p.Name\n",
    "p.Name←'anTON'\n",
    "p.Name\n",
    "p.name"
   ]
  },
  {
   "cell_type": "markdown",
   "id": "96d43733",
   "metadata": {},
   "source": [
    "## Multiple properties and Default\n",
    "\n",
    "A class can have more than one property. Let's have a look at a fancier version: "
   ]
  },
  {
   "cell_type": "code",
   "execution_count": 3,
   "id": "933ee070",
   "metadata": {},
   "outputs": [],
   "source": [
    "]dinput\n",
    ":Class Person\n",
    "\n",
    "    :Field age←0\n",
    "    :Field name←'-'\n",
    "\n",
    "    :Property Age\n",
    "    :Access Public\n",
    "        ∇ num←get\n",
    "          num←⌊age\n",
    "        ∇\n",
    "    :EndProperty\n",
    "\n",
    "    ∇ Grow amount\n",
    "      :Access Public\n",
    "      age+←amount\n",
    "    ∇\n",
    "\n",
    "    Upper←1∘⎕C\n",
    "    Lower←⎕C\n",
    "\n",
    "    :Property Default Name\n",
    "    :Access Public\n",
    "        ∇ text←Get\n",
    "          :If '-'≡name\n",
    "              text←'I don''t have a name!'\n",
    "          :Else\n",
    "              text←'Hi, my name is ',name,'!'\n",
    "          :EndIf\n",
    "        ∇\n",
    "        ∇ Set text\n",
    "          name←(Upper⊃text.NewValue),Lower 1↓text.NewValue\n",
    "        ∇\n",
    "    :EndProperty\n",
    "\n",
    ":EndClass"
   ]
  },
  {
   "cell_type": "markdown",
   "id": "59e1fd8e",
   "metadata": {},
   "source": [
    "There are three changes here. The most obvious one is the `Age` property and the complementary method `Grow`. The third change is the `Default` declaration for the `Name` property.  Normally, objects are passed by reference while arrays are passed by value. But the monadic `⌷` called [Materialise](http://help.dyalog.com/latest/index.htm#Language/Primitive%20Functions/Materialise.htm) has the ability to transform references into values. So if a method has a `Default` property, then monadic `⌷` will yield this property.  \n",
    "\n",
    "Let's look at those changes in action:"
   ]
  },
  {
   "cell_type": "code",
   "execution_count": 4,
   "id": "3a09e350",
   "metadata": {},
   "outputs": [
    {
     "data": {
      "text/html": [
       "<span style=\"white-space:pre; font-family: monospace\">0\n",
       "</span>"
      ]
     },
     "execution_count": 4,
     "metadata": {},
     "output_type": "execute_result"
    },
    {
     "data": {
      "text/html": [
       "<span style=\"white-space:pre; font-family: monospace\">3\n",
       "</span>"
      ]
     },
     "execution_count": 4,
     "metadata": {},
     "output_type": "execute_result"
    },
    {
     "data": {
      "text/html": [
       "<span style=\"white-space:pre; font-family: monospace\">4\n",
       "</span>"
      ]
     },
     "execution_count": 4,
     "metadata": {},
     "output_type": "execute_result"
    },
    {
     "data": {
      "text/html": [
       "<span style=\"white-space:pre; font-family: monospace\">Hi, my name is Bruno!\n",
       "</span>"
      ]
     },
     "execution_count": 4,
     "metadata": {},
     "output_type": "execute_result"
    }
   ],
   "source": [
    "p←⎕NEW Person\n",
    "p.Name←'BRUNO'\n",
    "p.Age\n",
    "p.Grow 3.6\n",
    "p.Age\n",
    "p.Grow 0.6\n",
    "p.Age\n",
    "⌷p"
   ]
  },
  {
   "cell_type": "markdown",
   "id": "db685e1a",
   "metadata": {},
   "source": [
    "On the topic of monadic `⌷`, if you apply it on .NET collections, it materialises the collection's items, returning an array of the .NET items that the collection consisted of. You can of course make your class have that same behaviour by setting the default property appropriately. \n",
    "\n",
    "## Generic properties\n",
    "\n",
    "Sometimes a class needs a few properties that have the same or similar getter and setter. Instead of repeating yourself, Dyalog APL lets you collapse the code into a single `:Property` block:"
   ]
  },
  {
   "cell_type": "code",
   "execution_count": null,
   "id": "94f2027f",
   "metadata": {},
   "outputs": [],
   "source": [
    "]dinput \n",
    ":Class Person\n",
    "\n",
    "    :field heightVal\n",
    "    :field weightVal\n",
    "    :field ageVal←0\n",
    "\n",
    "    :Property height,weight,age\n",
    "    :Access public\n",
    "        ∇ r←Get x\n",
    "          r←⌊⍎x.Name,'Val'\n",
    "        ∇\n",
    "    :endproperty\n",
    "\n",
    ":EndClass"
   ]
  },
  {
   "cell_type": "markdown",
   "id": "49697254",
   "metadata": {},
   "source": [
    "Notice the comma-separated \"name list\". You can also see why the argument to `Get` needs to be a namespace: so that we can determine which property was requested. Here's a complete listing of the `Person` class:"
   ]
  },
  {
   "cell_type": "code",
   "execution_count": 26,
   "id": "59b62261",
   "metadata": {},
   "outputs": [],
   "source": [
    "]dinput\n",
    ":Class Person\n",
    "\n",
    "    :field heightVal\n",
    "    :field weightVal\n",
    "    :field ageVal←0\n",
    "\n",
    "    ∇ Birth(h w)\n",
    "      :Access public\n",
    "      :Implements constructor\n",
    "      (heightVal weightVal)←h w\n",
    "    ∇\n",
    "\n",
    "    :Property height,weight,age\n",
    "    :Access public\n",
    "        ∇ r←Get x\n",
    "          r←⌊⍎x.Name,'Val'\n",
    "        ∇\n",
    "    :endproperty\n",
    "\n",
    "    ∇ Grow cm\n",
    "      :Access public\n",
    "      heightVal+←cm\n",
    "    ∇\n",
    "\n",
    "    ∇ Gain kg\n",
    "      :Access public\n",
    "      weightVal+←kg\n",
    "    ∇\n",
    "\n",
    "    ∇ Lose kg\n",
    "      :Access public\n",
    "      weightVal-←kg\n",
    "    ∇\n",
    "\n",
    "    ∇ Age y\n",
    "      :Access public\n",
    "      ageVal+←y\n",
    "    ∇\n",
    "\n",
    "    :property BMI\n",
    "    :access public\n",
    "        ∇ bmi←Get\n",
    "          bmi←⌊0.5+weightVal÷×⍨heightVal÷100\n",
    "        ∇\n",
    "    :endproperty\n",
    "\n",
    ":EndClass"
   ]
  },
  {
   "cell_type": "code",
   "execution_count": 27,
   "id": "368f6842",
   "metadata": {},
   "outputs": [
    {
     "data": {
      "text/html": [
       "<span style=\"white-space:pre; font-family: monospace\">3\n",
       "</span>"
      ]
     },
     "execution_count": 27,
     "metadata": {},
     "output_type": "execute_result"
    },
    {
     "data": {
      "text/html": [
       "<span style=\"white-space:pre; font-family: monospace\">4\n",
       "</span>"
      ]
     },
     "execution_count": 27,
     "metadata": {},
     "output_type": "execute_result"
    },
    {
     "data": {
      "text/html": [
       "<span style=\"white-space:pre; font-family: monospace\">15\n",
       "</span>"
      ]
     },
     "execution_count": 27,
     "metadata": {},
     "output_type": "execute_result"
    }
   ],
   "source": [
    "p←⎕NEW Person (50 3)\n",
    "p.Gain 0.7\n",
    "p.weight\n",
    "p.Grow 2.5\n",
    "p.Gain 0.4\n",
    "p.weight\n",
    "p.BMI"
   ]
  },
  {
   "cell_type": "markdown",
   "id": "8da8386b",
   "metadata": {},
   "source": [
    "## Display form\n",
    "\n",
    "The normal display of an object is with a namespace path and object name or class name/\"namespace\" in brackets. Not very useful: "
   ]
  },
  {
   "cell_type": "code",
   "execution_count": 5,
   "id": "b85050bd",
   "metadata": {},
   "outputs": [
    {
     "data": {
      "text/html": [
       "<span style=\"white-space:pre; font-family: monospace\">#.[Namespace]\n",
       "</span>"
      ]
     },
     "execution_count": 5,
     "metadata": {},
     "output_type": "execute_result"
    }
   ],
   "source": [
    "⎕NS ⍬"
   ]
  },
  {
   "cell_type": "markdown",
   "id": "fcf629a4",
   "metadata": {},
   "source": [
    "However, the system function `⎕DF` ([Display Form](http://help.dyalog.com/latest/index.htm#Language/System%20Functions/df.htm)) allows you to change this to any character array: "
   ]
  },
  {
   "cell_type": "code",
   "execution_count": 6,
   "id": "9cd38eff",
   "metadata": {},
   "outputs": [
    {
     "data": {
      "text/html": [
       "<span style=\"white-space:pre; font-family: monospace\">yo\n",
       "yo\n",
       "</span>"
      ]
     },
     "execution_count": 6,
     "metadata": {},
     "output_type": "execute_result"
    }
   ],
   "source": [
    "ns←⎕NS ⍬\n",
    "ns.⎕DF 2 2⍴'yo'\n",
    "ns"
   ]
  },
  {
   "cell_type": "markdown",
   "id": "9b94070a",
   "metadata": {},
   "source": [
    "This is similar in spirit to Python's \"dunder\" method [\\_\\_repr\\_\\_()](https://docs.python.org/3/reference/datamodel.html?highlight=__repr__#object.__repr__). Of course, having a static display form like that isn't much fun. Here is a better usage: "
   ]
  },
  {
   "cell_type": "code",
   "execution_count": 7,
   "id": "1331964a",
   "metadata": {},
   "outputs": [],
   "source": [
    "]dinput\n",
    ":Class Person\n",
    "\n",
    "    ∇ Birth\n",
    "        :Implements constructor\n",
    "        :Access public\n",
    "        ⎕DF 'baby'\n",
    "    ∇\n",
    "\n",
    "    Upper←1∘⎕C\n",
    "    Lower←⎕C\n",
    "\n",
    "    :Property Name\n",
    "    :Access Public\n",
    "        ∇ text←Get\n",
    "          :If 0=⎕NC'name'\n",
    "              text←'I don''t have a name!'\n",
    "          :Else\n",
    "              text←'Hi, my name is ',name,'!'\n",
    "          :EndIf\n",
    "        ∇\n",
    "        ∇ Set text\n",
    "          name←(Upper⊃text.NewValue),Lower 1↓text.NewValue\n",
    "          ⎕DF name\n",
    "        ∇\n",
    "    :EndProperty\n",
    "\n",
    ":EndClass"
   ]
  },
  {
   "cell_type": "markdown",
   "id": "94568bd3",
   "metadata": {},
   "source": [
    "Now we have a constructor which sets up the initial display form. And every time the `Name` property is `Set`, the display form is updated. "
   ]
  },
  {
   "cell_type": "code",
   "execution_count": 8,
   "id": "fd0885c5",
   "metadata": {},
   "outputs": [
    {
     "data": {
      "text/html": [
       "<span style=\"white-space:pre; font-family: monospace\">baby\n",
       "</span>"
      ]
     },
     "execution_count": 8,
     "metadata": {},
     "output_type": "execute_result"
    },
    {
     "data": {
      "text/html": [
       "<span style=\"white-space:pre; font-family: monospace\">I don't have a name!\n",
       "</span>"
      ]
     },
     "execution_count": 8,
     "metadata": {},
     "output_type": "execute_result"
    },
    {
     "data": {
      "text/html": [
       "<span style=\"white-space:pre; font-family: monospace\">Hi, my name is Anton!\n",
       "</span>"
      ]
     },
     "execution_count": 8,
     "metadata": {},
     "output_type": "execute_result"
    },
    {
     "data": {
      "text/html": [
       "<span style=\"white-space:pre; font-family: monospace\">Anton\n",
       "</span>"
      ]
     },
     "execution_count": 8,
     "metadata": {},
     "output_type": "execute_result"
    }
   ],
   "source": [
    "p←⎕NEW Person\n",
    "p\n",
    "p.Name\n",
    "p.Name←'anTON'\n",
    "p.Name\n",
    "p"
   ]
  },
  {
   "cell_type": "markdown",
   "id": "e3f7aa64",
   "metadata": {},
   "source": [
    "As we now know, objects are passed by reference. This means that if we just try to grab the object value, we get a ref rather than the display form, even if the display form is what shows in the session. How do we get the _actual_ display form? In C# it would be [ToString](https://docs.microsoft.com/en-us/dotnet/api/system.object.tostring), of course. Think about it: if you have a numeric array, how would you get the character array display form? Well, [Format](http://help.dyalog.com/latest/index.htm#Language/Primitive%20Functions/Format%20Monadic.htm) (`⍕`) is APL's \"ToString\". So `⍕object` will give you whatever argument has been fed to `⎕DF`:"
   ]
  },
  {
   "cell_type": "code",
   "execution_count": 21,
   "id": "2d8375fb",
   "metadata": {},
   "outputs": [
    {
     "data": {
      "text/html": [
       "<span style=\"white-space:pre; font-family: monospace\">Anton\n",
       "</span>"
      ]
     },
     "execution_count": 21,
     "metadata": {},
     "output_type": "execute_result"
    },
    {
     "data": {
      "text/html": [
       "<span style=\"white-space:pre; font-family: monospace\">9\n",
       "</span>"
      ]
     },
     "execution_count": 21,
     "metadata": {},
     "output_type": "execute_result"
    },
    {
     "data": {
      "text/html": [
       "<span style=\"white-space:pre; font-family: monospace\">ANTON\n",
       "</span>"
      ]
     },
     "execution_count": 21,
     "metadata": {},
     "output_type": "execute_result"
    }
   ],
   "source": [
    "p              ⍝ Still a reference, even if it displays as a character array\n",
    "⎕NC 'p'        ⍝ Name class 9: object        \n",
    "1⎕C⍕p          ⍝ ⍕p is the actual ⎕DF: we can for example upcase it"
   ]
  },
  {
   "cell_type": "markdown",
   "id": "ffe38473",
   "metadata": {},
   "source": [
    "## Overtaking objects\n",
    "\n",
    "Another cool thing you can do is _overtaking_. Remember how APL pads with the a fill element if there are not enough elements to go?"
   ]
  },
  {
   "cell_type": "code",
   "execution_count": 23,
   "id": "dfdb0f1d",
   "metadata": {},
   "outputs": [
    {
     "data": {
      "text/html": [
       "<span style=\"white-space:pre; font-family: monospace\">3 1 4 0 0 0 0 0 0 0\n",
       "</span>"
      ]
     },
     "execution_count": 23,
     "metadata": {},
     "output_type": "execute_result"
    }
   ],
   "source": [
    "10↑3 1 4   ⍝ Overtake a list of ints pads with 0"
   ]
  },
  {
   "cell_type": "markdown",
   "id": "2d8a1d9f",
   "metadata": {},
   "source": [
    "If a class has a niladic constructor, then overtaking an instance will create siblings (i.e. new instances of the same class) using the niladic constructor:"
   ]
  },
  {
   "cell_type": "code",
   "execution_count": 24,
   "id": "16dff69d",
   "metadata": {},
   "outputs": [],
   "source": [
    "]dinput\n",
    ":Class Person\n",
    "\n",
    "    ∇ Birth\n",
    "        :Implements constructor\n",
    "        :Access public\n",
    "        'I''m an orphan!'\n",
    "    ∇\n",
    "\n",
    "    ∇ Naming name\n",
    "        :Implements constructor\n",
    "        :Access public\n",
    "        'I was born with the name ',name\n",
    "    ∇\n",
    "\n",
    ":EndClass"
   ]
  },
  {
   "cell_type": "code",
   "execution_count": 25,
   "id": "28eeed3f",
   "metadata": {},
   "outputs": [
    {
     "data": {
      "text/html": [
       "<span style=\"white-space:pre; font-family: monospace\">I was born with the name Joe\n",
       "</span>"
      ]
     },
     "execution_count": 25,
     "metadata": {},
     "output_type": "execute_result"
    },
    {
     "data": {
      "text/html": [
       "<span style=\"white-space:pre; font-family: monospace\">I'm an orphan!\n",
       "I'm an orphan!\n",
       " #.[Person]  #.[Person]  #.[Person]\n",
       "</span>"
      ]
     },
     "execution_count": 25,
     "metadata": {},
     "output_type": "execute_result"
    }
   ],
   "source": [
    "p←⎕NEW Person 'Joe'\n",
    "3↑p"
   ]
  },
  {
   "cell_type": "markdown",
   "id": "2efa38fa",
   "metadata": {},
   "source": [
    "## Advanced properties\n",
    "\n",
    "You can also have a `:property numbered` which acts like a normal property, but if you use indices to set or get, those functions are called with a namespace that has an `Indexers` member to tell the function which elements are being asked for.\n",
    "\n",
    "Remember the `Shape` function of a property we mentioned briefly before? This means that a property can have any (pretend) shape. So when `Get` or `Set` are called, the argument has a member called `IndexersSpecified` which is a Boolean vector indicating which dimensions are being addressed. You can use this, for example, to implement sparse arrays. \n",
    "\n",
    "You can also have a `:Property keyed` which instead of numeric indices can use any arrays as keys. It is then up to the `Set` and `Get` functions to handle these. Typically you'd want to use character vectors as keys. For such properties you must use indexing, as APL cannot know how many \"elements\" there are. You can use this to implement dictionary objects. "
   ]
  },
  {
   "cell_type": "code",
   "execution_count": null,
   "id": "5b7203d5",
   "metadata": {},
   "outputs": [],
   "source": []
  }
 ],
 "metadata": {
  "kernelspec": {
   "display_name": "Dyalog APL",
   "language": "apl",
   "name": "dyalog-kernel"
  },
  "language_info": {
   "file_extension": ".apl",
   "mimetype": "text/apl",
   "name": "APL"
  }
 },
 "nbformat": 4,
 "nbformat_minor": 5
}

{
 "cells": [
  {
   "cell_type": "markdown",
   "id": "98664158",
   "metadata": {},
   "source": [
    "# Tradfns\n",
    "\n",
    "Tradfns are the original way to write your own functions in APL. Tradfns are procedural in style, unlike dfns, which are functional.\n",
    "\n",
    "The basic structure of a tradfn is:"
   ]
  },
  {
   "cell_type": "code",
   "execution_count": 1,
   "id": "eb6d2c80",
   "metadata": {},
   "outputs": [],
   "source": [
    "∇ header line\n",
    "function body\n",
    "∇"
   ]
  },
  {
   "cell_type": "markdown",
   "id": "11983e80",
   "metadata": {},
   "source": [
    "## Function body\n",
    "\n",
    "### Control structures\n",
    "\n",
    "Let's consider the body first. We have available to us the full set of control structures from procedural languages. All such key words begin with a colon, `:`, for example `If … :EndIf`. Lines with such keywords must begin with the keyword, and have nothing else on them, although parameters (like a condition) are considered parenthesised expressions. For example,"
   ]
  },
  {
   "cell_type": "code",
   "execution_count": 2,
   "id": "11fb79c7",
   "metadata": {},
   "outputs": [],
   "source": [
    "∇ Ex ;i;j;k\n",
    "  :For i j k :In 'abc'(1 2 3)'ABC'\n",
    "      ⎕←i j k\n",
    "  :EndFor\n",
    "∇"
   ]
  },
  {
   "cell_type": "code",
   "execution_count": 3,
   "id": "bb5ced3a",
   "metadata": {},
   "outputs": [
    {
     "data": {
      "text/html": [
       "<span style=\"white-space:pre; font-family: monospace\">abc\n",
       "1 2 3\n",
       "ABC\n",
       "</span>"
      ]
     },
     "execution_count": 3,
     "metadata": {},
     "output_type": "execute_result"
    }
   ],
   "source": [
    "Ex"
   ]
  },
  {
   "cell_type": "markdown",
   "id": "6bd0eb71",
   "metadata": {},
   "source": [
    "This assigns `(i j k)←'abc'` during the first loop, then `(i j k)←1 2 3`, etc. `:For` can also \"transpose\", using `:InEach` instead of `:In` which makes `(i j k)←'a'1'A'` etc:"
   ]
  },
  {
   "cell_type": "code",
   "execution_count": 4,
   "id": "5a9c6d90",
   "metadata": {},
   "outputs": [],
   "source": [
    "∇ Ex ;i;j;k\n",
    "  :For i j k :InEach 'abc'(1 2 3)'ABC'\n",
    "      ⎕←i j k\n",
    "  :EndFor\n",
    "∇"
   ]
  },
  {
   "cell_type": "code",
   "execution_count": 5,
   "id": "02dd4b09",
   "metadata": {},
   "outputs": [
    {
     "data": {
      "text/html": [
       "<span style=\"white-space:pre; font-family: monospace\">a 1 A\n",
       "b 2 B\n",
       "c 3 C\n",
       "</span>"
      ]
     },
     "execution_count": 5,
     "metadata": {},
     "output_type": "execute_result"
    }
   ],
   "source": [
    "Ex"
   ]
  },
  {
   "cell_type": "markdown",
   "id": "5bc3d40a",
   "metadata": {},
   "source": [
    "Any unpacking is possible, for example:"
   ]
  },
  {
   "cell_type": "code",
   "execution_count": 8,
   "id": "5d0ffc60",
   "metadata": {},
   "outputs": [],
   "source": [
    "∇ Ex ;i;j;k\n",
    "  :For i(j k) :InEach (⍳3)('aA' 'bB' 'cC')\n",
    "      ⎕←i j k\n",
    "  :EndFor\n",
    "∇"
   ]
  },
  {
   "cell_type": "code",
   "execution_count": 9,
   "id": "b2d9888d",
   "metadata": {},
   "outputs": [
    {
     "data": {
      "text/html": [
       "<span style=\"white-space:pre; font-family: monospace\">1 aA\n",
       "2 bB\n",
       "3 cC\n",
       "</span>"
      ]
     },
     "execution_count": 9,
     "metadata": {},
     "output_type": "execute_result"
    }
   ],
   "source": [
    "Ex"
   ]
  },
  {
   "cell_type": "markdown",
   "id": "df3afe42",
   "metadata": {},
   "source": [
    "`:If`, of course, has `:Else`, but also `:ElseIf`. While `∧` and `∨` are normal arithmetic functions, it is allowed to write one or more `:AndIfs` or `:OrIfs` which _will_ shortcut. A quite common pattern used to check if a variable exists and then, for example, set it to a default value if it doesn't: "
   ]
  },
  {
   "cell_type": "code",
   "execution_count": 10,
   "id": "c0f55100",
   "metadata": {},
   "outputs": [],
   "source": [
    "∇ Ex ;state\n",
    "  :If 0=⎕NC'state'\n",
    "      state←42\n",
    "  :EndIf\n",
    "  ⎕←state\n",
    "∇"
   ]
  },
  {
   "cell_type": "code",
   "execution_count": 11,
   "id": "694464a8",
   "metadata": {},
   "outputs": [
    {
     "data": {
      "text/html": [
       "<span style=\"white-space:pre; font-family: monospace\">42\n",
       "</span>"
      ]
     },
     "execution_count": 11,
     "metadata": {},
     "output_type": "execute_result"
    }
   ],
   "source": [
    "Ex"
   ]
  },
  {
   "cell_type": "markdown",
   "id": "925655d9",
   "metadata": {},
   "source": [
    "### Ambivalence\n",
    "\n",
    "While dfns are always ambivalent (though `⍺` will give value error if called monadically and there's no `⍺←` statement), Dyalog tradfns have to be explicitly declared ambivalent in the header: `∇result←{lAarg} FnName rArg`. \n",
    "Then one can test for `⎕NC'lArg'`, but there's also a faster way: [900⌶](https://help.dyalog.com/latest/#Language/I%20Beam%20Functions/Called%20Monadically.htm) which ignores its argument and returns whether the function was called monadically: "
   ]
  },
  {
   "cell_type": "code",
   "execution_count": 14,
   "id": "ed1ff0f1",
   "metadata": {},
   "outputs": [],
   "source": [
    "∇ res←{lArg} Ambiv rArg\n",
    "  :If 900⌶⍬\n",
    "      lArg←42\n",
    "  :EndIf\n",
    "  res←lArg ⍝ Return the left argument\n",
    "∇"
   ]
  },
  {
   "cell_type": "code",
   "execution_count": 15,
   "id": "0f59df00",
   "metadata": {},
   "outputs": [
    {
     "data": {
      "text/html": [
       "<span style=\"white-space:pre; font-family: monospace\">42\n",
       "</span>"
      ]
     },
     "execution_count": 15,
     "metadata": {},
     "output_type": "execute_result"
    },
    {
     "data": {
      "text/html": [
       "<span style=\"white-space:pre; font-family: monospace\">99\n",
       "</span>"
      ]
     },
     "execution_count": 15,
     "metadata": {},
     "output_type": "execute_result"
    }
   ],
   "source": [
    "Ambiv 'hello'\n",
    "99 Ambiv 'world'"
   ]
  },
  {
   "cell_type": "markdown",
   "id": "c9e8cb34",
   "metadata": {},
   "source": [
    "Note that `900⌶` only works for tradfns, although dfns don't need it so much since they have `⍺←`.\n",
    "\n",
    "### Advanced control structures\n",
    "\n",
    "`:If` and `:While` should feel familiar, but the `:Select` statement warrants specification: \n",
    "\n",
    "```apl\n",
    ":Select expression\n",
    ":Case value\n",
    ":CaseList values\n",
    ":Else\n",
    ":EndSelect\n",
    "```\n",
    "No need \"break\", like in C's `switch` statement. It jumps to the end when reaching the next case. \n",
    "\n",
    "The conditional loops are a bit interesting in that you can piece them together as you want. You can begin with either `:While condition` (which checks before it starts) or `:Repeat` which doesn't check. You can end with either `:EndWhile/:EndRepeat` (which don't check anything) or `:Until` condition (which does). In other words, you can match `:While` with `:Until`. `:While` and `:Until` can also be followed by one or more `:AndIfs` or `:OrIfs`. \n",
    "\n",
    "You can even insert statements between :`If/:ElseIf/:While/:Until` and `:AndIf/:OrIf`, but this can be hard to read. For example, consider the following:  "
   ]
  },
  {
   "cell_type": "code",
   "execution_count": 16,
   "id": "f1b189c7",
   "metadata": {},
   "outputs": [],
   "source": [
    "∇ r←Foo val;b\n",
    "  b←1\n",
    "  :If 10<val\n",
    "      b←2\n",
    "  :AndIf 100>val\n",
    "      r←b,val\n",
    "  :Else\n",
    "      r←val,b\n",
    "  :EndIf\n",
    "∇"
   ]
  },
  {
   "cell_type": "code",
   "execution_count": 17,
   "id": "e3b2fbb2",
   "metadata": {},
   "outputs": [
    {
     "data": {
      "text/html": [
       "<span style=\"white-space:pre; font-family: monospace\">5 1\n",
       "</span>"
      ]
     },
     "execution_count": 17,
     "metadata": {},
     "output_type": "execute_result"
    },
    {
     "data": {
      "text/html": [
       "<span style=\"white-space:pre; font-family: monospace\">2 50\n",
       "</span>"
      ]
     },
     "execution_count": 17,
     "metadata": {},
     "output_type": "execute_result"
    },
    {
     "data": {
      "text/html": [
       "<span style=\"white-space:pre; font-family: monospace\">500 2\n",
       "</span>"
      ]
     },
     "execution_count": 17,
     "metadata": {},
     "output_type": "execute_result"
    }
   ],
   "source": [
    "Foo 5\n",
    "Foo 50\n",
    "Foo 500"
   ]
  },
  {
   "cell_type": "markdown",
   "id": "66cdea19",
   "metadata": {},
   "source": [
    "The `:AndIf` and `:OrIf` allows you to build up Boolean expressions that have the same kind of short-circuiting behaviour as that found in mainstream languages, but with the added option of statements between them. Whilst this can be confusing to read, it has its place, for example, where you have some costly set-up code required in order to evaluate one of the expressions making up a boolean condition in an if-statement. You can do work that needs to be prepared so we're ready to do the next check. For example, \n",
    "\n",
    "```apl\n",
    ":If ⎕NEXISTS file\n",
    "    content←⊃⎕NGET file 1\n",
    ":AndIf ×≢content\n",
    "    Process¨content\n",
    ":EndIf\n",
    "```\n",
    "That sort of thing would be painful to write in as a dfn.\n",
    "\n",
    "You can do the same with loops, too:"
   ]
  },
  {
   "cell_type": "code",
   "execution_count": 19,
   "id": "73487d6b",
   "metadata": {},
   "outputs": [],
   "source": [
    "∇ r←Foo val\n",
    "  r←val\n",
    "  :Repeat\n",
    "      r+←?5\n",
    "  :Until r>11\n",
    "  :OrIf r=9\n",
    "∇"
   ]
  },
  {
   "cell_type": "code",
   "execution_count": 21,
   "id": "f010e545",
   "metadata": {},
   "outputs": [
    {
     "data": {
      "text/html": [
       "<span style=\"white-space:pre; font-family: monospace\">13\n",
       "</span>"
      ]
     },
     "execution_count": 21,
     "metadata": {},
     "output_type": "execute_result"
    },
    {
     "data": {
      "text/html": [
       "<span style=\"white-space:pre; font-family: monospace\">16\n",
       "</span>"
      ]
     },
     "execution_count": 21,
     "metadata": {},
     "output_type": "execute_result"
    }
   ],
   "source": [
    "Foo 1\n",
    "Foo ¯100"
   ]
  },
  {
   "cell_type": "markdown",
   "id": "d9bfcea1",
   "metadata": {},
   "source": [
    "When looping, you can also continue with the next iteration without finishing this one, by stating `:Continue` and you can quit the loop immediately with `:Leave`: "
   ]
  },
  {
   "cell_type": "code",
   "execution_count": 25,
   "id": "6ea45af7",
   "metadata": {},
   "outputs": [],
   "source": [
    "∇ r←Foo\n",
    "  r←0\n",
    "  :While 1\n",
    "      r+←1\n",
    "      :If r>10\n",
    "          :Leave     ⍝ Like 'break' in C or Python\n",
    "      :EndIf\n",
    "  :EndWhile\n",
    "∇"
   ]
  },
  {
   "cell_type": "code",
   "execution_count": 26,
   "id": "01b4b853",
   "metadata": {},
   "outputs": [
    {
     "data": {
      "text/html": [
       "<span style=\"white-space:pre; font-family: monospace\">11\n",
       "</span>"
      ]
     },
     "execution_count": 26,
     "metadata": {},
     "output_type": "execute_result"
    }
   ],
   "source": [
    "Foo"
   ]
  },
  {
   "cell_type": "markdown",
   "id": "32a2c0a0",
   "metadata": {},
   "source": [
    "## Non-flow structures\n",
    "\n",
    "There's actually another couple of interesting structures, which aren't really flow control per se. `:Section…:EndSection` is like `:If 1` which is useful for organising your code, and they don't need a comment symbol on their right. You can put any text there. The `:Section` itself provides no actual visible functionality."
   ]
  },
  {
   "cell_type": "code",
   "execution_count": 27,
   "id": "f71f0451",
   "metadata": {},
   "outputs": [],
   "source": [
    "∇ r←Foo arg\n",
    "  r←arg\n",
    "  :Section We can group code that belongs together in sections\n",
    "      :If r>10\n",
    "          ⎕←'Greater than 10'\n",
    "      :EndIf\n",
    "  :EndSection\n",
    "∇"
   ]
  },
  {
   "cell_type": "code",
   "execution_count": 28,
   "id": "5af16194",
   "metadata": {},
   "outputs": [
    {
     "data": {
      "text/html": [
       "<span style=\"white-space:pre; font-family: monospace\">4\n",
       "</span>"
      ]
     },
     "execution_count": 28,
     "metadata": {},
     "output_type": "execute_result"
    },
    {
     "data": {
      "text/html": [
       "<span style=\"white-space:pre; font-family: monospace\">Greater than 10\n",
       "15\n",
       "</span>"
      ]
     },
     "execution_count": 28,
     "metadata": {},
     "output_type": "execute_result"
    }
   ],
   "source": [
    "Foo 4\n",
    "Foo 15"
   ]
  },
  {
   "cell_type": "markdown",
   "id": "2d992d5a",
   "metadata": {},
   "source": [
    "`:Trap` takes one or more error numbers exactly like dfns' error guards. Then the main code, and then `:Case` or `:CaseList` with error numbers. You can also/instead use `:Else` for all (other) errors.\n",
    "\n",
    "Tradfns can also do advanced stuff that dfns can't do. If you write `:Implements trigger var` then the function gets called every time var is changed in that namespace."
   ]
  },
  {
   "cell_type": "code",
   "execution_count": 29,
   "id": "00991681",
   "metadata": {},
   "outputs": [],
   "source": [
    "∇ r←Foo\n",
    "  :Implements trigger var\n",
    "  ⎕←'var changed!'\n",
    "∇"
   ]
  },
  {
   "cell_type": "code",
   "execution_count": 30,
   "id": "801d7ca2",
   "metadata": {},
   "outputs": [
    {
     "data": {
      "text/html": [
       "<span style=\"white-space:pre; font-family: monospace\">var changed!\n",
       "</span>"
      ]
     },
     "execution_count": 30,
     "metadata": {},
     "output_type": "execute_result"
    }
   ],
   "source": [
    "var←0"
   ]
  },
  {
   "cell_type": "markdown",
   "id": "75fb63e0",
   "metadata": {},
   "source": [
    "If you want a callback on _all_ variable changes, you can use `*` instead of a name. You can also use `var1,var2` to only react to those. `:Implements` is just a declaration, not a structure.\n",
    "\n",
    "## The header\n",
    "\n",
    "There can be up to four parts of the header:\n",
    "\n",
    "* result\n",
    "* calling syntax\n",
    "* locals\n",
    "* comment\n",
    "\n",
    "### Result\n",
    "\n",
    "The result is optional and must be terminated by `←` if present. It contains the result name or a parenthesised list of space-separated names. \n",
    "\n",
    "If one needs to return a vector of various values, then using a name list is nice, because one can assign to each name separately, and only upon return are they collected together: \n",
    "\n",
    "```apl\n",
    "∇(vertices results)←…\n",
    "  vertices←…\n",
    "  results←\n",
    "```\n",
    "Fun fact: a name can occur multiple places in the header, including in a single name list, so you can actually write somewhat useful function without any body, just a header. For example, `∇(x x)←dup x` makes two of its argument. And `(x y)←x juxtapose y` is the same as `{⍺ ⍵}`. \n",
    "\n",
    "The result can also be made \"shy\", like a dfn that ends with an assignment `{shh←42}`. This is done by putting the name or the name list in braces. For example, `∇{shh}←Shy shh` will silence its argument, but the value can still be coerced out. \n",
    "\n",
    "If the result variable name is a function, then the function will return that function! Behold:"
   ]
  },
  {
   "cell_type": "code",
   "execution_count": 31,
   "id": "2f59a50e",
   "metadata": {},
   "outputs": [],
   "source": [
    "∇ Fn←PlusMinus\n",
    " :If 1=?2\n",
    "     Fn←+\n",
    " :Else\n",
    "     Fn←-\n",
    " :EndIf\n",
    "∇"
   ]
  },
  {
   "cell_type": "markdown",
   "id": "f5000720",
   "metadata": {},
   "source": [
    "Then `3 PlusMinus 4` will give either `¯1` or `7`, each time it is run, it is random. "
   ]
  },
  {
   "cell_type": "code",
   "execution_count": 33,
   "id": "6967c82f",
   "metadata": {},
   "outputs": [
    {
     "data": {
      "text/html": [
       "<span style=\"white-space:pre; font-family: monospace\">¯1\n",
       "</span>"
      ]
     },
     "execution_count": 33,
     "metadata": {},
     "output_type": "execute_result"
    },
    {
     "data": {
      "text/html": [
       "<span style=\"white-space:pre; font-family: monospace\">7\n",
       "</span>"
      ]
     },
     "execution_count": 33,
     "metadata": {},
     "output_type": "execute_result"
    },
    {
     "data": {
      "text/html": [
       "<span style=\"white-space:pre; font-family: monospace\">¯1\n",
       "</span>"
      ]
     },
     "execution_count": 33,
     "metadata": {},
     "output_type": "execute_result"
    }
   ],
   "source": [
    "3 PlusMinus 4\n",
    "3 PlusMinus 4\n",
    "3 PlusMinus 4"
   ]
  },
  {
   "cell_type": "markdown",
   "id": "ebfad68f",
   "metadata": {},
   "source": [
    "### Calling syntax\n",
    "\n",
    "The calling syntax of the header is always be present. It is basically an image of how the function needs to be called. For example, a monadic function would have `FunctionName argumentName`. A dyadic function would have `leftArg FnName rightArg`. The right argument can also be a name list like the result. In that case, APL will refuse to call the function with anything but a vector argument of the correct length. This is pretty neat for \"type\" checking. A tradfn can be made ambivalent by putting braces around the left argument name, as we discussed before. The left and right arguments are not allowed to be the same, but multiple names in the right argument can be the same (last will prevail) which is convenient if you're writing a function that needs to take multiple arguments, some of which it doesn't need, for example, `∇ foo(important _ critical _ _)`.\n",
    "\n",
    "A tradfn can be also be _niladic_, unlike a dfn. Then the syntax part is just the function name. This is usually used for returning caches, bootstrapping, constants, etc. Another useful thing is for a niladic tradfn is to return a derived function, since that allows you to use the editor on it, and also to construct it over multiple lines. "
   ]
  },
  {
   "cell_type": "code",
   "execution_count": 34,
   "id": "f0a4b4dd",
   "metadata": {},
   "outputs": [],
   "source": [
    "∇ f←Avg\n",
    "  sum←+⌿\n",
    "  count←1⌈≢\n",
    "  f←sum÷count\n",
    "∇"
   ]
  },
  {
   "cell_type": "markdown",
   "id": "722072c0",
   "metadata": {},
   "source": [
    "So, about operators. The \"central\" part of the syntax declaration for an operator needs to be parenthesised. It then has two names for a monadic operator `(Operand OPERATOR)` or three names for a dyadic operator `(Operand1 OPERATOR Operand2)`. Outside the parenthesis there must be a name or namelist on the right for the right argument(s), and optionally an optionally optional left argument on the left. In other words, that is either no left argument or yes a left argument or a braced left argument. \n",
    "\n",
    "Now we can also understand why allowing a left argument namelist would make it really hard to understand what the header stood for: things like `(a b)(c d)` and `(a b c)d e` would certainly be tougher to parse for humans. In practice, if multiple \"arguments\" are needed, people tend to use multiple right arguments. Of course, you can always unpack any array into any structure, not just a simple list. \n",
    "\n",
    "As opposed to dfns, tradfns do not auto-localise. This means that it is important that you do so by declaring all your locals. After the syntax part, one can write one or more names, each prefixed by `;` to localise them. There's no need to localise other names that occur in the header. They're all local. The only exception is the function/operator's own name. If you really want to reuse that name, you can localise it explicitly. As a relatively new feature (17.0), you can continue localising names up until you have any actual code (so comments and empty lines are fine): \n",
    "\n",
    "```apl\n",
    "∇foo;local\n",
    ";more;locals\n",
    "⍝ finally:\n",
    ";last;ones\n",
    "```\n",
    "Finally, the header line allows a comment. Nothing fancy there. Just a comment :-)\n",
    "\n",
    "So in summary:\n",
    "\n",
    "`∇{(result1 result2)}←{left}(Op1 OP Op2)(right args);local;local2 ⍝ comment`"
   ]
  },
  {
   "cell_type": "code",
   "execution_count": null,
   "id": "356a20e9",
   "metadata": {},
   "outputs": [],
   "source": []
  }
 ],
 "metadata": {
  "kernelspec": {
   "display_name": "Dyalog APL",
   "language": "apl",
   "name": "dyalog-kernel"
  },
  "language_info": {
   "file_extension": ".apl",
   "mimetype": "text/apl",
   "name": "APL"
  }
 },
 "nbformat": 4,
 "nbformat_minor": 5
}

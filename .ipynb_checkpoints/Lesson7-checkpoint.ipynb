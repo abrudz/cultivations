{
 "cells": [
  {
   "cell_type": "markdown",
   "id": "18d3bec7",
   "metadata": {},
   "source": [
    "# Lesson 7 - APL functions: ⊂⊃⊆⌷\n",
    "\n",
    "We're continuing our exploration of APL's functions.\n",
    "\n",
    "Monadic `⊂` [encloses](http://help.dyalog.com/latest/index.htm#Language/Primitive%20Functions/Enclose.htm) its argument. It packages an arbitrary structure into a scalar. Simple scalars cannot be enclosed. We can turn on boxed output with the `]box` user command to illustrate APL's array structure in more detail:"
   ]
  },
  {
   "cell_type": "code",
   "execution_count": 45,
   "id": "17767d0b",
   "metadata": {},
   "outputs": [
    {
     "data": {
      "text/html": [
       "<span style=\"white-space:pre; font-family: monospace\">┌→────────────────┐\n",
       "│Was ON -style=max│\n",
       "└─────────────────┘\n",
       "</span>"
      ]
     },
     "execution_count": 45,
     "metadata": {},
     "output_type": "execute_result"
    }
   ],
   "source": [
    "]box on -s=max"
   ]
  },
  {
   "cell_type": "code",
   "execution_count": 46,
   "id": "4454a8f7",
   "metadata": {},
   "outputs": [
    {
     "data": {
      "text/html": [
       "<span style=\"white-space:pre; font-family: monospace\">┌→──────┐\n",
       "│1 2 3 4│\n",
       "└~──────┘\n",
       "</span>"
      ]
     },
     "execution_count": 46,
     "metadata": {},
     "output_type": "execute_result"
    },
    {
     "data": {
      "text/html": [
       "<span style=\"white-space:pre; font-family: monospace\">┌───────────┐\n",
       "│ ┌→──────┐ │\n",
       "│ │1 2 3 4│ │\n",
       "│ └~──────┘ │\n",
       "└∊──────────┘\n",
       "</span>"
      ]
     },
     "execution_count": 46,
     "metadata": {},
     "output_type": "execute_result"
    }
   ],
   "source": [
    "v←1 2 3 4\n",
    "v\n",
    "⊂v"
   ]
  },
  {
   "cell_type": "markdown",
   "id": "db6bd1a1",
   "metadata": {},
   "source": [
    "The little epsilon `∊` in the bottom of the outer box indicates the enclosure."
   ]
  },
  {
   "cell_type": "markdown",
   "id": "127ef228",
   "metadata": {},
   "source": [
    "If we tally an enclosed structure, it should come out as 1:"
   ]
  },
  {
   "cell_type": "code",
   "execution_count": 12,
   "id": "9cf400c9",
   "metadata": {},
   "outputs": [
    {
     "data": {
      "text/html": [
       "<span style=\"white-space:pre; font-family: monospace\"> \n",
       "1\n",
       " \n",
       "</span>"
      ]
     },
     "execution_count": 12,
     "metadata": {},
     "output_type": "execute_result"
    }
   ],
   "source": [
    "≢⊂v   ⍝ an enclosed vector is a scalar"
   ]
  },
  {
   "cell_type": "markdown",
   "id": "77a74f7d",
   "metadata": {},
   "source": [
    "Here's another example:"
   ]
  },
  {
   "cell_type": "code",
   "execution_count": 15,
   "id": "c9ef4d73",
   "metadata": {},
   "outputs": [
    {
     "data": {
      "text/html": [
       "<span style=\"white-space:pre; font-family: monospace\">┌→─────┐\n",
       "↓ABCABC│\n",
       "│DEFDEF│\n",
       "│GHIGHI│\n",
       "└──────┘\n",
       "</span>"
      ]
     },
     "execution_count": 15,
     "metadata": {},
     "output_type": "execute_result"
    },
    {
     "data": {
      "text/html": [
       "<span style=\"white-space:pre; font-family: monospace\">┌→────────────┐\n",
       "│ ┌→──┐ ┌→──┐ │\n",
       "│ ↓ABC│ ↓ABC│ │\n",
       "│ │DEF│ │DEF│ │\n",
       "│ │GHI│ │GHI│ │\n",
       "│ └───┘ └───┘ │\n",
       "└∊────────────┘\n",
       "</span>"
      ]
     },
     "execution_count": 15,
     "metadata": {},
     "output_type": "execute_result"
    }
   ],
   "source": [
    "(3 3⍴⎕A),(3 3⍴⎕A)   ⍝ concatenation of two matrices. \n",
    "(⊂3 3⍴⎕A),(⊂3 3⍴⎕A) ⍝ concatenation of two enclosed matrices"
   ]
  },
  {
   "cell_type": "markdown",
   "id": "d39e5c0c",
   "metadata": {},
   "source": [
    "The first gave us a matrix of shape 3 6, the second gave a vector of shape 2. "
   ]
  },
  {
   "cell_type": "code",
   "execution_count": 16,
   "id": "6f8b1962",
   "metadata": {},
   "outputs": [
    {
     "data": {
      "text/html": [
       "<span style=\"white-space:pre; font-family: monospace\">┌→────────────┐\n",
       "↓       ┌→──┐ │\n",
       "│ A B C ↓ABC│ │\n",
       "│ - - - │DEF│ │\n",
       "│       │GHI│ │\n",
       "│       └───┘ │\n",
       "│       ┌→──┐ │\n",
       "│ D E F ↓ABC│ │\n",
       "│ - - - │DEF│ │\n",
       "│       │GHI│ │\n",
       "│       └───┘ │\n",
       "│       ┌→──┐ │\n",
       "│ G H I ↓ABC│ │\n",
       "│ - - - │DEF│ │\n",
       "│       │GHI│ │\n",
       "│       └───┘ │\n",
       "└∊────────────┘\n",
       "</span>"
      ]
     },
     "execution_count": 16,
     "metadata": {},
     "output_type": "execute_result"
    }
   ],
   "source": [
    "(3 3⍴⎕A),(⊂3 3⍴⎕A) ⍝ concatenation of a matrix and an enclosed matrix "
   ]
  },
  {
   "cell_type": "markdown",
   "id": "ce95708d",
   "metadata": {},
   "source": [
    "Concatenating a scalar to a matrix uses the scalar for each row. Here the entire right-hand matrix was treated as a scalar because it was enclosed."
   ]
  },
  {
   "cell_type": "code",
   "execution_count": 18,
   "id": "c209ddbf",
   "metadata": {},
   "outputs": [
    {
     "data": {
      "text/html": [
       "<span style=\"white-space:pre; font-family: monospace\">┌→───┐\n",
       "↓ABCx│\n",
       "│DEFx│\n",
       "│GHIx│\n",
       "└────┘\n",
       "</span>"
      ]
     },
     "execution_count": 18,
     "metadata": {},
     "output_type": "execute_result"
    }
   ],
   "source": [
    "(3 3⍴⎕A),'x'"
   ]
  },
  {
   "cell_type": "markdown",
   "id": "75ecdb09",
   "metadata": {},
   "source": [
    "So you can (and should) use `⊂` to tell APL how you want the scalar extension (auto-vectorisation) to be applied.\n",
    "\n",
    "`⊂` is also good for treating text vectors as strings (i.e. in one piece): "
   ]
  },
  {
   "cell_type": "code",
   "execution_count": 19,
   "id": "f3c6d843",
   "metadata": {},
   "outputs": [
    {
     "data": {
      "text/html": [
       "<span style=\"white-space:pre; font-family: monospace\">┌→────┐\n",
       "│4 4 4│\n",
       "└~────┘\n",
       "</span>"
      ]
     },
     "execution_count": 19,
     "metadata": {},
     "output_type": "execute_result"
    }
   ],
   "source": [
    "'aaa' 'bbb' 'ccc' ⍳ 'aaa'"
   ]
  },
  {
   "cell_type": "markdown",
   "id": "8d29b85e",
   "metadata": {},
   "source": [
    "This says that each one of the three right-side 'a's is found in position 4 (i.e. are not) in the left-side list."
   ]
  },
  {
   "cell_type": "code",
   "execution_count": 20,
   "id": "c8e9a918",
   "metadata": {},
   "outputs": [
    {
     "data": {
      "text/html": [
       "<span style=\"white-space:pre; font-family: monospace\"> \n",
       "1\n",
       " \n",
       "</span>"
      ]
     },
     "execution_count": 20,
     "metadata": {},
     "output_type": "execute_result"
    }
   ],
   "source": [
    "'aaa' 'bbb' 'ccc' ⍳ ⊂'aaa'"
   ]
  },
  {
   "cell_type": "markdown",
   "id": "01e0cae8",
   "metadata": {},
   "source": [
    "This says that 'aaa' is the first string.\n",
    "\n",
    "Dyadic `⊂` is [partitioned enclose](http://help.dyalog.com/latest/index.htm#Language/Primitive%20Functions/Partitioned%20Enclose.htm). It encloses (hence sharing the symbol) pieces of the right argument as indicated by the left argument. Best to use an example: "
   ]
  },
  {
   "cell_type": "code",
   "execution_count": 21,
   "id": "7e995b7d",
   "metadata": {},
   "outputs": [
    {
     "data": {
      "text/html": [
       "<span style=\"white-space:pre; font-family: monospace\">┌→───────────────────────┐\n",
       "│ ┌→──┐ ┌→─┐ ┌→───┐ ┌→─┐ │\n",
       "│ │Hel│ │lo│ │ Wor│ │ld│ │\n",
       "│ └───┘ └──┘ └────┘ └──┘ │\n",
       "└∊───────────────────────┘\n",
       "</span>"
      ]
     },
     "execution_count": 21,
     "metadata": {},
     "output_type": "execute_result"
    }
   ],
   "source": [
    "1 0 0 1 0 1 0 0 0 1 0⊂'Hello World' "
   ]
  },
  {
   "cell_type": "markdown",
   "id": "96b57b84",
   "metadata": {},
   "source": [
    "This works on higher rank arrays, too. It partitions along the last axis:"
   ]
  },
  {
   "cell_type": "code",
   "execution_count": 22,
   "id": "db989472",
   "metadata": {},
   "outputs": [
    {
     "data": {
      "text/html": [
       "<span style=\"white-space:pre; font-family: monospace\">┌→───────────────────────────────┐\n",
       "│ ┌→─┐ ┌→──┐ ┌→─┐ ┌→───┐ ┌→┐ ┌→┐ │\n",
       "│ ↓AB│ ↓CDE│ ↓FG│ ↓HIJK│ ↓L│ ↓M│ │\n",
       "│ │NO│ │PQR│ │ST│ │UVWX│ │Y│ │Z│ │\n",
       "│ └──┘ └───┘ └──┘ └────┘ └─┘ └─┘ │\n",
       "└∊───────────────────────────────┘\n",
       "</span>"
      ]
     },
     "execution_count": 22,
     "metadata": {},
     "output_type": "execute_result"
    }
   ],
   "source": [
    "1 0 1 0 0 1 0 1 0 0 0 1 1 ⊂ 2 13⍴⎕A"
   ]
  },
  {
   "cell_type": "markdown",
   "id": "2e5fb3a9",
   "metadata": {},
   "source": [
    "For vectors, `1⊂` is the same as `,¨` which may be useful in trains where you want to have a left argument.\n",
    "For higher rank arrays, `1⊂` cuts into columns:"
   ]
  },
  {
   "cell_type": "code",
   "execution_count": 23,
   "id": "de771b41",
   "metadata": {},
   "outputs": [
    {
     "data": {
      "text/html": [
       "<span style=\"white-space:pre; font-family: monospace\">┌→────────────────────────────────────────────────────┐\n",
       "│ ┌→┐ ┌→┐ ┌→┐ ┌→┐ ┌→┐ ┌→┐ ┌→┐ ┌→┐ ┌→┐ ┌→┐ ┌→┐ ┌→┐ ┌→┐ │\n",
       "│ ↓A│ ↓B│ ↓C│ ↓D│ ↓E│ ↓F│ ↓G│ ↓H│ ↓I│ ↓J│ ↓K│ ↓L│ ↓M│ │\n",
       "│ │N│ │O│ │P│ │Q│ │R│ │S│ │T│ │U│ │V│ │W│ │X│ │Y│ │Z│ │\n",
       "│ └─┘ └─┘ └─┘ └─┘ └─┘ └─┘ └─┘ └─┘ └─┘ └─┘ └─┘ └─┘ └─┘ │\n",
       "└∊────────────────────────────────────────────────────┘\n",
       "</span>"
      ]
     },
     "execution_count": 23,
     "metadata": {},
     "output_type": "execute_result"
    }
   ],
   "source": [
    "1 ⊂ 2 13⍴⎕A"
   ]
  },
  {
   "cell_type": "markdown",
   "id": "bfa64cec",
   "metadata": {},
   "source": [
    "You can use brackets to indicate which axis you wish to cut along: "
   ]
  },
  {
   "cell_type": "code",
   "execution_count": 25,
   "id": "86a946f5",
   "metadata": {},
   "outputs": [
    {
     "data": {
      "text/html": [
       "<span style=\"white-space:pre; font-family: monospace\">┌→────────────────────────────────┐\n",
       "│ ┌→────────────┐ ┌→────────────┐ │\n",
       "│ ↓ABCDEFGHIJKLM│ ↓NOPQRSTUVWXYZ│ │\n",
       "│ └─────────────┘ └─────────────┘ │\n",
       "└∊────────────────────────────────┘\n",
       "</span>"
      ]
     },
     "execution_count": 25,
     "metadata": {},
     "output_type": "execute_result"
    },
    {
     "data": {
      "text/html": [
       "<span style=\"white-space:pre; font-family: monospace\">┌→──────────────────┐\n",
       "│ ┌→──┐ ┌→──┐ ┌→──┐ │\n",
       "│ ↓ABC│ ↓GHI│ ↓JKL│ │\n",
       "│ │DEF│ └───┘ └───┘ │\n",
       "│ └───┘             │\n",
       "└∊──────────────────┘\n",
       "</span>"
      ]
     },
     "execution_count": 25,
     "metadata": {},
     "output_type": "execute_result"
    }
   ],
   "source": [
    "1 ⊂[1] 2 13⍴⎕A\n",
    "1 0 1 1 ⊂[1] 4 3⍴⎕A "
   ]
  },
  {
   "cell_type": "markdown",
   "id": "876f7526",
   "metadata": {},
   "source": [
    "Monadic `⊃` is [disclose](http://help.dyalog.com/latest/index.htm#Language/Primitive%20Functions/Disclose.htm), which is pretty much the inverse of monadic `⊂`. It discloses a scalar (again, if possible; a simple scalar remains the same). If you use it on a high rank array (i.e. not enclosed), it will give you the first (top left) element: "
   ]
  },
  {
   "cell_type": "code",
   "execution_count": 27,
   "id": "d3e21a24",
   "metadata": {},
   "outputs": [
    {
     "data": {
      "text/html": [
       "<span style=\"white-space:pre; font-family: monospace\">┌→──┐\n",
       "↓ABC│\n",
       "│DEF│\n",
       "│GHI│\n",
       "└───┘\n",
       "</span>"
      ]
     },
     "execution_count": 27,
     "metadata": {},
     "output_type": "execute_result"
    },
    {
     "data": {
      "text/html": [
       "<span style=\"white-space:pre; font-family: monospace\">┌───────┐\n",
       "│ ┌→──┐ │\n",
       "│ ↓ABC│ │\n",
       "│ │DEF│ │\n",
       "│ │GHI│ │\n",
       "│ └───┘ │\n",
       "└∊──────┘\n",
       "</span>"
      ]
     },
     "execution_count": 27,
     "metadata": {},
     "output_type": "execute_result"
    },
    {
     "data": {
      "text/html": [
       "<span style=\"white-space:pre; font-family: monospace\">┌→──┐\n",
       "↓ABC│\n",
       "│DEF│\n",
       "│GHI│\n",
       "└───┘\n",
       "</span>"
      ]
     },
     "execution_count": 27,
     "metadata": {},
     "output_type": "execute_result"
    },
    {
     "data": {
      "text/html": [
       "<span style=\"white-space:pre; font-family: monospace\"> \n",
       "A\n",
       "-\n",
       "</span>"
      ]
     },
     "execution_count": 27,
     "metadata": {},
     "output_type": "execute_result"
    }
   ],
   "source": [
    "3 3⍴⎕A      ⍝ 3x3 matrix\n",
    "⊂3 3⍴⎕A     ⍝ enclosed\n",
    "⊃⊂3 3⍴⎕A    ⍝ disclose enclosed\n",
    "⊃3 3⍴⎕A     ⍝ dislclose unenclosed gives the first element"
   ]
  },
  {
   "cell_type": "markdown",
   "id": "841f7bca",
   "metadata": {},
   "source": [
    "The last feature (\"first\") means that you can combine it with reverses etc, to get corner elements: "
   ]
  },
  {
   "cell_type": "code",
   "execution_count": 28,
   "id": "25a31c1e",
   "metadata": {},
   "outputs": [
    {
     "data": {
      "text/html": [
       "<span style=\"white-space:pre; font-family: monospace\"> \n",
       "C\n",
       "-\n",
       "</span>"
      ]
     },
     "execution_count": 28,
     "metadata": {},
     "output_type": "execute_result"
    },
    {
     "data": {
      "text/html": [
       "<span style=\"white-space:pre; font-family: monospace\"> \n",
       "G\n",
       "-\n",
       "</span>"
      ]
     },
     "execution_count": 28,
     "metadata": {},
     "output_type": "execute_result"
    }
   ],
   "source": [
    "⊃⌽3 3⍴⎕A ⍝ top right\n",
    "⊃⊖3 3⍴⎕A ⍝ bottom left "
   ]
  },
  {
   "cell_type": "markdown",
   "id": "97f5d392",
   "metadata": {},
   "source": [
    "You can use it with `¨` (each) to get initials:"
   ]
  },
  {
   "cell_type": "code",
   "execution_count": 29,
   "id": "a2750e43",
   "metadata": {},
   "outputs": [
    {
     "data": {
      "text/html": [
       "<span style=\"white-space:pre; font-family: monospace\">┌→──┐\n",
       "│KEI│\n",
       "└───┘\n",
       "</span>"
      ]
     },
     "execution_count": 29,
     "metadata": {},
     "output_type": "execute_result"
    }
   ],
   "source": [
    "⊃¨'Kenneth' 'Eugene' 'Iverson'"
   ]
  },
  {
   "cell_type": "markdown",
   "id": "1b33aacc",
   "metadata": {},
   "source": [
    "Dyadic `⊃` is [pick](http://help.dyalog.com/latest/index.htm#Language/Primitive%20Functions/Pick.htm). It digs into nested arrays. Every scalar on its left is the index of an element in subsequent layers of nestedness: "
   ]
  },
  {
   "cell_type": "code",
   "execution_count": 32,
   "id": "06187909",
   "metadata": {},
   "outputs": [
    {
     "data": {
      "text/html": [
       "<span style=\"white-space:pre; font-family: monospace\"> \n",
       "F\n",
       "-\n",
       "</span>"
      ]
     },
     "execution_count": 32,
     "metadata": {},
     "output_type": "execute_result"
    },
    {
     "data": {
      "text/html": [
       "<span style=\"white-space:pre; font-family: monospace\"> \n",
       "6\n",
       " \n",
       "</span>"
      ]
     },
     "execution_count": 32,
     "metadata": {},
     "output_type": "execute_result"
    },
    {
     "data": {
      "text/html": [
       "<span style=\"white-space:pre; font-family: monospace\"> \n",
       "4\n",
       " \n",
       "</span>"
      ]
     },
     "execution_count": 32,
     "metadata": {},
     "output_type": "execute_result"
    }
   ],
   "source": [
    "(⊂2 3)⊃3 3⍴⎕A\n",
    "2 3 1⊃(1 2 3)(4 5 (6 7 8))\n",
    "(1 2) 2⊃2 2⍴(1 2)(3 4)(5 6)(7 8) "
   ]
  },
  {
   "cell_type": "markdown",
   "id": "0d833dc8",
   "metadata": {},
   "source": [
    "In the last statement, the first index is 1 2, which picks the element (3 4), and the second index is 2, which picks the 4.\n",
    "\n",
    "Note that `2 2⍴(1 2)(3 4)(5 6)(7 8)` is a 2-by-2 matrix of two-element vectors:"
   ]
  },
  {
   "cell_type": "code",
   "execution_count": 33,
   "id": "0b455f2f",
   "metadata": {},
   "outputs": [
    {
     "data": {
      "text/html": [
       "<span style=\"white-space:pre; font-family: monospace\">┌→────────────┐\n",
       "↓ ┌→──┐ ┌→──┐ │\n",
       "│ │1 2│ │3 4│ │\n",
       "│ └~──┘ └~──┘ │\n",
       "│ ┌→──┐ ┌→──┐ │\n",
       "│ │5 6│ │7 8│ │\n",
       "│ └~──┘ └~──┘ │\n",
       "└∊────────────┘\n",
       "</span>"
      ]
     },
     "execution_count": 33,
     "metadata": {},
     "output_type": "execute_result"
    }
   ],
   "source": [
    "2 2⍴(1 2)(3 4)(5 6)(7 8)"
   ]
  },
  {
   "cell_type": "markdown",
   "id": "feba06ea",
   "metadata": {},
   "source": [
    "Monadic `⊆` is called [nest](http://help.dyalog.com/latest/index.htm#Language/Primitive%20Functions/Nest.htm) because it guarantees you that the result is nested (non-simple). `(1 2)(3 4 5)` is already nested, and `⊆` won't do anything: "
   ]
  },
  {
   "cell_type": "code",
   "execution_count": 34,
   "id": "09834eca",
   "metadata": {},
   "outputs": [
    {
     "data": {
      "text/html": [
       "<span style=\"white-space:pre; font-family: monospace\">┌→──────────────┐\n",
       "│ ┌→──┐ ┌→────┐ │\n",
       "│ │1 2│ │3 4 5│ │\n",
       "│ └~──┘ └~────┘ │\n",
       "└∊──────────────┘\n",
       "</span>"
      ]
     },
     "execution_count": 34,
     "metadata": {},
     "output_type": "execute_result"
    },
    {
     "data": {
      "text/html": [
       "<span style=\"white-space:pre; font-family: monospace\">┌→──────────────┐\n",
       "│ ┌→──┐ ┌→────┐ │\n",
       "│ │1 2│ │3 4 5│ │\n",
       "│ └~──┘ └~────┘ │\n",
       "└∊──────────────┘\n",
       "</span>"
      ]
     },
     "execution_count": 34,
     "metadata": {},
     "output_type": "execute_result"
    }
   ],
   "source": [
    "(1 2)(3 4 5)\n",
    "⊆(1 2)(3 4 5) "
   ]
  },
  {
   "cell_type": "markdown",
   "id": "278133a3",
   "metadata": {},
   "source": [
    "`1 2 3` is not nested, so `⊆` will nest it:"
   ]
  },
  {
   "cell_type": "code",
   "execution_count": 35,
   "id": "71b998f7",
   "metadata": {},
   "outputs": [
    {
     "data": {
      "text/html": [
       "<span style=\"white-space:pre; font-family: monospace\">┌→────┐\n",
       "│1 2 3│\n",
       "└~────┘\n",
       "</span>"
      ]
     },
     "execution_count": 35,
     "metadata": {},
     "output_type": "execute_result"
    },
    {
     "data": {
      "text/html": [
       "<span style=\"white-space:pre; font-family: monospace\">┌─────────┐\n",
       "│ ┌→────┐ │\n",
       "│ │1 2 3│ │\n",
       "│ └~────┘ │\n",
       "└∊────────┘\n",
       "</span>"
      ]
     },
     "execution_count": 35,
     "metadata": {},
     "output_type": "execute_result"
    }
   ],
   "source": [
    "1 2 3\n",
    "⊆1 2 3"
   ]
  },
  {
   "cell_type": "markdown",
   "id": "b3380ed7",
   "metadata": {},
   "source": [
    "Works on higher rank too, of course:"
   ]
  },
  {
   "cell_type": "code",
   "execution_count": 39,
   "id": "756dafed",
   "metadata": {},
   "outputs": [
    {
     "data": {
      "text/html": [
       "<span style=\"white-space:pre; font-family: monospace\">┌→──────────────────┐\n",
       "↓ ┌→──┐ ┌→──┐ ┌→──┐ │\n",
       "│ │abc│ │abc│ │abc│ │\n",
       "│ └───┘ └───┘ └───┘ │\n",
       "│ ┌→──┐ ┌→──┐ ┌→──┐ │\n",
       "│ │abc│ │abc│ │abc│ │\n",
       "│ └───┘ └───┘ └───┘ │\n",
       "└∊──────────────────┘\n",
       "</span>"
      ]
     },
     "execution_count": 39,
     "metadata": {},
     "output_type": "execute_result"
    },
    {
     "data": {
      "text/html": [
       "<span style=\"white-space:pre; font-family: monospace\">┌→──────────────────┐\n",
       "↓ ┌→──┐ ┌→──┐ ┌→──┐ │\n",
       "│ │abc│ │abc│ │abc│ │\n",
       "│ └───┘ └───┘ └───┘ │\n",
       "│ ┌→──┐ ┌→──┐ ┌→──┐ │\n",
       "│ │abc│ │abc│ │abc│ │\n",
       "│ └───┘ └───┘ └───┘ │\n",
       "└∊──────────────────┘\n",
       "</span>"
      ]
     },
     "execution_count": 39,
     "metadata": {},
     "output_type": "execute_result"
    }
   ],
   "source": [
    "2 3⍴⊂'abc'\n",
    "⊆2 3⍴⊂'abc' ⍝ already nested, so no-op "
   ]
  },
  {
   "cell_type": "code",
   "execution_count": 40,
   "id": "0c887337",
   "metadata": {},
   "outputs": [
    {
     "data": {
      "text/html": [
       "<span style=\"white-space:pre; font-family: monospace\">┌→──┐\n",
       "↓abc│\n",
       "│abc│\n",
       "└───┘\n",
       "</span>"
      ]
     },
     "execution_count": 40,
     "metadata": {},
     "output_type": "execute_result"
    },
    {
     "data": {
      "text/html": [
       "<span style=\"white-space:pre; font-family: monospace\">┌───────┐\n",
       "│ ┌→──┐ │\n",
       "│ ↓abc│ │\n",
       "│ │abc│ │\n",
       "│ └───┘ │\n",
       "└∊──────┘\n",
       "</span>"
      ]
     },
     "execution_count": 40,
     "metadata": {},
     "output_type": "execute_result"
    }
   ],
   "source": [
    "2 3⍴'abc'   ⍝ not nested\n",
    "⊆2 3⍴'abc'  ⍝ nested"
   ]
  },
  {
   "cell_type": "markdown",
   "id": "a25f7f70",
   "metadata": {},
   "source": [
    "Dyadic `⊆` is called [partition](http://help.dyalog.com/latest/index.htm#Language/Primitive%20Functions/Partition.htm) (`⊂` and `⊆` originate with different APL dialects, but Dyalog APL now features both). To distinguish between them, we call `⊂` _partitioned enclose_ and `⊆` just _partition_, but it doesn't say much.\n",
    "\n",
    "Dyadic `⊆` works similarly to dyadic `⊂`, but with different rules for the left argument. The left argument is non-negative integer instead of Boolean, and new partitions begin whenever an element is higher than its neighbour on the left. Also, elements indicated by 0s are dropped completely: "
   ]
  },
  {
   "cell_type": "code",
   "execution_count": 41,
   "id": "a04ec3fb",
   "metadata": {},
   "outputs": [
    {
     "data": {
      "text/html": [
       "<span style=\"white-space:pre; font-family: monospace\">┌→────────────────────┐\n",
       "│ ┌→┐ ┌→─┐ ┌→──┐ ┌→─┐ │\n",
       "│ │H│ │lo│ │ Wo│ │rl│ │\n",
       "│ └─┘ └──┘ └───┘ └──┘ │\n",
       "└∊────────────────────┘\n",
       "</span>"
      ]
     },
     "execution_count": 41,
     "metadata": {},
     "output_type": "execute_result"
    }
   ],
   "source": [
    "1 0 0 1 1 3 2 2 5 5 0⊆'Hello World'"
   ]
  },
  {
   "cell_type": "markdown",
   "id": "0db1ba67",
   "metadata": {},
   "source": [
    "`1⊆array` is the same as `,⊂array` but uses a single dyadic function instead of two monadic ones, i.e. great for trains.\n",
    "\n",
    "Monadic `⌷` is [materialise](http://help.dyalog.com/latest/index.htm#Language/Primitive%20Functions/Materialise.htm). It is almost the same as monadic `⊢` (i.e. _identity_). However, it will materialise the default property of a class. For collections, this means the _Item_ property, so in effect it turns collections into vectors of items. "
   ]
  },
  {
   "cell_type": "code",
   "execution_count": 43,
   "id": "5a846e5a",
   "metadata": {},
   "outputs": [],
   "source": [
    "]dinput\n",
    ":Class cl\n",
    "    :Property Default thing\n",
    "    :Access Public Shared\n",
    "        ∇ r←get\n",
    "          r←3 1 4 1 4\n",
    "        ∇\n",
    "    :EndProperty\n",
    ":EndClass"
   ]
  },
  {
   "cell_type": "code",
   "execution_count": 44,
   "id": "c1740aff",
   "metadata": {},
   "outputs": [
    {
     "data": {
      "text/html": [
       "<span style=\"white-space:pre; font-family: monospace\">┌→────────┐\n",
       "│3 1 4 1 4│\n",
       "└~────────┘\n",
       "</span>"
      ]
     },
     "execution_count": 44,
     "metadata": {},
     "output_type": "execute_result"
    },
    {
     "data": {
      "text/html": [
       "<span style=\"white-space:pre; font-family: monospace\">    \n",
       "#.cl\n",
       "    \n",
       "</span>"
      ]
     },
     "execution_count": 44,
     "metadata": {},
     "output_type": "execute_result"
    },
    {
     "data": {
      "text/html": [
       "<span style=\"white-space:pre; font-family: monospace\">┌→────────┐\n",
       "│3 1 4 1 4│\n",
       "└~────────┘\n",
       "</span>"
      ]
     },
     "execution_count": 44,
     "metadata": {},
     "output_type": "execute_result"
    }
   ],
   "source": [
    "cl.thing\n",
    "⊢cl\n",
    "⌷cl"
   ]
  },
  {
   "cell_type": "markdown",
   "id": "8b8c253d",
   "metadata": {},
   "source": [
    "Dyadic `⌷` is [index](http://help.dyalog.com/latest/index.htm#Language/Primitive%20Functions/Index.htm). It is similar to _pick_, dyadic `⊃`, but works its way into the rank instead of the depth. On a 3D array, the first element selects layer, the second row, the third column: "
   ]
  },
  {
   "cell_type": "code",
   "execution_count": 47,
   "id": "d6af548b",
   "metadata": {},
   "outputs": [
    {
     "data": {
      "text/html": [
       "<span style=\"white-space:pre; font-family: monospace\">┌┌→───┐\n",
       "↓↓ABCD│\n",
       "││EFGH│\n",
       "││IJKL│\n",
       "││    │\n",
       "││MNOP│\n",
       "││QRST│\n",
       "││UVWX│\n",
       "└└────┘\n",
       "</span>"
      ]
     },
     "execution_count": 47,
     "metadata": {},
     "output_type": "execute_result"
    },
    {
     "data": {
      "text/html": [
       "<span style=\"white-space:pre; font-family: monospace\">┌→───┐\n",
       "↓MNOP│\n",
       "│QRST│\n",
       "│UVWX│\n",
       "└────┘\n",
       "</span>"
      ]
     },
     "execution_count": 47,
     "metadata": {},
     "output_type": "execute_result"
    },
    {
     "data": {
      "text/html": [
       "<span style=\"white-space:pre; font-family: monospace\">┌→───┐\n",
       "│MNOP│\n",
       "└────┘\n",
       "</span>"
      ]
     },
     "execution_count": 47,
     "metadata": {},
     "output_type": "execute_result"
    },
    {
     "data": {
      "text/html": [
       "<span style=\"white-space:pre; font-family: monospace\"> \n",
       "O\n",
       "-\n",
       "</span>"
      ]
     },
     "execution_count": 47,
     "metadata": {},
     "output_type": "execute_result"
    }
   ],
   "source": [
    "2 3 4⍴⎕A\n",
    "2⌷2 3 4⍴⎕A\n",
    "2 1⌷2 3 4⍴⎕A\n",
    "2 1 3⌷2 3 4⍴⎕A"
   ]
  },
  {
   "cell_type": "markdown",
   "id": "e7d94948",
   "metadata": {},
   "source": [
    "Each element of the left argument may be may be any simple array:"
   ]
  },
  {
   "cell_type": "code",
   "execution_count": 48,
   "id": "d3581d1e",
   "metadata": {},
   "outputs": [
    {
     "data": {
      "text/html": [
       "<span style=\"white-space:pre; font-family: monospace\">┌┌→───┐\n",
       "↓↓ABCD│\n",
       "││EFGH│\n",
       "││IJKL│\n",
       "││    │\n",
       "││ABCD│\n",
       "││EFGH│\n",
       "││IJKL│\n",
       "└└────┘\n",
       "</span>"
      ]
     },
     "execution_count": 48,
     "metadata": {},
     "output_type": "execute_result"
    },
    {
     "data": {
      "text/html": [
       "<span style=\"white-space:pre; font-family: monospace\">┌→───┐\n",
       "↓MNOP│\n",
       "│UVWX│\n",
       "└────┘\n",
       "</span>"
      ]
     },
     "execution_count": 48,
     "metadata": {},
     "output_type": "execute_result"
    },
    {
     "data": {
      "text/html": [
       "<span style=\"white-space:pre; font-family: monospace\">┌→─┐\n",
       "│CO│\n",
       "└──┘\n",
       "</span>"
      ]
     },
     "execution_count": 48,
     "metadata": {},
     "output_type": "execute_result"
    },
    {
     "data": {
      "text/html": [
       "<span style=\"white-space:pre; font-family: monospace\">┌┌→───┐\n",
       "↓↓EFGH│\n",
       "││IJKL│\n",
       "││    │\n",
       "││QRST│\n",
       "││UVWX│\n",
       "└└────┘\n",
       "</span>"
      ]
     },
     "execution_count": 48,
     "metadata": {},
     "output_type": "execute_result"
    }
   ],
   "source": [
    "(⊂1 1)⌷2 3 4⍴⎕A\n",
    "2 (1 3)⌷2 3 4⍴⎕A ⍝ first and third row of second layer \n",
    "(1 2)1 3⌷2 3 4⍴⎕A ⍝ third char of first row of layers 1 and 2 \n",
    "(1 2)(2 3)⌷2 3 4⍴⎕A ⍝ rows 2 and 3 of each of layers 1 and 2 "
   ]
  },
  {
   "cell_type": "code",
   "execution_count": null,
   "id": "30836ee9",
   "metadata": {},
   "outputs": [],
   "source": []
  }
 ],
 "metadata": {
  "kernelspec": {
   "display_name": "Dyalog APL",
   "language": "apl",
   "name": "dyalog-kernel"
  },
  "language_info": {
   "file_extension": ".apl",
   "mimetype": "text/apl",
   "name": "APL"
  }
 },
 "nbformat": 4,
 "nbformat_minor": 5
}

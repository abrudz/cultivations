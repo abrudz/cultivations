{
 "cells": [
  {
   "cell_type": "markdown",
   "id": "0cc30451",
   "metadata": {},
   "source": [
    "# Lesson 3 - Some APL Operators: `/⌿\\⍀¨⍣⍨`\n",
    "\n",
    "The first operator is `/`, called [reduce](). It is a monadic operator which derives an ambivalent function. An ambivalent function is one which can be called either monadically or dyadically. For example, `-` is ambivalent. Monadically, it is negate; dyadically, it is subtraction. \n",
    "\n",
    "`+/` is a derived ambivalent function. The monadic function is plus-reduction (i.e. sum) and the dyadic function is windowed sum, as in sliding windows of size `⍺` (shorthand for \"left argument\")."
   ]
  },
  {
   "cell_type": "code",
   "execution_count": 1,
   "id": "f448ad8c",
   "metadata": {},
   "outputs": [
    {
     "ename": "SyntaxError",
     "evalue": "invalid syntax (3010954465.py, line 1)",
     "output_type": "error",
     "traceback": [
      "\u001b[0;36m  File \u001b[0;32m\"/var/folders/5z/m51dyzj52256b5670wgr0mnr0000gn/T/ipykernel_47741/3010954465.py\"\u001b[0;36m, line \u001b[0;32m1\u001b[0m\n\u001b[0;31m    +/3 1 4 1 5\u001b[0m\n\u001b[0m     ^\u001b[0m\n\u001b[0;31mSyntaxError\u001b[0m\u001b[0;31m:\u001b[0m invalid syntax\n"
     ]
    }
   ],
   "source": [
    "+/3 1 4 1 5\n",
    "2 +/ 3 1 4 1 5\n",
    "3 +/ 3 1 4 1 5 "
   ]
  },
  {
   "cell_type": "markdown",
   "id": "ceb1be47",
   "metadata": {},
   "source": [
    "Question:\n",
    "> What does `3-/` do? Subtraction isn't associative. "
   ]
  },
  {
   "cell_type": "code",
   "execution_count": null,
   "id": "f508f962",
   "metadata": {},
   "outputs": [],
   "source": []
  }
 ],
 "metadata": {
  "kernelspec": {
   "display_name": "Python 3 (ipykernel)",
   "language": "python",
   "name": "python3"
  },
  "language_info": {
   "codemirror_mode": {
    "name": "ipython",
    "version": 3
   },
   "file_extension": ".py",
   "mimetype": "text/x-python",
   "name": "python",
   "nbconvert_exporter": "python",
   "pygments_lexer": "ipython3",
   "version": "3.9.0"
  }
 },
 "nbformat": 4,
 "nbformat_minor": 5
}

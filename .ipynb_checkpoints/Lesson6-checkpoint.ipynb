{
 "cells": [
  {
   "cell_type": "markdown",
   "id": "b34f0404",
   "metadata": {},
   "source": [
    "# Lesson 6: APL functions, part 1\n",
    "\n",
    "Our aim is to cover APL's built-in primitive functions.\n",
    "\n",
    "Dyadic `+-×÷` are what you expect from math:"
   ]
  },
  {
   "cell_type": "code",
   "execution_count": 1,
   "id": "f12f26e0",
   "metadata": {},
   "outputs": [
    {
     "data": {
      "text/html": [
       "<span style=\"white-space:pre; font-family: monospace\">11\n",
       "</span>"
      ]
     },
     "execution_count": 1,
     "metadata": {},
     "output_type": "execute_result"
    },
    {
     "data": {
      "text/html": [
       "<span style=\"white-space:pre; font-family: monospace\">48\n",
       "</span>"
      ]
     },
     "execution_count": 1,
     "metadata": {},
     "output_type": "execute_result"
    },
    {
     "data": {
      "text/html": [
       "<span style=\"white-space:pre; font-family: monospace\">1584\n",
       "</span>"
      ]
     },
     "execution_count": 1,
     "metadata": {},
     "output_type": "execute_result"
    },
    {
     "data": {
      "text/html": [
       "<span style=\"white-space:pre; font-family: monospace\">¯4\n",
       "</span>"
      ]
     },
     "execution_count": 1,
     "metadata": {},
     "output_type": "execute_result"
    }
   ],
   "source": [
    "3+8\n",
    "4×12\n",
    "144×11\n",
    "3-7"
   ]
  },
  {
   "cell_type": "markdown",
   "id": "efb69fd4",
   "metadata": {},
   "source": [
    "`0÷0` is `1` by default, but you can make all `n÷0` into `0` by setting `⎕DIV←1`:"
   ]
  },
  {
   "cell_type": "code",
   "execution_count": 3,
   "id": "6ab86282",
   "metadata": {},
   "outputs": [
    {
     "data": {
      "text/html": [
       "<span style=\"white-space:pre; font-family: monospace\">1\n",
       "</span>"
      ]
     },
     "execution_count": 3,
     "metadata": {},
     "output_type": "execute_result"
    }
   ],
   "source": [
    "0÷0"
   ]
  },
  {
   "cell_type": "code",
   "execution_count": 4,
   "id": "072a84fb",
   "metadata": {},
   "outputs": [
    {
     "data": {
      "text/html": [
       "<span style=\"white-space:pre; font-family: monospace\">0\n",
       "</span>"
      ]
     },
     "execution_count": 4,
     "metadata": {},
     "output_type": "execute_result"
    }
   ],
   "source": [
    "⎕DIV←1\n",
    "0÷0\n",
    "⎕DIV←0       ⍝ default setting"
   ]
  },
  {
   "cell_type": "markdown",
   "id": "f67c2cb5",
   "metadata": {},
   "source": [
    "Question:\n",
    "> How can we make 0÷0 throw an error?\n",
    "\n",
    "Multiply with the reciprocal:"
   ]
  },
  {
   "cell_type": "code",
   "execution_count": 14,
   "id": "b4bb77a5",
   "metadata": {},
   "outputs": [
    {
     "name": "stderr",
     "output_type": "stream",
     "text": [
      "DOMAIN ERROR: Divide by zero\n",
      "      0×÷0  ⍝ DOMAIN ERROR: Divide by zero\n",
      "        ∧\n"
     ]
    }
   ],
   "source": [
    "0×÷0        ⍝ DOMAIN ERROR: Divide by zero "
   ]
  },
  {
   "cell_type": "markdown",
   "id": "37f14040",
   "metadata": {},
   "source": [
    "Monadic `÷` is the _reciprocal_, i.e. `÷x` is `1÷x`. Monadic `×` is _direction_, i.e. a complex number which has magnitude 1 but same angle as the argument. For real numbers this means _signum_ (sign). Dyadic `*` is _power_, and the default left argument (i.e. for the monadic form) is e. So, monadic `*` is e-to-the-power-of. "
   ]
  },
  {
   "cell_type": "code",
   "execution_count": 13,
   "id": "b758e3f6",
   "metadata": {},
   "outputs": [
    {
     "data": {
      "text/html": [
       "<span style=\"white-space:pre; font-family: monospace\">0.2\n",
       "</span>"
      ]
     },
     "execution_count": 13,
     "metadata": {},
     "output_type": "execute_result"
    },
    {
     "data": {
      "text/html": [
       "<span style=\"white-space:pre; font-family: monospace\">1 ¯1 0\n",
       "</span>"
      ]
     },
     "execution_count": 13,
     "metadata": {},
     "output_type": "execute_result"
    },
    {
     "data": {
      "text/html": [
       "<span style=\"white-space:pre; font-family: monospace\">0.8J¯0.6\n",
       "</span>"
      ]
     },
     "execution_count": 13,
     "metadata": {},
     "output_type": "execute_result"
    },
    {
     "data": {
      "text/html": [
       "<span style=\"white-space:pre; font-family: monospace\">1024\n",
       "</span>"
      ]
     },
     "execution_count": 13,
     "metadata": {},
     "output_type": "execute_result"
    },
    {
     "data": {
      "text/html": [
       "<span style=\"white-space:pre; font-family: monospace\">2.71828\n",
       "</span>"
      ]
     },
     "execution_count": 13,
     "metadata": {},
     "output_type": "execute_result"
    }
   ],
   "source": [
    "÷5          ⍝ reciprocal: 1÷5\n",
    "×12 ¯33 0   ⍝ signum\n",
    "×32j¯24     ⍝ direction\n",
    "2*10        ⍝ ⍺ to the power of ⍵\n",
    "*1          ⍝ e to the power of ⍵"
   ]
  },
  {
   "cell_type": "markdown",
   "id": "998cbe72",
   "metadata": {},
   "source": [
    "The inverse of `*` is `⍟`; _logarithm_. The monadic form is the natural logarithm and the dyadic is left-arg logarithm, so `10⍟n` is `log(n)`: "
   ]
  },
  {
   "cell_type": "code",
   "execution_count": 16,
   "id": "6cc7709f",
   "metadata": {},
   "outputs": [
    {
     "data": {
      "text/html": [
       "<span style=\"white-space:pre; font-family: monospace\">7\n",
       "</span>"
      ]
     },
     "execution_count": 16,
     "metadata": {},
     "output_type": "execute_result"
    }
   ],
   "source": [
    "10⍟10000000   ⍝ log(10000000)"
   ]
  },
  {
   "cell_type": "markdown",
   "id": "be23cadd",
   "metadata": {},
   "source": [
    "`⌹` is _matrix division_. Give it a coefficients' matrix on the right and it will invert the matrix. If you also put a vector on the left and it will solve your system of equations. If over-determined, it will give you the least squares fit. \n",
    "\n",
    "For example, in order to solve the following set of simultaneous equations,\n",
    "\n",
    "\\begin{array}{lcl} 3x + 2y & = & 13 \\\\ x - y & = & 1 \\end{array}\n",
    "\n",
    "we can use `⌹` like so:"
   ]
  },
  {
   "cell_type": "code",
   "execution_count": 17,
   "id": "ece82066",
   "metadata": {},
   "outputs": [
    {
     "data": {
      "text/html": [
       "<span style=\"white-space:pre; font-family: monospace\">3 2\n",
       "</span>"
      ]
     },
     "execution_count": 17,
     "metadata": {},
     "output_type": "execute_result"
    }
   ],
   "source": [
    "13 1 ⌹ 2 2⍴3 2 1 ¯1"
   ]
  },
  {
   "cell_type": "markdown",
   "id": "e2411307",
   "metadata": {},
   "source": [
    "Monadic `○` multiplies by π:"
   ]
  },
  {
   "cell_type": "code",
   "execution_count": 20,
   "id": "25aaafcb",
   "metadata": {},
   "outputs": [
    {
     "data": {
      "text/html": [
       "<span style=\"white-space:pre; font-family: monospace\">6.28319\n",
       "</span>"
      ]
     },
     "execution_count": 20,
     "metadata": {},
     "output_type": "execute_result"
    }
   ],
   "source": [
    "○2          ⍝ 2 times π"
   ]
  },
  {
   "cell_type": "markdown",
   "id": "2023bc29",
   "metadata": {},
   "source": [
    "Dyadic `○` uses an integer left arg to select which trigonometric function to apply. The most common ones are 1, 2 and 3, which are _sin_, _cos_ and _tan_. The negative versions `¯1`, `¯2` and `¯3` are _arcsin_, _arccos_ and _arctan_. "
   ]
  },
  {
   "cell_type": "code",
   "execution_count": 26,
   "id": "1fb43bc7",
   "metadata": {},
   "outputs": [
    {
     "data": {
      "text/html": [
       "<span style=\"white-space:pre; font-family: monospace\">1.22465E¯16\n",
       "</span>"
      ]
     },
     "execution_count": 26,
     "metadata": {},
     "output_type": "execute_result"
    },
    {
     "data": {
      "text/html": [
       "<span style=\"white-space:pre; font-family: monospace\">¯1\n",
       "</span>"
      ]
     },
     "execution_count": 26,
     "metadata": {},
     "output_type": "execute_result"
    },
    {
     "data": {
      "text/html": [
       "<span style=\"white-space:pre; font-family: monospace\">3.14159\n",
       "</span>"
      ]
     },
     "execution_count": 26,
     "metadata": {},
     "output_type": "execute_result"
    }
   ],
   "source": [
    "1○○1        ⍝ sin π\n",
    "2○○1        ⍝ cos π\n",
    "¯2○2○○1     ⍝ arccos cos π"
   ]
  },
  {
   "cell_type": "markdown",
   "id": "2f0eeb62",
   "metadata": {},
   "source": [
    "The entire list of ○'s left args is [here](http://help.dyalog.com/18.0/index.htm#Language/Primitive%20Functions/Circular.htm).\n",
    "\n",
    "Monadic `!` is _factorial_. Note that it goes on the left (like all other monadic APL functions) as opposed to mathematics' `!`.\n",
    "\n",
    "Dyadic `A!B` is the number of ways to take `A` items from a bag of `B` items, generalised to be the binomial function. "
   ]
  },
  {
   "cell_type": "code",
   "execution_count": 29,
   "id": "684c1295",
   "metadata": {},
   "outputs": [
    {
     "data": {
      "text/html": [
       "<span style=\"white-space:pre; font-family: monospace\">479001600\n",
       "</span>"
      ]
     },
     "execution_count": 29,
     "metadata": {},
     "output_type": "execute_result"
    },
    {
     "data": {
      "text/html": [
       "<span style=\"white-space:pre; font-family: monospace\">28\n",
       "</span>"
      ]
     },
     "execution_count": 29,
     "metadata": {},
     "output_type": "execute_result"
    }
   ],
   "source": [
    "!12         ⍝ 12 factorial\n",
    "2!8         ⍝ how many ways can we select 2 from 8?"
   ]
  },
  {
   "cell_type": "markdown",
   "id": "6023b7d3",
   "metadata": {},
   "source": [
    "Monadic `?B` is _roll_. It returns a random integer among the first `B` integers. `?0` returns a random float between (but not including) 0 and 1: "
   ]
  },
  {
   "cell_type": "code",
   "execution_count": 33,
   "id": "dc492031",
   "metadata": {},
   "outputs": [
    {
     "data": {
      "text/html": [
       "<span style=\"white-space:pre; font-family: monospace\">3 2 2\n",
       "</span>"
      ]
     },
     "execution_count": 33,
     "metadata": {},
     "output_type": "execute_result"
    },
    {
     "data": {
      "text/html": [
       "<span style=\"white-space:pre; font-family: monospace\">0.28629\n",
       "</span>"
      ]
     },
     "execution_count": 33,
     "metadata": {},
     "output_type": "execute_result"
    }
   ],
   "source": [
    "?6 6 6     ⍝ roll three six-sided dice\n",
    "?0         ⍝ random float between 0-1, excluding 0 and 1"
   ]
  },
  {
   "cell_type": "markdown",
   "id": "a246d533",
   "metadata": {},
   "source": [
    "Dyadic `A?B` is _deal_. It returns a random one of the ways `A!B` counted. I.e. it returns `A` random numbers among the `B` first integers. "
   ]
  },
  {
   "cell_type": "code",
   "execution_count": 35,
   "id": "30104e76",
   "metadata": {},
   "outputs": [
    {
     "data": {
      "text/html": [
       "<span style=\"white-space:pre; font-family: monospace\">10 2 8 5 4 7 3 6 9 1\n",
       "</span>"
      ]
     },
     "execution_count": 35,
     "metadata": {},
     "output_type": "execute_result"
    }
   ],
   "source": [
    "10?10       ⍝ 1-10 in random order"
   ]
  },
  {
   "cell_type": "markdown",
   "id": "470a2a7d",
   "metadata": {},
   "source": [
    "Note that it deals from the set `⍳B`, so it's dependent on your `⎕IO` setting:"
   ]
  },
  {
   "cell_type": "code",
   "execution_count": 37,
   "id": "f370fc22",
   "metadata": {},
   "outputs": [
    {
     "data": {
      "text/html": [
       "<span style=\"white-space:pre; font-family: monospace\">6 4 7 1 0 9 2 5 8 3\n",
       "</span>"
      ]
     },
     "execution_count": 37,
     "metadata": {},
     "output_type": "execute_result"
    }
   ],
   "source": [
    "⎕IO←0\n",
    "10?10      ⍝ Now we should get 0-9\n",
    "⎕IO←1"
   ]
  },
  {
   "cell_type": "markdown",
   "id": "ca695ec1",
   "metadata": {},
   "source": [
    "Monadic `|` is the absolute value, `|x|`: "
   ]
  },
  {
   "cell_type": "code",
   "execution_count": 39,
   "id": "098a339b",
   "metadata": {},
   "outputs": [
    {
     "data": {
      "text/html": [
       "<span style=\"white-space:pre; font-family: monospace\">97\n",
       "</span>"
      ]
     },
     "execution_count": 39,
     "metadata": {},
     "output_type": "execute_result"
    },
    {
     "data": {
      "text/html": [
       "<span style=\"white-space:pre; font-family: monospace\">3 5 7 8 7 2\n",
       "</span>"
      ]
     },
     "execution_count": 39,
     "metadata": {},
     "output_type": "execute_result"
    }
   ],
   "source": [
    "|¯97\n",
    "|3 5 ¯7 ¯8 7 ¯2"
   ]
  },
  {
   "cell_type": "markdown",
   "id": "43594e36",
   "metadata": {},
   "source": [
    "Dyadic `A|B` is the _division remainder_ (\"mod\") when `B` is divided by `A`. Note the reversed order of arguments. \"normal\" mod is `|⍨`. "
   ]
  },
  {
   "cell_type": "code",
   "execution_count": 41,
   "id": "6bc07ff6",
   "metadata": {},
   "outputs": [
    {
     "data": {
      "text/html": [
       "<span style=\"white-space:pre; font-family: monospace\">1 0 1 0 1 0 1 0 1 0\n",
       "</span>"
      ]
     },
     "execution_count": 41,
     "metadata": {},
     "output_type": "execute_result"
    }
   ],
   "source": [
    "2|⍳10     ⍝ odd numbers in 1-10"
   ]
  },
  {
   "cell_type": "markdown",
   "id": "61c10da7",
   "metadata": {},
   "source": [
    "Monadic `⌈` is _ceiling_, `⌈x⌉`, "
   ]
  },
  {
   "cell_type": "code",
   "execution_count": 42,
   "id": "c0465afb",
   "metadata": {},
   "outputs": [
    {
     "data": {
      "text/html": [
       "<span style=\"white-space:pre; font-family: monospace\">4\n",
       "</span>"
      ]
     },
     "execution_count": 42,
     "metadata": {},
     "output_type": "execute_result"
    }
   ],
   "source": [
    "⌈3.14159256"
   ]
  },
  {
   "cell_type": "markdown",
   "id": "20757fa2",
   "metadata": {},
   "source": [
    "Dyadic `A⌈B` is _maximum_: "
   ]
  },
  {
   "cell_type": "code",
   "execution_count": 43,
   "id": "b25182a5",
   "metadata": {},
   "outputs": [
    {
     "data": {
      "text/html": [
       "<span style=\"white-space:pre; font-family: monospace\">23\n",
       "</span>"
      ]
     },
     "execution_count": 43,
     "metadata": {},
     "output_type": "execute_result"
    }
   ],
   "source": [
    "15⌈23"
   ]
  },
  {
   "cell_type": "markdown",
   "id": "2e9780d0",
   "metadata": {},
   "source": [
    "Monadic `⌊` is _floor_, and the dyadic is _minimum_,"
   ]
  },
  {
   "cell_type": "code",
   "execution_count": 46,
   "id": "1ee4afcf",
   "metadata": {},
   "outputs": [
    {
     "data": {
      "text/html": [
       "<span style=\"white-space:pre; font-family: monospace\">3\n",
       "</span>"
      ]
     },
     "execution_count": 46,
     "metadata": {},
     "output_type": "execute_result"
    },
    {
     "data": {
      "text/html": [
       "<span style=\"white-space:pre; font-family: monospace\">15\n",
       "</span>"
      ]
     },
     "execution_count": 46,
     "metadata": {},
     "output_type": "execute_result"
    }
   ],
   "source": [
    "⌊3.14159256\n",
    "15⌊23"
   ]
  },
  {
   "cell_type": "markdown",
   "id": "ec3bda4c",
   "metadata": {},
   "source": [
    "`A⊥B` is _decode_. It evaluates digits `B` as (mixed) base `A`, e.g,"
   ]
  },
  {
   "cell_type": "code",
   "execution_count": 47,
   "id": "bf04e75c",
   "metadata": {},
   "outputs": [
    {
     "data": {
      "text/html": [
       "<span style=\"white-space:pre; font-family: monospace\">42\n",
       "</span>"
      ]
     },
     "execution_count": 47,
     "metadata": {},
     "output_type": "execute_result"
    }
   ],
   "source": [
    "2⊥1 0 1 0 1 0   ⍝ decode binary to decimal"
   ]
  },
  {
   "cell_type": "markdown",
   "id": "1b96e9d6",
   "metadata": {},
   "source": [
    "`A⊤B`, or _encode_, is the inverse of `⊥`, turning `B` into a list(s) of digits in (mixed) base `A`, "
   ]
  },
  {
   "cell_type": "code",
   "execution_count": 48,
   "id": "cf328c5e",
   "metadata": {},
   "outputs": [
    {
     "data": {
      "text/html": [
       "<span style=\"white-space:pre; font-family: monospace\">2 46 40\n",
       "</span>"
      ]
     },
     "execution_count": 48,
     "metadata": {},
     "output_type": "execute_result"
    }
   ],
   "source": [
    "24 60 60⊤10000  ⍝ seconds to hour, minutes, seconds"
   ]
  },
  {
   "cell_type": "markdown",
   "id": "59f3e10a",
   "metadata": {},
   "source": [
    "Ten thousand seconds is the same as 2 hours, 46 minutes and 40 seconds. \n",
    "\n",
    "Dyadic `⊣` is the left argument unmodified. Monadically, it just returns its sole argument. Dyadic `⊢` is the right argument unmodified. Monadically, it just returns its sole argument. \n",
    "\n",
    "`=` is comparison (not assignment!) and penetrates all structures, giving a single Boolean (0 or 1) per leaf element. `≠` is the negation of that.\n",
    "\n",
    "`≤<>≥` work as you'd expect, again penetrating all structure.\n",
    "\n",
    "`A≡B` is _match_. It compares the entire arrays `A` and `B` in all respects, even the invisible prototype: "
   ]
  },
  {
   "cell_type": "code",
   "execution_count": 50,
   "id": "44a2e937",
   "metadata": {},
   "outputs": [
    {
     "data": {
      "text/html": [
       "<span style=\"white-space:pre; font-family: monospace\">0\n",
       "</span>"
      ]
     },
     "execution_count": 50,
     "metadata": {},
     "output_type": "execute_result"
    }
   ],
   "source": [
    "''≡⍬   ⍝ does the empty char vector match the empty numeric vector?"
   ]
  },
  {
   "cell_type": "markdown",
   "id": "2e4fb26f",
   "metadata": {},
   "source": [
    "`A≢B` is the negation of `A≡B`.\n",
    "\n",
    "Monadic `≡B` gives the _depth_ of `B`, which is the amount of nesting. A simple scalar is 0, a vector is 1, a vector of vectors is 2, etc. If the amount of nesting is uneven throughout the array, the result will be negative, and indicate the maximum depth.\n",
    "\n",
    "`≢B` is the _tally_ of `B`, i.e. how many major cells `B` has. For a scalar, that's 1. For a vector, it is the number of elements, for a matrix it is the number of rows, for a 3D array it is the number of layers, and so on. "
   ]
  },
  {
   "cell_type": "code",
   "execution_count": 52,
   "id": "013f9101",
   "metadata": {},
   "outputs": [
    {
     "data": {
      "text/html": [
       "<span style=\"white-space:pre; font-family: monospace\">¯3\n",
       "</span>"
      ]
     },
     "execution_count": 52,
     "metadata": {},
     "output_type": "execute_result"
    },
    {
     "data": {
      "text/html": [
       "<span style=\"white-space:pre; font-family: monospace\">1\n",
       "</span>"
      ]
     },
     "execution_count": 52,
     "metadata": {},
     "output_type": "execute_result"
    },
    {
     "data": {
      "text/html": [
       "<span style=\"white-space:pre; font-family: monospace\">3\n",
       "</span>"
      ]
     },
     "execution_count": 52,
     "metadata": {},
     "output_type": "execute_result"
    }
   ],
   "source": [
    "≡(1 2 (3 4 5 (6 7 8)))  ⍝ unevenly nested vector\n",
    "≢1                      ⍝ scalars tally to 1\n",
    "≢3 2⍴⍳6                 ⍝ matrix tally is the number of rows"
   ]
  },
  {
   "cell_type": "markdown",
   "id": "e03587ad",
   "metadata": {},
   "source": [
    "`∨` is logical _OR_, and it is Greatest Common Divisor for for other numbers (which happens to fit with _OR_ for 0s and 1s):"
   ]
  },
  {
   "cell_type": "code",
   "execution_count": 69,
   "id": "2c742184",
   "metadata": {},
   "outputs": [
    {
     "data": {
      "text/html": [
       "<span style=\"white-space:pre; font-family: monospace\">0 1 1 1\n",
       "</span>"
      ]
     },
     "execution_count": 69,
     "metadata": {},
     "output_type": "execute_result"
    },
    {
     "data": {
      "text/html": [
       "<span style=\"white-space:pre; font-family: monospace\">5 1 2 7\n",
       "</span>"
      ]
     },
     "execution_count": 69,
     "metadata": {},
     "output_type": "execute_result"
    }
   ],
   "source": [
    "0 1 0 1 ∨ 0 0 1 1    ⍝ logical OR\n",
    "15 1 2 7 ∨ 35 1 4 0  ⍝ GCD"
   ]
  },
  {
   "cell_type": "markdown",
   "id": "820f38e3",
   "metadata": {},
   "source": [
    "`∧` is logical _AND_, and it is Lowest Common Multiple for for other numbers (which happens to fit with _AND_ for 0s and 1s):"
   ]
  },
  {
   "cell_type": "code",
   "execution_count": 70,
   "id": "3143c979",
   "metadata": {},
   "outputs": [
    {
     "data": {
      "text/html": [
       "<span style=\"white-space:pre; font-family: monospace\">0 0 0 1\n",
       "</span>"
      ]
     },
     "execution_count": 70,
     "metadata": {},
     "output_type": "execute_result"
    },
    {
     "data": {
      "text/html": [
       "<span style=\"white-space:pre; font-family: monospace\">105 1 4 0\n",
       "</span>"
      ]
     },
     "execution_count": 70,
     "metadata": {},
     "output_type": "execute_result"
    }
   ],
   "source": [
    "0 1 0 1 ∧ 0 0 1 1     ⍝ logical AND\n",
    "15 1 2 7 ∧ 35 1 4 0   ⍝ LCM"
   ]
  },
  {
   "cell_type": "markdown",
   "id": "f606f61c",
   "metadata": {},
   "source": [
    "`⍱` is _NOR_, and `⍲` is _NAND_. They only work on Booleans (arrays with nothing but 1s and 0s). Note that you can use `≠` as _XOR_ and `=` as _XNOR_ (and you can use `≤` as logical implication. Similarly for the other comparisons.) "
   ]
  },
  {
   "cell_type": "code",
   "execution_count": 57,
   "id": "ed6b15df",
   "metadata": {},
   "outputs": [
    {
     "data": {
      "text/html": [
       "<span style=\"white-space:pre; font-family: monospace\">1 0 0 0\n",
       "</span>"
      ]
     },
     "execution_count": 57,
     "metadata": {},
     "output_type": "execute_result"
    },
    {
     "data": {
      "text/html": [
       "<span style=\"white-space:pre; font-family: monospace\">0 1 1 0\n",
       "</span>"
      ]
     },
     "execution_count": 57,
     "metadata": {},
     "output_type": "execute_result"
    },
    {
     "data": {
      "text/html": [
       "<span style=\"white-space:pre; font-family: monospace\">1 0 0 1\n",
       "</span>"
      ]
     },
     "execution_count": 57,
     "metadata": {},
     "output_type": "execute_result"
    },
    {
     "data": {
      "text/html": [
       "<span style=\"white-space:pre; font-family: monospace\">1 1 1 0\n",
       "</span>"
      ]
     },
     "execution_count": 57,
     "metadata": {},
     "output_type": "execute_result"
    }
   ],
   "source": [
    "0 1 0 1 ⍱ 0 0 1 1 ⍝ NOR\n",
    "0 1 0 1 ≠ 0 0 1 1 ⍝ XOR\n",
    "0 1 0 1 = 0 0 1 1 ⍝ XNOR\n",
    "0 1 0 1 ⍲ 0 0 1 1 ⍝ NAND"
   ]
  },
  {
   "cell_type": "markdown",
   "id": "042b6e1c",
   "metadata": {},
   "source": [
    "`A↑B` takes from `B`. If `A` is a scalar/one-element-vector, it takes major cells, if it has two two elements, the first element is the number of major cells, and the second the number of semi-major cells, etc.: "
   ]
  },
  {
   "cell_type": "code",
   "execution_count": 59,
   "id": "b94f8308",
   "metadata": {},
   "outputs": [
    {
     "data": {
      "text/html": [
       "<span style=\"white-space:pre; font-family: monospace\">ABCD\n",
       "EFGH\n",
       "IJKL\n",
       "</span>"
      ]
     },
     "execution_count": 59,
     "metadata": {},
     "output_type": "execute_result"
    },
    {
     "data": {
      "text/html": [
       "<span style=\"white-space:pre; font-family: monospace\">ABCD\n",
       "EFGH\n",
       "</span>"
      ]
     },
     "execution_count": 59,
     "metadata": {},
     "output_type": "execute_result"
    },
    {
     "data": {
      "text/html": [
       "<span style=\"white-space:pre; font-family: monospace\">ABC\n",
       "EFG\n",
       "</span>"
      ]
     },
     "execution_count": 59,
     "metadata": {},
     "output_type": "execute_result"
    }
   ],
   "source": [
    "3 4⍴⎕A            ⍝ original array\n",
    "2↑3 4⍴⎕A          ⍝ take two major cells (a.k.a rows)\n",
    "2 3↑3 4⍴⎕A        ⍝ two major, and three semi-major cells"
   ]
  },
  {
   "cell_type": "markdown",
   "id": "f27f0687",
   "metadata": {},
   "source": [
    "If you take more than there is, `↑` will pad with 0s for numeric arguments, and spaces for character arguments: "
   ]
  },
  {
   "cell_type": "code",
   "execution_count": 60,
   "id": "a7d50c52",
   "metadata": {},
   "outputs": [
    {
     "data": {
      "text/html": [
       "<span style=\"white-space:pre; font-family: monospace\">3 1 4 0 0 0\n",
       "</span>"
      ]
     },
     "execution_count": 60,
     "metadata": {},
     "output_type": "execute_result"
    }
   ],
   "source": [
    "6↑3 1 4"
   ]
  },
  {
   "cell_type": "markdown",
   "id": "870ce23e",
   "metadata": {},
   "source": [
    "You may also \"overtake\" a scalar to any number of dimensions: "
   ]
  },
  {
   "cell_type": "code",
   "execution_count": 61,
   "id": "dfc38385",
   "metadata": {},
   "outputs": [
    {
     "data": {
      "text/html": [
       "<span style=\"white-space:pre; font-family: monospace\">4 0 0\n",
       "0 0 0\n",
       "</span>"
      ]
     },
     "execution_count": 61,
     "metadata": {},
     "output_type": "execute_result"
    }
   ],
   "source": [
    "2 3↑4"
   ]
  },
  {
   "cell_type": "markdown",
   "id": "7c556b3c",
   "metadata": {},
   "source": [
    "Negative numbers indicate taking from the reverse:"
   ]
  },
  {
   "cell_type": "code",
   "execution_count": 63,
   "id": "4da217d7",
   "metadata": {},
   "outputs": [
    {
     "data": {
      "text/html": [
       "<span style=\"white-space:pre; font-family: monospace\">0 0 0 3 1 4\n",
       "</span>"
      ]
     },
     "execution_count": 63,
     "metadata": {},
     "output_type": "execute_result"
    },
    {
     "data": {
      "text/html": [
       "<span style=\"white-space:pre; font-family: monospace\">0 0 0\n",
       "0 0 4\n",
       "</span>"
      ]
     },
     "execution_count": 63,
     "metadata": {},
     "output_type": "execute_result"
    }
   ],
   "source": [
    "¯6↑3 1 4\n",
    "¯2 ¯3↑4"
   ]
  },
  {
   "cell_type": "code",
   "execution_count": 64,
   "id": "cfd39876",
   "metadata": {},
   "outputs": [
    {
     "data": {
      "text/html": [
       "<span style=\"white-space:pre; font-family: monospace\">ABCD\n",
       "EFGH\n",
       "IJKL\n",
       "</span>"
      ]
     },
     "execution_count": 64,
     "metadata": {},
     "output_type": "execute_result"
    },
    {
     "data": {
      "text/html": [
       "<span style=\"white-space:pre; font-family: monospace\">GH\n",
       "KL\n",
       "</span>"
      ]
     },
     "execution_count": 64,
     "metadata": {},
     "output_type": "execute_result"
    }
   ],
   "source": [
    "3 4⍴⎕A\n",
    "¯2 ¯2↑3 4⍴⎕A "
   ]
  },
  {
   "cell_type": "markdown",
   "id": "d528deb3",
   "metadata": {},
   "source": [
    "Monadic `↑` trades one level of depth (nesting) into one level of rank."
   ]
  },
  {
   "cell_type": "code",
   "execution_count": 65,
   "id": "feb8a8e3",
   "metadata": {},
   "outputs": [
    {
     "data": {
      "text/html": [
       "<span style=\"white-space:pre; font-family: monospace\">1 2 3\n",
       "4 5 6\n",
       "</span>"
      ]
     },
     "execution_count": 65,
     "metadata": {},
     "output_type": "execute_result"
    }
   ],
   "source": [
    "↑(1 2 3)(4 5 6)"
   ]
  },
  {
   "cell_type": "markdown",
   "id": "ea7cb990",
   "metadata": {},
   "source": [
    "Because rank enforces non-raggedness, monadic `↑` will pad with the prototype element (0 or space) just like dyadic `↑`: "
   ]
  },
  {
   "cell_type": "code",
   "execution_count": 66,
   "id": "cc0edc4b",
   "metadata": {},
   "outputs": [
    {
     "data": {
      "text/html": [
       "<span style=\"white-space:pre; font-family: monospace\">1 2 3\n",
       "4 5 0\n",
       "</span>"
      ]
     },
     "execution_count": 66,
     "metadata": {},
     "output_type": "execute_result"
    }
   ],
   "source": [
    "↑(1 2 3)(4 5)"
   ]
  },
  {
   "cell_type": "markdown",
   "id": "9437685a",
   "metadata": {},
   "source": [
    "Dyadic `↓` is just like dyadic `↑` except it drops instead of taking:"
   ]
  },
  {
   "cell_type": "code",
   "execution_count": 67,
   "id": "396f75a8",
   "metadata": {},
   "outputs": [
    {
     "data": {
      "text/html": [
       "<span style=\"white-space:pre; font-family: monospace\">ABCD\n",
       "EFGH\n",
       "IJKL\n",
       "</span>"
      ]
     },
     "execution_count": 67,
     "metadata": {},
     "output_type": "execute_result"
    },
    {
     "data": {
      "text/html": [
       "<span style=\"white-space:pre; font-family: monospace\">EFGH\n",
       "IJKL\n",
       "</span>"
      ]
     },
     "execution_count": 67,
     "metadata": {},
     "output_type": "execute_result"
    },
    {
     "data": {
      "text/html": [
       "<span style=\"white-space:pre; font-family: monospace\">JKL\n",
       "</span>"
      ]
     },
     "execution_count": 67,
     "metadata": {},
     "output_type": "execute_result"
    }
   ],
   "source": [
    "3 4⍴⎕A \n",
    "1↓3 4⍴⎕A\n",
    "2 1↓3 4⍴⎕A"
   ]
  },
  {
   "cell_type": "markdown",
   "id": "36088835",
   "metadata": {},
   "source": [
    "Note that the last result is still a matrix, it just only has one row. \n",
    "\n",
    "Monadic `↓` is the opposite of dyadic `↓` in that it lowers the rank and increases the depth: "
   ]
  },
  {
   "cell_type": "code",
   "execution_count": 68,
   "id": "d3e1877f",
   "metadata": {},
   "outputs": [
    {
     "data": {
      "text/html": [
       "<span style=\"white-space:pre; font-family: monospace\">┌────┬────┬────┐\n",
       "│ABCD│EFGH│IJKL│\n",
       "└────┴────┴────┘\n",
       "</span>"
      ]
     },
     "execution_count": 68,
     "metadata": {},
     "output_type": "execute_result"
    }
   ],
   "source": [
    "↓3 4⍴⎕A"
   ]
  },
  {
   "cell_type": "code",
   "execution_count": null,
   "id": "e1d29871",
   "metadata": {},
   "outputs": [],
   "source": []
  }
 ],
 "metadata": {
  "kernelspec": {
   "display_name": "Dyalog APL",
   "language": "apl",
   "name": "dyalog-kernel"
  },
  "language_info": {
   "file_extension": ".apl",
   "mimetype": "text/apl",
   "name": "APL"
  }
 },
 "nbformat": 4,
 "nbformat_minor": 5
}
